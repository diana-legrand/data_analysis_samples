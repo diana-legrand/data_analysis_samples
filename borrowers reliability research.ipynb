{
 "cells": [
  {
   "cell_type": "markdown",
   "metadata": {},
   "source": [
    "# Borrowers reliability research\n",
    "\n",
    "This project contains borrowers' reliability research. The customer is the bank credit department. In the project, the author explores the influence of the marital status and the number of children of the client on repaying the loan on time. The input data from the bank contains statistics on the solvency of customers.\n",
    "\n",
    "The research results were taken into account when building a **credit scoring model** (a special system that evaluates the ability of a potential borrower to repay a loan to a bank).\n",
    "\n",
    "**The purpose of the research** is to provide answers to the following questions:\n",
    " * Is there a relationship between having children and repaying a loan on time?\n",
    " * Is there a relationship between marital status and loan repayment on time?\n",
    " * Is there a relationship between income level and loan repayment on time?\n",
    " * How do different purposes of a loan affect its repayment on time?\n",
    "\n",
    "\n",
    "***\n",
    "Заказчик — кредитный отдел банка. Нужно разобраться, влияет ли семейное положение и количество детей клиента на факт погашения кредита в срок. Входные данные от банка — статистика о платёжеспособности клиентов. \n",
    "\n",
    "Результаты исследования будут учтены при построении модели **кредитного скоринга** — специальной системы, которая оценивает способность потенциального заёмщика вернуть кредит банку."
   ]
  },
  {
   "cell_type": "markdown",
   "metadata": {},
   "source": [
    "**Цель исследования** - дать ответы на следующие вопросы:\n",
    " * Есть ли зависимость между наличием детей и возвратом кредита в срок?\n",
    " * Есть ли зависимость между семейным положением и возвратом кредита в срок?\n",
    " * Есть ли зависимость между уровнем дохода и возвратом кредита в срок?\n",
    " * Как разные цели кредита влияют на его возврат в срок?"
   ]
  },
  {
   "cell_type": "markdown",
   "metadata": {},
   "source": [
    "## Шаг 1. Откройте файл с данными и изучите общую информацию"
   ]
  },
  {
   "cell_type": "code",
   "execution_count": 1,
   "metadata": {},
   "outputs": [],
   "source": [
    "import pandas as pd\n",
    "from pymystem3 import Mystem\n",
    "from nltk.stem import SnowballStemmer \n",
    "from collections import Counter"
   ]
  },
  {
   "cell_type": "code",
   "execution_count": 2,
   "metadata": {},
   "outputs": [],
   "source": [
    "clients = pd.read_csv('/datasets/data.csv')"
   ]
  },
  {
   "cell_type": "code",
   "execution_count": 3,
   "metadata": {},
   "outputs": [
    {
     "data": {
      "text/html": [
       "<div>\n",
       "<style scoped>\n",
       "    .dataframe tbody tr th:only-of-type {\n",
       "        vertical-align: middle;\n",
       "    }\n",
       "\n",
       "    .dataframe tbody tr th {\n",
       "        vertical-align: top;\n",
       "    }\n",
       "\n",
       "    .dataframe thead th {\n",
       "        text-align: right;\n",
       "    }\n",
       "</style>\n",
       "<table border=\"1\" class=\"dataframe\">\n",
       "  <thead>\n",
       "    <tr style=\"text-align: right;\">\n",
       "      <th></th>\n",
       "      <th>children</th>\n",
       "      <th>days_employed</th>\n",
       "      <th>dob_years</th>\n",
       "      <th>education</th>\n",
       "      <th>education_id</th>\n",
       "      <th>family_status</th>\n",
       "      <th>family_status_id</th>\n",
       "      <th>gender</th>\n",
       "      <th>income_type</th>\n",
       "      <th>debt</th>\n",
       "      <th>total_income</th>\n",
       "      <th>purpose</th>\n",
       "    </tr>\n",
       "  </thead>\n",
       "  <tbody>\n",
       "    <tr>\n",
       "      <td>0</td>\n",
       "      <td>1</td>\n",
       "      <td>-8437.673028</td>\n",
       "      <td>42</td>\n",
       "      <td>высшее</td>\n",
       "      <td>0</td>\n",
       "      <td>женат / замужем</td>\n",
       "      <td>0</td>\n",
       "      <td>F</td>\n",
       "      <td>сотрудник</td>\n",
       "      <td>0</td>\n",
       "      <td>253875.639453</td>\n",
       "      <td>покупка жилья</td>\n",
       "    </tr>\n",
       "    <tr>\n",
       "      <td>1</td>\n",
       "      <td>1</td>\n",
       "      <td>-4024.803754</td>\n",
       "      <td>36</td>\n",
       "      <td>среднее</td>\n",
       "      <td>1</td>\n",
       "      <td>женат / замужем</td>\n",
       "      <td>0</td>\n",
       "      <td>F</td>\n",
       "      <td>сотрудник</td>\n",
       "      <td>0</td>\n",
       "      <td>112080.014102</td>\n",
       "      <td>приобретение автомобиля</td>\n",
       "    </tr>\n",
       "    <tr>\n",
       "      <td>2</td>\n",
       "      <td>0</td>\n",
       "      <td>-5623.422610</td>\n",
       "      <td>33</td>\n",
       "      <td>Среднее</td>\n",
       "      <td>1</td>\n",
       "      <td>женат / замужем</td>\n",
       "      <td>0</td>\n",
       "      <td>M</td>\n",
       "      <td>сотрудник</td>\n",
       "      <td>0</td>\n",
       "      <td>145885.952297</td>\n",
       "      <td>покупка жилья</td>\n",
       "    </tr>\n",
       "    <tr>\n",
       "      <td>3</td>\n",
       "      <td>3</td>\n",
       "      <td>-4124.747207</td>\n",
       "      <td>32</td>\n",
       "      <td>среднее</td>\n",
       "      <td>1</td>\n",
       "      <td>женат / замужем</td>\n",
       "      <td>0</td>\n",
       "      <td>M</td>\n",
       "      <td>сотрудник</td>\n",
       "      <td>0</td>\n",
       "      <td>267628.550329</td>\n",
       "      <td>дополнительное образование</td>\n",
       "    </tr>\n",
       "    <tr>\n",
       "      <td>4</td>\n",
       "      <td>0</td>\n",
       "      <td>340266.072047</td>\n",
       "      <td>53</td>\n",
       "      <td>среднее</td>\n",
       "      <td>1</td>\n",
       "      <td>гражданский брак</td>\n",
       "      <td>1</td>\n",
       "      <td>F</td>\n",
       "      <td>пенсионер</td>\n",
       "      <td>0</td>\n",
       "      <td>158616.077870</td>\n",
       "      <td>сыграть свадьбу</td>\n",
       "    </tr>\n",
       "    <tr>\n",
       "      <td>5</td>\n",
       "      <td>0</td>\n",
       "      <td>-926.185831</td>\n",
       "      <td>27</td>\n",
       "      <td>высшее</td>\n",
       "      <td>0</td>\n",
       "      <td>гражданский брак</td>\n",
       "      <td>1</td>\n",
       "      <td>M</td>\n",
       "      <td>компаньон</td>\n",
       "      <td>0</td>\n",
       "      <td>255763.565419</td>\n",
       "      <td>покупка жилья</td>\n",
       "    </tr>\n",
       "    <tr>\n",
       "      <td>6</td>\n",
       "      <td>0</td>\n",
       "      <td>-2879.202052</td>\n",
       "      <td>43</td>\n",
       "      <td>высшее</td>\n",
       "      <td>0</td>\n",
       "      <td>женат / замужем</td>\n",
       "      <td>0</td>\n",
       "      <td>F</td>\n",
       "      <td>компаньон</td>\n",
       "      <td>0</td>\n",
       "      <td>240525.971920</td>\n",
       "      <td>операции с жильем</td>\n",
       "    </tr>\n",
       "    <tr>\n",
       "      <td>7</td>\n",
       "      <td>0</td>\n",
       "      <td>-152.779569</td>\n",
       "      <td>50</td>\n",
       "      <td>СРЕДНЕЕ</td>\n",
       "      <td>1</td>\n",
       "      <td>женат / замужем</td>\n",
       "      <td>0</td>\n",
       "      <td>M</td>\n",
       "      <td>сотрудник</td>\n",
       "      <td>0</td>\n",
       "      <td>135823.934197</td>\n",
       "      <td>образование</td>\n",
       "    </tr>\n",
       "    <tr>\n",
       "      <td>8</td>\n",
       "      <td>2</td>\n",
       "      <td>-6929.865299</td>\n",
       "      <td>35</td>\n",
       "      <td>ВЫСШЕЕ</td>\n",
       "      <td>0</td>\n",
       "      <td>гражданский брак</td>\n",
       "      <td>1</td>\n",
       "      <td>F</td>\n",
       "      <td>сотрудник</td>\n",
       "      <td>0</td>\n",
       "      <td>95856.832424</td>\n",
       "      <td>на проведение свадьбы</td>\n",
       "    </tr>\n",
       "    <tr>\n",
       "      <td>9</td>\n",
       "      <td>0</td>\n",
       "      <td>-2188.756445</td>\n",
       "      <td>41</td>\n",
       "      <td>среднее</td>\n",
       "      <td>1</td>\n",
       "      <td>женат / замужем</td>\n",
       "      <td>0</td>\n",
       "      <td>M</td>\n",
       "      <td>сотрудник</td>\n",
       "      <td>0</td>\n",
       "      <td>144425.938277</td>\n",
       "      <td>покупка жилья для семьи</td>\n",
       "    </tr>\n",
       "  </tbody>\n",
       "</table>\n",
       "</div>"
      ],
      "text/plain": [
       "   children  days_employed  dob_years education  education_id  \\\n",
       "0         1   -8437.673028         42    высшее             0   \n",
       "1         1   -4024.803754         36   среднее             1   \n",
       "2         0   -5623.422610         33   Среднее             1   \n",
       "3         3   -4124.747207         32   среднее             1   \n",
       "4         0  340266.072047         53   среднее             1   \n",
       "5         0    -926.185831         27    высшее             0   \n",
       "6         0   -2879.202052         43    высшее             0   \n",
       "7         0    -152.779569         50   СРЕДНЕЕ             1   \n",
       "8         2   -6929.865299         35    ВЫСШЕЕ             0   \n",
       "9         0   -2188.756445         41   среднее             1   \n",
       "\n",
       "      family_status  family_status_id gender income_type  debt   total_income  \\\n",
       "0   женат / замужем                 0      F   сотрудник     0  253875.639453   \n",
       "1   женат / замужем                 0      F   сотрудник     0  112080.014102   \n",
       "2   женат / замужем                 0      M   сотрудник     0  145885.952297   \n",
       "3   женат / замужем                 0      M   сотрудник     0  267628.550329   \n",
       "4  гражданский брак                 1      F   пенсионер     0  158616.077870   \n",
       "5  гражданский брак                 1      M   компаньон     0  255763.565419   \n",
       "6   женат / замужем                 0      F   компаньон     0  240525.971920   \n",
       "7   женат / замужем                 0      M   сотрудник     0  135823.934197   \n",
       "8  гражданский брак                 1      F   сотрудник     0   95856.832424   \n",
       "9   женат / замужем                 0      M   сотрудник     0  144425.938277   \n",
       "\n",
       "                      purpose  \n",
       "0               покупка жилья  \n",
       "1     приобретение автомобиля  \n",
       "2               покупка жилья  \n",
       "3  дополнительное образование  \n",
       "4             сыграть свадьбу  \n",
       "5               покупка жилья  \n",
       "6           операции с жильем  \n",
       "7                 образование  \n",
       "8       на проведение свадьбы  \n",
       "9     покупка жилья для семьи  "
      ]
     },
     "execution_count": 3,
     "metadata": {},
     "output_type": "execute_result"
    }
   ],
   "source": [
    "clients.head(10)"
   ]
  },
  {
   "cell_type": "code",
   "execution_count": 4,
   "metadata": {},
   "outputs": [
    {
     "data": {
      "text/html": [
       "<div>\n",
       "<style scoped>\n",
       "    .dataframe tbody tr th:only-of-type {\n",
       "        vertical-align: middle;\n",
       "    }\n",
       "\n",
       "    .dataframe tbody tr th {\n",
       "        vertical-align: top;\n",
       "    }\n",
       "\n",
       "    .dataframe thead th {\n",
       "        text-align: right;\n",
       "    }\n",
       "</style>\n",
       "<table border=\"1\" class=\"dataframe\">\n",
       "  <thead>\n",
       "    <tr style=\"text-align: right;\">\n",
       "      <th></th>\n",
       "      <th>children</th>\n",
       "      <th>days_employed</th>\n",
       "      <th>dob_years</th>\n",
       "      <th>education</th>\n",
       "      <th>education_id</th>\n",
       "      <th>family_status</th>\n",
       "      <th>family_status_id</th>\n",
       "      <th>gender</th>\n",
       "      <th>income_type</th>\n",
       "      <th>debt</th>\n",
       "      <th>total_income</th>\n",
       "      <th>purpose</th>\n",
       "    </tr>\n",
       "  </thead>\n",
       "  <tbody>\n",
       "    <tr>\n",
       "      <td>21515</td>\n",
       "      <td>1</td>\n",
       "      <td>-467.685130</td>\n",
       "      <td>28</td>\n",
       "      <td>среднее</td>\n",
       "      <td>1</td>\n",
       "      <td>женат / замужем</td>\n",
       "      <td>0</td>\n",
       "      <td>F</td>\n",
       "      <td>сотрудник</td>\n",
       "      <td>1</td>\n",
       "      <td>109486.327999</td>\n",
       "      <td>заняться образованием</td>\n",
       "    </tr>\n",
       "    <tr>\n",
       "      <td>21516</td>\n",
       "      <td>0</td>\n",
       "      <td>-914.391429</td>\n",
       "      <td>42</td>\n",
       "      <td>высшее</td>\n",
       "      <td>0</td>\n",
       "      <td>женат / замужем</td>\n",
       "      <td>0</td>\n",
       "      <td>F</td>\n",
       "      <td>компаньон</td>\n",
       "      <td>0</td>\n",
       "      <td>322807.776603</td>\n",
       "      <td>покупка своего жилья</td>\n",
       "    </tr>\n",
       "    <tr>\n",
       "      <td>21517</td>\n",
       "      <td>0</td>\n",
       "      <td>-404.679034</td>\n",
       "      <td>42</td>\n",
       "      <td>высшее</td>\n",
       "      <td>0</td>\n",
       "      <td>гражданский брак</td>\n",
       "      <td>1</td>\n",
       "      <td>F</td>\n",
       "      <td>компаньон</td>\n",
       "      <td>0</td>\n",
       "      <td>178059.553491</td>\n",
       "      <td>на покупку своего автомобиля</td>\n",
       "    </tr>\n",
       "    <tr>\n",
       "      <td>21518</td>\n",
       "      <td>0</td>\n",
       "      <td>373995.710838</td>\n",
       "      <td>59</td>\n",
       "      <td>СРЕДНЕЕ</td>\n",
       "      <td>1</td>\n",
       "      <td>женат / замужем</td>\n",
       "      <td>0</td>\n",
       "      <td>F</td>\n",
       "      <td>пенсионер</td>\n",
       "      <td>0</td>\n",
       "      <td>153864.650328</td>\n",
       "      <td>сделка с автомобилем</td>\n",
       "    </tr>\n",
       "    <tr>\n",
       "      <td>21519</td>\n",
       "      <td>1</td>\n",
       "      <td>-2351.431934</td>\n",
       "      <td>37</td>\n",
       "      <td>ученая степень</td>\n",
       "      <td>4</td>\n",
       "      <td>в разводе</td>\n",
       "      <td>3</td>\n",
       "      <td>M</td>\n",
       "      <td>сотрудник</td>\n",
       "      <td>0</td>\n",
       "      <td>115949.039788</td>\n",
       "      <td>покупка коммерческой недвижимости</td>\n",
       "    </tr>\n",
       "    <tr>\n",
       "      <td>21520</td>\n",
       "      <td>1</td>\n",
       "      <td>-4529.316663</td>\n",
       "      <td>43</td>\n",
       "      <td>среднее</td>\n",
       "      <td>1</td>\n",
       "      <td>гражданский брак</td>\n",
       "      <td>1</td>\n",
       "      <td>F</td>\n",
       "      <td>компаньон</td>\n",
       "      <td>0</td>\n",
       "      <td>224791.862382</td>\n",
       "      <td>операции с жильем</td>\n",
       "    </tr>\n",
       "    <tr>\n",
       "      <td>21521</td>\n",
       "      <td>0</td>\n",
       "      <td>343937.404131</td>\n",
       "      <td>67</td>\n",
       "      <td>среднее</td>\n",
       "      <td>1</td>\n",
       "      <td>женат / замужем</td>\n",
       "      <td>0</td>\n",
       "      <td>F</td>\n",
       "      <td>пенсионер</td>\n",
       "      <td>0</td>\n",
       "      <td>155999.806512</td>\n",
       "      <td>сделка с автомобилем</td>\n",
       "    </tr>\n",
       "    <tr>\n",
       "      <td>21522</td>\n",
       "      <td>1</td>\n",
       "      <td>-2113.346888</td>\n",
       "      <td>38</td>\n",
       "      <td>среднее</td>\n",
       "      <td>1</td>\n",
       "      <td>гражданский брак</td>\n",
       "      <td>1</td>\n",
       "      <td>M</td>\n",
       "      <td>сотрудник</td>\n",
       "      <td>1</td>\n",
       "      <td>89672.561153</td>\n",
       "      <td>недвижимость</td>\n",
       "    </tr>\n",
       "    <tr>\n",
       "      <td>21523</td>\n",
       "      <td>3</td>\n",
       "      <td>-3112.481705</td>\n",
       "      <td>38</td>\n",
       "      <td>среднее</td>\n",
       "      <td>1</td>\n",
       "      <td>женат / замужем</td>\n",
       "      <td>0</td>\n",
       "      <td>M</td>\n",
       "      <td>сотрудник</td>\n",
       "      <td>1</td>\n",
       "      <td>244093.050500</td>\n",
       "      <td>на покупку своего автомобиля</td>\n",
       "    </tr>\n",
       "    <tr>\n",
       "      <td>21524</td>\n",
       "      <td>2</td>\n",
       "      <td>-1984.507589</td>\n",
       "      <td>40</td>\n",
       "      <td>среднее</td>\n",
       "      <td>1</td>\n",
       "      <td>женат / замужем</td>\n",
       "      <td>0</td>\n",
       "      <td>F</td>\n",
       "      <td>сотрудник</td>\n",
       "      <td>0</td>\n",
       "      <td>82047.418899</td>\n",
       "      <td>на покупку автомобиля</td>\n",
       "    </tr>\n",
       "  </tbody>\n",
       "</table>\n",
       "</div>"
      ],
      "text/plain": [
       "       children  days_employed  dob_years       education  education_id  \\\n",
       "21515         1    -467.685130         28         среднее             1   \n",
       "21516         0    -914.391429         42          высшее             0   \n",
       "21517         0    -404.679034         42          высшее             0   \n",
       "21518         0  373995.710838         59         СРЕДНЕЕ             1   \n",
       "21519         1   -2351.431934         37  ученая степень             4   \n",
       "21520         1   -4529.316663         43         среднее             1   \n",
       "21521         0  343937.404131         67         среднее             1   \n",
       "21522         1   -2113.346888         38         среднее             1   \n",
       "21523         3   -3112.481705         38         среднее             1   \n",
       "21524         2   -1984.507589         40         среднее             1   \n",
       "\n",
       "          family_status  family_status_id gender income_type  debt  \\\n",
       "21515   женат / замужем                 0      F   сотрудник     1   \n",
       "21516   женат / замужем                 0      F   компаньон     0   \n",
       "21517  гражданский брак                 1      F   компаньон     0   \n",
       "21518   женат / замужем                 0      F   пенсионер     0   \n",
       "21519         в разводе                 3      M   сотрудник     0   \n",
       "21520  гражданский брак                 1      F   компаньон     0   \n",
       "21521   женат / замужем                 0      F   пенсионер     0   \n",
       "21522  гражданский брак                 1      M   сотрудник     1   \n",
       "21523   женат / замужем                 0      M   сотрудник     1   \n",
       "21524   женат / замужем                 0      F   сотрудник     0   \n",
       "\n",
       "        total_income                            purpose  \n",
       "21515  109486.327999              заняться образованием  \n",
       "21516  322807.776603               покупка своего жилья  \n",
       "21517  178059.553491       на покупку своего автомобиля  \n",
       "21518  153864.650328               сделка с автомобилем  \n",
       "21519  115949.039788  покупка коммерческой недвижимости  \n",
       "21520  224791.862382                  операции с жильем  \n",
       "21521  155999.806512               сделка с автомобилем  \n",
       "21522   89672.561153                       недвижимость  \n",
       "21523  244093.050500       на покупку своего автомобиля  \n",
       "21524   82047.418899              на покупку автомобиля  "
      ]
     },
     "execution_count": 4,
     "metadata": {},
     "output_type": "execute_result"
    }
   ],
   "source": [
    "clients.tail(10)"
   ]
  },
  {
   "cell_type": "code",
   "execution_count": 5,
   "metadata": {},
   "outputs": [
    {
     "name": "stdout",
     "output_type": "stream",
     "text": [
      "<class 'pandas.core.frame.DataFrame'>\n",
      "RangeIndex: 21525 entries, 0 to 21524\n",
      "Data columns (total 12 columns):\n",
      "children            21525 non-null int64\n",
      "days_employed       19351 non-null float64\n",
      "dob_years           21525 non-null int64\n",
      "education           21525 non-null object\n",
      "education_id        21525 non-null int64\n",
      "family_status       21525 non-null object\n",
      "family_status_id    21525 non-null int64\n",
      "gender              21525 non-null object\n",
      "income_type         21525 non-null object\n",
      "debt                21525 non-null int64\n",
      "total_income        19351 non-null float64\n",
      "purpose             21525 non-null object\n",
      "dtypes: float64(2), int64(5), object(5)\n",
      "memory usage: 2.0+ MB\n"
     ]
    }
   ],
   "source": [
    "clients.info()"
   ]
  },
  {
   "cell_type": "markdown",
   "metadata": {},
   "source": [
    "Итак, в таблице 12 столбцов. Присутствуют следующие типы данных:\n",
    "   * int64 (столбцы children, dob_years, education_id, family_status_id, debt)\n",
    "   * float (столбцы days_employed, total_income), можно перевести в int, так как нам не нужна такая точность по этим показателям\n",
    "   * object (столбцы education, family_status, gender, income_type, purpose)"
   ]
  },
  {
   "cell_type": "markdown",
   "metadata": {},
   "source": [
    "Переименуем некоторые столбцы. "
   ]
  },
  {
   "cell_type": "code",
   "execution_count": 6,
   "metadata": {},
   "outputs": [
    {
     "data": {
      "text/html": [
       "<div>\n",
       "<style scoped>\n",
       "    .dataframe tbody tr th:only-of-type {\n",
       "        vertical-align: middle;\n",
       "    }\n",
       "\n",
       "    .dataframe tbody tr th {\n",
       "        vertical-align: top;\n",
       "    }\n",
       "\n",
       "    .dataframe thead th {\n",
       "        text-align: right;\n",
       "    }\n",
       "</style>\n",
       "<table border=\"1\" class=\"dataframe\">\n",
       "  <thead>\n",
       "    <tr style=\"text-align: right;\">\n",
       "      <th></th>\n",
       "      <th>children</th>\n",
       "      <th>days_employed</th>\n",
       "      <th>age</th>\n",
       "      <th>education</th>\n",
       "      <th>education_id</th>\n",
       "      <th>family_status</th>\n",
       "      <th>family_status_id</th>\n",
       "      <th>gender</th>\n",
       "      <th>type</th>\n",
       "      <th>debt</th>\n",
       "      <th>monthly_income</th>\n",
       "      <th>purpose</th>\n",
       "    </tr>\n",
       "  </thead>\n",
       "  <tbody>\n",
       "    <tr>\n",
       "      <td>0</td>\n",
       "      <td>1</td>\n",
       "      <td>-8437.673028</td>\n",
       "      <td>42</td>\n",
       "      <td>высшее</td>\n",
       "      <td>0</td>\n",
       "      <td>женат / замужем</td>\n",
       "      <td>0</td>\n",
       "      <td>F</td>\n",
       "      <td>сотрудник</td>\n",
       "      <td>0</td>\n",
       "      <td>253875.639453</td>\n",
       "      <td>покупка жилья</td>\n",
       "    </tr>\n",
       "    <tr>\n",
       "      <td>1</td>\n",
       "      <td>1</td>\n",
       "      <td>-4024.803754</td>\n",
       "      <td>36</td>\n",
       "      <td>среднее</td>\n",
       "      <td>1</td>\n",
       "      <td>женат / замужем</td>\n",
       "      <td>0</td>\n",
       "      <td>F</td>\n",
       "      <td>сотрудник</td>\n",
       "      <td>0</td>\n",
       "      <td>112080.014102</td>\n",
       "      <td>приобретение автомобиля</td>\n",
       "    </tr>\n",
       "    <tr>\n",
       "      <td>2</td>\n",
       "      <td>0</td>\n",
       "      <td>-5623.422610</td>\n",
       "      <td>33</td>\n",
       "      <td>Среднее</td>\n",
       "      <td>1</td>\n",
       "      <td>женат / замужем</td>\n",
       "      <td>0</td>\n",
       "      <td>M</td>\n",
       "      <td>сотрудник</td>\n",
       "      <td>0</td>\n",
       "      <td>145885.952297</td>\n",
       "      <td>покупка жилья</td>\n",
       "    </tr>\n",
       "    <tr>\n",
       "      <td>3</td>\n",
       "      <td>3</td>\n",
       "      <td>-4124.747207</td>\n",
       "      <td>32</td>\n",
       "      <td>среднее</td>\n",
       "      <td>1</td>\n",
       "      <td>женат / замужем</td>\n",
       "      <td>0</td>\n",
       "      <td>M</td>\n",
       "      <td>сотрудник</td>\n",
       "      <td>0</td>\n",
       "      <td>267628.550329</td>\n",
       "      <td>дополнительное образование</td>\n",
       "    </tr>\n",
       "    <tr>\n",
       "      <td>4</td>\n",
       "      <td>0</td>\n",
       "      <td>340266.072047</td>\n",
       "      <td>53</td>\n",
       "      <td>среднее</td>\n",
       "      <td>1</td>\n",
       "      <td>гражданский брак</td>\n",
       "      <td>1</td>\n",
       "      <td>F</td>\n",
       "      <td>пенсионер</td>\n",
       "      <td>0</td>\n",
       "      <td>158616.077870</td>\n",
       "      <td>сыграть свадьбу</td>\n",
       "    </tr>\n",
       "  </tbody>\n",
       "</table>\n",
       "</div>"
      ],
      "text/plain": [
       "   children  days_employed  age education  education_id     family_status  \\\n",
       "0         1   -8437.673028   42    высшее             0   женат / замужем   \n",
       "1         1   -4024.803754   36   среднее             1   женат / замужем   \n",
       "2         0   -5623.422610   33   Среднее             1   женат / замужем   \n",
       "3         3   -4124.747207   32   среднее             1   женат / замужем   \n",
       "4         0  340266.072047   53   среднее             1  гражданский брак   \n",
       "\n",
       "   family_status_id gender       type  debt  monthly_income  \\\n",
       "0                 0      F  сотрудник     0   253875.639453   \n",
       "1                 0      F  сотрудник     0   112080.014102   \n",
       "2                 0      M  сотрудник     0   145885.952297   \n",
       "3                 0      M  сотрудник     0   267628.550329   \n",
       "4                 1      F  пенсионер     0   158616.077870   \n",
       "\n",
       "                      purpose  \n",
       "0               покупка жилья  \n",
       "1     приобретение автомобиля  \n",
       "2               покупка жилья  \n",
       "3  дополнительное образование  \n",
       "4             сыграть свадьбу  "
      ]
     },
     "execution_count": 6,
     "metadata": {},
     "output_type": "execute_result"
    }
   ],
   "source": [
    "clients = clients.rename(columns={'dob_years':'age', 'income_type':'type', 'total_income':'monthly_income'})\n",
    "clients.head()"
   ]
  },
  {
   "cell_type": "markdown",
   "metadata": {},
   "source": [
    "Описание данных:\n",
    " * children — количество детей в семье\n",
    " * days_employed — общий трудовой стаж в днях\n",
    " * age (dob_years) — возраст клиента в годах\n",
    " * education — уровень образования клиента\n",
    " * education_id — идентификатор уровня образования\n",
    " * family_status — семейное положение\n",
    " * family_status_id — идентификатор семейного положения\n",
    " * gender — пол клиента\n",
    " * type (income_type) — тип занятости\n",
    " * debt — имел ли задолженность по возврату кредитов\n",
    " * monthly_income (total_income) — ежемесячный доход\n",
    " * purpose — цель получения кредита\n",
    "\n",
    "К категориальным данным можно отнести уровень образования (и идентификатор), семейный статус (и иднтификатор), тип занятости.\n",
    "К количественным данным можно отнести общий трудовой стаж в днях, ежемесячный доход).\n",
    "\n",
    "Всего в таблице 21 525 записей, этого должно быть достаточно, чтобы сделать выводы по данным и найти ответы на поставленные вопросы. Также можно отметить, что колонки days_employed, monthly_income содержат меньше данных (19351) - ожидаются пропущенные значения. Столбец \"общий трудовой стаж в днях\" имеет иногда отрицательные значения."
   ]
  },
  {
   "cell_type": "code",
   "execution_count": 7,
   "metadata": {},
   "outputs": [
    {
     "data": {
      "text/html": [
       "<div>\n",
       "<style scoped>\n",
       "    .dataframe tbody tr th:only-of-type {\n",
       "        vertical-align: middle;\n",
       "    }\n",
       "\n",
       "    .dataframe tbody tr th {\n",
       "        vertical-align: top;\n",
       "    }\n",
       "\n",
       "    .dataframe thead th {\n",
       "        text-align: right;\n",
       "    }\n",
       "</style>\n",
       "<table border=\"1\" class=\"dataframe\">\n",
       "  <thead>\n",
       "    <tr style=\"text-align: right;\">\n",
       "      <th></th>\n",
       "      <th>children</th>\n",
       "      <th>days_employed</th>\n",
       "      <th>age</th>\n",
       "      <th>education_id</th>\n",
       "      <th>family_status_id</th>\n",
       "      <th>debt</th>\n",
       "      <th>monthly_income</th>\n",
       "    </tr>\n",
       "  </thead>\n",
       "  <tbody>\n",
       "    <tr>\n",
       "      <td>count</td>\n",
       "      <td>21525.000000</td>\n",
       "      <td>19351.000000</td>\n",
       "      <td>21525.000000</td>\n",
       "      <td>21525.000000</td>\n",
       "      <td>21525.000000</td>\n",
       "      <td>21525.000000</td>\n",
       "      <td>1.935100e+04</td>\n",
       "    </tr>\n",
       "    <tr>\n",
       "      <td>mean</td>\n",
       "      <td>0.538908</td>\n",
       "      <td>63046.497661</td>\n",
       "      <td>43.293380</td>\n",
       "      <td>0.817236</td>\n",
       "      <td>0.972544</td>\n",
       "      <td>0.080883</td>\n",
       "      <td>1.674223e+05</td>\n",
       "    </tr>\n",
       "    <tr>\n",
       "      <td>std</td>\n",
       "      <td>1.381587</td>\n",
       "      <td>140827.311974</td>\n",
       "      <td>12.574584</td>\n",
       "      <td>0.548138</td>\n",
       "      <td>1.420324</td>\n",
       "      <td>0.272661</td>\n",
       "      <td>1.029716e+05</td>\n",
       "    </tr>\n",
       "    <tr>\n",
       "      <td>min</td>\n",
       "      <td>-1.000000</td>\n",
       "      <td>-18388.949901</td>\n",
       "      <td>0.000000</td>\n",
       "      <td>0.000000</td>\n",
       "      <td>0.000000</td>\n",
       "      <td>0.000000</td>\n",
       "      <td>2.066726e+04</td>\n",
       "    </tr>\n",
       "    <tr>\n",
       "      <td>25%</td>\n",
       "      <td>0.000000</td>\n",
       "      <td>-2747.423625</td>\n",
       "      <td>33.000000</td>\n",
       "      <td>1.000000</td>\n",
       "      <td>0.000000</td>\n",
       "      <td>0.000000</td>\n",
       "      <td>1.030532e+05</td>\n",
       "    </tr>\n",
       "    <tr>\n",
       "      <td>50%</td>\n",
       "      <td>0.000000</td>\n",
       "      <td>-1203.369529</td>\n",
       "      <td>42.000000</td>\n",
       "      <td>1.000000</td>\n",
       "      <td>0.000000</td>\n",
       "      <td>0.000000</td>\n",
       "      <td>1.450179e+05</td>\n",
       "    </tr>\n",
       "    <tr>\n",
       "      <td>75%</td>\n",
       "      <td>1.000000</td>\n",
       "      <td>-291.095954</td>\n",
       "      <td>53.000000</td>\n",
       "      <td>1.000000</td>\n",
       "      <td>1.000000</td>\n",
       "      <td>0.000000</td>\n",
       "      <td>2.034351e+05</td>\n",
       "    </tr>\n",
       "    <tr>\n",
       "      <td>max</td>\n",
       "      <td>20.000000</td>\n",
       "      <td>401755.400475</td>\n",
       "      <td>75.000000</td>\n",
       "      <td>4.000000</td>\n",
       "      <td>4.000000</td>\n",
       "      <td>1.000000</td>\n",
       "      <td>2.265604e+06</td>\n",
       "    </tr>\n",
       "  </tbody>\n",
       "</table>\n",
       "</div>"
      ],
      "text/plain": [
       "           children  days_employed           age  education_id  \\\n",
       "count  21525.000000   19351.000000  21525.000000  21525.000000   \n",
       "mean       0.538908   63046.497661     43.293380      0.817236   \n",
       "std        1.381587  140827.311974     12.574584      0.548138   \n",
       "min       -1.000000  -18388.949901      0.000000      0.000000   \n",
       "25%        0.000000   -2747.423625     33.000000      1.000000   \n",
       "50%        0.000000   -1203.369529     42.000000      1.000000   \n",
       "75%        1.000000    -291.095954     53.000000      1.000000   \n",
       "max       20.000000  401755.400475     75.000000      4.000000   \n",
       "\n",
       "       family_status_id          debt  monthly_income  \n",
       "count      21525.000000  21525.000000    1.935100e+04  \n",
       "mean           0.972544      0.080883    1.674223e+05  \n",
       "std            1.420324      0.272661    1.029716e+05  \n",
       "min            0.000000      0.000000    2.066726e+04  \n",
       "25%            0.000000      0.000000    1.030532e+05  \n",
       "50%            0.000000      0.000000    1.450179e+05  \n",
       "75%            1.000000      0.000000    2.034351e+05  \n",
       "max            4.000000      1.000000    2.265604e+06  "
      ]
     },
     "execution_count": 7,
     "metadata": {},
     "output_type": "execute_result"
    }
   ],
   "source": [
    "clients.describe()"
   ]
  },
  {
   "cell_type": "markdown",
   "metadata": {},
   "source": [
    "Можно сделать следующие наблюдения:\n",
    " * в столбце children есть странное значение -1, а также максимальное значение 20 (это возможное, но редкое значение, - нужно проверить, насколько часто оно встречается);\n",
    " * в столбце days_employed есть отрицательные значения - возможно, они неправильно загрузились, и их следует конвертировать в положительтные; также из-за отрицательных значений в этом столбце получаем ошибки в подсчете статистических показателей: отрицательное значение квартилей; среднее значение имеет значение 63 046 дней (63 046/ 365 = 172 дня, это заведемо ошибочное значение)\n",
    " * также странное значение - минимальное значение по столбцу \"возраст\" (dob_years), которое равно 0."
   ]
  },
  {
   "cell_type": "markdown",
   "metadata": {},
   "source": [
    "**Вывод**"
   ]
  },
  {
   "cell_type": "markdown",
   "metadata": {},
   "source": [
    "Каждая строка таблицы содержит сведения о клиенте, такие как количество детей, общий трудовой стаж, возраст, уровень образования, семейное положение, пол и др. Некоторые столбцы имеют дополнтельный идентификатор (например, идентификатор уровня образования, идентификатор семейного положения). Для ответа на вопросы по поводу возврата кредита в срок важное значение имеет столбец \"debt — имел ли задолженность по возврату кредитов\". \n",
    "\n",
    "Датасет имеет более 20 тыс. записей, что достаточно для поиска ответов на вопросы. При этом, некоторые столбцы имеют пропущенные значения. Также предварительно можно сказать, что заполнение столбца \"уровень образования\" оставляет желать лучшего (отличается регистр)."
   ]
  },
  {
   "cell_type": "markdown",
   "metadata": {},
   "source": [
    "## Шаг 2. Предобработка данных"
   ]
  },
  {
   "cell_type": "markdown",
   "metadata": {},
   "source": [
    "### Обработка пропусков"
   ]
  },
  {
   "cell_type": "markdown",
   "metadata": {},
   "source": [
    "Было обнаружено, что пропуски встречаются в столбцах ***days_employed*** и ***monthly income***, при этом количество пропусков одинаковое для двух столбцов *(21525 - 19351 = 2174)*. Гипотеза состоит в том, что пропуски встречаются в одних и те же строках, проверим ее."
   ]
  },
  {
   "cell_type": "code",
   "execution_count": 8,
   "metadata": {},
   "outputs": [
    {
     "data": {
      "text/plain": [
       "children               0\n",
       "days_employed       2174\n",
       "age                    0\n",
       "education              0\n",
       "education_id           0\n",
       "family_status          0\n",
       "family_status_id       0\n",
       "gender                 0\n",
       "type                   0\n",
       "debt                   0\n",
       "monthly_income      2174\n",
       "purpose                0\n",
       "dtype: int64"
      ]
     },
     "execution_count": 8,
     "metadata": {},
     "output_type": "execute_result"
    }
   ],
   "source": [
    "clients.isnull().sum()"
   ]
  },
  {
   "cell_type": "code",
   "execution_count": 9,
   "metadata": {},
   "outputs": [
    {
     "data": {
      "text/plain": [
       "2174"
      ]
     },
     "execution_count": 9,
     "metadata": {},
     "output_type": "execute_result"
    }
   ],
   "source": [
    "clients['monthly_income'].isnull().sum()"
   ]
  },
  {
   "cell_type": "code",
   "execution_count": 10,
   "metadata": {},
   "outputs": [
    {
     "name": "stdout",
     "output_type": "stream",
     "text": [
      "<class 'pandas.core.frame.DataFrame'>\n",
      "Int64Index: 2174 entries, 12 to 21510\n",
      "Data columns (total 12 columns):\n",
      "children            2174 non-null int64\n",
      "days_employed       0 non-null float64\n",
      "age                 2174 non-null int64\n",
      "education           2174 non-null object\n",
      "education_id        2174 non-null int64\n",
      "family_status       2174 non-null object\n",
      "family_status_id    2174 non-null int64\n",
      "gender              2174 non-null object\n",
      "type                2174 non-null object\n",
      "debt                2174 non-null int64\n",
      "monthly_income      0 non-null float64\n",
      "purpose             2174 non-null object\n",
      "dtypes: float64(2), int64(5), object(5)\n",
      "memory usage: 220.8+ KB\n"
     ]
    }
   ],
   "source": [
    "clients[(clients['days_employed'].isnull() == True) & (clients['monthly_income'].isnull() == True)].info()"
   ]
  },
  {
   "cell_type": "markdown",
   "metadata": {},
   "source": [
    "Можно сделать вывод, что гипотеза подтверждается, пропуски столбцов ***days_employed*** и ***total_income*** действительно встречаются в одних и тех же строках."
   ]
  },
  {
   "cell_type": "markdown",
   "metadata": {},
   "source": [
    "Далее, для того, чтобы принять решение, как именно запонять пропуски, проверим тип занятости (**type**) по клиентам, у которых пропущены значения по указанным столбцам."
   ]
  },
  {
   "cell_type": "code",
   "execution_count": 11,
   "metadata": {},
   "outputs": [
    {
     "data": {
      "text/plain": [
       "сотрудник          1105\n",
       "компаньон           508\n",
       "пенсионер           413\n",
       "госслужащий         147\n",
       "предприниматель       1\n",
       "Name: type, dtype: int64"
      ]
     },
     "execution_count": 11,
     "metadata": {},
     "output_type": "execute_result"
    }
   ],
   "source": [
    "clients[(clients['monthly_income'].isnull() == True) & (clients['days_employed'].isnull() == True)]['type'].value_counts()"
   ]
  },
  {
   "cell_type": "markdown",
   "metadata": {},
   "source": [
    "Итак, тип занятости не совпадает, поэтому заполним пропущенные значения медианным значением по каждому типу занятости. Далее найдем медианные значения."
   ]
  },
  {
   "cell_type": "code",
   "execution_count": 12,
   "metadata": {},
   "outputs": [],
   "source": [
    "medians_monthly_income = clients.groupby('type')['monthly_income'].median()"
   ]
  },
  {
   "cell_type": "code",
   "execution_count": 13,
   "metadata": {
    "scrolled": true
   },
   "outputs": [
    {
     "data": {
      "text/plain": [
       "type\n",
       "безработный        131340.0\n",
       "в декрете           53829.0\n",
       "госслужащий        150448.0\n",
       "компаньон          172358.0\n",
       "пенсионер          118514.0\n",
       "предприниматель    499163.0\n",
       "сотрудник          142594.0\n",
       "студент             98202.0\n",
       "Name: monthly_income, dtype: float64"
      ]
     },
     "execution_count": 13,
     "metadata": {},
     "output_type": "execute_result"
    }
   ],
   "source": [
    "round(medians_monthly_income)"
   ]
  },
  {
   "cell_type": "markdown",
   "metadata": {},
   "source": [
    "Заменим пропущенные значения."
   ]
  },
  {
   "cell_type": "code",
   "execution_count": 14,
   "metadata": {},
   "outputs": [],
   "source": [
    "clients.loc[(clients['monthly_income'].isnull()) & (clients['type'] == 'госслужащий'), 'monthly_income'] = medians_monthly_income[2]\n",
    "clients.loc[(clients['monthly_income'].isnull()) & (clients['type'] == 'компаньон'), 'monthly_income'] = medians_monthly_income[3]\n",
    "clients.loc[(clients['monthly_income'].isnull()) & (clients['type'] == 'пенсионер'), 'monthly_income'] = medians_monthly_income[4]\n",
    "clients.loc[(clients['monthly_income'].isnull()) & (clients['type'] == 'предприниматель'), 'monthly_income'] = medians_monthly_income[5]\n",
    "clients.loc[(clients['monthly_income'].isnull()) & (clients['type'] == 'сотрудник'), 'monthly_income'] = medians_monthly_income[6]"
   ]
  },
  {
   "cell_type": "code",
   "execution_count": null,
   "metadata": {},
   "outputs": [],
   "source": []
  },
  {
   "cell_type": "code",
   "execution_count": 15,
   "metadata": {},
   "outputs": [
    {
     "data": {
      "text/html": [
       "<div>\n",
       "<style scoped>\n",
       "    .dataframe tbody tr th:only-of-type {\n",
       "        vertical-align: middle;\n",
       "    }\n",
       "\n",
       "    .dataframe tbody tr th {\n",
       "        vertical-align: top;\n",
       "    }\n",
       "\n",
       "    .dataframe thead th {\n",
       "        text-align: right;\n",
       "    }\n",
       "</style>\n",
       "<table border=\"1\" class=\"dataframe\">\n",
       "  <thead>\n",
       "    <tr style=\"text-align: right;\">\n",
       "      <th></th>\n",
       "      <th>children</th>\n",
       "      <th>days_employed</th>\n",
       "      <th>age</th>\n",
       "      <th>education</th>\n",
       "      <th>education_id</th>\n",
       "      <th>family_status</th>\n",
       "      <th>family_status_id</th>\n",
       "      <th>gender</th>\n",
       "      <th>type</th>\n",
       "      <th>debt</th>\n",
       "      <th>monthly_income</th>\n",
       "      <th>purpose</th>\n",
       "    </tr>\n",
       "  </thead>\n",
       "  <tbody>\n",
       "    <tr>\n",
       "      <td>0</td>\n",
       "      <td>1</td>\n",
       "      <td>-8437.673028</td>\n",
       "      <td>42</td>\n",
       "      <td>высшее</td>\n",
       "      <td>0</td>\n",
       "      <td>женат / замужем</td>\n",
       "      <td>0</td>\n",
       "      <td>F</td>\n",
       "      <td>сотрудник</td>\n",
       "      <td>0</td>\n",
       "      <td>253875.639453</td>\n",
       "      <td>покупка жилья</td>\n",
       "    </tr>\n",
       "    <tr>\n",
       "      <td>1</td>\n",
       "      <td>1</td>\n",
       "      <td>-4024.803754</td>\n",
       "      <td>36</td>\n",
       "      <td>среднее</td>\n",
       "      <td>1</td>\n",
       "      <td>женат / замужем</td>\n",
       "      <td>0</td>\n",
       "      <td>F</td>\n",
       "      <td>сотрудник</td>\n",
       "      <td>0</td>\n",
       "      <td>112080.014102</td>\n",
       "      <td>приобретение автомобиля</td>\n",
       "    </tr>\n",
       "    <tr>\n",
       "      <td>2</td>\n",
       "      <td>0</td>\n",
       "      <td>-5623.422610</td>\n",
       "      <td>33</td>\n",
       "      <td>Среднее</td>\n",
       "      <td>1</td>\n",
       "      <td>женат / замужем</td>\n",
       "      <td>0</td>\n",
       "      <td>M</td>\n",
       "      <td>сотрудник</td>\n",
       "      <td>0</td>\n",
       "      <td>145885.952297</td>\n",
       "      <td>покупка жилья</td>\n",
       "    </tr>\n",
       "    <tr>\n",
       "      <td>3</td>\n",
       "      <td>3</td>\n",
       "      <td>-4124.747207</td>\n",
       "      <td>32</td>\n",
       "      <td>среднее</td>\n",
       "      <td>1</td>\n",
       "      <td>женат / замужем</td>\n",
       "      <td>0</td>\n",
       "      <td>M</td>\n",
       "      <td>сотрудник</td>\n",
       "      <td>0</td>\n",
       "      <td>267628.550329</td>\n",
       "      <td>дополнительное образование</td>\n",
       "    </tr>\n",
       "    <tr>\n",
       "      <td>4</td>\n",
       "      <td>0</td>\n",
       "      <td>340266.072047</td>\n",
       "      <td>53</td>\n",
       "      <td>среднее</td>\n",
       "      <td>1</td>\n",
       "      <td>гражданский брак</td>\n",
       "      <td>1</td>\n",
       "      <td>F</td>\n",
       "      <td>пенсионер</td>\n",
       "      <td>0</td>\n",
       "      <td>158616.077870</td>\n",
       "      <td>сыграть свадьбу</td>\n",
       "    </tr>\n",
       "    <tr>\n",
       "      <td>5</td>\n",
       "      <td>0</td>\n",
       "      <td>-926.185831</td>\n",
       "      <td>27</td>\n",
       "      <td>высшее</td>\n",
       "      <td>0</td>\n",
       "      <td>гражданский брак</td>\n",
       "      <td>1</td>\n",
       "      <td>M</td>\n",
       "      <td>компаньон</td>\n",
       "      <td>0</td>\n",
       "      <td>255763.565419</td>\n",
       "      <td>покупка жилья</td>\n",
       "    </tr>\n",
       "    <tr>\n",
       "      <td>6</td>\n",
       "      <td>0</td>\n",
       "      <td>-2879.202052</td>\n",
       "      <td>43</td>\n",
       "      <td>высшее</td>\n",
       "      <td>0</td>\n",
       "      <td>женат / замужем</td>\n",
       "      <td>0</td>\n",
       "      <td>F</td>\n",
       "      <td>компаньон</td>\n",
       "      <td>0</td>\n",
       "      <td>240525.971920</td>\n",
       "      <td>операции с жильем</td>\n",
       "    </tr>\n",
       "    <tr>\n",
       "      <td>7</td>\n",
       "      <td>0</td>\n",
       "      <td>-152.779569</td>\n",
       "      <td>50</td>\n",
       "      <td>СРЕДНЕЕ</td>\n",
       "      <td>1</td>\n",
       "      <td>женат / замужем</td>\n",
       "      <td>0</td>\n",
       "      <td>M</td>\n",
       "      <td>сотрудник</td>\n",
       "      <td>0</td>\n",
       "      <td>135823.934197</td>\n",
       "      <td>образование</td>\n",
       "    </tr>\n",
       "    <tr>\n",
       "      <td>8</td>\n",
       "      <td>2</td>\n",
       "      <td>-6929.865299</td>\n",
       "      <td>35</td>\n",
       "      <td>ВЫСШЕЕ</td>\n",
       "      <td>0</td>\n",
       "      <td>гражданский брак</td>\n",
       "      <td>1</td>\n",
       "      <td>F</td>\n",
       "      <td>сотрудник</td>\n",
       "      <td>0</td>\n",
       "      <td>95856.832424</td>\n",
       "      <td>на проведение свадьбы</td>\n",
       "    </tr>\n",
       "    <tr>\n",
       "      <td>9</td>\n",
       "      <td>0</td>\n",
       "      <td>-2188.756445</td>\n",
       "      <td>41</td>\n",
       "      <td>среднее</td>\n",
       "      <td>1</td>\n",
       "      <td>женат / замужем</td>\n",
       "      <td>0</td>\n",
       "      <td>M</td>\n",
       "      <td>сотрудник</td>\n",
       "      <td>0</td>\n",
       "      <td>144425.938277</td>\n",
       "      <td>покупка жилья для семьи</td>\n",
       "    </tr>\n",
       "  </tbody>\n",
       "</table>\n",
       "</div>"
      ],
      "text/plain": [
       "   children  days_employed  age education  education_id     family_status  \\\n",
       "0         1   -8437.673028   42    высшее             0   женат / замужем   \n",
       "1         1   -4024.803754   36   среднее             1   женат / замужем   \n",
       "2         0   -5623.422610   33   Среднее             1   женат / замужем   \n",
       "3         3   -4124.747207   32   среднее             1   женат / замужем   \n",
       "4         0  340266.072047   53   среднее             1  гражданский брак   \n",
       "5         0    -926.185831   27    высшее             0  гражданский брак   \n",
       "6         0   -2879.202052   43    высшее             0   женат / замужем   \n",
       "7         0    -152.779569   50   СРЕДНЕЕ             1   женат / замужем   \n",
       "8         2   -6929.865299   35    ВЫСШЕЕ             0  гражданский брак   \n",
       "9         0   -2188.756445   41   среднее             1   женат / замужем   \n",
       "\n",
       "   family_status_id gender       type  debt  monthly_income  \\\n",
       "0                 0      F  сотрудник     0   253875.639453   \n",
       "1                 0      F  сотрудник     0   112080.014102   \n",
       "2                 0      M  сотрудник     0   145885.952297   \n",
       "3                 0      M  сотрудник     0   267628.550329   \n",
       "4                 1      F  пенсионер     0   158616.077870   \n",
       "5                 1      M  компаньон     0   255763.565419   \n",
       "6                 0      F  компаньон     0   240525.971920   \n",
       "7                 0      M  сотрудник     0   135823.934197   \n",
       "8                 1      F  сотрудник     0    95856.832424   \n",
       "9                 0      M  сотрудник     0   144425.938277   \n",
       "\n",
       "                      purpose  \n",
       "0               покупка жилья  \n",
       "1     приобретение автомобиля  \n",
       "2               покупка жилья  \n",
       "3  дополнительное образование  \n",
       "4             сыграть свадьбу  \n",
       "5               покупка жилья  \n",
       "6           операции с жильем  \n",
       "7                 образование  \n",
       "8       на проведение свадьбы  \n",
       "9     покупка жилья для семьи  "
      ]
     },
     "execution_count": 15,
     "metadata": {},
     "output_type": "execute_result"
    }
   ],
   "source": [
    "clients.head(10)"
   ]
  },
  {
   "cell_type": "code",
   "execution_count": 16,
   "metadata": {},
   "outputs": [
    {
     "data": {
      "text/plain": [
       "children               0\n",
       "days_employed       2174\n",
       "age                    0\n",
       "education              0\n",
       "education_id           0\n",
       "family_status          0\n",
       "family_status_id       0\n",
       "gender                 0\n",
       "type                   0\n",
       "debt                   0\n",
       "monthly_income         0\n",
       "purpose                0\n",
       "dtype: int64"
      ]
     },
     "execution_count": 16,
     "metadata": {},
     "output_type": "execute_result"
    }
   ],
   "source": [
    "clients.isnull().sum()"
   ]
  },
  {
   "cell_type": "markdown",
   "metadata": {},
   "source": [
    "Итак, пропущенные значения в столбце monthly_income заполнены медианными значениями по типу занятости."
   ]
  },
  {
   "cell_type": "markdown",
   "metadata": {},
   "source": [
    "Далее следует решить проблему с отрицательным стажем (days_employed). Предположительно, данные о стаже хранились с отрицательным значением, поэтому применим метод abs."
   ]
  },
  {
   "cell_type": "code",
   "execution_count": 17,
   "metadata": {},
   "outputs": [],
   "source": [
    "clients[['days_employed']] = clients[['days_employed']].abs()"
   ]
  },
  {
   "cell_type": "code",
   "execution_count": 18,
   "metadata": {},
   "outputs": [
    {
     "data": {
      "text/html": [
       "<div>\n",
       "<style scoped>\n",
       "    .dataframe tbody tr th:only-of-type {\n",
       "        vertical-align: middle;\n",
       "    }\n",
       "\n",
       "    .dataframe tbody tr th {\n",
       "        vertical-align: top;\n",
       "    }\n",
       "\n",
       "    .dataframe thead th {\n",
       "        text-align: right;\n",
       "    }\n",
       "</style>\n",
       "<table border=\"1\" class=\"dataframe\">\n",
       "  <thead>\n",
       "    <tr style=\"text-align: right;\">\n",
       "      <th></th>\n",
       "      <th>children</th>\n",
       "      <th>days_employed</th>\n",
       "      <th>age</th>\n",
       "      <th>education_id</th>\n",
       "      <th>family_status_id</th>\n",
       "      <th>debt</th>\n",
       "      <th>monthly_income</th>\n",
       "    </tr>\n",
       "  </thead>\n",
       "  <tbody>\n",
       "    <tr>\n",
       "      <td>count</td>\n",
       "      <td>21525.000000</td>\n",
       "      <td>19351.000000</td>\n",
       "      <td>21525.000000</td>\n",
       "      <td>21525.000000</td>\n",
       "      <td>21525.000000</td>\n",
       "      <td>21525.000000</td>\n",
       "      <td>2.152500e+04</td>\n",
       "    </tr>\n",
       "    <tr>\n",
       "      <td>mean</td>\n",
       "      <td>0.538908</td>\n",
       "      <td>66914.728907</td>\n",
       "      <td>43.293380</td>\n",
       "      <td>0.817236</td>\n",
       "      <td>0.972544</td>\n",
       "      <td>0.080883</td>\n",
       "      <td>1.652253e+05</td>\n",
       "    </tr>\n",
       "    <tr>\n",
       "      <td>std</td>\n",
       "      <td>1.381587</td>\n",
       "      <td>139030.880527</td>\n",
       "      <td>12.574584</td>\n",
       "      <td>0.548138</td>\n",
       "      <td>1.420324</td>\n",
       "      <td>0.272661</td>\n",
       "      <td>9.804367e+04</td>\n",
       "    </tr>\n",
       "    <tr>\n",
       "      <td>min</td>\n",
       "      <td>-1.000000</td>\n",
       "      <td>24.141633</td>\n",
       "      <td>0.000000</td>\n",
       "      <td>0.000000</td>\n",
       "      <td>0.000000</td>\n",
       "      <td>0.000000</td>\n",
       "      <td>2.066726e+04</td>\n",
       "    </tr>\n",
       "    <tr>\n",
       "      <td>25%</td>\n",
       "      <td>0.000000</td>\n",
       "      <td>927.009265</td>\n",
       "      <td>33.000000</td>\n",
       "      <td>1.000000</td>\n",
       "      <td>0.000000</td>\n",
       "      <td>0.000000</td>\n",
       "      <td>1.077982e+05</td>\n",
       "    </tr>\n",
       "    <tr>\n",
       "      <td>50%</td>\n",
       "      <td>0.000000</td>\n",
       "      <td>2194.220567</td>\n",
       "      <td>42.000000</td>\n",
       "      <td>1.000000</td>\n",
       "      <td>0.000000</td>\n",
       "      <td>0.000000</td>\n",
       "      <td>1.425944e+05</td>\n",
       "    </tr>\n",
       "    <tr>\n",
       "      <td>75%</td>\n",
       "      <td>1.000000</td>\n",
       "      <td>5537.882441</td>\n",
       "      <td>53.000000</td>\n",
       "      <td>1.000000</td>\n",
       "      <td>1.000000</td>\n",
       "      <td>0.000000</td>\n",
       "      <td>1.955499e+05</td>\n",
       "    </tr>\n",
       "    <tr>\n",
       "      <td>max</td>\n",
       "      <td>20.000000</td>\n",
       "      <td>401755.400475</td>\n",
       "      <td>75.000000</td>\n",
       "      <td>4.000000</td>\n",
       "      <td>4.000000</td>\n",
       "      <td>1.000000</td>\n",
       "      <td>2.265604e+06</td>\n",
       "    </tr>\n",
       "  </tbody>\n",
       "</table>\n",
       "</div>"
      ],
      "text/plain": [
       "           children  days_employed           age  education_id  \\\n",
       "count  21525.000000   19351.000000  21525.000000  21525.000000   \n",
       "mean       0.538908   66914.728907     43.293380      0.817236   \n",
       "std        1.381587  139030.880527     12.574584      0.548138   \n",
       "min       -1.000000      24.141633      0.000000      0.000000   \n",
       "25%        0.000000     927.009265     33.000000      1.000000   \n",
       "50%        0.000000    2194.220567     42.000000      1.000000   \n",
       "75%        1.000000    5537.882441     53.000000      1.000000   \n",
       "max       20.000000  401755.400475     75.000000      4.000000   \n",
       "\n",
       "       family_status_id          debt  monthly_income  \n",
       "count      21525.000000  21525.000000    2.152500e+04  \n",
       "mean           0.972544      0.080883    1.652253e+05  \n",
       "std            1.420324      0.272661    9.804367e+04  \n",
       "min            0.000000      0.000000    2.066726e+04  \n",
       "25%            0.000000      0.000000    1.077982e+05  \n",
       "50%            0.000000      0.000000    1.425944e+05  \n",
       "75%            1.000000      0.000000    1.955499e+05  \n",
       "max            4.000000      1.000000    2.265604e+06  "
      ]
     },
     "execution_count": 18,
     "metadata": {},
     "output_type": "execute_result"
    }
   ],
   "source": [
    "clients.describe()"
   ]
  },
  {
   "cell_type": "code",
   "execution_count": 19,
   "metadata": {},
   "outputs": [],
   "source": [
    "medians_days_employed = clients.groupby('type')['days_employed'].median()"
   ]
  },
  {
   "cell_type": "code",
   "execution_count": 20,
   "metadata": {},
   "outputs": [
    {
     "data": {
      "text/plain": [
       "type\n",
       "безработный        366414.0\n",
       "в декрете            3297.0\n",
       "госслужащий          2689.0\n",
       "компаньон            1547.0\n",
       "пенсионер          365213.0\n",
       "предприниматель       521.0\n",
       "сотрудник            1574.0\n",
       "студент               579.0\n",
       "Name: days_employed, dtype: float64"
      ]
     },
     "execution_count": 20,
     "metadata": {},
     "output_type": "execute_result"
    }
   ],
   "source": [
    "round(medians_days_employed)"
   ]
  },
  {
   "cell_type": "code",
   "execution_count": 21,
   "metadata": {},
   "outputs": [],
   "source": [
    "clients.loc[(\n",
    "    clients['days_employed'].isnull()) & (clients['type'] == 'сотрудник'), 'days_employed'] = medians_days_employed[6]\n",
    "clients.loc[(clients['days_employed'].isnull()) & (clients['type'] == 'компаньон'), 'days_employed'] = medians_days_employed[3]\n",
    "clients.loc[(clients['days_employed'].isnull()) & (clients['type'] == 'пенсионер'), 'days_employed'] = medians_days_employed[4]\n",
    "clients.loc[(clients['days_employed'].isnull()) & (clients['type'] == 'госслужащий'), 'days_employed'] = medians_days_employed[2]\n",
    "clients.loc[(clients['days_employed'].isnull()) & (clients['type'] == 'предприниматель'), 'days_employed'] = medians_days_employed[5]"
   ]
  },
  {
   "cell_type": "code",
   "execution_count": 22,
   "metadata": {},
   "outputs": [
    {
     "data": {
      "text/html": [
       "<div>\n",
       "<style scoped>\n",
       "    .dataframe tbody tr th:only-of-type {\n",
       "        vertical-align: middle;\n",
       "    }\n",
       "\n",
       "    .dataframe tbody tr th {\n",
       "        vertical-align: top;\n",
       "    }\n",
       "\n",
       "    .dataframe thead th {\n",
       "        text-align: right;\n",
       "    }\n",
       "</style>\n",
       "<table border=\"1\" class=\"dataframe\">\n",
       "  <thead>\n",
       "    <tr style=\"text-align: right;\">\n",
       "      <th></th>\n",
       "      <th>children</th>\n",
       "      <th>days_employed</th>\n",
       "      <th>age</th>\n",
       "      <th>education_id</th>\n",
       "      <th>family_status_id</th>\n",
       "      <th>debt</th>\n",
       "      <th>monthly_income</th>\n",
       "    </tr>\n",
       "  </thead>\n",
       "  <tbody>\n",
       "    <tr>\n",
       "      <td>count</td>\n",
       "      <td>21525.000000</td>\n",
       "      <td>21525.000000</td>\n",
       "      <td>21525.000000</td>\n",
       "      <td>21525.000000</td>\n",
       "      <td>21525.000000</td>\n",
       "      <td>21525.000000</td>\n",
       "      <td>2.152500e+04</td>\n",
       "    </tr>\n",
       "    <tr>\n",
       "      <td>mean</td>\n",
       "      <td>0.538908</td>\n",
       "      <td>67299.486032</td>\n",
       "      <td>43.293380</td>\n",
       "      <td>0.817236</td>\n",
       "      <td>0.972544</td>\n",
       "      <td>0.080883</td>\n",
       "      <td>1.652253e+05</td>\n",
       "    </tr>\n",
       "    <tr>\n",
       "      <td>std</td>\n",
       "      <td>1.381587</td>\n",
       "      <td>139401.804684</td>\n",
       "      <td>12.574584</td>\n",
       "      <td>0.548138</td>\n",
       "      <td>1.420324</td>\n",
       "      <td>0.272661</td>\n",
       "      <td>9.804367e+04</td>\n",
       "    </tr>\n",
       "    <tr>\n",
       "      <td>min</td>\n",
       "      <td>-1.000000</td>\n",
       "      <td>24.141633</td>\n",
       "      <td>0.000000</td>\n",
       "      <td>0.000000</td>\n",
       "      <td>0.000000</td>\n",
       "      <td>0.000000</td>\n",
       "      <td>2.066726e+04</td>\n",
       "    </tr>\n",
       "    <tr>\n",
       "      <td>25%</td>\n",
       "      <td>0.000000</td>\n",
       "      <td>1025.549623</td>\n",
       "      <td>33.000000</td>\n",
       "      <td>1.000000</td>\n",
       "      <td>0.000000</td>\n",
       "      <td>0.000000</td>\n",
       "      <td>1.077982e+05</td>\n",
       "    </tr>\n",
       "    <tr>\n",
       "      <td>50%</td>\n",
       "      <td>0.000000</td>\n",
       "      <td>1993.522017</td>\n",
       "      <td>42.000000</td>\n",
       "      <td>1.000000</td>\n",
       "      <td>0.000000</td>\n",
       "      <td>0.000000</td>\n",
       "      <td>1.425944e+05</td>\n",
       "    </tr>\n",
       "    <tr>\n",
       "      <td>75%</td>\n",
       "      <td>1.000000</td>\n",
       "      <td>5347.024506</td>\n",
       "      <td>53.000000</td>\n",
       "      <td>1.000000</td>\n",
       "      <td>1.000000</td>\n",
       "      <td>0.000000</td>\n",
       "      <td>1.955499e+05</td>\n",
       "    </tr>\n",
       "    <tr>\n",
       "      <td>max</td>\n",
       "      <td>20.000000</td>\n",
       "      <td>401755.400475</td>\n",
       "      <td>75.000000</td>\n",
       "      <td>4.000000</td>\n",
       "      <td>4.000000</td>\n",
       "      <td>1.000000</td>\n",
       "      <td>2.265604e+06</td>\n",
       "    </tr>\n",
       "  </tbody>\n",
       "</table>\n",
       "</div>"
      ],
      "text/plain": [
       "           children  days_employed           age  education_id  \\\n",
       "count  21525.000000   21525.000000  21525.000000  21525.000000   \n",
       "mean       0.538908   67299.486032     43.293380      0.817236   \n",
       "std        1.381587  139401.804684     12.574584      0.548138   \n",
       "min       -1.000000      24.141633      0.000000      0.000000   \n",
       "25%        0.000000    1025.549623     33.000000      1.000000   \n",
       "50%        0.000000    1993.522017     42.000000      1.000000   \n",
       "75%        1.000000    5347.024506     53.000000      1.000000   \n",
       "max       20.000000  401755.400475     75.000000      4.000000   \n",
       "\n",
       "       family_status_id          debt  monthly_income  \n",
       "count      21525.000000  21525.000000    2.152500e+04  \n",
       "mean           0.972544      0.080883    1.652253e+05  \n",
       "std            1.420324      0.272661    9.804367e+04  \n",
       "min            0.000000      0.000000    2.066726e+04  \n",
       "25%            0.000000      0.000000    1.077982e+05  \n",
       "50%            0.000000      0.000000    1.425944e+05  \n",
       "75%            1.000000      0.000000    1.955499e+05  \n",
       "max            4.000000      1.000000    2.265604e+06  "
      ]
     },
     "execution_count": 22,
     "metadata": {},
     "output_type": "execute_result"
    }
   ],
   "source": [
    "clients.describe()"
   ]
  },
  {
   "cell_type": "code",
   "execution_count": 23,
   "metadata": {},
   "outputs": [
    {
     "data": {
      "text/plain": [
       "children            0\n",
       "days_employed       0\n",
       "age                 0\n",
       "education           0\n",
       "education_id        0\n",
       "family_status       0\n",
       "family_status_id    0\n",
       "gender              0\n",
       "type                0\n",
       "debt                0\n",
       "monthly_income      0\n",
       "purpose             0\n",
       "dtype: int64"
      ]
     },
     "execution_count": 23,
     "metadata": {},
     "output_type": "execute_result"
    }
   ],
   "source": [
    "clients.isnull().sum()"
   ]
  },
  {
   "cell_type": "markdown",
   "metadata": {},
   "source": [
    "Итак, пропущенные значения все заменены медианными."
   ]
  },
  {
   "cell_type": "markdown",
   "metadata": {},
   "source": [
    "Далее приведем к нижнему регистру значения в некоторых столбцах."
   ]
  },
  {
   "cell_type": "code",
   "execution_count": 24,
   "metadata": {},
   "outputs": [
    {
     "data": {
      "text/plain": [
       "array(['высшее', 'среднее', 'Среднее', 'СРЕДНЕЕ', 'ВЫСШЕЕ',\n",
       "       'неоконченное высшее', 'начальное', 'Высшее',\n",
       "       'НЕОКОНЧЕННОЕ ВЫСШЕЕ', 'Неоконченное высшее', 'НАЧАЛЬНОЕ',\n",
       "       'Начальное', 'Ученая степень', 'УЧЕНАЯ СТЕПЕНЬ', 'ученая степень'],\n",
       "      dtype=object)"
      ]
     },
     "execution_count": 24,
     "metadata": {},
     "output_type": "execute_result"
    }
   ],
   "source": [
    "clients['education'].unique()"
   ]
  },
  {
   "cell_type": "code",
   "execution_count": 25,
   "metadata": {},
   "outputs": [],
   "source": [
    "clients['education'] = clients['education'].str.lower()"
   ]
  },
  {
   "cell_type": "code",
   "execution_count": 26,
   "metadata": {},
   "outputs": [
    {
     "data": {
      "text/plain": [
       "array(['высшее', 'среднее', 'неоконченное высшее', 'начальное',\n",
       "       'ученая степень'], dtype=object)"
      ]
     },
     "execution_count": 26,
     "metadata": {},
     "output_type": "execute_result"
    }
   ],
   "source": [
    "clients['education'].unique()"
   ]
  },
  {
   "cell_type": "code",
   "execution_count": 27,
   "metadata": {},
   "outputs": [
    {
     "data": {
      "text/plain": [
       "array(['женат / замужем', 'гражданский брак', 'вдовец / вдова',\n",
       "       'в разводе', 'Не женат / не замужем'], dtype=object)"
      ]
     },
     "execution_count": 27,
     "metadata": {},
     "output_type": "execute_result"
    }
   ],
   "source": [
    "clients['family_status'].unique()"
   ]
  },
  {
   "cell_type": "code",
   "execution_count": 28,
   "metadata": {},
   "outputs": [],
   "source": [
    "clients['family_status'] = clients['family_status'].str.lower()"
   ]
  },
  {
   "cell_type": "code",
   "execution_count": 29,
   "metadata": {},
   "outputs": [
    {
     "data": {
      "text/plain": [
       "array(['женат / замужем', 'гражданский брак', 'вдовец / вдова',\n",
       "       'в разводе', 'не женат / не замужем'], dtype=object)"
      ]
     },
     "execution_count": 29,
     "metadata": {},
     "output_type": "execute_result"
    }
   ],
   "source": [
    "clients['family_status'].unique()"
   ]
  },
  {
   "cell_type": "markdown",
   "metadata": {},
   "source": [
    "Дальше рассмотрим аномальные значения в столбце с количеством детей."
   ]
  },
  {
   "cell_type": "code",
   "execution_count": 30,
   "metadata": {},
   "outputs": [
    {
     "data": {
      "text/plain": [
       "array([ 1,  0,  3,  2, -1,  4, 20,  5])"
      ]
     },
     "execution_count": 30,
     "metadata": {},
     "output_type": "execute_result"
    }
   ],
   "source": [
    "clients['children'].unique()"
   ]
  },
  {
   "cell_type": "code",
   "execution_count": 31,
   "metadata": {},
   "outputs": [
    {
     "data": {
      "text/plain": [
       " 0     14149\n",
       " 1      4818\n",
       " 2      2055\n",
       " 3       330\n",
       " 20       76\n",
       "-1        47\n",
       " 4        41\n",
       " 5         9\n",
       "Name: children, dtype: int64"
      ]
     },
     "execution_count": 31,
     "metadata": {},
     "output_type": "execute_result"
    }
   ],
   "source": [
    "clients['children'].value_counts()"
   ]
  },
  {
   "cell_type": "markdown",
   "metadata": {},
   "source": [
    "Заменим значение \"-1\" на \"1\", предположив, что это либо опечатка, либо данные хванились в другом источнике отрицательном виде."
   ]
  },
  {
   "cell_type": "code",
   "execution_count": 32,
   "metadata": {},
   "outputs": [],
   "source": [
    "clients['children'] = clients['children'].replace(-1, 1)"
   ]
  },
  {
   "cell_type": "markdown",
   "metadata": {},
   "source": [
    "Значение \"20\" могло также появиться в следствие опечатки, например, планировалось ввести значение \"2\" или \"0\". Поэтому заменим на среднее значение \"1\""
   ]
  },
  {
   "cell_type": "code",
   "execution_count": 33,
   "metadata": {},
   "outputs": [],
   "source": [
    "clients['children'] = clients['children'].replace(20, 1)"
   ]
  },
  {
   "cell_type": "markdown",
   "metadata": {},
   "source": [
    "Проверим результат."
   ]
  },
  {
   "cell_type": "code",
   "execution_count": 34,
   "metadata": {},
   "outputs": [
    {
     "data": {
      "text/plain": [
       "0    14149\n",
       "1     4941\n",
       "2     2055\n",
       "3      330\n",
       "4       41\n",
       "5        9\n",
       "Name: children, dtype: int64"
      ]
     },
     "execution_count": 34,
     "metadata": {},
     "output_type": "execute_result"
    }
   ],
   "source": [
    "clients['children'].value_counts()"
   ]
  },
  {
   "cell_type": "markdown",
   "metadata": {},
   "source": [
    "Проверим столбец с данными о поле клиентов."
   ]
  },
  {
   "cell_type": "code",
   "execution_count": 35,
   "metadata": {},
   "outputs": [
    {
     "data": {
      "text/plain": [
       "array(['F', 'M', 'XNA'], dtype=object)"
      ]
     },
     "execution_count": 35,
     "metadata": {},
     "output_type": "execute_result"
    }
   ],
   "source": [
    "clients['gender'].unique()"
   ]
  },
  {
   "cell_type": "code",
   "execution_count": 36,
   "metadata": {},
   "outputs": [
    {
     "data": {
      "text/plain": [
       "F      14236\n",
       "M       7288\n",
       "XNA        1\n",
       "Name: gender, dtype: int64"
      ]
     },
     "execution_count": 36,
     "metadata": {},
     "output_type": "execute_result"
    }
   ],
   "source": [
    "clients['gender'].value_counts()"
   ]
  },
  {
   "cell_type": "markdown",
   "metadata": {},
   "source": [
    "Вывод: есть одно непонятное значение XNA, возможно имелось в виду NA, т.е. это пропущенное значение."
   ]
  },
  {
   "cell_type": "markdown",
   "metadata": {},
   "source": [
    "Далее проверим данные в столбце \"возраст\"."
   ]
  },
  {
   "cell_type": "code",
   "execution_count": 37,
   "metadata": {},
   "outputs": [
    {
     "data": {
      "text/plain": [
       "count    21525.000000\n",
       "mean        43.293380\n",
       "std         12.574584\n",
       "min          0.000000\n",
       "25%         33.000000\n",
       "50%         42.000000\n",
       "75%         53.000000\n",
       "max         75.000000\n",
       "Name: age, dtype: float64"
      ]
     },
     "execution_count": 37,
     "metadata": {},
     "output_type": "execute_result"
    }
   ],
   "source": [
    "clients['age'].describe()"
   ]
  },
  {
   "cell_type": "markdown",
   "metadata": {},
   "source": [
    "Минимальное значение возраста равно нулю (у 101 клиента), что является аномальным значением. Предлагается заменить эти данные на средний возраст по типу занятости."
   ]
  },
  {
   "cell_type": "code",
   "execution_count": 38,
   "metadata": {},
   "outputs": [
    {
     "data": {
      "text/html": [
       "<div>\n",
       "<style scoped>\n",
       "    .dataframe tbody tr th:only-of-type {\n",
       "        vertical-align: middle;\n",
       "    }\n",
       "\n",
       "    .dataframe tbody tr th {\n",
       "        vertical-align: top;\n",
       "    }\n",
       "\n",
       "    .dataframe thead th {\n",
       "        text-align: right;\n",
       "    }\n",
       "</style>\n",
       "<table border=\"1\" class=\"dataframe\">\n",
       "  <thead>\n",
       "    <tr style=\"text-align: right;\">\n",
       "      <th></th>\n",
       "      <th>children</th>\n",
       "      <th>days_employed</th>\n",
       "      <th>age</th>\n",
       "      <th>education</th>\n",
       "      <th>education_id</th>\n",
       "      <th>family_status</th>\n",
       "      <th>family_status_id</th>\n",
       "      <th>gender</th>\n",
       "      <th>type</th>\n",
       "      <th>debt</th>\n",
       "      <th>monthly_income</th>\n",
       "      <th>purpose</th>\n",
       "    </tr>\n",
       "  </thead>\n",
       "  <tbody>\n",
       "    <tr>\n",
       "      <td>99</td>\n",
       "      <td>0</td>\n",
       "      <td>346541.618895</td>\n",
       "      <td>0</td>\n",
       "      <td>среднее</td>\n",
       "      <td>1</td>\n",
       "      <td>женат / замужем</td>\n",
       "      <td>0</td>\n",
       "      <td>F</td>\n",
       "      <td>пенсионер</td>\n",
       "      <td>0</td>\n",
       "      <td>71291.522491</td>\n",
       "      <td>автомобиль</td>\n",
       "    </tr>\n",
       "    <tr>\n",
       "      <td>149</td>\n",
       "      <td>0</td>\n",
       "      <td>2664.273168</td>\n",
       "      <td>0</td>\n",
       "      <td>среднее</td>\n",
       "      <td>1</td>\n",
       "      <td>в разводе</td>\n",
       "      <td>3</td>\n",
       "      <td>F</td>\n",
       "      <td>сотрудник</td>\n",
       "      <td>0</td>\n",
       "      <td>70176.435951</td>\n",
       "      <td>операции с жильем</td>\n",
       "    </tr>\n",
       "    <tr>\n",
       "      <td>270</td>\n",
       "      <td>3</td>\n",
       "      <td>1872.663186</td>\n",
       "      <td>0</td>\n",
       "      <td>среднее</td>\n",
       "      <td>1</td>\n",
       "      <td>женат / замужем</td>\n",
       "      <td>0</td>\n",
       "      <td>F</td>\n",
       "      <td>сотрудник</td>\n",
       "      <td>0</td>\n",
       "      <td>102166.458894</td>\n",
       "      <td>ремонт жилью</td>\n",
       "    </tr>\n",
       "    <tr>\n",
       "      <td>578</td>\n",
       "      <td>0</td>\n",
       "      <td>397856.565013</td>\n",
       "      <td>0</td>\n",
       "      <td>среднее</td>\n",
       "      <td>1</td>\n",
       "      <td>женат / замужем</td>\n",
       "      <td>0</td>\n",
       "      <td>F</td>\n",
       "      <td>пенсионер</td>\n",
       "      <td>0</td>\n",
       "      <td>97620.687042</td>\n",
       "      <td>строительство собственной недвижимости</td>\n",
       "    </tr>\n",
       "    <tr>\n",
       "      <td>1040</td>\n",
       "      <td>0</td>\n",
       "      <td>1158.029561</td>\n",
       "      <td>0</td>\n",
       "      <td>высшее</td>\n",
       "      <td>0</td>\n",
       "      <td>в разводе</td>\n",
       "      <td>3</td>\n",
       "      <td>F</td>\n",
       "      <td>компаньон</td>\n",
       "      <td>0</td>\n",
       "      <td>303994.134987</td>\n",
       "      <td>свой автомобиль</td>\n",
       "    </tr>\n",
       "    <tr>\n",
       "      <td>...</td>\n",
       "      <td>...</td>\n",
       "      <td>...</td>\n",
       "      <td>...</td>\n",
       "      <td>...</td>\n",
       "      <td>...</td>\n",
       "      <td>...</td>\n",
       "      <td>...</td>\n",
       "      <td>...</td>\n",
       "      <td>...</td>\n",
       "      <td>...</td>\n",
       "      <td>...</td>\n",
       "      <td>...</td>\n",
       "    </tr>\n",
       "    <tr>\n",
       "      <td>19829</td>\n",
       "      <td>0</td>\n",
       "      <td>1574.202821</td>\n",
       "      <td>0</td>\n",
       "      <td>среднее</td>\n",
       "      <td>1</td>\n",
       "      <td>женат / замужем</td>\n",
       "      <td>0</td>\n",
       "      <td>F</td>\n",
       "      <td>сотрудник</td>\n",
       "      <td>0</td>\n",
       "      <td>142594.396847</td>\n",
       "      <td>жилье</td>\n",
       "    </tr>\n",
       "    <tr>\n",
       "      <td>20462</td>\n",
       "      <td>0</td>\n",
       "      <td>338734.868540</td>\n",
       "      <td>0</td>\n",
       "      <td>среднее</td>\n",
       "      <td>1</td>\n",
       "      <td>женат / замужем</td>\n",
       "      <td>0</td>\n",
       "      <td>F</td>\n",
       "      <td>пенсионер</td>\n",
       "      <td>0</td>\n",
       "      <td>259193.920299</td>\n",
       "      <td>покупка своего жилья</td>\n",
       "    </tr>\n",
       "    <tr>\n",
       "      <td>20577</td>\n",
       "      <td>0</td>\n",
       "      <td>331741.271455</td>\n",
       "      <td>0</td>\n",
       "      <td>среднее</td>\n",
       "      <td>1</td>\n",
       "      <td>не женат / не замужем</td>\n",
       "      <td>4</td>\n",
       "      <td>F</td>\n",
       "      <td>пенсионер</td>\n",
       "      <td>0</td>\n",
       "      <td>129788.762899</td>\n",
       "      <td>недвижимость</td>\n",
       "    </tr>\n",
       "    <tr>\n",
       "      <td>21179</td>\n",
       "      <td>2</td>\n",
       "      <td>108.967042</td>\n",
       "      <td>0</td>\n",
       "      <td>высшее</td>\n",
       "      <td>0</td>\n",
       "      <td>женат / замужем</td>\n",
       "      <td>0</td>\n",
       "      <td>M</td>\n",
       "      <td>компаньон</td>\n",
       "      <td>0</td>\n",
       "      <td>240702.007382</td>\n",
       "      <td>строительство жилой недвижимости</td>\n",
       "    </tr>\n",
       "    <tr>\n",
       "      <td>21313</td>\n",
       "      <td>0</td>\n",
       "      <td>1268.487728</td>\n",
       "      <td>0</td>\n",
       "      <td>среднее</td>\n",
       "      <td>1</td>\n",
       "      <td>не женат / не замужем</td>\n",
       "      <td>4</td>\n",
       "      <td>M</td>\n",
       "      <td>сотрудник</td>\n",
       "      <td>0</td>\n",
       "      <td>152419.184851</td>\n",
       "      <td>операции с жильем</td>\n",
       "    </tr>\n",
       "  </tbody>\n",
       "</table>\n",
       "<p>101 rows × 12 columns</p>\n",
       "</div>"
      ],
      "text/plain": [
       "       children  days_employed  age education  education_id  \\\n",
       "99            0  346541.618895    0   среднее             1   \n",
       "149           0    2664.273168    0   среднее             1   \n",
       "270           3    1872.663186    0   среднее             1   \n",
       "578           0  397856.565013    0   среднее             1   \n",
       "1040          0    1158.029561    0    высшее             0   \n",
       "...         ...            ...  ...       ...           ...   \n",
       "19829         0    1574.202821    0   среднее             1   \n",
       "20462         0  338734.868540    0   среднее             1   \n",
       "20577         0  331741.271455    0   среднее             1   \n",
       "21179         2     108.967042    0    высшее             0   \n",
       "21313         0    1268.487728    0   среднее             1   \n",
       "\n",
       "               family_status  family_status_id gender       type  debt  \\\n",
       "99           женат / замужем                 0      F  пенсионер     0   \n",
       "149                в разводе                 3      F  сотрудник     0   \n",
       "270          женат / замужем                 0      F  сотрудник     0   \n",
       "578          женат / замужем                 0      F  пенсионер     0   \n",
       "1040               в разводе                 3      F  компаньон     0   \n",
       "...                      ...               ...    ...        ...   ...   \n",
       "19829        женат / замужем                 0      F  сотрудник     0   \n",
       "20462        женат / замужем                 0      F  пенсионер     0   \n",
       "20577  не женат / не замужем                 4      F  пенсионер     0   \n",
       "21179        женат / замужем                 0      M  компаньон     0   \n",
       "21313  не женат / не замужем                 4      M  сотрудник     0   \n",
       "\n",
       "       monthly_income                                 purpose  \n",
       "99       71291.522491                              автомобиль  \n",
       "149      70176.435951                       операции с жильем  \n",
       "270     102166.458894                            ремонт жилью  \n",
       "578      97620.687042  строительство собственной недвижимости  \n",
       "1040    303994.134987                         свой автомобиль  \n",
       "...               ...                                     ...  \n",
       "19829   142594.396847                                   жилье  \n",
       "20462   259193.920299                    покупка своего жилья  \n",
       "20577   129788.762899                            недвижимость  \n",
       "21179   240702.007382        строительство жилой недвижимости  \n",
       "21313   152419.184851                       операции с жильем  \n",
       "\n",
       "[101 rows x 12 columns]"
      ]
     },
     "execution_count": 38,
     "metadata": {},
     "output_type": "execute_result"
    }
   ],
   "source": [
    "clients[clients['age'] == 0]"
   ]
  },
  {
   "cell_type": "code",
   "execution_count": 39,
   "metadata": {},
   "outputs": [],
   "source": [
    "medians_age = clients.groupby('type')['age'].median()"
   ]
  },
  {
   "cell_type": "code",
   "execution_count": 40,
   "metadata": {},
   "outputs": [
    {
     "data": {
      "text/plain": [
       "type\n",
       "безработный        38.0\n",
       "в декрете          39.0\n",
       "госслужащий        40.0\n",
       "компаньон          39.0\n",
       "пенсионер          60.0\n",
       "предприниматель    42.0\n",
       "сотрудник          39.0\n",
       "студент            22.0\n",
       "Name: age, dtype: float64"
      ]
     },
     "execution_count": 40,
     "metadata": {},
     "output_type": "execute_result"
    }
   ],
   "source": [
    "round(medians_age)"
   ]
  },
  {
   "cell_type": "code",
   "execution_count": 41,
   "metadata": {},
   "outputs": [],
   "source": [
    "clients.loc[(clients['age'] == 0) & (clients['type'] == 'госслужащий'), 'age'] = medians_age[2]\n",
    "clients.loc[(clients['age'] == 0) & (clients['type'] == 'компаньон'), 'age'] = medians_age[3]\n",
    "clients.loc[(clients['age'] == 0) & (clients['type'] == 'пенсионер'), 'age'] = medians_age[4]\n",
    "clients.loc[(clients['age'] == 0) & (clients['type'] == 'предприниматель'), 'age'] = medians_age[5]\n",
    "clients.loc[(clients['age'] == 0) & (clients['type'] == 'сотрудник'), 'age'] = medians_age[6]"
   ]
  },
  {
   "cell_type": "markdown",
   "metadata": {},
   "source": [
    "Проверим, как произошла замена."
   ]
  },
  {
   "cell_type": "code",
   "execution_count": 42,
   "metadata": {},
   "outputs": [
    {
     "data": {
      "text/plain": [
       "count    21525.000000\n",
       "mean        43.496167\n",
       "std         12.231538\n",
       "min         19.000000\n",
       "25%         34.000000\n",
       "50%         43.000000\n",
       "75%         53.000000\n",
       "max         75.000000\n",
       "Name: age, dtype: float64"
      ]
     },
     "execution_count": 42,
     "metadata": {},
     "output_type": "execute_result"
    }
   ],
   "source": [
    "clients['age'].describe()"
   ]
  },
  {
   "cell_type": "markdown",
   "metadata": {},
   "source": [
    "Теперь минимальный возраст клиента, обратившегося за кредитом, составляет 19 лет, что выглядит правдоподобным."
   ]
  },
  {
   "cell_type": "markdown",
   "metadata": {},
   "source": [
    "**Вывод**\n",
    "В этом разделе были заменены пропущенные значения в столбцах стаж, ежемесячный доход. Также данные в столбце \"образование\" приведены к единому регистру. Найдено странное значение в столбце \"пол\"."
   ]
  },
  {
   "cell_type": "markdown",
   "metadata": {},
   "source": [
    "### Замена типа данных"
   ]
  },
  {
   "cell_type": "markdown",
   "metadata": {},
   "source": [
    "Еще раз проверим тип данных в столбцах."
   ]
  },
  {
   "cell_type": "code",
   "execution_count": 43,
   "metadata": {},
   "outputs": [
    {
     "data": {
      "text/plain": [
       "children              int64\n",
       "days_employed       float64\n",
       "age                 float64\n",
       "education            object\n",
       "education_id          int64\n",
       "family_status        object\n",
       "family_status_id      int64\n",
       "gender               object\n",
       "type                 object\n",
       "debt                  int64\n",
       "monthly_income      float64\n",
       "purpose              object\n",
       "dtype: object"
      ]
     },
     "execution_count": 43,
     "metadata": {},
     "output_type": "execute_result"
    }
   ],
   "source": [
    "clients.dtypes"
   ]
  },
  {
   "cell_type": "markdown",
   "metadata": {},
   "source": [
    "Столбцы days_employed, monthly_income являются float типом, для сокращения излишней детализации приведем эти данные к типу int."
   ]
  },
  {
   "cell_type": "code",
   "execution_count": 44,
   "metadata": {},
   "outputs": [],
   "source": [
    "clients['days_employed'] = clients['days_employed'].astype('int')"
   ]
  },
  {
   "cell_type": "code",
   "execution_count": 45,
   "metadata": {},
   "outputs": [],
   "source": [
    "clients['monthly_income'] = clients['monthly_income'].astype('int')"
   ]
  },
  {
   "cell_type": "code",
   "execution_count": 46,
   "metadata": {},
   "outputs": [
    {
     "data": {
      "text/plain": [
       "children              int64\n",
       "days_employed         int64\n",
       "age                 float64\n",
       "education            object\n",
       "education_id          int64\n",
       "family_status        object\n",
       "family_status_id      int64\n",
       "gender               object\n",
       "type                 object\n",
       "debt                  int64\n",
       "monthly_income        int64\n",
       "purpose              object\n",
       "dtype: object"
      ]
     },
     "execution_count": 46,
     "metadata": {},
     "output_type": "execute_result"
    }
   ],
   "source": [
    "clients.dtypes"
   ]
  },
  {
   "cell_type": "markdown",
   "metadata": {},
   "source": [
    "**Вывод**\n",
    "\n",
    "Тип данных в столбцах days_employed, monthly_income был изменен с float на int для удаления излишней детализации и более удобных расчетов в анализе. Был применен метод astype(), который может изменить тип данных в том числе на int. Метод to_numeric() может изменять тип на float, поэтому он не был использован."
   ]
  },
  {
   "cell_type": "markdown",
   "metadata": {},
   "source": [
    "### Обработка дубликатов"
   ]
  },
  {
   "cell_type": "markdown",
   "metadata": {},
   "source": [
    "Проверим количество дубликатов в датасете."
   ]
  },
  {
   "cell_type": "code",
   "execution_count": 47,
   "metadata": {},
   "outputs": [
    {
     "data": {
      "text/plain": [
       "71"
      ]
     },
     "execution_count": 47,
     "metadata": {},
     "output_type": "execute_result"
    }
   ],
   "source": [
    "clients.duplicated().sum()"
   ]
  },
  {
   "cell_type": "code",
   "execution_count": 48,
   "metadata": {},
   "outputs": [
    {
     "data": {
      "text/html": [
       "<div>\n",
       "<style scoped>\n",
       "    .dataframe tbody tr th:only-of-type {\n",
       "        vertical-align: middle;\n",
       "    }\n",
       "\n",
       "    .dataframe tbody tr th {\n",
       "        vertical-align: top;\n",
       "    }\n",
       "\n",
       "    .dataframe thead th {\n",
       "        text-align: right;\n",
       "    }\n",
       "</style>\n",
       "<table border=\"1\" class=\"dataframe\">\n",
       "  <thead>\n",
       "    <tr style=\"text-align: right;\">\n",
       "      <th></th>\n",
       "      <th>children</th>\n",
       "      <th>days_employed</th>\n",
       "      <th>age</th>\n",
       "      <th>education</th>\n",
       "      <th>education_id</th>\n",
       "      <th>family_status</th>\n",
       "      <th>family_status_id</th>\n",
       "      <th>gender</th>\n",
       "      <th>type</th>\n",
       "      <th>debt</th>\n",
       "      <th>monthly_income</th>\n",
       "      <th>purpose</th>\n",
       "    </tr>\n",
       "  </thead>\n",
       "  <tbody>\n",
       "    <tr>\n",
       "      <td>1005</td>\n",
       "      <td>0</td>\n",
       "      <td>365213</td>\n",
       "      <td>62.0</td>\n",
       "      <td>среднее</td>\n",
       "      <td>1</td>\n",
       "      <td>женат / замужем</td>\n",
       "      <td>0</td>\n",
       "      <td>F</td>\n",
       "      <td>пенсионер</td>\n",
       "      <td>0</td>\n",
       "      <td>118514</td>\n",
       "      <td>ремонт жилью</td>\n",
       "    </tr>\n",
       "    <tr>\n",
       "      <td>1191</td>\n",
       "      <td>0</td>\n",
       "      <td>365213</td>\n",
       "      <td>61.0</td>\n",
       "      <td>среднее</td>\n",
       "      <td>1</td>\n",
       "      <td>женат / замужем</td>\n",
       "      <td>0</td>\n",
       "      <td>F</td>\n",
       "      <td>пенсионер</td>\n",
       "      <td>0</td>\n",
       "      <td>118514</td>\n",
       "      <td>операции с недвижимостью</td>\n",
       "    </tr>\n",
       "    <tr>\n",
       "      <td>1511</td>\n",
       "      <td>0</td>\n",
       "      <td>365213</td>\n",
       "      <td>58.0</td>\n",
       "      <td>высшее</td>\n",
       "      <td>0</td>\n",
       "      <td>не женат / не замужем</td>\n",
       "      <td>4</td>\n",
       "      <td>F</td>\n",
       "      <td>пенсионер</td>\n",
       "      <td>0</td>\n",
       "      <td>118514</td>\n",
       "      <td>дополнительное образование</td>\n",
       "    </tr>\n",
       "    <tr>\n",
       "      <td>1681</td>\n",
       "      <td>0</td>\n",
       "      <td>365213</td>\n",
       "      <td>57.0</td>\n",
       "      <td>среднее</td>\n",
       "      <td>1</td>\n",
       "      <td>гражданский брак</td>\n",
       "      <td>1</td>\n",
       "      <td>F</td>\n",
       "      <td>пенсионер</td>\n",
       "      <td>0</td>\n",
       "      <td>118514</td>\n",
       "      <td>на проведение свадьбы</td>\n",
       "    </tr>\n",
       "    <tr>\n",
       "      <td>2052</td>\n",
       "      <td>0</td>\n",
       "      <td>365213</td>\n",
       "      <td>58.0</td>\n",
       "      <td>среднее</td>\n",
       "      <td>1</td>\n",
       "      <td>гражданский брак</td>\n",
       "      <td>1</td>\n",
       "      <td>F</td>\n",
       "      <td>пенсионер</td>\n",
       "      <td>0</td>\n",
       "      <td>118514</td>\n",
       "      <td>сыграть свадьбу</td>\n",
       "    </tr>\n",
       "    <tr>\n",
       "      <td>...</td>\n",
       "      <td>...</td>\n",
       "      <td>...</td>\n",
       "      <td>...</td>\n",
       "      <td>...</td>\n",
       "      <td>...</td>\n",
       "      <td>...</td>\n",
       "      <td>...</td>\n",
       "      <td>...</td>\n",
       "      <td>...</td>\n",
       "      <td>...</td>\n",
       "      <td>...</td>\n",
       "      <td>...</td>\n",
       "    </tr>\n",
       "    <tr>\n",
       "      <td>16148</td>\n",
       "      <td>0</td>\n",
       "      <td>1547</td>\n",
       "      <td>45.0</td>\n",
       "      <td>среднее</td>\n",
       "      <td>1</td>\n",
       "      <td>гражданский брак</td>\n",
       "      <td>1</td>\n",
       "      <td>F</td>\n",
       "      <td>компаньон</td>\n",
       "      <td>0</td>\n",
       "      <td>172357</td>\n",
       "      <td>свадьба</td>\n",
       "    </tr>\n",
       "    <tr>\n",
       "      <td>17379</td>\n",
       "      <td>0</td>\n",
       "      <td>1547</td>\n",
       "      <td>54.0</td>\n",
       "      <td>высшее</td>\n",
       "      <td>0</td>\n",
       "      <td>женат / замужем</td>\n",
       "      <td>0</td>\n",
       "      <td>M</td>\n",
       "      <td>компаньон</td>\n",
       "      <td>0</td>\n",
       "      <td>172357</td>\n",
       "      <td>операции с коммерческой недвижимостью</td>\n",
       "    </tr>\n",
       "    <tr>\n",
       "      <td>17774</td>\n",
       "      <td>1</td>\n",
       "      <td>1547</td>\n",
       "      <td>40.0</td>\n",
       "      <td>среднее</td>\n",
       "      <td>1</td>\n",
       "      <td>гражданский брак</td>\n",
       "      <td>1</td>\n",
       "      <td>F</td>\n",
       "      <td>компаньон</td>\n",
       "      <td>0</td>\n",
       "      <td>172357</td>\n",
       "      <td>строительство жилой недвижимости</td>\n",
       "    </tr>\n",
       "    <tr>\n",
       "      <td>19369</td>\n",
       "      <td>0</td>\n",
       "      <td>1547</td>\n",
       "      <td>45.0</td>\n",
       "      <td>среднее</td>\n",
       "      <td>1</td>\n",
       "      <td>гражданский брак</td>\n",
       "      <td>1</td>\n",
       "      <td>F</td>\n",
       "      <td>компаньон</td>\n",
       "      <td>0</td>\n",
       "      <td>172357</td>\n",
       "      <td>свадьба</td>\n",
       "    </tr>\n",
       "    <tr>\n",
       "      <td>19387</td>\n",
       "      <td>0</td>\n",
       "      <td>1547</td>\n",
       "      <td>38.0</td>\n",
       "      <td>высшее</td>\n",
       "      <td>0</td>\n",
       "      <td>гражданский брак</td>\n",
       "      <td>1</td>\n",
       "      <td>F</td>\n",
       "      <td>компаньон</td>\n",
       "      <td>0</td>\n",
       "      <td>172357</td>\n",
       "      <td>на проведение свадьбы</td>\n",
       "    </tr>\n",
       "  </tbody>\n",
       "</table>\n",
       "<p>137 rows × 12 columns</p>\n",
       "</div>"
      ],
      "text/plain": [
       "       children  days_employed   age education  education_id  \\\n",
       "1005          0         365213  62.0   среднее             1   \n",
       "1191          0         365213  61.0   среднее             1   \n",
       "1511          0         365213  58.0    высшее             0   \n",
       "1681          0         365213  57.0   среднее             1   \n",
       "2052          0         365213  58.0   среднее             1   \n",
       "...         ...            ...   ...       ...           ...   \n",
       "16148         0           1547  45.0   среднее             1   \n",
       "17379         0           1547  54.0    высшее             0   \n",
       "17774         1           1547  40.0   среднее             1   \n",
       "19369         0           1547  45.0   среднее             1   \n",
       "19387         0           1547  38.0    высшее             0   \n",
       "\n",
       "               family_status  family_status_id gender       type  debt  \\\n",
       "1005         женат / замужем                 0      F  пенсионер     0   \n",
       "1191         женат / замужем                 0      F  пенсионер     0   \n",
       "1511   не женат / не замужем                 4      F  пенсионер     0   \n",
       "1681        гражданский брак                 1      F  пенсионер     0   \n",
       "2052        гражданский брак                 1      F  пенсионер     0   \n",
       "...                      ...               ...    ...        ...   ...   \n",
       "16148       гражданский брак                 1      F  компаньон     0   \n",
       "17379        женат / замужем                 0      M  компаньон     0   \n",
       "17774       гражданский брак                 1      F  компаньон     0   \n",
       "19369       гражданский брак                 1      F  компаньон     0   \n",
       "19387       гражданский брак                 1      F  компаньон     0   \n",
       "\n",
       "       monthly_income                                purpose  \n",
       "1005           118514                           ремонт жилью  \n",
       "1191           118514               операции с недвижимостью  \n",
       "1511           118514             дополнительное образование  \n",
       "1681           118514                  на проведение свадьбы  \n",
       "2052           118514                        сыграть свадьбу  \n",
       "...               ...                                    ...  \n",
       "16148          172357                                свадьба  \n",
       "17379          172357  операции с коммерческой недвижимостью  \n",
       "17774          172357       строительство жилой недвижимости  \n",
       "19369          172357                                свадьба  \n",
       "19387          172357                  на проведение свадьбы  \n",
       "\n",
       "[137 rows x 12 columns]"
      ]
     },
     "execution_count": 48,
     "metadata": {},
     "output_type": "execute_result"
    }
   ],
   "source": [
    "clients[clients.duplicated(keep=False)].sort_values(by=['monthly_income', 'days_employed'])"
   ]
  },
  {
   "cell_type": "markdown",
   "metadata": {},
   "source": [
    "Данные действительно выглядят как дубликаты, их появление возможно в результате задвоения. Удалим дубликаты."
   ]
  },
  {
   "cell_type": "code",
   "execution_count": 49,
   "metadata": {},
   "outputs": [],
   "source": [
    "clients = clients.drop_duplicates()"
   ]
  },
  {
   "cell_type": "code",
   "execution_count": 50,
   "metadata": {},
   "outputs": [
    {
     "data": {
      "text/plain": [
       "0"
      ]
     },
     "execution_count": 50,
     "metadata": {},
     "output_type": "execute_result"
    }
   ],
   "source": [
    "clients.duplicated().sum()"
   ]
  },
  {
   "cell_type": "markdown",
   "metadata": {},
   "source": [
    "**Вывод**"
   ]
  },
  {
   "cell_type": "markdown",
   "metadata": {},
   "source": [
    "В этом разделе было найдено 71 шт. дубликатов, которые были удалены из датасета. Был использован метод drop_duplicates(), который позволяет удалить точные дубликаты данных."
   ]
  },
  {
   "cell_type": "markdown",
   "metadata": {},
   "source": [
    "### Лемматизация"
   ]
  },
  {
   "cell_type": "markdown",
   "metadata": {},
   "source": [
    "Столбец \"purpose\" в датасете содержит сведения о цели кредита, многие строки содержат одинаковые леммы, но разные формулировки, что усложняет анализ данных и затрудняет категоризацию. Поэтому проведем лемматизацию."
   ]
  },
  {
   "cell_type": "markdown",
   "metadata": {},
   "source": [
    "Создадим список с уникальными значениями в столбце purpose."
   ]
  },
  {
   "cell_type": "code",
   "execution_count": 51,
   "metadata": {},
   "outputs": [],
   "source": [
    "unique_purposes = clients['purpose'].value_counts().index.tolist()"
   ]
  },
  {
   "cell_type": "markdown",
   "metadata": {},
   "source": [
    "Создадим фрейм с уникальными значениями данных столбца purpose и количество употреблений."
   ]
  },
  {
   "cell_type": "code",
   "execution_count": 52,
   "metadata": {},
   "outputs": [
    {
     "data": {
      "text/html": [
       "<div>\n",
       "<style scoped>\n",
       "    .dataframe tbody tr th:only-of-type {\n",
       "        vertical-align: middle;\n",
       "    }\n",
       "\n",
       "    .dataframe tbody tr th {\n",
       "        vertical-align: top;\n",
       "    }\n",
       "\n",
       "    .dataframe thead th {\n",
       "        text-align: right;\n",
       "    }\n",
       "</style>\n",
       "<table border=\"1\" class=\"dataframe\">\n",
       "  <thead>\n",
       "    <tr style=\"text-align: right;\">\n",
       "      <th></th>\n",
       "      <th>purpose</th>\n",
       "    </tr>\n",
       "  </thead>\n",
       "  <tbody>\n",
       "    <tr>\n",
       "      <td>свадьба</td>\n",
       "      <td>791</td>\n",
       "    </tr>\n",
       "    <tr>\n",
       "      <td>на проведение свадьбы</td>\n",
       "      <td>768</td>\n",
       "    </tr>\n",
       "    <tr>\n",
       "      <td>сыграть свадьбу</td>\n",
       "      <td>765</td>\n",
       "    </tr>\n",
       "    <tr>\n",
       "      <td>операции с недвижимостью</td>\n",
       "      <td>675</td>\n",
       "    </tr>\n",
       "    <tr>\n",
       "      <td>покупка коммерческой недвижимости</td>\n",
       "      <td>661</td>\n",
       "    </tr>\n",
       "    <tr>\n",
       "      <td>операции с жильем</td>\n",
       "      <td>652</td>\n",
       "    </tr>\n",
       "    <tr>\n",
       "      <td>покупка жилья для сдачи</td>\n",
       "      <td>651</td>\n",
       "    </tr>\n",
       "    <tr>\n",
       "      <td>операции с коммерческой недвижимостью</td>\n",
       "      <td>650</td>\n",
       "    </tr>\n",
       "    <tr>\n",
       "      <td>жилье</td>\n",
       "      <td>646</td>\n",
       "    </tr>\n",
       "    <tr>\n",
       "      <td>покупка жилья</td>\n",
       "      <td>646</td>\n",
       "    </tr>\n",
       "    <tr>\n",
       "      <td>покупка жилья для семьи</td>\n",
       "      <td>638</td>\n",
       "    </tr>\n",
       "    <tr>\n",
       "      <td>строительство собственной недвижимости</td>\n",
       "      <td>635</td>\n",
       "    </tr>\n",
       "    <tr>\n",
       "      <td>недвижимость</td>\n",
       "      <td>633</td>\n",
       "    </tr>\n",
       "    <tr>\n",
       "      <td>операции со своей недвижимостью</td>\n",
       "      <td>627</td>\n",
       "    </tr>\n",
       "    <tr>\n",
       "      <td>строительство жилой недвижимости</td>\n",
       "      <td>624</td>\n",
       "    </tr>\n",
       "    <tr>\n",
       "      <td>покупка недвижимости</td>\n",
       "      <td>621</td>\n",
       "    </tr>\n",
       "    <tr>\n",
       "      <td>покупка своего жилья</td>\n",
       "      <td>620</td>\n",
       "    </tr>\n",
       "    <tr>\n",
       "      <td>строительство недвижимости</td>\n",
       "      <td>619</td>\n",
       "    </tr>\n",
       "    <tr>\n",
       "      <td>ремонт жилью</td>\n",
       "      <td>607</td>\n",
       "    </tr>\n",
       "    <tr>\n",
       "      <td>покупка жилой недвижимости</td>\n",
       "      <td>606</td>\n",
       "    </tr>\n",
       "    <tr>\n",
       "      <td>на покупку своего автомобиля</td>\n",
       "      <td>505</td>\n",
       "    </tr>\n",
       "    <tr>\n",
       "      <td>заняться высшим образованием</td>\n",
       "      <td>496</td>\n",
       "    </tr>\n",
       "    <tr>\n",
       "      <td>автомобиль</td>\n",
       "      <td>494</td>\n",
       "    </tr>\n",
       "    <tr>\n",
       "      <td>сделка с подержанным автомобилем</td>\n",
       "      <td>486</td>\n",
       "    </tr>\n",
       "    <tr>\n",
       "      <td>на покупку подержанного автомобиля</td>\n",
       "      <td>478</td>\n",
       "    </tr>\n",
       "    <tr>\n",
       "      <td>свой автомобиль</td>\n",
       "      <td>478</td>\n",
       "    </tr>\n",
       "    <tr>\n",
       "      <td>автомобили</td>\n",
       "      <td>478</td>\n",
       "    </tr>\n",
       "    <tr>\n",
       "      <td>на покупку автомобиля</td>\n",
       "      <td>471</td>\n",
       "    </tr>\n",
       "    <tr>\n",
       "      <td>приобретение автомобиля</td>\n",
       "      <td>461</td>\n",
       "    </tr>\n",
       "    <tr>\n",
       "      <td>дополнительное образование</td>\n",
       "      <td>460</td>\n",
       "    </tr>\n",
       "    <tr>\n",
       "      <td>сделка с автомобилем</td>\n",
       "      <td>455</td>\n",
       "    </tr>\n",
       "    <tr>\n",
       "      <td>высшее образование</td>\n",
       "      <td>452</td>\n",
       "    </tr>\n",
       "    <tr>\n",
       "      <td>образование</td>\n",
       "      <td>447</td>\n",
       "    </tr>\n",
       "    <tr>\n",
       "      <td>получение дополнительного образования</td>\n",
       "      <td>446</td>\n",
       "    </tr>\n",
       "    <tr>\n",
       "      <td>получение образования</td>\n",
       "      <td>442</td>\n",
       "    </tr>\n",
       "    <tr>\n",
       "      <td>профильное образование</td>\n",
       "      <td>436</td>\n",
       "    </tr>\n",
       "    <tr>\n",
       "      <td>получение высшего образования</td>\n",
       "      <td>426</td>\n",
       "    </tr>\n",
       "    <tr>\n",
       "      <td>заняться образованием</td>\n",
       "      <td>408</td>\n",
       "    </tr>\n",
       "  </tbody>\n",
       "</table>\n",
       "</div>"
      ],
      "text/plain": [
       "                                        purpose\n",
       "свадьба                                     791\n",
       "на проведение свадьбы                       768\n",
       "сыграть свадьбу                             765\n",
       "операции с недвижимостью                    675\n",
       "покупка коммерческой недвижимости           661\n",
       "операции с жильем                           652\n",
       "покупка жилья для сдачи                     651\n",
       "операции с коммерческой недвижимостью       650\n",
       "жилье                                       646\n",
       "покупка жилья                               646\n",
       "покупка жилья для семьи                     638\n",
       "строительство собственной недвижимости      635\n",
       "недвижимость                                633\n",
       "операции со своей недвижимостью             627\n",
       "строительство жилой недвижимости            624\n",
       "покупка недвижимости                        621\n",
       "покупка своего жилья                        620\n",
       "строительство недвижимости                  619\n",
       "ремонт жилью                                607\n",
       "покупка жилой недвижимости                  606\n",
       "на покупку своего автомобиля                505\n",
       "заняться высшим образованием                496\n",
       "автомобиль                                  494\n",
       "сделка с подержанным автомобилем            486\n",
       "на покупку подержанного автомобиля          478\n",
       "свой автомобиль                             478\n",
       "автомобили                                  478\n",
       "на покупку автомобиля                       471\n",
       "приобретение автомобиля                     461\n",
       "дополнительное образование                  460\n",
       "сделка с автомобилем                        455\n",
       "высшее образование                          452\n",
       "образование                                 447\n",
       "получение дополнительного образования       446\n",
       "получение образования                       442\n",
       "профильное образование                      436\n",
       "получение высшего образования               426\n",
       "заняться образованием                       408"
      ]
     },
     "execution_count": 52,
     "metadata": {},
     "output_type": "execute_result"
    }
   ],
   "source": [
    "clients['purpose'].value_counts().to_frame()"
   ]
  },
  {
   "cell_type": "markdown",
   "metadata": {},
   "source": [
    "Предварительный анализ показывает, что многие цели совпадают (отличаются лищь формулировки), данные можно свести в более укрупненые группы по целям, например, \"образование\", \"автомобиль\", \"свадьба\", \"недвижимость\" и т.д."
   ]
  },
  {
   "cell_type": "markdown",
   "metadata": {},
   "source": [
    "С помощью специальной библиотеки лемматизируем список значений столбца purpose."
   ]
  },
  {
   "cell_type": "code",
   "execution_count": 53,
   "metadata": {},
   "outputs": [
    {
     "data": {
      "text/plain": [
       "[(' ', 33570),\n",
       " ('\\n', 21454),\n",
       " ('недвижимость', 6351),\n",
       " ('покупка', 5897),\n",
       " ('жилье', 4460),\n",
       " ('автомобиль', 4306),\n",
       " ('образование', 4013),\n",
       " ('с', 2918),\n",
       " ('операция', 2604),\n",
       " ('свадьба', 2324),\n",
       " ('свой', 2230),\n",
       " ('на', 2222),\n",
       " ('строительство', 1878),\n",
       " ('высокий', 1374),\n",
       " ('получение', 1314),\n",
       " ('коммерческий', 1311),\n",
       " ('для', 1289),\n",
       " ('жилой', 1230),\n",
       " ('сделка', 941),\n",
       " ('дополнительный', 906),\n",
       " ('заниматься', 904),\n",
       " ('проведение', 768),\n",
       " ('сыграть', 765),\n",
       " ('сдача', 651),\n",
       " ('семья', 638),\n",
       " ('собственный', 635),\n",
       " ('со', 627),\n",
       " ('ремонт', 607),\n",
       " ('подержанный', 486),\n",
       " ('подержать', 478),\n",
       " ('приобретение', 461),\n",
       " ('профильный', 436)]"
      ]
     },
     "execution_count": 53,
     "metadata": {},
     "output_type": "execute_result"
    }
   ],
   "source": [
    "m = Mystem()\n",
    "list_of_lemmas = []\n",
    "for element in clients['purpose']:\n",
    "    lemma = m.lemmatize(element)\n",
    "    list_of_lemmas.extend(lemma)\n",
    "    \n",
    "unique_lemmas = Counter(list_of_lemmas)\n",
    "sorted(unique_lemmas.items(), key = lambda pair: pair[1], reverse=True)"
   ]
  },
  {
   "cell_type": "markdown",
   "metadata": {},
   "source": [
    "Для создания финального списка отбросим пробелы, предлоги, специальные символы, оставим слова длиной больше 4 букв. Рассмотрим самые популярные восемь лемм."
   ]
  },
  {
   "cell_type": "code",
   "execution_count": 54,
   "metadata": {},
   "outputs": [
    {
     "name": "stdout",
     "output_type": "stream",
     "text": [
      "['недвижимость', 'покупка', 'жилье', 'автомобиль', 'образование', 'операция', 'свадьба', 'строительство', 'высокий', 'получение']\n"
     ]
    }
   ],
   "source": [
    "final_list_of_purposes = [k for k in sorted(unique_lemmas, key=unique_lemmas.get, reverse=True)\n",
    "                          if len(k) > 4 if k != ' ' if k != '\\n'][0:10]\n",
    "print(final_list_of_purposes)"
   ]
  },
  {
   "cell_type": "markdown",
   "metadata": {},
   "source": [
    "В полученном списке некоторые слова являются лишними, такие как \"операция\" (относится к жилью), \"строительство\" (относится к жилью), \"получение\" (относится к образованию\"), \"покупка\" (слишком общая формулировка), \"высокий\""
   ]
  },
  {
   "cell_type": "code",
   "execution_count": 55,
   "metadata": {},
   "outputs": [],
   "source": [
    "final_list_of_purposes.remove('получение') \n",
    "final_list_of_purposes.remove('покупка') \n",
    "final_list_of_purposes.remove('строительство')\n",
    "final_list_of_purposes.remove('операция')\n",
    "final_list_of_purposes.remove('высокий')"
   ]
  },
  {
   "cell_type": "code",
   "execution_count": 56,
   "metadata": {},
   "outputs": [
    {
     "data": {
      "text/plain": [
       "['недвижимость', 'жилье', 'автомобиль', 'образование', 'свадьба']"
      ]
     },
     "execution_count": 56,
     "metadata": {},
     "output_type": "execute_result"
    }
   ],
   "source": [
    "final_list_of_purposes"
   ]
  },
  {
   "cell_type": "markdown",
   "metadata": {},
   "source": [
    "**Вывод**"
   ]
  },
  {
   "cell_type": "markdown",
   "metadata": {},
   "source": [
    "Итак, в результате лемматизации был составлен список лемм, по которому будем проводить категоризацию данных."
   ]
  },
  {
   "cell_type": "markdown",
   "metadata": {},
   "source": [
    "### Категоризация данных"
   ]
  },
  {
   "cell_type": "markdown",
   "metadata": {},
   "source": [
    "В этом разделе создадим категории для значений столбца purpose, объединив похожие цели в общую категорию. Напишем функцию, которая ищет слова в специально созданном списке final_list_of_purposes. Далее создадим столбец purpose_group, который будет содержать одну из пяти возможных категорий из списка."
   ]
  },
  {
   "cell_type": "code",
   "execution_count": 90,
   "metadata": {},
   "outputs": [],
   "source": [
    "def lemmatize(text):\n",
    "    lemma = m.lemmatize(text)\n",
    "    for word in final_list_of_purposes:\n",
    "        if word in lemma:\n",
    "            return word\n",
    "    return 'другое'\n",
    "\n",
    "clients['purpose_group'] = clients['purpose'].apply(lemmatize)"
   ]
  },
  {
   "cell_type": "code",
   "execution_count": 91,
   "metadata": {},
   "outputs": [
    {
     "data": {
      "text/html": [
       "<div>\n",
       "<style scoped>\n",
       "    .dataframe tbody tr th:only-of-type {\n",
       "        vertical-align: middle;\n",
       "    }\n",
       "\n",
       "    .dataframe tbody tr th {\n",
       "        vertical-align: top;\n",
       "    }\n",
       "\n",
       "    .dataframe thead th {\n",
       "        text-align: right;\n",
       "    }\n",
       "</style>\n",
       "<table border=\"1\" class=\"dataframe\">\n",
       "  <thead>\n",
       "    <tr style=\"text-align: right;\">\n",
       "      <th></th>\n",
       "      <th>children</th>\n",
       "      <th>days_employed</th>\n",
       "      <th>age</th>\n",
       "      <th>education</th>\n",
       "      <th>education_id</th>\n",
       "      <th>family_status</th>\n",
       "      <th>family_status_id</th>\n",
       "      <th>gender</th>\n",
       "      <th>type</th>\n",
       "      <th>debt</th>\n",
       "      <th>monthly_income</th>\n",
       "      <th>purpose</th>\n",
       "      <th>purpose_group</th>\n",
       "      <th>children_group</th>\n",
       "      <th>income_group</th>\n",
       "    </tr>\n",
       "  </thead>\n",
       "  <tbody>\n",
       "    <tr>\n",
       "      <td>0</td>\n",
       "      <td>1</td>\n",
       "      <td>8437</td>\n",
       "      <td>42.0</td>\n",
       "      <td>высшее</td>\n",
       "      <td>0</td>\n",
       "      <td>женат / замужем</td>\n",
       "      <td>0</td>\n",
       "      <td>F</td>\n",
       "      <td>сотрудник</td>\n",
       "      <td>0</td>\n",
       "      <td>253875</td>\n",
       "      <td>покупка жилья</td>\n",
       "      <td>жилье</td>\n",
       "      <td>имеющий 1-2 ребенка</td>\n",
       "      <td>очень высокий доход</td>\n",
       "    </tr>\n",
       "    <tr>\n",
       "      <td>1</td>\n",
       "      <td>1</td>\n",
       "      <td>4024</td>\n",
       "      <td>36.0</td>\n",
       "      <td>среднее</td>\n",
       "      <td>1</td>\n",
       "      <td>женат / замужем</td>\n",
       "      <td>0</td>\n",
       "      <td>F</td>\n",
       "      <td>сотрудник</td>\n",
       "      <td>0</td>\n",
       "      <td>112080</td>\n",
       "      <td>приобретение автомобиля</td>\n",
       "      <td>автомобиль</td>\n",
       "      <td>имеющий 1-2 ребенка</td>\n",
       "      <td>средний доход</td>\n",
       "    </tr>\n",
       "    <tr>\n",
       "      <td>2</td>\n",
       "      <td>0</td>\n",
       "      <td>5623</td>\n",
       "      <td>33.0</td>\n",
       "      <td>среднее</td>\n",
       "      <td>1</td>\n",
       "      <td>женат / замужем</td>\n",
       "      <td>0</td>\n",
       "      <td>M</td>\n",
       "      <td>сотрудник</td>\n",
       "      <td>0</td>\n",
       "      <td>145885</td>\n",
       "      <td>покупка жилья</td>\n",
       "      <td>жилье</td>\n",
       "      <td>нет детей</td>\n",
       "      <td>высокий доход</td>\n",
       "    </tr>\n",
       "    <tr>\n",
       "      <td>3</td>\n",
       "      <td>3</td>\n",
       "      <td>4124</td>\n",
       "      <td>32.0</td>\n",
       "      <td>среднее</td>\n",
       "      <td>1</td>\n",
       "      <td>женат / замужем</td>\n",
       "      <td>0</td>\n",
       "      <td>M</td>\n",
       "      <td>сотрудник</td>\n",
       "      <td>0</td>\n",
       "      <td>267628</td>\n",
       "      <td>дополнительное образование</td>\n",
       "      <td>образование</td>\n",
       "      <td>многодетный</td>\n",
       "      <td>очень высокий доход</td>\n",
       "    </tr>\n",
       "    <tr>\n",
       "      <td>4</td>\n",
       "      <td>0</td>\n",
       "      <td>340266</td>\n",
       "      <td>53.0</td>\n",
       "      <td>среднее</td>\n",
       "      <td>1</td>\n",
       "      <td>гражданский брак</td>\n",
       "      <td>1</td>\n",
       "      <td>F</td>\n",
       "      <td>пенсионер</td>\n",
       "      <td>0</td>\n",
       "      <td>158616</td>\n",
       "      <td>сыграть свадьбу</td>\n",
       "      <td>свадьба</td>\n",
       "      <td>нет детей</td>\n",
       "      <td>высокий доход</td>\n",
       "    </tr>\n",
       "    <tr>\n",
       "      <td>5</td>\n",
       "      <td>0</td>\n",
       "      <td>926</td>\n",
       "      <td>27.0</td>\n",
       "      <td>высшее</td>\n",
       "      <td>0</td>\n",
       "      <td>гражданский брак</td>\n",
       "      <td>1</td>\n",
       "      <td>M</td>\n",
       "      <td>компаньон</td>\n",
       "      <td>0</td>\n",
       "      <td>255763</td>\n",
       "      <td>покупка жилья</td>\n",
       "      <td>жилье</td>\n",
       "      <td>нет детей</td>\n",
       "      <td>очень высокий доход</td>\n",
       "    </tr>\n",
       "    <tr>\n",
       "      <td>6</td>\n",
       "      <td>0</td>\n",
       "      <td>2879</td>\n",
       "      <td>43.0</td>\n",
       "      <td>высшее</td>\n",
       "      <td>0</td>\n",
       "      <td>женат / замужем</td>\n",
       "      <td>0</td>\n",
       "      <td>F</td>\n",
       "      <td>компаньон</td>\n",
       "      <td>0</td>\n",
       "      <td>240525</td>\n",
       "      <td>операции с жильем</td>\n",
       "      <td>жилье</td>\n",
       "      <td>нет детей</td>\n",
       "      <td>очень высокий доход</td>\n",
       "    </tr>\n",
       "    <tr>\n",
       "      <td>7</td>\n",
       "      <td>0</td>\n",
       "      <td>152</td>\n",
       "      <td>50.0</td>\n",
       "      <td>среднее</td>\n",
       "      <td>1</td>\n",
       "      <td>женат / замужем</td>\n",
       "      <td>0</td>\n",
       "      <td>M</td>\n",
       "      <td>сотрудник</td>\n",
       "      <td>0</td>\n",
       "      <td>135823</td>\n",
       "      <td>образование</td>\n",
       "      <td>образование</td>\n",
       "      <td>нет детей</td>\n",
       "      <td>средний доход</td>\n",
       "    </tr>\n",
       "    <tr>\n",
       "      <td>8</td>\n",
       "      <td>2</td>\n",
       "      <td>6929</td>\n",
       "      <td>35.0</td>\n",
       "      <td>высшее</td>\n",
       "      <td>0</td>\n",
       "      <td>гражданский брак</td>\n",
       "      <td>1</td>\n",
       "      <td>F</td>\n",
       "      <td>сотрудник</td>\n",
       "      <td>0</td>\n",
       "      <td>95856</td>\n",
       "      <td>на проведение свадьбы</td>\n",
       "      <td>свадьба</td>\n",
       "      <td>имеющий 1-2 ребенка</td>\n",
       "      <td>низкий доход</td>\n",
       "    </tr>\n",
       "    <tr>\n",
       "      <td>9</td>\n",
       "      <td>0</td>\n",
       "      <td>2188</td>\n",
       "      <td>41.0</td>\n",
       "      <td>среднее</td>\n",
       "      <td>1</td>\n",
       "      <td>женат / замужем</td>\n",
       "      <td>0</td>\n",
       "      <td>M</td>\n",
       "      <td>сотрудник</td>\n",
       "      <td>0</td>\n",
       "      <td>144425</td>\n",
       "      <td>покупка жилья для семьи</td>\n",
       "      <td>жилье</td>\n",
       "      <td>нет детей</td>\n",
       "      <td>высокий доход</td>\n",
       "    </tr>\n",
       "    <tr>\n",
       "      <td>10</td>\n",
       "      <td>2</td>\n",
       "      <td>4171</td>\n",
       "      <td>36.0</td>\n",
       "      <td>высшее</td>\n",
       "      <td>0</td>\n",
       "      <td>женат / замужем</td>\n",
       "      <td>0</td>\n",
       "      <td>M</td>\n",
       "      <td>компаньон</td>\n",
       "      <td>0</td>\n",
       "      <td>113943</td>\n",
       "      <td>покупка недвижимости</td>\n",
       "      <td>недвижимость</td>\n",
       "      <td>имеющий 1-2 ребенка</td>\n",
       "      <td>средний доход</td>\n",
       "    </tr>\n",
       "    <tr>\n",
       "      <td>11</td>\n",
       "      <td>0</td>\n",
       "      <td>792</td>\n",
       "      <td>40.0</td>\n",
       "      <td>среднее</td>\n",
       "      <td>1</td>\n",
       "      <td>женат / замужем</td>\n",
       "      <td>0</td>\n",
       "      <td>F</td>\n",
       "      <td>сотрудник</td>\n",
       "      <td>0</td>\n",
       "      <td>77069</td>\n",
       "      <td>покупка коммерческой недвижимости</td>\n",
       "      <td>недвижимость</td>\n",
       "      <td>нет детей</td>\n",
       "      <td>низкий доход</td>\n",
       "    </tr>\n",
       "    <tr>\n",
       "      <td>12</td>\n",
       "      <td>0</td>\n",
       "      <td>365213</td>\n",
       "      <td>65.0</td>\n",
       "      <td>среднее</td>\n",
       "      <td>1</td>\n",
       "      <td>гражданский брак</td>\n",
       "      <td>1</td>\n",
       "      <td>M</td>\n",
       "      <td>пенсионер</td>\n",
       "      <td>0</td>\n",
       "      <td>118514</td>\n",
       "      <td>сыграть свадьбу</td>\n",
       "      <td>свадьба</td>\n",
       "      <td>нет детей</td>\n",
       "      <td>средний доход</td>\n",
       "    </tr>\n",
       "    <tr>\n",
       "      <td>13</td>\n",
       "      <td>0</td>\n",
       "      <td>1846</td>\n",
       "      <td>54.0</td>\n",
       "      <td>неоконченное высшее</td>\n",
       "      <td>2</td>\n",
       "      <td>женат / замужем</td>\n",
       "      <td>0</td>\n",
       "      <td>F</td>\n",
       "      <td>сотрудник</td>\n",
       "      <td>0</td>\n",
       "      <td>130458</td>\n",
       "      <td>приобретение автомобиля</td>\n",
       "      <td>автомобиль</td>\n",
       "      <td>нет детей</td>\n",
       "      <td>средний доход</td>\n",
       "    </tr>\n",
       "    <tr>\n",
       "      <td>14</td>\n",
       "      <td>0</td>\n",
       "      <td>1844</td>\n",
       "      <td>56.0</td>\n",
       "      <td>высшее</td>\n",
       "      <td>0</td>\n",
       "      <td>гражданский брак</td>\n",
       "      <td>1</td>\n",
       "      <td>F</td>\n",
       "      <td>компаньон</td>\n",
       "      <td>1</td>\n",
       "      <td>165127</td>\n",
       "      <td>покупка жилой недвижимости</td>\n",
       "      <td>недвижимость</td>\n",
       "      <td>нет детей</td>\n",
       "      <td>высокий доход</td>\n",
       "    </tr>\n",
       "  </tbody>\n",
       "</table>\n",
       "</div>"
      ],
      "text/plain": [
       "    children  days_employed   age            education  education_id  \\\n",
       "0          1           8437  42.0               высшее             0   \n",
       "1          1           4024  36.0              среднее             1   \n",
       "2          0           5623  33.0              среднее             1   \n",
       "3          3           4124  32.0              среднее             1   \n",
       "4          0         340266  53.0              среднее             1   \n",
       "5          0            926  27.0               высшее             0   \n",
       "6          0           2879  43.0               высшее             0   \n",
       "7          0            152  50.0              среднее             1   \n",
       "8          2           6929  35.0               высшее             0   \n",
       "9          0           2188  41.0              среднее             1   \n",
       "10         2           4171  36.0               высшее             0   \n",
       "11         0            792  40.0              среднее             1   \n",
       "12         0         365213  65.0              среднее             1   \n",
       "13         0           1846  54.0  неоконченное высшее             2   \n",
       "14         0           1844  56.0               высшее             0   \n",
       "\n",
       "       family_status  family_status_id gender       type  debt  \\\n",
       "0    женат / замужем                 0      F  сотрудник     0   \n",
       "1    женат / замужем                 0      F  сотрудник     0   \n",
       "2    женат / замужем                 0      M  сотрудник     0   \n",
       "3    женат / замужем                 0      M  сотрудник     0   \n",
       "4   гражданский брак                 1      F  пенсионер     0   \n",
       "5   гражданский брак                 1      M  компаньон     0   \n",
       "6    женат / замужем                 0      F  компаньон     0   \n",
       "7    женат / замужем                 0      M  сотрудник     0   \n",
       "8   гражданский брак                 1      F  сотрудник     0   \n",
       "9    женат / замужем                 0      M  сотрудник     0   \n",
       "10   женат / замужем                 0      M  компаньон     0   \n",
       "11   женат / замужем                 0      F  сотрудник     0   \n",
       "12  гражданский брак                 1      M  пенсионер     0   \n",
       "13   женат / замужем                 0      F  сотрудник     0   \n",
       "14  гражданский брак                 1      F  компаньон     1   \n",
       "\n",
       "    monthly_income                            purpose purpose_group  \\\n",
       "0           253875                      покупка жилья         жилье   \n",
       "1           112080            приобретение автомобиля    автомобиль   \n",
       "2           145885                      покупка жилья         жилье   \n",
       "3           267628         дополнительное образование   образование   \n",
       "4           158616                    сыграть свадьбу       свадьба   \n",
       "5           255763                      покупка жилья         жилье   \n",
       "6           240525                  операции с жильем         жилье   \n",
       "7           135823                        образование   образование   \n",
       "8            95856              на проведение свадьбы       свадьба   \n",
       "9           144425            покупка жилья для семьи         жилье   \n",
       "10          113943               покупка недвижимости  недвижимость   \n",
       "11           77069  покупка коммерческой недвижимости  недвижимость   \n",
       "12          118514                    сыграть свадьбу       свадьба   \n",
       "13          130458            приобретение автомобиля    автомобиль   \n",
       "14          165127         покупка жилой недвижимости  недвижимость   \n",
       "\n",
       "         children_group         income_group  \n",
       "0   имеющий 1-2 ребенка  очень высокий доход  \n",
       "1   имеющий 1-2 ребенка        средний доход  \n",
       "2             нет детей        высокий доход  \n",
       "3           многодетный  очень высокий доход  \n",
       "4             нет детей        высокий доход  \n",
       "5             нет детей  очень высокий доход  \n",
       "6             нет детей  очень высокий доход  \n",
       "7             нет детей        средний доход  \n",
       "8   имеющий 1-2 ребенка         низкий доход  \n",
       "9             нет детей        высокий доход  \n",
       "10  имеющий 1-2 ребенка        средний доход  \n",
       "11            нет детей         низкий доход  \n",
       "12            нет детей        средний доход  \n",
       "13            нет детей        средний доход  \n",
       "14            нет детей        высокий доход  "
      ]
     },
     "execution_count": 91,
     "metadata": {},
     "output_type": "execute_result"
    }
   ],
   "source": [
    "clients.head(15)"
   ]
  },
  {
   "cell_type": "code",
   "execution_count": 92,
   "metadata": {},
   "outputs": [
    {
     "data": {
      "text/plain": [
       "недвижимость    6351\n",
       "жилье           4460\n",
       "автомобиль      4306\n",
       "образование     4013\n",
       "свадьба         2324\n",
       "Name: purpose_group, dtype: int64"
      ]
     },
     "execution_count": 92,
     "metadata": {},
     "output_type": "execute_result"
    }
   ],
   "source": [
    "clients['purpose_group'].value_counts()"
   ]
  },
  {
   "cell_type": "markdown",
   "metadata": {},
   "source": [
    "Был создан новый столбец в таблице, который содержит категорию цели кредита (всего пять категорий)."
   ]
  },
  {
   "cell_type": "markdown",
   "metadata": {},
   "source": [
    "Далее проверим, совпадают ли пары в столбцах образование / индикатор образования."
   ]
  },
  {
   "cell_type": "code",
   "execution_count": 60,
   "metadata": {},
   "outputs": [
    {
     "data": {
      "text/html": [
       "<div>\n",
       "<style scoped>\n",
       "    .dataframe tbody tr th:only-of-type {\n",
       "        vertical-align: middle;\n",
       "    }\n",
       "\n",
       "    .dataframe tbody tr th {\n",
       "        vertical-align: top;\n",
       "    }\n",
       "\n",
       "    .dataframe thead th {\n",
       "        text-align: right;\n",
       "    }\n",
       "</style>\n",
       "<table border=\"1\" class=\"dataframe\">\n",
       "  <thead>\n",
       "    <tr style=\"text-align: right;\">\n",
       "      <th></th>\n",
       "      <th>education</th>\n",
       "      <th>education_id</th>\n",
       "      <th>count</th>\n",
       "    </tr>\n",
       "  </thead>\n",
       "  <tbody>\n",
       "    <tr>\n",
       "      <td>0</td>\n",
       "      <td>высшее</td>\n",
       "      <td>0</td>\n",
       "      <td>5250</td>\n",
       "    </tr>\n",
       "    <tr>\n",
       "      <td>1</td>\n",
       "      <td>начальное</td>\n",
       "      <td>3</td>\n",
       "      <td>282</td>\n",
       "    </tr>\n",
       "    <tr>\n",
       "      <td>2</td>\n",
       "      <td>неоконченное высшее</td>\n",
       "      <td>2</td>\n",
       "      <td>744</td>\n",
       "    </tr>\n",
       "    <tr>\n",
       "      <td>3</td>\n",
       "      <td>среднее</td>\n",
       "      <td>1</td>\n",
       "      <td>15172</td>\n",
       "    </tr>\n",
       "    <tr>\n",
       "      <td>4</td>\n",
       "      <td>ученая степень</td>\n",
       "      <td>4</td>\n",
       "      <td>6</td>\n",
       "    </tr>\n",
       "  </tbody>\n",
       "</table>\n",
       "</div>"
      ],
      "text/plain": [
       "             education  education_id  count\n",
       "0               высшее             0   5250\n",
       "1            начальное             3    282\n",
       "2  неоконченное высшее             2    744\n",
       "3              среднее             1  15172\n",
       "4       ученая степень             4      6"
      ]
     },
     "execution_count": 60,
     "metadata": {},
     "output_type": "execute_result"
    }
   ],
   "source": [
    "clients.groupby(['education', 'education_id']).size().to_frame('count').reset_index()"
   ]
  },
  {
   "cell_type": "markdown",
   "metadata": {},
   "source": [
    "Можно сделать вывод, что пары уникальны, распределение в столбцах 'education', 'education_id' корректное."
   ]
  },
  {
   "cell_type": "markdown",
   "metadata": {},
   "source": [
    "Теперь проделаем ту же работу со столбцами семейное положение и идентификатор семейного положения."
   ]
  },
  {
   "cell_type": "code",
   "execution_count": 61,
   "metadata": {},
   "outputs": [
    {
     "data": {
      "text/html": [
       "<div>\n",
       "<style scoped>\n",
       "    .dataframe tbody tr th:only-of-type {\n",
       "        vertical-align: middle;\n",
       "    }\n",
       "\n",
       "    .dataframe tbody tr th {\n",
       "        vertical-align: top;\n",
       "    }\n",
       "\n",
       "    .dataframe thead th {\n",
       "        text-align: right;\n",
       "    }\n",
       "</style>\n",
       "<table border=\"1\" class=\"dataframe\">\n",
       "  <thead>\n",
       "    <tr style=\"text-align: right;\">\n",
       "      <th></th>\n",
       "      <th>family_status</th>\n",
       "      <th>family_status_id</th>\n",
       "      <th>count</th>\n",
       "    </tr>\n",
       "  </thead>\n",
       "  <tbody>\n",
       "    <tr>\n",
       "      <td>0</td>\n",
       "      <td>в разводе</td>\n",
       "      <td>3</td>\n",
       "      <td>1195</td>\n",
       "    </tr>\n",
       "    <tr>\n",
       "      <td>1</td>\n",
       "      <td>вдовец / вдова</td>\n",
       "      <td>2</td>\n",
       "      <td>959</td>\n",
       "    </tr>\n",
       "    <tr>\n",
       "      <td>2</td>\n",
       "      <td>гражданский брак</td>\n",
       "      <td>1</td>\n",
       "      <td>4151</td>\n",
       "    </tr>\n",
       "    <tr>\n",
       "      <td>3</td>\n",
       "      <td>женат / замужем</td>\n",
       "      <td>0</td>\n",
       "      <td>12339</td>\n",
       "    </tr>\n",
       "    <tr>\n",
       "      <td>4</td>\n",
       "      <td>не женат / не замужем</td>\n",
       "      <td>4</td>\n",
       "      <td>2810</td>\n",
       "    </tr>\n",
       "  </tbody>\n",
       "</table>\n",
       "</div>"
      ],
      "text/plain": [
       "           family_status  family_status_id  count\n",
       "0              в разводе                 3   1195\n",
       "1         вдовец / вдова                 2    959\n",
       "2       гражданский брак                 1   4151\n",
       "3        женат / замужем                 0  12339\n",
       "4  не женат / не замужем                 4   2810"
      ]
     },
     "execution_count": 61,
     "metadata": {},
     "output_type": "execute_result"
    }
   ],
   "source": [
    "clients.groupby(['family_status', 'family_status_id']).size().to_frame('count').reset_index()"
   ]
  },
  {
   "cell_type": "markdown",
   "metadata": {},
   "source": [
    "Такой же вывод для столбцов family_status', 'family_status_id' - совоставление семейного положения и идентификатора корректно."
   ]
  },
  {
   "cell_type": "markdown",
   "metadata": {},
   "source": [
    "Проведем категоризацию данных по количеству детей. В датасете есть значения от 0 до 5 детей, создадим три группы:\n",
    " * бездетные\n",
    " * имеющие 1-2 ребенка\n",
    " * многодетные (3 и больше детей)"
   ]
  },
  {
   "cell_type": "code",
   "execution_count": 62,
   "metadata": {},
   "outputs": [
    {
     "data": {
      "text/plain": [
       "0    14091\n",
       "1     4931\n",
       "2     2052\n",
       "3      330\n",
       "4       41\n",
       "5        9\n",
       "Name: children, dtype: int64"
      ]
     },
     "execution_count": 62,
     "metadata": {},
     "output_type": "execute_result"
    }
   ],
   "source": [
    "clients['children'].value_counts()"
   ]
  },
  {
   "cell_type": "code",
   "execution_count": 63,
   "metadata": {},
   "outputs": [],
   "source": [
    "def number_of_children_group(row):\n",
    "    if row['children'] == 0:\n",
    "        return 'нет детей'\n",
    "    elif row['children'] == 1 or row['children'] == 2:\n",
    "        return 'имеющий 1-2 ребенка'\n",
    "    else:\n",
    "        return 'многодетный'"
   ]
  },
  {
   "cell_type": "code",
   "execution_count": 64,
   "metadata": {},
   "outputs": [],
   "source": [
    "clients['children_group'] = clients.apply(number_of_children_group, axis=1)"
   ]
  },
  {
   "cell_type": "markdown",
   "metadata": {},
   "source": [
    "Разделим на категории также данные по ежемесячному доходу. Так как мы не знаем критериев, точкой опоры будем считать статистические квантили. В качестве границ для категоризации доходов были использованы квантили (25%, 50% и 75%)."
   ]
  },
  {
   "cell_type": "code",
   "execution_count": 65,
   "metadata": {},
   "outputs": [],
   "source": [
    "monthly_income_described = clients['monthly_income'].describe()"
   ]
  },
  {
   "cell_type": "code",
   "execution_count": 66,
   "metadata": {},
   "outputs": [
    {
     "data": {
      "text/plain": [
       "25%    107623.00\n",
       "50%    142594.00\n",
       "75%    195820.25\n",
       "Name: monthly_income, dtype: float64"
      ]
     },
     "execution_count": 66,
     "metadata": {},
     "output_type": "execute_result"
    }
   ],
   "source": [
    "monthly_income_described[4:7]"
   ]
  },
  {
   "cell_type": "code",
   "execution_count": 67,
   "metadata": {},
   "outputs": [],
   "source": [
    "def determine_income_group(income):\n",
    "    if income <= monthly_income_described[4]: return 'низкий доход'\n",
    "    elif monthly_income_described[4] < income <= monthly_income_described[5]: return 'средний доход'\n",
    "    elif monthly_income_described[5] < income <= monthly_income_described[6]: return 'высокий доход'\n",
    "    else: return 'очень высокий доход'"
   ]
  },
  {
   "cell_type": "code",
   "execution_count": 68,
   "metadata": {},
   "outputs": [],
   "source": [
    "clients['income_group'] = clients['monthly_income'].apply(determine_income_group)"
   ]
  },
  {
   "cell_type": "code",
   "execution_count": 69,
   "metadata": {},
   "outputs": [
    {
     "data": {
      "text/html": [
       "<div>\n",
       "<style scoped>\n",
       "    .dataframe tbody tr th:only-of-type {\n",
       "        vertical-align: middle;\n",
       "    }\n",
       "\n",
       "    .dataframe tbody tr th {\n",
       "        vertical-align: top;\n",
       "    }\n",
       "\n",
       "    .dataframe thead th {\n",
       "        text-align: right;\n",
       "    }\n",
       "</style>\n",
       "<table border=\"1\" class=\"dataframe\">\n",
       "  <thead>\n",
       "    <tr style=\"text-align: right;\">\n",
       "      <th></th>\n",
       "      <th>children</th>\n",
       "      <th>days_employed</th>\n",
       "      <th>age</th>\n",
       "      <th>education</th>\n",
       "      <th>education_id</th>\n",
       "      <th>family_status</th>\n",
       "      <th>family_status_id</th>\n",
       "      <th>gender</th>\n",
       "      <th>type</th>\n",
       "      <th>debt</th>\n",
       "      <th>monthly_income</th>\n",
       "      <th>purpose</th>\n",
       "      <th>purpose_group</th>\n",
       "      <th>children_group</th>\n",
       "      <th>income_group</th>\n",
       "    </tr>\n",
       "  </thead>\n",
       "  <tbody>\n",
       "    <tr>\n",
       "      <td>0</td>\n",
       "      <td>1</td>\n",
       "      <td>8437</td>\n",
       "      <td>42.0</td>\n",
       "      <td>высшее</td>\n",
       "      <td>0</td>\n",
       "      <td>женат / замужем</td>\n",
       "      <td>0</td>\n",
       "      <td>F</td>\n",
       "      <td>сотрудник</td>\n",
       "      <td>0</td>\n",
       "      <td>253875</td>\n",
       "      <td>покупка жилья</td>\n",
       "      <td>жилье</td>\n",
       "      <td>имеющий 1-2 ребенка</td>\n",
       "      <td>очень высокий доход</td>\n",
       "    </tr>\n",
       "    <tr>\n",
       "      <td>1</td>\n",
       "      <td>1</td>\n",
       "      <td>4024</td>\n",
       "      <td>36.0</td>\n",
       "      <td>среднее</td>\n",
       "      <td>1</td>\n",
       "      <td>женат / замужем</td>\n",
       "      <td>0</td>\n",
       "      <td>F</td>\n",
       "      <td>сотрудник</td>\n",
       "      <td>0</td>\n",
       "      <td>112080</td>\n",
       "      <td>приобретение автомобиля</td>\n",
       "      <td>автомобиль</td>\n",
       "      <td>имеющий 1-2 ребенка</td>\n",
       "      <td>средний доход</td>\n",
       "    </tr>\n",
       "    <tr>\n",
       "      <td>2</td>\n",
       "      <td>0</td>\n",
       "      <td>5623</td>\n",
       "      <td>33.0</td>\n",
       "      <td>среднее</td>\n",
       "      <td>1</td>\n",
       "      <td>женат / замужем</td>\n",
       "      <td>0</td>\n",
       "      <td>M</td>\n",
       "      <td>сотрудник</td>\n",
       "      <td>0</td>\n",
       "      <td>145885</td>\n",
       "      <td>покупка жилья</td>\n",
       "      <td>жилье</td>\n",
       "      <td>нет детей</td>\n",
       "      <td>высокий доход</td>\n",
       "    </tr>\n",
       "    <tr>\n",
       "      <td>3</td>\n",
       "      <td>3</td>\n",
       "      <td>4124</td>\n",
       "      <td>32.0</td>\n",
       "      <td>среднее</td>\n",
       "      <td>1</td>\n",
       "      <td>женат / замужем</td>\n",
       "      <td>0</td>\n",
       "      <td>M</td>\n",
       "      <td>сотрудник</td>\n",
       "      <td>0</td>\n",
       "      <td>267628</td>\n",
       "      <td>дополнительное образование</td>\n",
       "      <td>образование</td>\n",
       "      <td>многодетный</td>\n",
       "      <td>очень высокий доход</td>\n",
       "    </tr>\n",
       "    <tr>\n",
       "      <td>4</td>\n",
       "      <td>0</td>\n",
       "      <td>340266</td>\n",
       "      <td>53.0</td>\n",
       "      <td>среднее</td>\n",
       "      <td>1</td>\n",
       "      <td>гражданский брак</td>\n",
       "      <td>1</td>\n",
       "      <td>F</td>\n",
       "      <td>пенсионер</td>\n",
       "      <td>0</td>\n",
       "      <td>158616</td>\n",
       "      <td>сыграть свадьбу</td>\n",
       "      <td>свадьба</td>\n",
       "      <td>нет детей</td>\n",
       "      <td>высокий доход</td>\n",
       "    </tr>\n",
       "    <tr>\n",
       "      <td>5</td>\n",
       "      <td>0</td>\n",
       "      <td>926</td>\n",
       "      <td>27.0</td>\n",
       "      <td>высшее</td>\n",
       "      <td>0</td>\n",
       "      <td>гражданский брак</td>\n",
       "      <td>1</td>\n",
       "      <td>M</td>\n",
       "      <td>компаньон</td>\n",
       "      <td>0</td>\n",
       "      <td>255763</td>\n",
       "      <td>покупка жилья</td>\n",
       "      <td>жилье</td>\n",
       "      <td>нет детей</td>\n",
       "      <td>очень высокий доход</td>\n",
       "    </tr>\n",
       "    <tr>\n",
       "      <td>6</td>\n",
       "      <td>0</td>\n",
       "      <td>2879</td>\n",
       "      <td>43.0</td>\n",
       "      <td>высшее</td>\n",
       "      <td>0</td>\n",
       "      <td>женат / замужем</td>\n",
       "      <td>0</td>\n",
       "      <td>F</td>\n",
       "      <td>компаньон</td>\n",
       "      <td>0</td>\n",
       "      <td>240525</td>\n",
       "      <td>операции с жильем</td>\n",
       "      <td>жилье</td>\n",
       "      <td>нет детей</td>\n",
       "      <td>очень высокий доход</td>\n",
       "    </tr>\n",
       "    <tr>\n",
       "      <td>7</td>\n",
       "      <td>0</td>\n",
       "      <td>152</td>\n",
       "      <td>50.0</td>\n",
       "      <td>среднее</td>\n",
       "      <td>1</td>\n",
       "      <td>женат / замужем</td>\n",
       "      <td>0</td>\n",
       "      <td>M</td>\n",
       "      <td>сотрудник</td>\n",
       "      <td>0</td>\n",
       "      <td>135823</td>\n",
       "      <td>образование</td>\n",
       "      <td>образование</td>\n",
       "      <td>нет детей</td>\n",
       "      <td>средний доход</td>\n",
       "    </tr>\n",
       "    <tr>\n",
       "      <td>8</td>\n",
       "      <td>2</td>\n",
       "      <td>6929</td>\n",
       "      <td>35.0</td>\n",
       "      <td>высшее</td>\n",
       "      <td>0</td>\n",
       "      <td>гражданский брак</td>\n",
       "      <td>1</td>\n",
       "      <td>F</td>\n",
       "      <td>сотрудник</td>\n",
       "      <td>0</td>\n",
       "      <td>95856</td>\n",
       "      <td>на проведение свадьбы</td>\n",
       "      <td>свадьба</td>\n",
       "      <td>имеющий 1-2 ребенка</td>\n",
       "      <td>низкий доход</td>\n",
       "    </tr>\n",
       "    <tr>\n",
       "      <td>9</td>\n",
       "      <td>0</td>\n",
       "      <td>2188</td>\n",
       "      <td>41.0</td>\n",
       "      <td>среднее</td>\n",
       "      <td>1</td>\n",
       "      <td>женат / замужем</td>\n",
       "      <td>0</td>\n",
       "      <td>M</td>\n",
       "      <td>сотрудник</td>\n",
       "      <td>0</td>\n",
       "      <td>144425</td>\n",
       "      <td>покупка жилья для семьи</td>\n",
       "      <td>жилье</td>\n",
       "      <td>нет детей</td>\n",
       "      <td>высокий доход</td>\n",
       "    </tr>\n",
       "  </tbody>\n",
       "</table>\n",
       "</div>"
      ],
      "text/plain": [
       "   children  days_employed   age education  education_id     family_status  \\\n",
       "0         1           8437  42.0    высшее             0   женат / замужем   \n",
       "1         1           4024  36.0   среднее             1   женат / замужем   \n",
       "2         0           5623  33.0   среднее             1   женат / замужем   \n",
       "3         3           4124  32.0   среднее             1   женат / замужем   \n",
       "4         0         340266  53.0   среднее             1  гражданский брак   \n",
       "5         0            926  27.0    высшее             0  гражданский брак   \n",
       "6         0           2879  43.0    высшее             0   женат / замужем   \n",
       "7         0            152  50.0   среднее             1   женат / замужем   \n",
       "8         2           6929  35.0    высшее             0  гражданский брак   \n",
       "9         0           2188  41.0   среднее             1   женат / замужем   \n",
       "\n",
       "   family_status_id gender       type  debt  monthly_income  \\\n",
       "0                 0      F  сотрудник     0          253875   \n",
       "1                 0      F  сотрудник     0          112080   \n",
       "2                 0      M  сотрудник     0          145885   \n",
       "3                 0      M  сотрудник     0          267628   \n",
       "4                 1      F  пенсионер     0          158616   \n",
       "5                 1      M  компаньон     0          255763   \n",
       "6                 0      F  компаньон     0          240525   \n",
       "7                 0      M  сотрудник     0          135823   \n",
       "8                 1      F  сотрудник     0           95856   \n",
       "9                 0      M  сотрудник     0          144425   \n",
       "\n",
       "                      purpose purpose_group       children_group  \\\n",
       "0               покупка жилья         жилье  имеющий 1-2 ребенка   \n",
       "1     приобретение автомобиля    автомобиль  имеющий 1-2 ребенка   \n",
       "2               покупка жилья         жилье            нет детей   \n",
       "3  дополнительное образование   образование          многодетный   \n",
       "4             сыграть свадьбу       свадьба            нет детей   \n",
       "5               покупка жилья         жилье            нет детей   \n",
       "6           операции с жильем         жилье            нет детей   \n",
       "7                 образование   образование            нет детей   \n",
       "8       на проведение свадьбы       свадьба  имеющий 1-2 ребенка   \n",
       "9     покупка жилья для семьи         жилье            нет детей   \n",
       "\n",
       "          income_group  \n",
       "0  очень высокий доход  \n",
       "1        средний доход  \n",
       "2        высокий доход  \n",
       "3  очень высокий доход  \n",
       "4        высокий доход  \n",
       "5  очень высокий доход  \n",
       "6  очень высокий доход  \n",
       "7        средний доход  \n",
       "8         низкий доход  \n",
       "9        высокий доход  "
      ]
     },
     "execution_count": 69,
     "metadata": {},
     "output_type": "execute_result"
    }
   ],
   "source": [
    "clients.head(10)"
   ]
  },
  {
   "cell_type": "code",
   "execution_count": 70,
   "metadata": {},
   "outputs": [
    {
     "data": {
      "text/plain": [
       "средний доход          5479\n",
       "низкий доход           5364\n",
       "очень высокий доход    5364\n",
       "высокий доход          5247\n",
       "Name: income_group, dtype: int64"
      ]
     },
     "execution_count": 70,
     "metadata": {},
     "output_type": "execute_result"
    }
   ],
   "source": [
    "clients['income_group'].value_counts()"
   ]
  },
  {
   "cell_type": "markdown",
   "metadata": {},
   "source": [
    "Итак, категоризация по  доходам позволила сгруппировать клиентов банка на следующие четыре категории:\n",
    " * доход до 107,6 тыс. руб. имеет 5364 клиентов,\n",
    " * доход от 107,6 до 142,6 тыс.руб. имеет 5479 клиентов,\n",
    " * доход 5247 человек находится в диапазоне от 142,6 до 195,8 тыс. рублей\n",
    " * наконец, 5364 человек зарабатывают больше 195,8 тыс. рублей"
   ]
  },
  {
   "cell_type": "markdown",
   "metadata": {},
   "source": [
    "**Вывод**\n",
    "\n",
    "Итак, здесь была проведена категоризация по цели получения кредита, по ежемесячному доходу, по количеству детей. Эти параметры будут рассматриваться при получении ответов на вопросы исследования в следующем пункте."
   ]
  },
  {
   "cell_type": "markdown",
   "metadata": {},
   "source": [
    "## Шаг 3. Ответьте на вопросы"
   ]
  },
  {
   "cell_type": "markdown",
   "metadata": {},
   "source": [
    "- Есть ли зависимость между наличием детей и возвратом кредита в срок?"
   ]
  },
  {
   "cell_type": "markdown",
   "metadata": {},
   "source": [
    "Для определения зависимости между той или иной категорией и возвратом кредита (столбец debt) напишем функцию dependence(category)."
   ]
  },
  {
   "cell_type": "code",
   "execution_count": 71,
   "metadata": {},
   "outputs": [],
   "source": [
    "def dependence(category):\n",
    "    return clients.groupby(category)['debt'].mean().to_frame().sort_values(by='debt')"
   ]
  },
  {
   "cell_type": "markdown",
   "metadata": {},
   "source": [
    "Применим функцию для столбца children_group, который содержит сведения о наличии детей."
   ]
  },
  {
   "cell_type": "code",
   "execution_count": 72,
   "metadata": {},
   "outputs": [
    {
     "data": {
      "text/html": [
       "<div>\n",
       "<style scoped>\n",
       "    .dataframe tbody tr th:only-of-type {\n",
       "        vertical-align: middle;\n",
       "    }\n",
       "\n",
       "    .dataframe tbody tr th {\n",
       "        vertical-align: top;\n",
       "    }\n",
       "\n",
       "    .dataframe thead th {\n",
       "        text-align: right;\n",
       "    }\n",
       "</style>\n",
       "<table border=\"1\" class=\"dataframe\">\n",
       "  <thead>\n",
       "    <tr style=\"text-align: right;\">\n",
       "      <th></th>\n",
       "      <th>debt</th>\n",
       "    </tr>\n",
       "    <tr>\n",
       "      <th>children_group</th>\n",
       "      <th></th>\n",
       "    </tr>\n",
       "  </thead>\n",
       "  <tbody>\n",
       "    <tr>\n",
       "      <td>нет детей</td>\n",
       "      <td>0.075438</td>\n",
       "    </tr>\n",
       "    <tr>\n",
       "      <td>многодетный</td>\n",
       "      <td>0.081579</td>\n",
       "    </tr>\n",
       "    <tr>\n",
       "      <td>имеющий 1-2 ребенка</td>\n",
       "      <td>0.092654</td>\n",
       "    </tr>\n",
       "  </tbody>\n",
       "</table>\n",
       "</div>"
      ],
      "text/plain": [
       "                         debt\n",
       "children_group               \n",
       "нет детей            0.075438\n",
       "многодетный          0.081579\n",
       "имеющий 1-2 ребенка  0.092654"
      ]
     },
     "execution_count": 72,
     "metadata": {},
     "output_type": "execute_result"
    }
   ],
   "source": [
    "dependence_children_group = dependence('children_group')\n",
    "dependence_children_group"
   ]
  },
  {
   "cell_type": "code",
   "execution_count": 73,
   "metadata": {},
   "outputs": [
    {
     "data": {
      "text/plain": [
       "<matplotlib.axes._subplots.AxesSubplot at 0x7f3030d8b950>"
      ]
     },
     "execution_count": 73,
     "metadata": {},
     "output_type": "execute_result"
    },
    {
     "data": {
      "image/png": "[encoded data removed]",
      "text/plain": [
       "<Figure size 432x288 with 1 Axes>"
      ]
     },
     "metadata": {
      "needs_background": "light"
     },
     "output_type": "display_data"
    }
   ],
   "source": [
    "dependence_children_group.plot(kind='bar')"
   ]
  },
  {
   "cell_type": "markdown",
   "metadata": {},
   "source": [
    "Можно сделать вывод, что самый низкий риск невозврата кредита у группы клиентов, у которых нет детей. Самый высокий риск среди клиентов, у которых 1-2 детей, многодетные клиенты имеют средний риск невозврата кредита."
   ]
  },
  {
   "cell_type": "markdown",
   "metadata": {},
   "source": [
    "Далее применим метод pivot_table(), чтобы рассмотреть данные более детально."
   ]
  },
  {
   "cell_type": "code",
   "execution_count": 74,
   "metadata": {},
   "outputs": [
    {
     "data": {
      "text/html": [
       "<div>\n",
       "<style scoped>\n",
       "    .dataframe tbody tr th:only-of-type {\n",
       "        vertical-align: middle;\n",
       "    }\n",
       "\n",
       "    .dataframe tbody tr th {\n",
       "        vertical-align: top;\n",
       "    }\n",
       "\n",
       "    .dataframe thead th {\n",
       "        text-align: right;\n",
       "    }\n",
       "</style>\n",
       "<table border=\"1\" class=\"dataframe\">\n",
       "  <thead>\n",
       "    <tr style=\"text-align: right;\">\n",
       "      <th>family_status</th>\n",
       "      <th>в разводе</th>\n",
       "      <th>вдовец / вдова</th>\n",
       "      <th>гражданский брак</th>\n",
       "      <th>женат / замужем</th>\n",
       "      <th>не женат / не замужем</th>\n",
       "    </tr>\n",
       "    <tr>\n",
       "      <th>children_group</th>\n",
       "      <th></th>\n",
       "      <th></th>\n",
       "      <th></th>\n",
       "      <th></th>\n",
       "      <th></th>\n",
       "    </tr>\n",
       "  </thead>\n",
       "  <tbody>\n",
       "    <tr>\n",
       "      <td>имеющий 1-2 ребенка</td>\n",
       "      <td>0.072682</td>\n",
       "      <td>0.095238</td>\n",
       "      <td>0.111439</td>\n",
       "      <td>0.086132</td>\n",
       "      <td>0.115242</td>\n",
       "    </tr>\n",
       "    <tr>\n",
       "      <td>многодетный</td>\n",
       "      <td>0.083333</td>\n",
       "      <td>0.000000</td>\n",
       "      <td>0.121212</td>\n",
       "      <td>0.070175</td>\n",
       "      <td>0.200000</td>\n",
       "    </tr>\n",
       "    <tr>\n",
       "      <td>нет детей</td>\n",
       "      <td>0.070153</td>\n",
       "      <td>0.062574</td>\n",
       "      <td>0.083883</td>\n",
       "      <td>0.069095</td>\n",
       "      <td>0.092838</td>\n",
       "    </tr>\n",
       "  </tbody>\n",
       "</table>\n",
       "</div>"
      ],
      "text/plain": [
       "family_status        в разводе  вдовец / вдова  гражданский брак  \\\n",
       "children_group                                                     \n",
       "имеющий 1-2 ребенка   0.072682        0.095238          0.111439   \n",
       "многодетный           0.083333        0.000000          0.121212   \n",
       "нет детей             0.070153        0.062574          0.083883   \n",
       "\n",
       "family_status        женат / замужем  не женат / не замужем  \n",
       "children_group                                               \n",
       "имеющий 1-2 ребенка         0.086132               0.115242  \n",
       "многодетный                 0.070175               0.200000  \n",
       "нет детей                   0.069095               0.092838  "
      ]
     },
     "execution_count": 74,
     "metadata": {},
     "output_type": "execute_result"
    }
   ],
   "source": [
    "pivot_children_family_status = clients.pivot_table(index=['children_group'], columns= 'family_status', values='debt', aggfunc='mean')\n",
    "pivot_children_family_status"
   ]
  },
  {
   "cell_type": "code",
   "execution_count": 75,
   "metadata": {
    "scrolled": true
   },
   "outputs": [
    {
     "data": {
      "text/plain": [
       "<matplotlib.axes._subplots.AxesSubplot at 0x7f3030a5ce50>"
      ]
     },
     "execution_count": 75,
     "metadata": {},
     "output_type": "execute_result"
    },
    {
     "data": {
      "image/png": "[encoded data removed]",
      "text/plain": [
       "<Figure size 720x288 with 1 Axes>"
      ]
     },
     "metadata": {
      "needs_background": "light"
     },
     "output_type": "display_data"
    }
   ],
   "source": [
    "pivot_children_family_status.plot(figsize=(10,4), kind='barh')"
   ]
  },
  {
   "cell_type": "markdown",
   "metadata": {},
   "source": [
    "Вывод: при рассмотрении более детальных данных можно сделать вывод, что наивысший риск невозврата кредита у многодетных клиентов, которые не состоят в браке. Наименьший риск также у многодетных, но в статусе вдовы/ вдовца. Высокий риск наблюдается среди многодетных клиентов в гражданском браке."
   ]
  },
  {
   "cell_type": "code",
   "execution_count": 76,
   "metadata": {},
   "outputs": [
    {
     "data": {
      "text/html": [
       "<div>\n",
       "<style scoped>\n",
       "    .dataframe tbody tr th:only-of-type {\n",
       "        vertical-align: middle;\n",
       "    }\n",
       "\n",
       "    .dataframe tbody tr th {\n",
       "        vertical-align: top;\n",
       "    }\n",
       "\n",
       "    .dataframe thead th {\n",
       "        text-align: right;\n",
       "    }\n",
       "</style>\n",
       "<table border=\"1\" class=\"dataframe\">\n",
       "  <thead>\n",
       "    <tr style=\"text-align: right;\">\n",
       "      <th>income_group</th>\n",
       "      <th>высокий доход</th>\n",
       "      <th>низкий доход</th>\n",
       "      <th>очень высокий доход</th>\n",
       "      <th>средний доход</th>\n",
       "    </tr>\n",
       "    <tr>\n",
       "      <th>children_group</th>\n",
       "      <th></th>\n",
       "      <th></th>\n",
       "      <th></th>\n",
       "      <th></th>\n",
       "    </tr>\n",
       "  </thead>\n",
       "  <tbody>\n",
       "    <tr>\n",
       "      <td>имеющий 1-2 ребенка</td>\n",
       "      <td>0.098632</td>\n",
       "      <td>0.094660</td>\n",
       "      <td>0.078366</td>\n",
       "      <td>0.099491</td>\n",
       "    </tr>\n",
       "    <tr>\n",
       "      <td>многодетный</td>\n",
       "      <td>0.084211</td>\n",
       "      <td>0.118421</td>\n",
       "      <td>0.049020</td>\n",
       "      <td>0.084112</td>\n",
       "    </tr>\n",
       "    <tr>\n",
       "      <td>нет детей</td>\n",
       "      <td>0.078576</td>\n",
       "      <td>0.071978</td>\n",
       "      <td>0.068406</td>\n",
       "      <td>0.082709</td>\n",
       "    </tr>\n",
       "  </tbody>\n",
       "</table>\n",
       "</div>"
      ],
      "text/plain": [
       "income_group         высокий доход  низкий доход  очень высокий доход  \\\n",
       "children_group                                                          \n",
       "имеющий 1-2 ребенка       0.098632      0.094660             0.078366   \n",
       "многодетный               0.084211      0.118421             0.049020   \n",
       "нет детей                 0.078576      0.071978             0.068406   \n",
       "\n",
       "income_group         средний доход  \n",
       "children_group                      \n",
       "имеющий 1-2 ребенка       0.099491  \n",
       "многодетный               0.084112  \n",
       "нет детей                 0.082709  "
      ]
     },
     "execution_count": 76,
     "metadata": {},
     "output_type": "execute_result"
    }
   ],
   "source": [
    "pivot_children_income_group = clients.pivot_table(index=['children_group'], columns='income_group', values='debt', aggfunc='mean')\n",
    "pivot_children_income_group"
   ]
  },
  {
   "cell_type": "code",
   "execution_count": 77,
   "metadata": {},
   "outputs": [
    {
     "data": {
      "text/plain": [
       "<matplotlib.axes._subplots.AxesSubplot at 0x7f3030354210>"
      ]
     },
     "execution_count": 77,
     "metadata": {},
     "output_type": "execute_result"
    },
    {
     "data": {
      "image/png": "[encoded data removed]",
      "text/plain": [
       "<Figure size 720x288 with 1 Axes>"
      ]
     },
     "metadata": {
      "needs_background": "light"
     },
     "output_type": "display_data"
    }
   ],
   "source": [
    "pivot_children_income_group.plot(figsize=(10,4), kind='barh')"
   ]
  },
  {
   "cell_type": "markdown",
   "metadata": {},
   "source": [
    "Рассматривая количество детей в зависимости от уровня доходов, можно сделать вывод, что наивысший риск - у многодетных с низким доходом. Самый низкий риск - также у многодетных, но с очень высоким доходом. "
   ]
  },
  {
   "cell_type": "markdown",
   "metadata": {},
   "source": [
    "**Вывод**"
   ]
  },
  {
   "cell_type": "markdown",
   "metadata": {},
   "source": [
    "Общий вывод состоит в том, что самый низкий риск невозврата кредита у группы клиентов, у которых нет детей. Самый высокий риск среди клиентов, у которых 1-2 детей, многодетные клиенты имеют средний риск невозврата кредита. При этом более детальное рассмотрение связи между количеством детей и такими показателями, как семейное положение / уровень доходов, позволяет сделать более детальные выводы."
   ]
  },
  {
   "cell_type": "markdown",
   "metadata": {},
   "source": [
    "- Есть ли зависимость между семейным положением и возвратом кредита в срок?"
   ]
  },
  {
   "cell_type": "code",
   "execution_count": 78,
   "metadata": {},
   "outputs": [
    {
     "data": {
      "text/html": [
       "<div>\n",
       "<style scoped>\n",
       "    .dataframe tbody tr th:only-of-type {\n",
       "        vertical-align: middle;\n",
       "    }\n",
       "\n",
       "    .dataframe tbody tr th {\n",
       "        vertical-align: top;\n",
       "    }\n",
       "\n",
       "    .dataframe thead th {\n",
       "        text-align: right;\n",
       "    }\n",
       "</style>\n",
       "<table border=\"1\" class=\"dataframe\">\n",
       "  <thead>\n",
       "    <tr style=\"text-align: right;\">\n",
       "      <th></th>\n",
       "      <th>debt</th>\n",
       "    </tr>\n",
       "    <tr>\n",
       "      <th>family_status</th>\n",
       "      <th></th>\n",
       "    </tr>\n",
       "  </thead>\n",
       "  <tbody>\n",
       "    <tr>\n",
       "      <td>вдовец / вдова</td>\n",
       "      <td>0.065693</td>\n",
       "    </tr>\n",
       "    <tr>\n",
       "      <td>в разводе</td>\n",
       "      <td>0.071130</td>\n",
       "    </tr>\n",
       "    <tr>\n",
       "      <td>женат / замужем</td>\n",
       "      <td>0.075452</td>\n",
       "    </tr>\n",
       "    <tr>\n",
       "      <td>гражданский брак</td>\n",
       "      <td>0.093471</td>\n",
       "    </tr>\n",
       "    <tr>\n",
       "      <td>не женат / не замужем</td>\n",
       "      <td>0.097509</td>\n",
       "    </tr>\n",
       "  </tbody>\n",
       "</table>\n",
       "</div>"
      ],
      "text/plain": [
       "                           debt\n",
       "family_status                  \n",
       "вдовец / вдова         0.065693\n",
       "в разводе              0.071130\n",
       "женат / замужем        0.075452\n",
       "гражданский брак       0.093471\n",
       "не женат / не замужем  0.097509"
      ]
     },
     "execution_count": 78,
     "metadata": {},
     "output_type": "execute_result"
    }
   ],
   "source": [
    "dependence_family_status = dependence('family_status')\n",
    "dependence_family_status"
   ]
  },
  {
   "cell_type": "code",
   "execution_count": 79,
   "metadata": {},
   "outputs": [
    {
     "data": {
      "text/plain": [
       "<matplotlib.axes._subplots.AxesSubplot at 0x7f303027b8d0>"
      ]
     },
     "execution_count": 79,
     "metadata": {},
     "output_type": "execute_result"
    },
    {
     "data": {
      "image/png": "[encoded data removed]",
      "text/plain": [
       "<Figure size 432x288 with 1 Axes>"
      ]
     },
     "metadata": {
      "needs_background": "light"
     },
     "output_type": "display_data"
    }
   ],
   "source": [
    "dependence_family_status.plot(kind='bar')"
   ]
  },
  {
   "cell_type": "markdown",
   "metadata": {},
   "source": [
    "**Вывод**"
   ]
  },
  {
   "cell_type": "markdown",
   "metadata": {},
   "source": [
    "Самый высокий риск невозврата кредита наблюдается у клиентов в статусе \"не женат/ не замужем\", самый низкий риск - у вдов и вдовцов."
   ]
  },
  {
   "cell_type": "markdown",
   "metadata": {},
   "source": [
    "- Есть ли зависимость между уровнем дохода и возвратом кредита в срок?"
   ]
  },
  {
   "cell_type": "code",
   "execution_count": 80,
   "metadata": {},
   "outputs": [
    {
     "data": {
      "text/html": [
       "<div>\n",
       "<style scoped>\n",
       "    .dataframe tbody tr th:only-of-type {\n",
       "        vertical-align: middle;\n",
       "    }\n",
       "\n",
       "    .dataframe tbody tr th {\n",
       "        vertical-align: top;\n",
       "    }\n",
       "\n",
       "    .dataframe thead th {\n",
       "        text-align: right;\n",
       "    }\n",
       "</style>\n",
       "<table border=\"1\" class=\"dataframe\">\n",
       "  <thead>\n",
       "    <tr style=\"text-align: right;\">\n",
       "      <th></th>\n",
       "      <th>debt</th>\n",
       "    </tr>\n",
       "    <tr>\n",
       "      <th>income_group</th>\n",
       "      <th></th>\n",
       "    </tr>\n",
       "  </thead>\n",
       "  <tbody>\n",
       "    <tr>\n",
       "      <td>очень высокий доход</td>\n",
       "      <td>0.071402</td>\n",
       "    </tr>\n",
       "    <tr>\n",
       "      <td>низкий доход</td>\n",
       "      <td>0.079605</td>\n",
       "    </tr>\n",
       "    <tr>\n",
       "      <td>высокий доход</td>\n",
       "      <td>0.085382</td>\n",
       "    </tr>\n",
       "    <tr>\n",
       "      <td>средний доход</td>\n",
       "      <td>0.088155</td>\n",
       "    </tr>\n",
       "  </tbody>\n",
       "</table>\n",
       "</div>"
      ],
      "text/plain": [
       "                         debt\n",
       "income_group                 \n",
       "очень высокий доход  0.071402\n",
       "низкий доход         0.079605\n",
       "высокий доход        0.085382\n",
       "средний доход        0.088155"
      ]
     },
     "execution_count": 80,
     "metadata": {},
     "output_type": "execute_result"
    }
   ],
   "source": [
    "dependence_income_group = dependence('income_group')\n",
    "dependence_income_group"
   ]
  },
  {
   "cell_type": "code",
   "execution_count": 81,
   "metadata": {},
   "outputs": [
    {
     "data": {
      "text/plain": [
       "<matplotlib.axes._subplots.AxesSubplot at 0x7f3030208b90>"
      ]
     },
     "execution_count": 81,
     "metadata": {},
     "output_type": "execute_result"
    },
    {
     "data": {
      "image/png": "[encoded data removed]",
      "text/plain": [
       "<Figure size 432x288 with 1 Axes>"
      ]
     },
     "metadata": {
      "needs_background": "light"
     },
     "output_type": "display_data"
    }
   ],
   "source": [
    "dependence_income_group.plot(kind='bar')"
   ]
  },
  {
   "cell_type": "markdown",
   "metadata": {},
   "source": [
    "Отметим, что самый высокий риск невозврата кредита - у клиентов со средним доходом. Клиенты с очень высоким доходов возвращают как правило кредит вовремя (наименьший риск). Интересно также более детально посмотреть на тип занятости к привязке к уровню дохода."
   ]
  },
  {
   "cell_type": "code",
   "execution_count": 82,
   "metadata": {},
   "outputs": [
    {
     "data": {
      "text/html": [
       "<div>\n",
       "<style scoped>\n",
       "    .dataframe tbody tr th:only-of-type {\n",
       "        vertical-align: middle;\n",
       "    }\n",
       "\n",
       "    .dataframe tbody tr th {\n",
       "        vertical-align: top;\n",
       "    }\n",
       "\n",
       "    .dataframe thead th {\n",
       "        text-align: right;\n",
       "    }\n",
       "</style>\n",
       "<table border=\"1\" class=\"dataframe\">\n",
       "  <thead>\n",
       "    <tr style=\"text-align: right;\">\n",
       "      <th>type</th>\n",
       "      <th>безработный</th>\n",
       "      <th>в декрете</th>\n",
       "      <th>госслужащий</th>\n",
       "      <th>компаньон</th>\n",
       "      <th>пенсионер</th>\n",
       "      <th>предприниматель</th>\n",
       "      <th>сотрудник</th>\n",
       "      <th>студент</th>\n",
       "    </tr>\n",
       "    <tr>\n",
       "      <th>income_group</th>\n",
       "      <th></th>\n",
       "      <th></th>\n",
       "      <th></th>\n",
       "      <th></th>\n",
       "      <th></th>\n",
       "      <th></th>\n",
       "      <th></th>\n",
       "      <th></th>\n",
       "    </tr>\n",
       "  </thead>\n",
       "  <tbody>\n",
       "    <tr>\n",
       "      <td>высокий доход</td>\n",
       "      <td>NaN</td>\n",
       "      <td>NaN</td>\n",
       "      <td>0.048035</td>\n",
       "      <td>0.079011</td>\n",
       "      <td>0.057489</td>\n",
       "      <td>NaN</td>\n",
       "      <td>0.104049</td>\n",
       "      <td>NaN</td>\n",
       "    </tr>\n",
       "    <tr>\n",
       "      <td>низкий доход</td>\n",
       "      <td>1.0</td>\n",
       "      <td>1.0</td>\n",
       "      <td>0.068376</td>\n",
       "      <td>0.082777</td>\n",
       "      <td>0.047586</td>\n",
       "      <td>NaN</td>\n",
       "      <td>0.096051</td>\n",
       "      <td>0.0</td>\n",
       "    </tr>\n",
       "    <tr>\n",
       "      <td>очень высокий доход</td>\n",
       "      <td>0.0</td>\n",
       "      <td>NaN</td>\n",
       "      <td>0.048718</td>\n",
       "      <td>0.063622</td>\n",
       "      <td>0.060504</td>\n",
       "      <td>0.0</td>\n",
       "      <td>0.083169</td>\n",
       "      <td>NaN</td>\n",
       "    </tr>\n",
       "    <tr>\n",
       "      <td>средний доход</td>\n",
       "      <td>NaN</td>\n",
       "      <td>NaN</td>\n",
       "      <td>0.081395</td>\n",
       "      <td>0.079327</td>\n",
       "      <td>0.065004</td>\n",
       "      <td>NaN</td>\n",
       "      <td>0.098898</td>\n",
       "      <td>NaN</td>\n",
       "    </tr>\n",
       "  </tbody>\n",
       "</table>\n",
       "</div>"
      ],
      "text/plain": [
       "type                 безработный  в декрете  госслужащий  компаньон  \\\n",
       "income_group                                                          \n",
       "высокий доход                NaN        NaN     0.048035   0.079011   \n",
       "низкий доход                 1.0        1.0     0.068376   0.082777   \n",
       "очень высокий доход          0.0        NaN     0.048718   0.063622   \n",
       "средний доход                NaN        NaN     0.081395   0.079327   \n",
       "\n",
       "type                 пенсионер  предприниматель  сотрудник  студент  \n",
       "income_group                                                         \n",
       "высокий доход         0.057489              NaN   0.104049      NaN  \n",
       "низкий доход          0.047586              NaN   0.096051      0.0  \n",
       "очень высокий доход   0.060504              0.0   0.083169      NaN  \n",
       "средний доход         0.065004              NaN   0.098898      NaN  "
      ]
     },
     "execution_count": 82,
     "metadata": {},
     "output_type": "execute_result"
    }
   ],
   "source": [
    "pivot_income_group_type = clients.pivot_table(index=['income_group'], columns='type', values='debt', aggfunc='mean')\n",
    "pivot_income_group_type"
   ]
  },
  {
   "cell_type": "code",
   "execution_count": 83,
   "metadata": {},
   "outputs": [
    {
     "data": {
      "text/plain": [
       "<matplotlib.axes._subplots.AxesSubplot at 0x7f30301763d0>"
      ]
     },
     "execution_count": 83,
     "metadata": {},
     "output_type": "execute_result"
    },
    {
     "data": {
      "image/png": "[encoded data removed]",
      "text/plain": [
       "<Figure size 720x288 with 1 Axes>"
      ]
     },
     "metadata": {
      "needs_background": "light"
     },
     "output_type": "display_data"
    }
   ],
   "source": [
    "pivot_income_group_type.plot(figsize=(10,4), kind='barh')"
   ]
  },
  {
   "cell_type": "markdown",
   "metadata": {},
   "source": [
    "**Вывод**"
   ]
  },
  {
   "cell_type": "markdown",
   "metadata": {},
   "source": [
    "Итак, самый высокий риск - у клиентов с низким доходом (категории безработный, в декрете). Нет просрочек (debt = 0) у клиентов с очень высоким доходом (тип безработный, предприниматель). "
   ]
  },
  {
   "cell_type": "markdown",
   "metadata": {},
   "source": [
    "- Как разные цели кредита влияют на его возврат в срок?"
   ]
  },
  {
   "cell_type": "code",
   "execution_count": 84,
   "metadata": {},
   "outputs": [
    {
     "data": {
      "text/html": [
       "<div>\n",
       "<style scoped>\n",
       "    .dataframe tbody tr th:only-of-type {\n",
       "        vertical-align: middle;\n",
       "    }\n",
       "\n",
       "    .dataframe tbody tr th {\n",
       "        vertical-align: top;\n",
       "    }\n",
       "\n",
       "    .dataframe thead th {\n",
       "        text-align: right;\n",
       "    }\n",
       "</style>\n",
       "<table border=\"1\" class=\"dataframe\">\n",
       "  <thead>\n",
       "    <tr style=\"text-align: right;\">\n",
       "      <th></th>\n",
       "      <th>debt</th>\n",
       "    </tr>\n",
       "    <tr>\n",
       "      <th>purpose_group</th>\n",
       "      <th></th>\n",
       "    </tr>\n",
       "  </thead>\n",
       "  <tbody>\n",
       "    <tr>\n",
       "      <td>жилье</td>\n",
       "      <td>0.069058</td>\n",
       "    </tr>\n",
       "    <tr>\n",
       "      <td>недвижимость</td>\n",
       "      <td>0.074634</td>\n",
       "    </tr>\n",
       "    <tr>\n",
       "      <td>свадьба</td>\n",
       "      <td>0.080034</td>\n",
       "    </tr>\n",
       "    <tr>\n",
       "      <td>образование</td>\n",
       "      <td>0.092200</td>\n",
       "    </tr>\n",
       "    <tr>\n",
       "      <td>автомобиль</td>\n",
       "      <td>0.093590</td>\n",
       "    </tr>\n",
       "  </tbody>\n",
       "</table>\n",
       "</div>"
      ],
      "text/plain": [
       "                   debt\n",
       "purpose_group          \n",
       "жилье          0.069058\n",
       "недвижимость   0.074634\n",
       "свадьба        0.080034\n",
       "образование    0.092200\n",
       "автомобиль     0.093590"
      ]
     },
     "execution_count": 84,
     "metadata": {},
     "output_type": "execute_result"
    }
   ],
   "source": [
    "dependence_purpose_group = dependence('purpose_group')\n",
    "dependence_purpose_group"
   ]
  },
  {
   "cell_type": "code",
   "execution_count": 85,
   "metadata": {},
   "outputs": [
    {
     "data": {
      "text/plain": [
       "<matplotlib.axes._subplots.AxesSubplot at 0x7f30300ddbd0>"
      ]
     },
     "execution_count": 85,
     "metadata": {},
     "output_type": "execute_result"
    },
    {
     "data": {
      "image/png": "[encoded data removed]",
      "text/plain": [
       "<Figure size 432x288 with 1 Axes>"
      ]
     },
     "metadata": {
      "needs_background": "light"
     },
     "output_type": "display_data"
    }
   ],
   "source": [
    "dependence_purpose_group.plot()"
   ]
  },
  {
   "cell_type": "markdown",
   "metadata": {},
   "source": [
    "**Вывод**"
   ]
  },
  {
   "cell_type": "markdown",
   "metadata": {},
   "source": [
    "Самый высокий риск невозврата кредита - у клиентов, которые берут его с целью купить автомобиль. Наиболее надежные заемщики, - клиенты, которые покупают жилье в кредит (ипотека), здесь почти нет задолженностей."
   ]
  },
  {
   "cell_type": "markdown",
   "metadata": {},
   "source": [
    "## Шаг 4. Общий вывод"
   ]
  },
  {
   "cell_type": "markdown",
   "metadata": {},
   "source": [
    "В целом, можно сделать вывод, что ответы на поставленные в исследовании цели были найдены. В результате было выявлено следующее:\n",
    " * существует зависимость между количеством детей и вероятностью выплатить кредит в срок (клиенты без детей обычно выплачивают кредит без задолженности\n",
    " * самый высокий риск невозврата кредита наблюдается у клиентов в статусе \"не женат/ не замужем\", самый низкий риск - у вдов и вдовцов.\n",
    " * самый высокий риск - у клиентов с низким доходом (категории безработный, в декрете). Нет просрочек (debt = 0) у клиентов с очень высоким доходом (тип безработный, предприниматель).\n",
    " * самый высокий риск невозврата кредита - у клиентов, которые берут его с целью купить автомобиль. Наиболее надежные заемщики, - клиенты, которые покупают жилье в кредит (ипотека), здесь почти нет задолженностей.\n",
    "    "
   ]
  }
 ],
 "metadata": {
  "ExecuteTimeLog": [
   {
    "duration": 605,
    "start_time": "2021-12-01T20:20:56.451Z"
   },
   {
    "duration": 60,
    "start_time": "2021-12-01T20:34:36.688Z"
   },
   {
    "duration": 11,
    "start_time": "2021-12-01T20:37:12.621Z"
   },
   {
    "duration": 61,
    "start_time": "2021-12-01T20:39:44.392Z"
   },
   {
    "duration": 12,
    "start_time": "2021-12-01T20:39:49.232Z"
   },
   {
    "duration": 16,
    "start_time": "2021-12-01T20:40:52.752Z"
   },
   {
    "duration": 78,
    "start_time": "2021-12-01T20:42:58.561Z"
   },
   {
    "duration": 79,
    "start_time": "2021-12-01T20:43:17.728Z"
   },
   {
    "duration": 82,
    "start_time": "2021-12-01T20:44:06.087Z"
   },
   {
    "duration": 101,
    "start_time": "2021-12-01T20:44:08.016Z"
   },
   {
    "duration": 12,
    "start_time": "2021-12-01T20:47:27.351Z"
   },
   {
    "duration": 58,
    "start_time": "2021-12-01T20:48:41.863Z"
   },
   {
    "duration": 56,
    "start_time": "2021-12-01T20:48:49.631Z"
   },
   {
    "duration": 11,
    "start_time": "2021-12-01T20:48:59.890Z"
   },
   {
    "duration": 11,
    "start_time": "2021-12-01T20:49:07.440Z"
   },
   {
    "duration": 64,
    "start_time": "2021-12-01T20:58:43.893Z"
   },
   {
    "duration": 11,
    "start_time": "2021-12-01T20:59:07.734Z"
   },
   {
    "duration": 13,
    "start_time": "2021-12-01T21:11:32.532Z"
   },
   {
    "duration": 298,
    "start_time": "2021-12-01T21:14:22.940Z"
   },
   {
    "duration": 8,
    "start_time": "2021-12-01T21:14:30.291Z"
   },
   {
    "duration": 8,
    "start_time": "2021-12-01T21:15:07.828Z"
   },
   {
    "duration": 6,
    "start_time": "2021-12-01T21:16:39.460Z"
   },
   {
    "duration": 30,
    "start_time": "2021-12-01T21:20:18.828Z"
   },
   {
    "duration": 63,
    "start_time": "2021-12-01T21:22:49.883Z"
   },
   {
    "duration": 11,
    "start_time": "2021-12-01T21:22:53.162Z"
   },
   {
    "duration": 31,
    "start_time": "2021-12-01T21:22:59.565Z"
   },
   {
    "duration": 6,
    "start_time": "2021-12-01T21:43:18.656Z"
   },
   {
    "duration": 50,
    "start_time": "2021-12-01T21:45:53.274Z"
   },
   {
    "duration": 14,
    "start_time": "2021-12-01T21:45:55.418Z"
   },
   {
    "duration": 12,
    "start_time": "2021-12-01T21:46:09.786Z"
   },
   {
    "duration": 611,
    "start_time": "2021-12-01T21:52:25.007Z"
   },
   {
    "duration": 18,
    "start_time": "2021-12-01T21:52:25.620Z"
   },
   {
    "duration": 12,
    "start_time": "2021-12-01T21:52:25.640Z"
   },
   {
    "duration": 12,
    "start_time": "2021-12-01T21:52:25.654Z"
   },
   {
    "duration": 30,
    "start_time": "2021-12-01T21:52:25.668Z"
   },
   {
    "duration": 6,
    "start_time": "2021-12-01T21:52:25.699Z"
   },
   {
    "duration": 9,
    "start_time": "2021-12-01T21:52:25.706Z"
   },
   {
    "duration": 10,
    "start_time": "2021-12-01T21:56:51.915Z"
   },
   {
    "duration": 34,
    "start_time": "2021-12-01T21:57:02.340Z"
   },
   {
    "duration": 9,
    "start_time": "2021-12-01T21:58:02.532Z"
   },
   {
    "duration": 296,
    "start_time": "2021-12-01T21:58:46.254Z"
   },
   {
    "duration": 247,
    "start_time": "2021-12-01T22:00:48.828Z"
   },
   {
    "duration": 5,
    "start_time": "2021-12-01T22:01:07.269Z"
   },
   {
    "duration": 242,
    "start_time": "2021-12-01T22:01:11.196Z"
   },
   {
    "duration": 13,
    "start_time": "2021-12-01T22:01:25.859Z"
   },
   {
    "duration": 5,
    "start_time": "2021-12-01T22:01:39.932Z"
   },
   {
    "duration": 6,
    "start_time": "2021-12-01T22:01:53.940Z"
   },
   {
    "duration": 5,
    "start_time": "2021-12-01T22:01:57.355Z"
   },
   {
    "duration": 5,
    "start_time": "2021-12-01T22:02:01.555Z"
   },
   {
    "duration": 4,
    "start_time": "2021-12-01T22:02:08.859Z"
   },
   {
    "duration": 14,
    "start_time": "2021-12-01T22:02:47.152Z"
   },
   {
    "duration": 3,
    "start_time": "2021-12-01T22:02:54.642Z"
   },
   {
    "duration": 10,
    "start_time": "2021-12-01T22:03:04.179Z"
   },
   {
    "duration": 11,
    "start_time": "2021-12-01T22:03:13.507Z"
   },
   {
    "duration": 15,
    "start_time": "2021-12-01T22:03:32.540Z"
   },
   {
    "duration": 34,
    "start_time": "2021-12-01T22:04:02.547Z"
   },
   {
    "duration": 5,
    "start_time": "2021-12-01T22:05:11.741Z"
   },
   {
    "duration": 693,
    "start_time": "2021-12-01T22:05:19.135Z"
   },
   {
    "duration": 21,
    "start_time": "2021-12-01T22:05:19.830Z"
   },
   {
    "duration": 14,
    "start_time": "2021-12-01T22:05:19.853Z"
   },
   {
    "duration": 13,
    "start_time": "2021-12-01T22:05:19.869Z"
   },
   {
    "duration": 36,
    "start_time": "2021-12-01T22:05:19.884Z"
   },
   {
    "duration": 5,
    "start_time": "2021-12-01T22:05:19.922Z"
   },
   {
    "duration": 12,
    "start_time": "2021-12-01T22:05:19.929Z"
   },
   {
    "duration": 28,
    "start_time": "2021-12-01T22:05:19.944Z"
   },
   {
    "duration": 16,
    "start_time": "2021-12-01T22:05:19.974Z"
   },
   {
    "duration": 36,
    "start_time": "2021-12-01T22:05:19.992Z"
   },
   {
    "duration": 5,
    "start_time": "2021-12-01T22:05:20.030Z"
   },
   {
    "duration": 28,
    "start_time": "2021-12-01T22:05:20.036Z"
   },
   {
    "duration": 8,
    "start_time": "2021-12-01T22:05:20.067Z"
   },
   {
    "duration": 13,
    "start_time": "2021-12-01T22:05:20.076Z"
   },
   {
    "duration": 11,
    "start_time": "2021-12-01T22:05:20.091Z"
   },
   {
    "duration": 322,
    "start_time": "2021-12-01T22:05:20.104Z"
   },
   {
    "duration": 9,
    "start_time": "2021-12-01T22:57:27.655Z"
   },
   {
    "duration": 6,
    "start_time": "2021-12-01T22:58:00.536Z"
   },
   {
    "duration": 5,
    "start_time": "2021-12-01T22:58:09.840Z"
   },
   {
    "duration": 5,
    "start_time": "2021-12-01T22:58:15.426Z"
   },
   {
    "duration": 5,
    "start_time": "2021-12-01T22:58:30.378Z"
   },
   {
    "duration": 9,
    "start_time": "2021-12-01T22:58:55.000Z"
   },
   {
    "duration": 12,
    "start_time": "2021-12-01T23:00:29.203Z"
   },
   {
    "duration": 10,
    "start_time": "2021-12-01T23:00:36.344Z"
   },
   {
    "duration": 712,
    "start_time": "2021-12-01T23:00:44.629Z"
   },
   {
    "duration": 20,
    "start_time": "2021-12-01T23:00:45.343Z"
   },
   {
    "duration": 33,
    "start_time": "2021-12-01T23:00:45.366Z"
   },
   {
    "duration": 38,
    "start_time": "2021-12-01T23:00:45.402Z"
   },
   {
    "duration": 40,
    "start_time": "2021-12-01T23:00:45.442Z"
   },
   {
    "duration": 10,
    "start_time": "2021-12-01T23:00:45.485Z"
   },
   {
    "duration": 14,
    "start_time": "2021-12-01T23:00:45.496Z"
   },
   {
    "duration": 26,
    "start_time": "2021-12-01T23:00:45.512Z"
   },
   {
    "duration": 23,
    "start_time": "2021-12-01T23:00:45.540Z"
   },
   {
    "duration": 28,
    "start_time": "2021-12-01T23:00:45.565Z"
   },
   {
    "duration": 51,
    "start_time": "2021-12-01T23:00:45.594Z"
   },
   {
    "duration": 5,
    "start_time": "2021-12-01T23:00:45.647Z"
   },
   {
    "duration": 19,
    "start_time": "2021-12-01T23:00:45.653Z"
   },
   {
    "duration": 18,
    "start_time": "2021-12-01T23:00:45.674Z"
   },
   {
    "duration": 23,
    "start_time": "2021-12-01T23:00:45.693Z"
   },
   {
    "duration": 24,
    "start_time": "2021-12-01T23:00:45.718Z"
   },
   {
    "duration": 305,
    "start_time": "2021-12-01T23:00:45.744Z"
   },
   {
    "duration": 5,
    "start_time": "2021-12-01T23:06:47.476Z"
   },
   {
    "duration": 681,
    "start_time": "2021-12-01T23:07:00.142Z"
   },
   {
    "duration": 20,
    "start_time": "2021-12-01T23:07:00.825Z"
   },
   {
    "duration": 36,
    "start_time": "2021-12-01T23:07:00.847Z"
   },
   {
    "duration": 44,
    "start_time": "2021-12-01T23:07:00.885Z"
   },
   {
    "duration": 60,
    "start_time": "2021-12-01T23:07:00.932Z"
   },
   {
    "duration": 6,
    "start_time": "2021-12-01T23:07:00.995Z"
   },
   {
    "duration": 63,
    "start_time": "2021-12-01T23:07:01.002Z"
   },
   {
    "duration": 23,
    "start_time": "2021-12-01T23:07:01.068Z"
   },
   {
    "duration": 49,
    "start_time": "2021-12-01T23:07:01.093Z"
   },
   {
    "duration": 67,
    "start_time": "2021-12-01T23:07:01.143Z"
   },
   {
    "duration": 57,
    "start_time": "2021-12-01T23:07:01.212Z"
   },
   {
    "duration": 70,
    "start_time": "2021-12-01T23:07:01.271Z"
   },
   {
    "duration": 22,
    "start_time": "2021-12-01T23:07:01.343Z"
   },
   {
    "duration": 38,
    "start_time": "2021-12-01T23:07:01.367Z"
   },
   {
    "duration": 38,
    "start_time": "2021-12-01T23:07:01.407Z"
   },
   {
    "duration": 40,
    "start_time": "2021-12-01T23:07:01.447Z"
   },
   {
    "duration": 32,
    "start_time": "2021-12-01T23:07:01.489Z"
   },
   {
    "duration": 335,
    "start_time": "2021-12-01T23:07:01.523Z"
   },
   {
    "duration": 5,
    "start_time": "2021-12-01T23:07:29.940Z"
   },
   {
    "duration": 5,
    "start_time": "2021-12-01T23:07:32.677Z"
   },
   {
    "duration": 641,
    "start_time": "2021-12-01T23:07:39.300Z"
   },
   {
    "duration": 20,
    "start_time": "2021-12-01T23:07:39.944Z"
   },
   {
    "duration": 11,
    "start_time": "2021-12-01T23:07:39.966Z"
   },
   {
    "duration": 15,
    "start_time": "2021-12-01T23:07:39.979Z"
   },
   {
    "duration": 33,
    "start_time": "2021-12-01T23:07:39.996Z"
   },
   {
    "duration": 5,
    "start_time": "2021-12-01T23:07:40.031Z"
   },
   {
    "duration": 6,
    "start_time": "2021-12-01T23:07:40.062Z"
   },
   {
    "duration": 13,
    "start_time": "2021-12-01T23:07:40.070Z"
   },
   {
    "duration": 5,
    "start_time": "2021-12-01T23:07:40.085Z"
   },
   {
    "duration": 12,
    "start_time": "2021-12-01T23:07:40.092Z"
   },
   {
    "duration": 18,
    "start_time": "2021-12-01T23:07:40.106Z"
   },
   {
    "duration": 13,
    "start_time": "2021-12-01T23:07:40.126Z"
   },
   {
    "duration": 50,
    "start_time": "2021-12-01T23:07:40.141Z"
   },
   {
    "duration": 4,
    "start_time": "2021-12-01T23:07:40.193Z"
   },
   {
    "duration": 8,
    "start_time": "2021-12-01T23:07:40.199Z"
   },
   {
    "duration": 6,
    "start_time": "2021-12-01T23:07:40.209Z"
   },
   {
    "duration": 10,
    "start_time": "2021-12-01T23:07:40.217Z"
   },
   {
    "duration": 10,
    "start_time": "2021-12-01T23:07:40.229Z"
   },
   {
    "duration": 320,
    "start_time": "2021-12-01T23:07:40.241Z"
   },
   {
    "duration": 5,
    "start_time": "2021-12-01T23:08:12.871Z"
   },
   {
    "duration": 675,
    "start_time": "2021-12-01T23:08:24.361Z"
   },
   {
    "duration": 19,
    "start_time": "2021-12-01T23:08:25.039Z"
   },
   {
    "duration": 29,
    "start_time": "2021-12-01T23:08:25.061Z"
   },
   {
    "duration": 43,
    "start_time": "2021-12-01T23:08:25.092Z"
   },
   {
    "duration": 45,
    "start_time": "2021-12-01T23:08:25.137Z"
   },
   {
    "duration": 4,
    "start_time": "2021-12-01T23:08:25.184Z"
   },
   {
    "duration": 18,
    "start_time": "2021-12-01T23:08:25.190Z"
   },
   {
    "duration": 28,
    "start_time": "2021-12-01T23:08:25.211Z"
   },
   {
    "duration": 14,
    "start_time": "2021-12-01T23:08:25.242Z"
   },
   {
    "duration": 27,
    "start_time": "2021-12-01T23:08:25.258Z"
   },
   {
    "duration": 29,
    "start_time": "2021-12-01T23:08:25.287Z"
   },
   {
    "duration": 31,
    "start_time": "2021-12-01T23:08:25.318Z"
   },
   {
    "duration": 50,
    "start_time": "2021-12-01T23:08:25.350Z"
   },
   {
    "duration": 4,
    "start_time": "2021-12-01T23:08:25.401Z"
   },
   {
    "duration": 7,
    "start_time": "2021-12-01T23:08:25.407Z"
   },
   {
    "duration": 19,
    "start_time": "2021-12-01T23:08:25.416Z"
   },
   {
    "duration": 21,
    "start_time": "2021-12-01T23:08:25.437Z"
   },
   {
    "duration": 33,
    "start_time": "2021-12-01T23:08:25.459Z"
   },
   {
    "duration": 320,
    "start_time": "2021-12-01T23:08:25.493Z"
   },
   {
    "duration": 108,
    "start_time": "2021-12-01T23:09:30.968Z"
   },
   {
    "duration": 76,
    "start_time": "2021-12-01T23:09:40.559Z"
   },
   {
    "duration": 88,
    "start_time": "2021-12-01T23:10:16.375Z"
   },
   {
    "duration": 11,
    "start_time": "2021-12-01T23:10:31.610Z"
   },
   {
    "duration": 9,
    "start_time": "2021-12-01T23:10:37.056Z"
   },
   {
    "duration": -201,
    "start_time": "2021-12-01T23:12:42.805Z"
   },
   {
    "duration": 606,
    "start_time": "2021-12-01T23:12:54.213Z"
   },
   {
    "duration": 21,
    "start_time": "2021-12-01T23:12:54.821Z"
   },
   {
    "duration": 16,
    "start_time": "2021-12-01T23:12:54.844Z"
   },
   {
    "duration": 22,
    "start_time": "2021-12-01T23:12:54.862Z"
   },
   {
    "duration": 31,
    "start_time": "2021-12-01T23:12:54.886Z"
   },
   {
    "duration": 5,
    "start_time": "2021-12-01T23:12:54.918Z"
   },
   {
    "duration": 7,
    "start_time": "2021-12-01T23:12:54.924Z"
   },
   {
    "duration": 11,
    "start_time": "2021-12-01T23:12:54.933Z"
   },
   {
    "duration": 7025,
    "start_time": "2021-12-01T23:12:54.964Z"
   },
   {
    "duration": -516,
    "start_time": "2021-12-01T23:13:02.507Z"
   },
   {
    "duration": -769,
    "start_time": "2021-12-01T23:13:02.761Z"
   },
   {
    "duration": -771,
    "start_time": "2021-12-01T23:13:02.764Z"
   },
   {
    "duration": -774,
    "start_time": "2021-12-01T23:13:02.767Z"
   },
   {
    "duration": -776,
    "start_time": "2021-12-01T23:13:02.770Z"
   },
   {
    "duration": -778,
    "start_time": "2021-12-01T23:13:02.773Z"
   },
   {
    "duration": -780,
    "start_time": "2021-12-01T23:13:02.776Z"
   },
   {
    "duration": -818,
    "start_time": "2021-12-01T23:13:02.815Z"
   },
   {
    "duration": -826,
    "start_time": "2021-12-01T23:13:02.824Z"
   },
   {
    "duration": -828,
    "start_time": "2021-12-01T23:13:02.827Z"
   },
   {
    "duration": -829,
    "start_time": "2021-12-01T23:13:02.829Z"
   },
   {
    "duration": 654,
    "start_time": "2021-12-01T23:13:32.645Z"
   },
   {
    "duration": 18,
    "start_time": "2021-12-01T23:13:33.301Z"
   },
   {
    "duration": 18,
    "start_time": "2021-12-01T23:13:33.321Z"
   },
   {
    "duration": 22,
    "start_time": "2021-12-01T23:13:33.341Z"
   },
   {
    "duration": 30,
    "start_time": "2021-12-01T23:13:33.365Z"
   },
   {
    "duration": 4,
    "start_time": "2021-12-01T23:13:33.397Z"
   },
   {
    "duration": 16,
    "start_time": "2021-12-01T23:13:33.403Z"
   },
   {
    "duration": 26,
    "start_time": "2021-12-01T23:13:33.421Z"
   },
   {
    "duration": 7174,
    "start_time": "2021-12-01T23:13:33.448Z"
   },
   {
    "duration": 10,
    "start_time": "2021-12-01T23:14:16.384Z"
   },
   {
    "duration": 675,
    "start_time": "2021-12-01T23:20:58.038Z"
   },
   {
    "duration": 19,
    "start_time": "2021-12-01T23:20:58.715Z"
   },
   {
    "duration": 14,
    "start_time": "2021-12-01T23:20:58.736Z"
   },
   {
    "duration": 13,
    "start_time": "2021-12-01T23:20:58.751Z"
   },
   {
    "duration": 32,
    "start_time": "2021-12-01T23:20:58.766Z"
   },
   {
    "duration": 5,
    "start_time": "2021-12-01T23:20:58.799Z"
   },
   {
    "duration": 8,
    "start_time": "2021-12-01T23:20:58.806Z"
   },
   {
    "duration": 20,
    "start_time": "2021-12-01T23:20:58.816Z"
   },
   {
    "duration": 26,
    "start_time": "2021-12-01T23:20:58.839Z"
   },
   {
    "duration": 312,
    "start_time": "2021-12-01T23:23:16.198Z"
   },
   {
    "duration": 22,
    "start_time": "2021-12-01T23:23:35.327Z"
   },
   {
    "duration": 79,
    "start_time": "2021-12-01T23:25:44.818Z"
   },
   {
    "duration": 21,
    "start_time": "2021-12-01T23:26:11.164Z"
   },
   {
    "duration": 23,
    "start_time": "2021-12-01T23:27:20.242Z"
   },
   {
    "duration": 12,
    "start_time": "2021-12-01T23:28:28.317Z"
   },
   {
    "duration": 17,
    "start_time": "2021-12-01T23:28:36.346Z"
   },
   {
    "duration": 770,
    "start_time": "2021-12-01T23:35:10.038Z"
   },
   {
    "duration": 20,
    "start_time": "2021-12-01T23:35:10.810Z"
   },
   {
    "duration": 13,
    "start_time": "2021-12-01T23:35:10.833Z"
   },
   {
    "duration": 27,
    "start_time": "2021-12-01T23:35:10.848Z"
   },
   {
    "duration": 54,
    "start_time": "2021-12-01T23:35:10.877Z"
   },
   {
    "duration": 10,
    "start_time": "2021-12-01T23:35:10.934Z"
   },
   {
    "duration": 18,
    "start_time": "2021-12-01T23:35:10.945Z"
   },
   {
    "duration": 34,
    "start_time": "2021-12-01T23:35:10.966Z"
   },
   {
    "duration": 20,
    "start_time": "2021-12-01T23:35:11.002Z"
   },
   {
    "duration": 31,
    "start_time": "2021-12-01T23:35:11.024Z"
   },
   {
    "duration": 17,
    "start_time": "2021-12-01T23:35:11.057Z"
   },
   {
    "duration": 7,
    "start_time": "2021-12-01T23:54:53.409Z"
   },
   {
    "duration": 10,
    "start_time": "2021-12-02T00:07:27.955Z"
   },
   {
    "duration": 10,
    "start_time": "2021-12-02T00:07:54.704Z"
   },
   {
    "duration": 10,
    "start_time": "2021-12-02T00:08:47.410Z"
   },
   {
    "duration": 622,
    "start_time": "2021-12-02T14:55:17.701Z"
   },
   {
    "duration": 18,
    "start_time": "2021-12-02T14:55:18.326Z"
   },
   {
    "duration": 11,
    "start_time": "2021-12-02T14:55:18.345Z"
   },
   {
    "duration": 7,
    "start_time": "2021-12-02T14:55:18.358Z"
   },
   {
    "duration": 14,
    "start_time": "2021-12-02T14:55:18.366Z"
   },
   {
    "duration": 31,
    "start_time": "2021-12-02T14:55:18.381Z"
   },
   {
    "duration": 9,
    "start_time": "2021-12-02T14:55:18.414Z"
   },
   {
    "duration": 4,
    "start_time": "2021-12-02T14:55:18.425Z"
   },
   {
    "duration": 35,
    "start_time": "2021-12-02T14:55:18.431Z"
   },
   {
    "duration": 9,
    "start_time": "2021-12-02T14:55:18.468Z"
   },
   {
    "duration": 10,
    "start_time": "2021-12-02T14:55:18.479Z"
   },
   {
    "duration": 20,
    "start_time": "2021-12-02T14:55:18.491Z"
   },
   {
    "duration": 12,
    "start_time": "2021-12-02T14:55:18.513Z"
   },
   {
    "duration": 9,
    "start_time": "2021-12-02T15:00:27.894Z"
   },
   {
    "duration": 4,
    "start_time": "2021-12-02T15:38:34.665Z"
   },
   {
    "duration": 337,
    "start_time": "2021-12-03T22:45:05.585Z"
   },
   {
    "duration": 261,
    "start_time": "2021-12-03T22:45:24.558Z"
   },
   {
    "duration": 594,
    "start_time": "2021-12-03T22:45:35.372Z"
   },
   {
    "duration": 18,
    "start_time": "2021-12-03T22:45:35.968Z"
   },
   {
    "duration": 12,
    "start_time": "2021-12-03T22:45:35.988Z"
   },
   {
    "duration": 6,
    "start_time": "2021-12-03T22:45:36.002Z"
   },
   {
    "duration": 325,
    "start_time": "2021-12-03T22:45:36.009Z"
   },
   {
    "duration": -569,
    "start_time": "2021-12-03T22:45:36.905Z"
   },
   {
    "duration": -571,
    "start_time": "2021-12-03T22:45:36.908Z"
   },
   {
    "duration": -574,
    "start_time": "2021-12-03T22:45:36.912Z"
   },
   {
    "duration": -582,
    "start_time": "2021-12-03T22:45:36.920Z"
   },
   {
    "duration": -584,
    "start_time": "2021-12-03T22:45:36.923Z"
   },
   {
    "duration": -597,
    "start_time": "2021-12-03T22:45:36.937Z"
   },
   {
    "duration": -599,
    "start_time": "2021-12-03T22:45:36.940Z"
   },
   {
    "duration": -601,
    "start_time": "2021-12-03T22:45:36.943Z"
   },
   {
    "duration": -603,
    "start_time": "2021-12-03T22:45:36.946Z"
   },
   {
    "duration": 698,
    "start_time": "2021-12-04T00:02:10.991Z"
   },
   {
    "duration": 18,
    "start_time": "2021-12-04T00:02:11.691Z"
   },
   {
    "duration": 13,
    "start_time": "2021-12-04T00:02:11.711Z"
   },
   {
    "duration": 6,
    "start_time": "2021-12-04T00:02:11.725Z"
   },
   {
    "duration": 319,
    "start_time": "2021-12-04T00:02:11.732Z"
   },
   {
    "duration": -845,
    "start_time": "2021-12-04T00:02:12.898Z"
   },
   {
    "duration": -849,
    "start_time": "2021-12-04T00:02:12.903Z"
   },
   {
    "duration": -853,
    "start_time": "2021-12-04T00:02:12.908Z"
   },
   {
    "duration": -857,
    "start_time": "2021-12-04T00:02:12.913Z"
   },
   {
    "duration": -861,
    "start_time": "2021-12-04T00:02:12.918Z"
   },
   {
    "duration": -867,
    "start_time": "2021-12-04T00:02:12.925Z"
   },
   {
    "duration": -882,
    "start_time": "2021-12-04T00:02:12.941Z"
   },
   {
    "duration": -890,
    "start_time": "2021-12-04T00:02:12.950Z"
   },
   {
    "duration": -895,
    "start_time": "2021-12-04T00:02:12.956Z"
   },
   {
    "duration": 11,
    "start_time": "2021-12-04T00:03:51.282Z"
   },
   {
    "duration": 5,
    "start_time": "2021-12-04T00:04:03.740Z"
   },
   {
    "duration": 7,
    "start_time": "2021-12-04T00:04:14.547Z"
   },
   {
    "duration": 30,
    "start_time": "2021-12-04T00:04:37.355Z"
   },
   {
    "duration": 9,
    "start_time": "2021-12-04T00:04:43.516Z"
   },
   {
    "duration": 5,
    "start_time": "2021-12-04T00:04:47.868Z"
   },
   {
    "duration": 12,
    "start_time": "2021-12-04T00:04:51.768Z"
   },
   {
    "duration": 610,
    "start_time": "2021-12-04T00:11:02.855Z"
   },
   {
    "duration": 22,
    "start_time": "2021-12-04T00:11:03.467Z"
   },
   {
    "duration": 11,
    "start_time": "2021-12-04T00:11:03.491Z"
   },
   {
    "duration": 7,
    "start_time": "2021-12-04T00:11:03.504Z"
   },
   {
    "duration": 11,
    "start_time": "2021-12-04T00:11:03.513Z"
   },
   {
    "duration": 19,
    "start_time": "2021-12-04T00:11:03.526Z"
   },
   {
    "duration": 10,
    "start_time": "2021-12-04T00:11:03.547Z"
   },
   {
    "duration": 29,
    "start_time": "2021-12-04T00:11:03.559Z"
   },
   {
    "duration": 9,
    "start_time": "2021-12-04T00:11:03.589Z"
   },
   {
    "duration": 6,
    "start_time": "2021-12-04T00:11:03.599Z"
   },
   {
    "duration": 44,
    "start_time": "2021-12-04T00:11:03.606Z"
   },
   {
    "duration": 11,
    "start_time": "2021-12-04T00:11:03.652Z"
   },
   {
    "duration": 8,
    "start_time": "2021-12-04T00:11:03.665Z"
   },
   {
    "duration": 16,
    "start_time": "2021-12-04T00:11:03.675Z"
   },
   {
    "duration": 10,
    "start_time": "2021-12-04T00:11:03.692Z"
   },
   {
    "duration": 7,
    "start_time": "2021-12-04T00:13:14.693Z"
   },
   {
    "duration": 8,
    "start_time": "2021-12-04T00:14:23.374Z"
   },
   {
    "duration": 5,
    "start_time": "2021-12-04T00:14:43.391Z"
   },
   {
    "duration": 5,
    "start_time": "2021-12-04T00:14:47.576Z"
   },
   {
    "duration": 85,
    "start_time": "2021-12-04T00:15:20.943Z"
   },
   {
    "duration": 20,
    "start_time": "2021-12-04T00:15:36.098Z"
   },
   {
    "duration": 22,
    "start_time": "2021-12-04T00:15:38.838Z"
   },
   {
    "duration": 23,
    "start_time": "2021-12-04T00:16:00.343Z"
   },
   {
    "duration": 21,
    "start_time": "2021-12-04T00:16:16.566Z"
   },
   {
    "duration": 10,
    "start_time": "2021-12-04T00:16:51.198Z"
   },
   {
    "duration": 5,
    "start_time": "2021-12-04T00:20:43.340Z"
   },
   {
    "duration": 5,
    "start_time": "2021-12-04T00:21:14.237Z"
   },
   {
    "duration": 650,
    "start_time": "2021-12-04T05:25:47.593Z"
   },
   {
    "duration": 652,
    "start_time": "2021-12-04T05:26:07.173Z"
   },
   {
    "duration": 55,
    "start_time": "2021-12-04T05:26:07.826Z"
   },
   {
    "duration": 19,
    "start_time": "2021-12-04T05:26:07.883Z"
   },
   {
    "duration": 13,
    "start_time": "2021-12-04T05:26:07.907Z"
   },
   {
    "duration": 16,
    "start_time": "2021-12-04T05:26:07.922Z"
   },
   {
    "duration": 62,
    "start_time": "2021-12-04T05:26:07.940Z"
   },
   {
    "duration": 28,
    "start_time": "2021-12-04T05:26:08.004Z"
   },
   {
    "duration": 35,
    "start_time": "2021-12-04T05:26:08.034Z"
   },
   {
    "duration": 48,
    "start_time": "2021-12-04T05:26:08.071Z"
   },
   {
    "duration": 50,
    "start_time": "2021-12-04T05:26:08.121Z"
   },
   {
    "duration": 44,
    "start_time": "2021-12-04T05:26:08.172Z"
   },
   {
    "duration": 10,
    "start_time": "2021-12-04T05:26:08.217Z"
   },
   {
    "duration": 17,
    "start_time": "2021-12-04T05:26:08.229Z"
   },
   {
    "duration": 23,
    "start_time": "2021-12-04T05:26:08.248Z"
   },
   {
    "duration": 20,
    "start_time": "2021-12-04T05:26:08.273Z"
   },
   {
    "duration": 21,
    "start_time": "2021-12-04T05:26:08.295Z"
   },
   {
    "duration": 14,
    "start_time": "2021-12-04T05:26:08.318Z"
   },
   {
    "duration": 30,
    "start_time": "2021-12-04T05:26:08.334Z"
   },
   {
    "duration": 41,
    "start_time": "2021-12-04T05:26:08.365Z"
   },
   {
    "duration": 22,
    "start_time": "2021-12-04T05:26:08.407Z"
   },
   {
    "duration": 18,
    "start_time": "2021-12-04T05:26:08.431Z"
   },
   {
    "duration": 25,
    "start_time": "2021-12-04T05:26:08.450Z"
   },
   {
    "duration": 12,
    "start_time": "2021-12-04T05:26:08.476Z"
   },
   {
    "duration": 410,
    "start_time": "2021-12-04T05:27:13.059Z"
   },
   {
    "duration": 8,
    "start_time": "2021-12-04T05:34:34.372Z"
   },
   {
    "duration": 18,
    "start_time": "2021-12-04T05:34:52.339Z"
   },
   {
    "duration": 14,
    "start_time": "2021-12-04T05:38:06.592Z"
   },
   {
    "duration": 32,
    "start_time": "2021-12-04T05:39:03.746Z"
   },
   {
    "duration": 50,
    "start_time": "2021-12-04T05:40:11.481Z"
   },
   {
    "duration": 14,
    "start_time": "2021-12-04T05:40:13.873Z"
   },
   {
    "duration": 626,
    "start_time": "2021-12-04T05:42:13.905Z"
   },
   {
    "duration": 51,
    "start_time": "2021-12-04T05:42:14.532Z"
   },
   {
    "duration": 18,
    "start_time": "2021-12-04T05:42:14.585Z"
   },
   {
    "duration": 11,
    "start_time": "2021-12-04T05:42:14.607Z"
   },
   {
    "duration": 12,
    "start_time": "2021-12-04T05:42:14.620Z"
   },
   {
    "duration": 15,
    "start_time": "2021-12-04T05:42:14.634Z"
   },
   {
    "duration": 56,
    "start_time": "2021-12-04T05:42:14.651Z"
   },
   {
    "duration": 9,
    "start_time": "2021-12-04T05:42:14.710Z"
   },
   {
    "duration": 9252,
    "start_time": "2021-12-04T05:42:14.721Z"
   },
   {
    "duration": -460,
    "start_time": "2021-12-04T05:42:24.435Z"
   },
   {
    "duration": -464,
    "start_time": "2021-12-04T05:42:24.440Z"
   },
   {
    "duration": -471,
    "start_time": "2021-12-04T05:42:24.448Z"
   },
   {
    "duration": -474,
    "start_time": "2021-12-04T05:42:24.452Z"
   },
   {
    "duration": -476,
    "start_time": "2021-12-04T05:42:24.455Z"
   },
   {
    "duration": -478,
    "start_time": "2021-12-04T05:42:24.458Z"
   },
   {
    "duration": -485,
    "start_time": "2021-12-04T05:42:24.466Z"
   },
   {
    "duration": -486,
    "start_time": "2021-12-04T05:42:24.468Z"
   },
   {
    "duration": -488,
    "start_time": "2021-12-04T05:42:24.471Z"
   },
   {
    "duration": 8513,
    "start_time": "2021-12-04T05:43:15.377Z"
   },
   {
    "duration": 341,
    "start_time": "2021-12-04T05:43:23.951Z"
   },
   {
    "duration": 9683,
    "start_time": "2021-12-04T05:43:33.502Z"
   },
   {
    "duration": -460,
    "start_time": "2021-12-04T05:43:43.647Z"
   },
   {
    "duration": 644,
    "start_time": "2021-12-04T05:43:51.688Z"
   },
   {
    "duration": 54,
    "start_time": "2021-12-04T05:43:52.333Z"
   },
   {
    "duration": 19,
    "start_time": "2021-12-04T05:43:52.389Z"
   },
   {
    "duration": 13,
    "start_time": "2021-12-04T05:43:52.409Z"
   },
   {
    "duration": 13,
    "start_time": "2021-12-04T05:43:52.424Z"
   },
   {
    "duration": 16,
    "start_time": "2021-12-04T05:43:52.438Z"
   },
   {
    "duration": 57,
    "start_time": "2021-12-04T05:43:52.456Z"
   },
   {
    "duration": 10,
    "start_time": "2021-12-04T05:43:52.514Z"
   },
   {
    "duration": 9027,
    "start_time": "2021-12-04T05:43:52.527Z"
   },
   {
    "duration": -468,
    "start_time": "2021-12-04T05:44:02.024Z"
   },
   {
    "duration": -471,
    "start_time": "2021-12-04T05:44:02.028Z"
   },
   {
    "duration": -473,
    "start_time": "2021-12-04T05:44:02.031Z"
   },
   {
    "duration": -475,
    "start_time": "2021-12-04T05:44:02.034Z"
   },
   {
    "duration": -477,
    "start_time": "2021-12-04T05:44:02.037Z"
   },
   {
    "duration": -478,
    "start_time": "2021-12-04T05:44:02.039Z"
   },
   {
    "duration": -482,
    "start_time": "2021-12-04T05:44:02.044Z"
   },
   {
    "duration": -484,
    "start_time": "2021-12-04T05:44:02.047Z"
   },
   {
    "duration": -484,
    "start_time": "2021-12-04T05:44:02.049Z"
   },
   {
    "duration": 5,
    "start_time": "2021-12-04T05:44:24.926Z"
   },
   {
    "duration": 583,
    "start_time": "2021-12-04T05:44:41.563Z"
   },
   {
    "duration": 52,
    "start_time": "2021-12-04T05:44:42.148Z"
   },
   {
    "duration": 19,
    "start_time": "2021-12-04T05:44:42.202Z"
   },
   {
    "duration": 13,
    "start_time": "2021-12-04T05:44:42.222Z"
   },
   {
    "duration": 11,
    "start_time": "2021-12-04T05:44:42.236Z"
   },
   {
    "duration": 16,
    "start_time": "2021-12-04T05:44:42.249Z"
   },
   {
    "duration": 62,
    "start_time": "2021-12-04T05:44:42.267Z"
   },
   {
    "duration": 10,
    "start_time": "2021-12-04T05:44:42.331Z"
   },
   {
    "duration": 5,
    "start_time": "2021-12-04T05:44:42.342Z"
   },
   {
    "duration": 8942,
    "start_time": "2021-12-04T05:44:42.349Z"
   },
   {
    "duration": -460,
    "start_time": "2021-12-04T05:44:51.753Z"
   },
   {
    "duration": -461,
    "start_time": "2021-12-04T05:44:51.755Z"
   },
   {
    "duration": -463,
    "start_time": "2021-12-04T05:44:51.758Z"
   },
   {
    "duration": -465,
    "start_time": "2021-12-04T05:44:51.761Z"
   },
   {
    "duration": -467,
    "start_time": "2021-12-04T05:44:51.764Z"
   },
   {
    "duration": -469,
    "start_time": "2021-12-04T05:44:51.767Z"
   },
   {
    "duration": -472,
    "start_time": "2021-12-04T05:44:51.770Z"
   },
   {
    "duration": -474,
    "start_time": "2021-12-04T05:44:51.773Z"
   },
   {
    "duration": 566,
    "start_time": "2021-12-04T05:45:09.159Z"
   },
   {
    "duration": 52,
    "start_time": "2021-12-04T05:45:09.727Z"
   },
   {
    "duration": 18,
    "start_time": "2021-12-04T05:45:09.783Z"
   },
   {
    "duration": 11,
    "start_time": "2021-12-04T05:45:09.803Z"
   },
   {
    "duration": 12,
    "start_time": "2021-12-04T05:45:09.816Z"
   },
   {
    "duration": 14,
    "start_time": "2021-12-04T05:45:09.830Z"
   },
   {
    "duration": 30,
    "start_time": "2021-12-04T05:45:09.846Z"
   },
   {
    "duration": 35,
    "start_time": "2021-12-04T05:45:09.879Z"
   },
   {
    "duration": 4,
    "start_time": "2021-12-04T05:45:09.916Z"
   },
   {
    "duration": 12,
    "start_time": "2021-12-04T05:45:09.921Z"
   },
   {
    "duration": 8714,
    "start_time": "2021-12-04T05:45:09.935Z"
   },
   {
    "duration": -466,
    "start_time": "2021-12-04T05:45:19.117Z"
   },
   {
    "duration": -468,
    "start_time": "2021-12-04T05:45:19.120Z"
   },
   {
    "duration": -470,
    "start_time": "2021-12-04T05:45:19.123Z"
   },
   {
    "duration": -472,
    "start_time": "2021-12-04T05:45:19.126Z"
   },
   {
    "duration": -474,
    "start_time": "2021-12-04T05:45:19.129Z"
   },
   {
    "duration": -476,
    "start_time": "2021-12-04T05:45:19.132Z"
   },
   {
    "duration": -478,
    "start_time": "2021-12-04T05:45:19.135Z"
   },
   {
    "duration": 8674,
    "start_time": "2021-12-04T05:46:05.511Z"
   },
   {
    "duration": 21,
    "start_time": "2021-12-04T05:46:23.607Z"
   },
   {
    "duration": 651,
    "start_time": "2021-12-04T05:47:12.883Z"
   },
   {
    "duration": 53,
    "start_time": "2021-12-04T05:47:13.536Z"
   },
   {
    "duration": 19,
    "start_time": "2021-12-04T05:47:13.591Z"
   },
   {
    "duration": 12,
    "start_time": "2021-12-04T05:47:13.612Z"
   },
   {
    "duration": 11,
    "start_time": "2021-12-04T05:47:13.626Z"
   },
   {
    "duration": 16,
    "start_time": "2021-12-04T05:47:13.639Z"
   },
   {
    "duration": 56,
    "start_time": "2021-12-04T05:47:13.656Z"
   },
   {
    "duration": 10,
    "start_time": "2021-12-04T05:47:13.715Z"
   },
   {
    "duration": 21,
    "start_time": "2021-12-04T05:47:13.727Z"
   },
   {
    "duration": 4,
    "start_time": "2021-12-04T05:47:13.750Z"
   },
   {
    "duration": 19,
    "start_time": "2021-12-04T05:47:13.756Z"
   },
   {
    "duration": 8627,
    "start_time": "2021-12-04T05:47:13.807Z"
   },
   {
    "duration": -472,
    "start_time": "2021-12-04T05:47:22.908Z"
   },
   {
    "duration": -476,
    "start_time": "2021-12-04T05:47:22.914Z"
   },
   {
    "duration": -479,
    "start_time": "2021-12-04T05:47:22.919Z"
   },
   {
    "duration": -482,
    "start_time": "2021-12-04T05:47:22.923Z"
   },
   {
    "duration": -483,
    "start_time": "2021-12-04T05:47:22.926Z"
   },
   {
    "duration": -485,
    "start_time": "2021-12-04T05:47:22.929Z"
   },
   {
    "duration": -485,
    "start_time": "2021-12-04T05:47:22.931Z"
   },
   {
    "duration": -489,
    "start_time": "2021-12-04T05:47:22.936Z"
   },
   {
    "duration": 641,
    "start_time": "2021-12-04T05:48:08.285Z"
   },
   {
    "duration": 54,
    "start_time": "2021-12-04T05:48:08.928Z"
   },
   {
    "duration": 20,
    "start_time": "2021-12-04T05:48:08.984Z"
   },
   {
    "duration": 14,
    "start_time": "2021-12-04T05:48:09.007Z"
   },
   {
    "duration": 25,
    "start_time": "2021-12-04T05:48:09.022Z"
   },
   {
    "duration": 17,
    "start_time": "2021-12-04T05:48:09.049Z"
   },
   {
    "duration": 47,
    "start_time": "2021-12-04T05:48:09.068Z"
   },
   {
    "duration": 12,
    "start_time": "2021-12-04T05:48:09.118Z"
   },
   {
    "duration": 13,
    "start_time": "2021-12-04T05:48:09.132Z"
   },
   {
    "duration": 8337,
    "start_time": "2021-12-04T05:48:09.147Z"
   },
   {
    "duration": -495,
    "start_time": "2021-12-04T05:48:17.981Z"
   },
   {
    "duration": -497,
    "start_time": "2021-12-04T05:48:17.984Z"
   },
   {
    "duration": -499,
    "start_time": "2021-12-04T05:48:17.987Z"
   },
   {
    "duration": -501,
    "start_time": "2021-12-04T05:48:17.990Z"
   },
   {
    "duration": -503,
    "start_time": "2021-12-04T05:48:17.993Z"
   },
   {
    "duration": -505,
    "start_time": "2021-12-04T05:48:17.996Z"
   },
   {
    "duration": -507,
    "start_time": "2021-12-04T05:48:17.999Z"
   },
   {
    "duration": -509,
    "start_time": "2021-12-04T05:48:18.002Z"
   },
   {
    "duration": 9,
    "start_time": "2021-12-04T05:48:26.918Z"
   },
   {
    "duration": 9025,
    "start_time": "2021-12-04T05:48:31.869Z"
   },
   {
    "duration": 361,
    "start_time": "2021-12-04T05:49:22.821Z"
   },
   {
    "duration": 7,
    "start_time": "2021-12-04T05:49:36.221Z"
   },
   {
    "duration": 5,
    "start_time": "2021-12-04T05:49:38.613Z"
   },
   {
    "duration": 386,
    "start_time": "2021-12-04T05:49:46.544Z"
   },
   {
    "duration": 22,
    "start_time": "2021-12-04T05:50:04.584Z"
   },
   {
    "duration": 24,
    "start_time": "2021-12-04T05:50:07.837Z"
   },
   {
    "duration": 19,
    "start_time": "2021-12-04T05:50:11.989Z"
   },
   {
    "duration": 13,
    "start_time": "2021-12-04T05:50:20.293Z"
   },
   {
    "duration": 10,
    "start_time": "2021-12-04T05:50:27.884Z"
   },
   {
    "duration": 602,
    "start_time": "2021-12-04T05:50:33.610Z"
   },
   {
    "duration": 54,
    "start_time": "2021-12-04T05:50:34.214Z"
   },
   {
    "duration": 20,
    "start_time": "2021-12-04T05:50:34.270Z"
   },
   {
    "duration": 19,
    "start_time": "2021-12-04T05:50:34.293Z"
   },
   {
    "duration": 12,
    "start_time": "2021-12-04T05:50:34.314Z"
   },
   {
    "duration": 14,
    "start_time": "2021-12-04T05:50:34.328Z"
   },
   {
    "duration": 30,
    "start_time": "2021-12-04T05:50:34.344Z"
   },
   {
    "duration": 35,
    "start_time": "2021-12-04T05:50:34.376Z"
   },
   {
    "duration": 6,
    "start_time": "2021-12-04T05:50:34.412Z"
   },
   {
    "duration": 11,
    "start_time": "2021-12-04T05:50:34.419Z"
   },
   {
    "duration": 10,
    "start_time": "2021-12-04T05:50:34.432Z"
   },
   {
    "duration": 7,
    "start_time": "2021-12-04T05:50:34.444Z"
   },
   {
    "duration": 9,
    "start_time": "2021-12-04T05:50:34.452Z"
   },
   {
    "duration": 59,
    "start_time": "2021-12-04T05:50:34.463Z"
   },
   {
    "duration": 14,
    "start_time": "2021-12-04T05:50:34.524Z"
   },
   {
    "duration": 10,
    "start_time": "2021-12-04T05:50:34.540Z"
   },
   {
    "duration": 372,
    "start_time": "2021-12-04T05:50:34.552Z"
   },
   {
    "duration": -439,
    "start_time": "2021-12-04T05:50:35.365Z"
   },
   {
    "duration": 351,
    "start_time": "2021-12-04T05:53:04.528Z"
   },
   {
    "duration": 19,
    "start_time": "2021-12-04T05:53:10.576Z"
   },
   {
    "duration": 31,
    "start_time": "2021-12-04T05:55:41.360Z"
   },
   {
    "duration": 347,
    "start_time": "2021-12-04T05:56:10.871Z"
   },
   {
    "duration": 6,
    "start_time": "2021-12-04T05:56:18.966Z"
   },
   {
    "duration": 32,
    "start_time": "2021-12-04T05:56:39.015Z"
   },
   {
    "duration": 5,
    "start_time": "2021-12-04T05:59:25.086Z"
   },
   {
    "duration": 5,
    "start_time": "2021-12-04T05:59:27.637Z"
   },
   {
    "duration": 29,
    "start_time": "2021-12-04T05:59:31.336Z"
   },
   {
    "duration": 4,
    "start_time": "2021-12-04T06:00:43.543Z"
   },
   {
    "duration": 30,
    "start_time": "2021-12-04T06:00:45.373Z"
   },
   {
    "duration": 18,
    "start_time": "2021-12-04T06:03:28.757Z"
   },
   {
    "duration": 6,
    "start_time": "2021-12-04T06:04:58.550Z"
   },
   {
    "duration": 323,
    "start_time": "2021-12-04T06:05:57.718Z"
   },
   {
    "duration": 5,
    "start_time": "2021-12-04T06:06:06.934Z"
   },
   {
    "duration": 5,
    "start_time": "2021-12-04T06:06:10.757Z"
   },
   {
    "duration": 22,
    "start_time": "2021-12-04T06:08:15.399Z"
   },
   {
    "duration": 10,
    "start_time": "2021-12-04T06:08:32.301Z"
   },
   {
    "duration": 22,
    "start_time": "2021-12-04T06:08:36.293Z"
   },
   {
    "duration": 22,
    "start_time": "2021-12-04T06:08:53.586Z"
   },
   {
    "duration": 10,
    "start_time": "2021-12-04T06:08:56.493Z"
   },
   {
    "duration": 632,
    "start_time": "2021-12-04T06:09:02.313Z"
   },
   {
    "duration": 54,
    "start_time": "2021-12-04T06:09:02.947Z"
   },
   {
    "duration": 20,
    "start_time": "2021-12-04T06:09:03.004Z"
   },
   {
    "duration": 14,
    "start_time": "2021-12-04T06:09:03.027Z"
   },
   {
    "duration": 12,
    "start_time": "2021-12-04T06:09:03.043Z"
   },
   {
    "duration": 17,
    "start_time": "2021-12-04T06:09:03.057Z"
   },
   {
    "duration": 61,
    "start_time": "2021-12-04T06:09:03.076Z"
   },
   {
    "duration": 10,
    "start_time": "2021-12-04T06:09:03.141Z"
   },
   {
    "duration": 5,
    "start_time": "2021-12-04T06:09:03.154Z"
   },
   {
    "duration": 51,
    "start_time": "2021-12-04T06:09:03.161Z"
   },
   {
    "duration": 8,
    "start_time": "2021-12-04T06:09:03.214Z"
   },
   {
    "duration": 11,
    "start_time": "2021-12-04T06:09:03.224Z"
   },
   {
    "duration": 19,
    "start_time": "2021-12-04T06:09:03.237Z"
   },
   {
    "duration": 26,
    "start_time": "2021-12-04T06:09:03.258Z"
   },
   {
    "duration": 20,
    "start_time": "2021-12-04T06:09:03.286Z"
   },
   {
    "duration": 10,
    "start_time": "2021-12-04T06:09:03.308Z"
   },
   {
    "duration": 6,
    "start_time": "2021-12-04T06:09:03.319Z"
   },
   {
    "duration": 31,
    "start_time": "2021-12-04T06:09:03.327Z"
   },
   {
    "duration": 2,
    "start_time": "2021-12-04T06:09:03.359Z"
   },
   {
    "duration": 7,
    "start_time": "2021-12-04T06:09:03.363Z"
   },
   {
    "duration": 6,
    "start_time": "2021-12-04T06:09:03.371Z"
   },
   {
    "duration": 47,
    "start_time": "2021-12-04T06:09:03.378Z"
   },
   {
    "duration": 10,
    "start_time": "2021-12-04T06:09:03.428Z"
   },
   {
    "duration": 30,
    "start_time": "2021-12-04T06:09:19.305Z"
   },
   {
    "duration": 5,
    "start_time": "2021-12-04T06:23:58.447Z"
   },
   {
    "duration": 404,
    "start_time": "2021-12-04T06:24:09.049Z"
   },
   {
    "duration": 12,
    "start_time": "2021-12-04T06:24:18.618Z"
   },
   {
    "duration": 13,
    "start_time": "2021-12-04T06:24:21.382Z"
   },
   {
    "duration": 7,
    "start_time": "2021-12-04T06:24:26.206Z"
   },
   {
    "duration": 435,
    "start_time": "2021-12-04T06:25:06.887Z"
   },
   {
    "duration": 7,
    "start_time": "2021-12-04T06:25:13.904Z"
   },
   {
    "duration": 13,
    "start_time": "2021-12-04T06:25:29.863Z"
   },
   {
    "duration": 8,
    "start_time": "2021-12-04T06:25:35.909Z"
   },
   {
    "duration": 21,
    "start_time": "2021-12-04T06:25:54.239Z"
   },
   {
    "duration": 5,
    "start_time": "2021-12-04T06:26:46.237Z"
   },
   {
    "duration": 6,
    "start_time": "2021-12-04T06:27:58.198Z"
   },
   {
    "duration": 4,
    "start_time": "2021-12-04T06:28:37.111Z"
   },
   {
    "duration": 6,
    "start_time": "2021-12-04T06:28:39.501Z"
   },
   {
    "duration": 4,
    "start_time": "2021-12-04T06:29:56.439Z"
   },
   {
    "duration": 4,
    "start_time": "2021-12-04T06:32:03.974Z"
   },
   {
    "duration": 7,
    "start_time": "2021-12-04T06:32:12.879Z"
   },
   {
    "duration": 6,
    "start_time": "2021-12-04T06:33:20.372Z"
   },
   {
    "duration": 8,
    "start_time": "2021-12-04T06:33:36.068Z"
   },
   {
    "duration": 5,
    "start_time": "2021-12-04T06:34:23.925Z"
   },
   {
    "duration": 7,
    "start_time": "2021-12-04T06:35:26.982Z"
   },
   {
    "duration": 11,
    "start_time": "2021-12-04T06:45:36.276Z"
   },
   {
    "duration": 5,
    "start_time": "2021-12-04T06:47:25.476Z"
   },
   {
    "duration": 12,
    "start_time": "2021-12-04T06:47:30.437Z"
   },
   {
    "duration": 5,
    "start_time": "2021-12-04T06:47:53.108Z"
   },
   {
    "duration": 5,
    "start_time": "2021-12-04T06:49:03.291Z"
   },
   {
    "duration": 6,
    "start_time": "2021-12-04T06:49:09.172Z"
   },
   {
    "duration": 18,
    "start_time": "2021-12-04T06:51:46.794Z"
   },
   {
    "duration": 31,
    "start_time": "2021-12-04T06:52:29.684Z"
   },
   {
    "duration": 16,
    "start_time": "2021-12-04T06:53:20.859Z"
   },
   {
    "duration": 27,
    "start_time": "2021-12-04T06:53:26.699Z"
   },
   {
    "duration": 691,
    "start_time": "2021-12-04T06:55:20.833Z"
   },
   {
    "duration": 52,
    "start_time": "2021-12-04T06:55:21.527Z"
   },
   {
    "duration": 19,
    "start_time": "2021-12-04T06:55:21.581Z"
   },
   {
    "duration": 26,
    "start_time": "2021-12-04T06:55:21.602Z"
   },
   {
    "duration": 11,
    "start_time": "2021-12-04T06:55:21.630Z"
   },
   {
    "duration": 15,
    "start_time": "2021-12-04T06:55:21.643Z"
   },
   {
    "duration": 54,
    "start_time": "2021-12-04T06:55:21.660Z"
   },
   {
    "duration": 11,
    "start_time": "2021-12-04T06:55:21.718Z"
   },
   {
    "duration": 5,
    "start_time": "2021-12-04T06:55:21.732Z"
   },
   {
    "duration": 11,
    "start_time": "2021-12-04T06:55:21.739Z"
   },
   {
    "duration": 10,
    "start_time": "2021-12-04T06:55:21.752Z"
   },
   {
    "duration": 6,
    "start_time": "2021-12-04T06:55:21.764Z"
   },
   {
    "duration": 8,
    "start_time": "2021-12-04T06:55:21.811Z"
   },
   {
    "duration": 21,
    "start_time": "2021-12-04T06:55:21.821Z"
   },
   {
    "duration": 13,
    "start_time": "2021-12-04T06:55:21.844Z"
   },
   {
    "duration": 9,
    "start_time": "2021-12-04T06:55:21.859Z"
   },
   {
    "duration": 4,
    "start_time": "2021-12-04T06:55:21.869Z"
   },
   {
    "duration": 36,
    "start_time": "2021-12-04T06:55:21.908Z"
   },
   {
    "duration": 2,
    "start_time": "2021-12-04T06:55:21.946Z"
   },
   {
    "duration": 7,
    "start_time": "2021-12-04T06:55:21.949Z"
   },
   {
    "duration": 5,
    "start_time": "2021-12-04T06:55:21.957Z"
   },
   {
    "duration": 57,
    "start_time": "2021-12-04T06:55:21.963Z"
   },
   {
    "duration": 28,
    "start_time": "2021-12-04T06:55:22.024Z"
   },
   {
    "duration": 10,
    "start_time": "2021-12-04T06:55:22.053Z"
   },
   {
    "duration": 5,
    "start_time": "2021-12-04T06:55:22.064Z"
   },
   {
    "duration": 39,
    "start_time": "2021-12-04T06:55:22.071Z"
   },
   {
    "duration": 10,
    "start_time": "2021-12-04T06:55:22.112Z"
   },
   {
    "duration": 5,
    "start_time": "2021-12-04T06:55:22.124Z"
   },
   {
    "duration": 13,
    "start_time": "2021-12-04T06:55:22.130Z"
   },
   {
    "duration": 11,
    "start_time": "2021-12-04T06:55:22.144Z"
   },
   {
    "duration": 6,
    "start_time": "2021-12-04T06:55:22.156Z"
   },
   {
    "duration": 6,
    "start_time": "2021-12-04T06:55:22.164Z"
   },
   {
    "duration": 42,
    "start_time": "2021-12-04T06:55:22.172Z"
   },
   {
    "duration": 5,
    "start_time": "2021-12-04T06:55:22.217Z"
   },
   {
    "duration": 7,
    "start_time": "2021-12-04T06:55:22.224Z"
   },
   {
    "duration": 5,
    "start_time": "2021-12-04T06:55:22.234Z"
   },
   {
    "duration": 9,
    "start_time": "2021-12-04T06:55:22.241Z"
   },
   {
    "duration": 6,
    "start_time": "2021-12-04T06:55:22.252Z"
   },
   {
    "duration": 51,
    "start_time": "2021-12-04T06:55:22.260Z"
   },
   {
    "duration": 5,
    "start_time": "2021-12-04T06:55:22.314Z"
   },
   {
    "duration": 6,
    "start_time": "2021-12-04T06:55:22.322Z"
   },
   {
    "duration": 21,
    "start_time": "2021-12-04T06:55:22.329Z"
   },
   {
    "duration": 32,
    "start_time": "2021-12-04T06:55:22.352Z"
   },
   {
    "duration": 43,
    "start_time": "2021-12-04T06:55:22.386Z"
   },
   {
    "duration": 16,
    "start_time": "2021-12-04T06:55:22.431Z"
   },
   {
    "duration": 606,
    "start_time": "2021-12-04T06:56:13.232Z"
   },
   {
    "duration": 49,
    "start_time": "2021-12-04T06:56:13.840Z"
   },
   {
    "duration": 22,
    "start_time": "2021-12-04T06:56:13.891Z"
   },
   {
    "duration": 14,
    "start_time": "2021-12-04T06:56:13.917Z"
   },
   {
    "duration": 12,
    "start_time": "2021-12-04T06:56:13.933Z"
   },
   {
    "duration": 15,
    "start_time": "2021-12-04T06:56:13.947Z"
   },
   {
    "duration": 62,
    "start_time": "2021-12-04T06:56:13.963Z"
   },
   {
    "duration": 10,
    "start_time": "2021-12-04T06:56:14.027Z"
   },
   {
    "duration": 5,
    "start_time": "2021-12-04T06:56:14.039Z"
   },
   {
    "duration": 10,
    "start_time": "2021-12-04T06:56:14.045Z"
   },
   {
    "duration": 8,
    "start_time": "2021-12-04T06:56:14.057Z"
   },
   {
    "duration": 5,
    "start_time": "2021-12-04T06:56:14.066Z"
   },
   {
    "duration": 39,
    "start_time": "2021-12-04T06:56:14.072Z"
   },
   {
    "duration": 36,
    "start_time": "2021-12-04T06:56:14.114Z"
   },
   {
    "duration": 22,
    "start_time": "2021-12-04T06:56:14.159Z"
   },
   {
    "duration": 34,
    "start_time": "2021-12-04T06:56:14.183Z"
   },
   {
    "duration": 8,
    "start_time": "2021-12-04T06:56:14.220Z"
   },
   {
    "duration": 83,
    "start_time": "2021-12-04T06:56:14.230Z"
   },
   {
    "duration": 2,
    "start_time": "2021-12-04T06:56:14.316Z"
   },
   {
    "duration": 36,
    "start_time": "2021-12-04T06:56:14.320Z"
   },
   {
    "duration": 16,
    "start_time": "2021-12-04T06:56:14.358Z"
   },
   {
    "duration": 49,
    "start_time": "2021-12-04T06:56:14.376Z"
   },
   {
    "duration": 84,
    "start_time": "2021-12-04T06:56:14.429Z"
   },
   {
    "duration": 15,
    "start_time": "2021-12-04T06:56:14.517Z"
   },
   {
    "duration": 34,
    "start_time": "2021-12-04T06:56:14.547Z"
   },
   {
    "duration": 26,
    "start_time": "2021-12-04T06:56:14.583Z"
   },
   {
    "duration": 37,
    "start_time": "2021-12-04T06:56:14.611Z"
   },
   {
    "duration": 11,
    "start_time": "2021-12-04T06:56:14.650Z"
   },
   {
    "duration": 12,
    "start_time": "2021-12-04T06:56:14.663Z"
   },
   {
    "duration": 13,
    "start_time": "2021-12-04T06:56:14.677Z"
   },
   {
    "duration": 5,
    "start_time": "2021-12-04T06:56:14.692Z"
   },
   {
    "duration": 7,
    "start_time": "2021-12-04T06:56:14.698Z"
   },
   {
    "duration": 5,
    "start_time": "2021-12-04T06:56:14.706Z"
   },
   {
    "duration": 6,
    "start_time": "2021-12-04T06:56:14.713Z"
   },
   {
    "duration": 8,
    "start_time": "2021-12-04T06:56:14.732Z"
   },
   {
    "duration": 6,
    "start_time": "2021-12-04T06:56:14.742Z"
   },
   {
    "duration": 8,
    "start_time": "2021-12-04T06:56:14.749Z"
   },
   {
    "duration": 6,
    "start_time": "2021-12-04T06:56:14.758Z"
   },
   {
    "duration": 6,
    "start_time": "2021-12-04T06:56:14.766Z"
   },
   {
    "duration": 4,
    "start_time": "2021-12-04T06:56:14.773Z"
   },
   {
    "duration": 7,
    "start_time": "2021-12-04T06:56:14.814Z"
   },
   {
    "duration": 22,
    "start_time": "2021-12-04T06:56:14.823Z"
   },
   {
    "duration": 30,
    "start_time": "2021-12-04T06:56:14.846Z"
   },
   {
    "duration": 32,
    "start_time": "2021-12-04T06:56:14.878Z"
   },
   {
    "duration": 22,
    "start_time": "2021-12-04T06:56:14.913Z"
   },
   {
    "duration": 585,
    "start_time": "2021-12-04T06:57:07.833Z"
   },
   {
    "duration": 1217,
    "start_time": "2021-12-04T06:57:14.850Z"
   },
   {
    "duration": 57,
    "start_time": "2021-12-04T06:57:16.069Z"
   },
   {
    "duration": 19,
    "start_time": "2021-12-04T06:57:16.132Z"
   },
   {
    "duration": 13,
    "start_time": "2021-12-04T06:57:16.153Z"
   },
   {
    "duration": 13,
    "start_time": "2021-12-04T06:57:16.168Z"
   },
   {
    "duration": 42,
    "start_time": "2021-12-04T06:57:16.183Z"
   },
   {
    "duration": 33,
    "start_time": "2021-12-04T06:57:16.230Z"
   },
   {
    "duration": 10,
    "start_time": "2021-12-04T06:57:16.266Z"
   },
   {
    "duration": 5,
    "start_time": "2021-12-04T06:57:16.278Z"
   },
   {
    "duration": 34,
    "start_time": "2021-12-04T06:57:16.285Z"
   },
   {
    "duration": 15,
    "start_time": "2021-12-04T06:57:16.321Z"
   },
   {
    "duration": 7,
    "start_time": "2021-12-04T06:57:16.338Z"
   },
   {
    "duration": 6,
    "start_time": "2021-12-04T06:57:16.346Z"
   },
   {
    "duration": 23,
    "start_time": "2021-12-04T06:57:16.354Z"
   },
   {
    "duration": 21,
    "start_time": "2021-12-04T06:57:16.407Z"
   },
   {
    "duration": 11,
    "start_time": "2021-12-04T06:57:16.430Z"
   },
   {
    "duration": 6,
    "start_time": "2021-12-04T06:57:16.443Z"
   },
   {
    "duration": 56,
    "start_time": "2021-12-04T06:57:16.451Z"
   },
   {
    "duration": 3,
    "start_time": "2021-12-04T06:57:16.509Z"
   },
   {
    "duration": 15,
    "start_time": "2021-12-04T06:57:16.514Z"
   },
   {
    "duration": 5,
    "start_time": "2021-12-04T06:57:16.532Z"
   },
   {
    "duration": 21,
    "start_time": "2021-12-04T06:57:16.540Z"
   },
   {
    "duration": 64,
    "start_time": "2021-12-04T06:57:16.563Z"
   },
   {
    "duration": 10,
    "start_time": "2021-12-04T06:57:16.629Z"
   },
   {
    "duration": 4,
    "start_time": "2021-12-04T06:57:16.641Z"
   },
   {
    "duration": 11,
    "start_time": "2021-12-04T06:57:16.647Z"
   },
   {
    "duration": 8,
    "start_time": "2021-12-04T06:57:16.659Z"
   },
   {
    "duration": 5,
    "start_time": "2021-12-04T06:57:16.668Z"
   },
   {
    "duration": 47,
    "start_time": "2021-12-04T06:57:16.674Z"
   },
   {
    "duration": 9,
    "start_time": "2021-12-04T06:57:16.723Z"
   },
   {
    "duration": 5,
    "start_time": "2021-12-04T06:57:16.734Z"
   },
   {
    "duration": 6,
    "start_time": "2021-12-04T06:57:16.741Z"
   },
   {
    "duration": 4,
    "start_time": "2021-12-04T06:57:16.748Z"
   },
   {
    "duration": 4,
    "start_time": "2021-12-04T06:57:16.753Z"
   },
   {
    "duration": 5,
    "start_time": "2021-12-04T06:57:16.759Z"
   },
   {
    "duration": 46,
    "start_time": "2021-12-04T06:57:16.766Z"
   },
   {
    "duration": 11,
    "start_time": "2021-12-04T06:57:16.814Z"
   },
   {
    "duration": 5,
    "start_time": "2021-12-04T06:57:16.828Z"
   },
   {
    "duration": 4,
    "start_time": "2021-12-04T06:57:16.835Z"
   },
   {
    "duration": 4,
    "start_time": "2021-12-04T06:57:16.841Z"
   },
   {
    "duration": 6,
    "start_time": "2021-12-04T06:57:16.847Z"
   },
   {
    "duration": 55,
    "start_time": "2021-12-04T06:57:16.855Z"
   },
   {
    "duration": 36,
    "start_time": "2021-12-04T06:57:16.912Z"
   },
   {
    "duration": 16,
    "start_time": "2021-12-04T06:57:16.950Z"
   },
   {
    "duration": 15,
    "start_time": "2021-12-04T06:57:16.967Z"
   },
   {
    "duration": 18,
    "start_time": "2021-12-04T06:57:32.728Z"
   },
   {
    "duration": 6,
    "start_time": "2021-12-04T07:00:29.072Z"
   },
   {
    "duration": 449,
    "start_time": "2021-12-04T07:01:08.436Z"
   },
   {
    "duration": 8,
    "start_time": "2021-12-04T07:01:15.392Z"
   },
   {
    "duration": 5,
    "start_time": "2021-12-04T07:02:44.416Z"
   },
   {
    "duration": 8,
    "start_time": "2021-12-04T07:03:52.618Z"
   },
   {
    "duration": 12,
    "start_time": "2021-12-04T07:04:01.272Z"
   },
   {
    "duration": 6,
    "start_time": "2021-12-04T07:04:05.888Z"
   },
   {
    "duration": 11,
    "start_time": "2021-12-04T07:04:07.952Z"
   },
   {
    "duration": 377,
    "start_time": "2021-12-04T07:06:45.144Z"
   },
   {
    "duration": 4106,
    "start_time": "2021-12-04T07:07:03.295Z"
   },
   {
    "duration": 3995,
    "start_time": "2021-12-04T07:07:14.423Z"
   },
   {
    "duration": 5,
    "start_time": "2021-12-04T07:07:49.232Z"
   },
   {
    "duration": 4,
    "start_time": "2021-12-04T07:09:15.247Z"
   },
   {
    "duration": 4,
    "start_time": "2021-12-04T07:09:20.175Z"
   },
   {
    "duration": 3,
    "start_time": "2021-12-04T07:11:25.193Z"
   },
   {
    "duration": 3,
    "start_time": "2021-12-04T07:11:36.555Z"
   },
   {
    "duration": 354,
    "start_time": "2021-12-04T07:12:14.591Z"
   },
   {
    "duration": 4,
    "start_time": "2021-12-04T07:12:24.930Z"
   },
   {
    "duration": 1365,
    "start_time": "2021-12-04T07:12:40.606Z"
   },
   {
    "duration": 55,
    "start_time": "2021-12-04T07:12:41.973Z"
   },
   {
    "duration": 18,
    "start_time": "2021-12-04T07:12:42.030Z"
   },
   {
    "duration": 12,
    "start_time": "2021-12-04T07:12:42.050Z"
   },
   {
    "duration": 11,
    "start_time": "2021-12-04T07:12:42.063Z"
   },
   {
    "duration": 45,
    "start_time": "2021-12-04T07:12:42.076Z"
   },
   {
    "duration": 29,
    "start_time": "2021-12-04T07:12:42.122Z"
   },
   {
    "duration": 9,
    "start_time": "2021-12-04T07:12:42.153Z"
   },
   {
    "duration": 5,
    "start_time": "2021-12-04T07:12:42.164Z"
   },
   {
    "duration": 48,
    "start_time": "2021-12-04T07:12:42.171Z"
   },
   {
    "duration": 9,
    "start_time": "2021-12-04T07:12:42.221Z"
   },
   {
    "duration": 12,
    "start_time": "2021-12-04T07:12:42.232Z"
   },
   {
    "duration": 6,
    "start_time": "2021-12-04T07:12:42.246Z"
   },
   {
    "duration": 23,
    "start_time": "2021-12-04T07:12:42.253Z"
   },
   {
    "duration": 38,
    "start_time": "2021-12-04T07:12:42.277Z"
   },
   {
    "duration": 13,
    "start_time": "2021-12-04T07:12:42.317Z"
   },
   {
    "duration": 5,
    "start_time": "2021-12-04T07:12:42.332Z"
   },
   {
    "duration": 31,
    "start_time": "2021-12-04T07:12:42.339Z"
   },
   {
    "duration": 1,
    "start_time": "2021-12-04T07:12:42.372Z"
   },
   {
    "duration": 36,
    "start_time": "2021-12-04T07:12:42.375Z"
   },
   {
    "duration": 7,
    "start_time": "2021-12-04T07:12:42.414Z"
   },
   {
    "duration": 21,
    "start_time": "2021-12-04T07:12:42.422Z"
   },
   {
    "duration": 29,
    "start_time": "2021-12-04T07:12:42.447Z"
   },
   {
    "duration": 43,
    "start_time": "2021-12-04T07:12:42.478Z"
   },
   {
    "duration": 8,
    "start_time": "2021-12-04T07:12:42.524Z"
   },
   {
    "duration": 11,
    "start_time": "2021-12-04T07:12:42.534Z"
   },
   {
    "duration": 9,
    "start_time": "2021-12-04T07:12:42.547Z"
   },
   {
    "duration": 6,
    "start_time": "2021-12-04T07:12:42.558Z"
   },
   {
    "duration": 49,
    "start_time": "2021-12-04T07:12:42.566Z"
   },
   {
    "duration": 11,
    "start_time": "2021-12-04T07:12:42.618Z"
   },
   {
    "duration": 6,
    "start_time": "2021-12-04T07:12:42.630Z"
   },
   {
    "duration": 6,
    "start_time": "2021-12-04T07:12:42.637Z"
   },
   {
    "duration": 4,
    "start_time": "2021-12-04T07:12:42.644Z"
   },
   {
    "duration": 5,
    "start_time": "2021-12-04T07:12:42.650Z"
   },
   {
    "duration": 7,
    "start_time": "2021-12-04T07:12:42.656Z"
   },
   {
    "duration": 6,
    "start_time": "2021-12-04T07:12:42.664Z"
   },
   {
    "duration": 47,
    "start_time": "2021-12-04T07:12:42.672Z"
   },
   {
    "duration": 6,
    "start_time": "2021-12-04T07:12:42.721Z"
   },
   {
    "duration": 8,
    "start_time": "2021-12-04T07:12:42.729Z"
   },
   {
    "duration": 5,
    "start_time": "2021-12-04T07:12:42.739Z"
   },
   {
    "duration": 11,
    "start_time": "2021-12-04T07:12:42.745Z"
   },
   {
    "duration": 17,
    "start_time": "2021-12-04T07:12:42.759Z"
   },
   {
    "duration": 65,
    "start_time": "2021-12-04T07:12:42.778Z"
   },
   {
    "duration": 16,
    "start_time": "2021-12-04T07:12:42.844Z"
   },
   {
    "duration": 14,
    "start_time": "2021-12-04T07:12:42.862Z"
   },
   {
    "duration": 5,
    "start_time": "2021-12-04T07:12:42.877Z"
   },
   {
    "duration": 147,
    "start_time": "2021-12-04T07:12:42.883Z"
   },
   {
    "duration": -430,
    "start_time": "2021-12-04T07:12:43.462Z"
   },
   {
    "duration": -441,
    "start_time": "2021-12-04T07:12:43.475Z"
   },
   {
    "duration": -443,
    "start_time": "2021-12-04T07:12:43.478Z"
   },
   {
    "duration": -445,
    "start_time": "2021-12-04T07:12:43.481Z"
   },
   {
    "duration": -447,
    "start_time": "2021-12-04T07:12:43.484Z"
   },
   {
    "duration": 1266,
    "start_time": "2021-12-04T07:13:06.148Z"
   },
   {
    "duration": 51,
    "start_time": "2021-12-04T07:13:07.417Z"
   },
   {
    "duration": 19,
    "start_time": "2021-12-04T07:13:07.471Z"
   },
   {
    "duration": 15,
    "start_time": "2021-12-04T07:13:07.492Z"
   },
   {
    "duration": 20,
    "start_time": "2021-12-04T07:13:07.510Z"
   },
   {
    "duration": 17,
    "start_time": "2021-12-04T07:13:07.532Z"
   },
   {
    "duration": 32,
    "start_time": "2021-12-04T07:13:07.551Z"
   },
   {
    "duration": 15,
    "start_time": "2021-12-04T07:13:07.611Z"
   },
   {
    "duration": 4,
    "start_time": "2021-12-04T07:13:07.629Z"
   },
   {
    "duration": 10,
    "start_time": "2021-12-04T07:13:07.635Z"
   },
   {
    "duration": 8,
    "start_time": "2021-12-04T07:13:07.647Z"
   },
   {
    "duration": 5,
    "start_time": "2021-12-04T07:13:07.657Z"
   },
   {
    "duration": 44,
    "start_time": "2021-12-04T07:13:07.664Z"
   },
   {
    "duration": 29,
    "start_time": "2021-12-04T07:13:07.710Z"
   },
   {
    "duration": 12,
    "start_time": "2021-12-04T07:13:07.741Z"
   },
   {
    "duration": 11,
    "start_time": "2021-12-04T07:13:07.755Z"
   },
   {
    "duration": 5,
    "start_time": "2021-12-04T07:13:07.768Z"
   },
   {
    "duration": 69,
    "start_time": "2021-12-04T07:13:07.774Z"
   },
   {
    "duration": 2,
    "start_time": "2021-12-04T07:13:07.845Z"
   },
   {
    "duration": 8,
    "start_time": "2021-12-04T07:13:07.849Z"
   },
   {
    "duration": 5,
    "start_time": "2021-12-04T07:13:07.858Z"
   },
   {
    "duration": 59,
    "start_time": "2021-12-04T07:13:07.865Z"
   },
   {
    "duration": 32,
    "start_time": "2021-12-04T07:13:07.931Z"
   },
   {
    "duration": 11,
    "start_time": "2021-12-04T07:13:07.965Z"
   },
   {
    "duration": 5,
    "start_time": "2021-12-04T07:13:07.978Z"
   },
   {
    "duration": 14,
    "start_time": "2021-12-04T07:13:08.012Z"
   },
   {
    "duration": 9,
    "start_time": "2021-12-04T07:13:08.028Z"
   },
   {
    "duration": 5,
    "start_time": "2021-12-04T07:13:08.039Z"
   },
   {
    "duration": 13,
    "start_time": "2021-12-04T07:13:08.045Z"
   },
   {
    "duration": 10,
    "start_time": "2021-12-04T07:13:08.059Z"
   },
   {
    "duration": 5,
    "start_time": "2021-12-04T07:13:08.070Z"
   },
   {
    "duration": 10,
    "start_time": "2021-12-04T07:13:08.107Z"
   },
   {
    "duration": 6,
    "start_time": "2021-12-04T07:13:08.125Z"
   },
   {
    "duration": 9,
    "start_time": "2021-12-04T07:13:08.132Z"
   },
   {
    "duration": 8,
    "start_time": "2021-12-04T07:13:08.143Z"
   },
   {
    "duration": 8,
    "start_time": "2021-12-04T07:13:08.152Z"
   },
   {
    "duration": 7,
    "start_time": "2021-12-04T07:13:08.162Z"
   },
   {
    "duration": 37,
    "start_time": "2021-12-04T07:13:08.171Z"
   },
   {
    "duration": 4,
    "start_time": "2021-12-04T07:13:08.209Z"
   },
   {
    "duration": 16,
    "start_time": "2021-12-04T07:13:08.215Z"
   },
   {
    "duration": 5,
    "start_time": "2021-12-04T07:13:08.234Z"
   },
   {
    "duration": 17,
    "start_time": "2021-12-04T07:13:08.241Z"
   },
   {
    "duration": 63,
    "start_time": "2021-12-04T07:13:08.260Z"
   },
   {
    "duration": 18,
    "start_time": "2021-12-04T07:13:08.325Z"
   },
   {
    "duration": 17,
    "start_time": "2021-12-04T07:13:08.345Z"
   },
   {
    "duration": 5,
    "start_time": "2021-12-04T07:13:08.364Z"
   },
   {
    "duration": 13,
    "start_time": "2021-12-04T07:13:08.371Z"
   },
   {
    "duration": 3777,
    "start_time": "2021-12-04T07:13:08.412Z"
   },
   {
    "duration": 3,
    "start_time": "2021-12-04T07:13:12.191Z"
   },
   {
    "duration": 15,
    "start_time": "2021-12-04T07:13:12.196Z"
   },
   {
    "duration": 6,
    "start_time": "2021-12-04T07:13:12.214Z"
   },
   {
    "duration": 3362,
    "start_time": "2021-12-04T07:18:33.376Z"
   },
   {
    "duration": 3024,
    "start_time": "2021-12-04T07:19:07.324Z"
   },
   {
    "duration": 11,
    "start_time": "2021-12-04T07:19:10.350Z"
   },
   {
    "duration": 15,
    "start_time": "2021-12-04T07:19:19.879Z"
   },
   {
    "duration": 14,
    "start_time": "2021-12-04T07:20:02.442Z"
   },
   {
    "duration": 459,
    "start_time": "2021-12-04T07:20:47.679Z"
   },
   {
    "duration": 7,
    "start_time": "2021-12-04T07:20:54.551Z"
   },
   {
    "duration": 4,
    "start_time": "2021-12-04T07:26:36.750Z"
   },
   {
    "duration": 4,
    "start_time": "2021-12-04T07:27:31.701Z"
   },
   {
    "duration": 363,
    "start_time": "2021-12-04T07:27:41.950Z"
   },
   {
    "duration": 352,
    "start_time": "2021-12-04T07:27:50.630Z"
   },
   {
    "duration": 3,
    "start_time": "2021-12-04T07:28:03.383Z"
   },
   {
    "duration": 5,
    "start_time": "2021-12-04T07:28:06.302Z"
   },
   {
    "duration": 2,
    "start_time": "2021-12-04T07:28:29.943Z"
   },
   {
    "duration": 4,
    "start_time": "2021-12-04T07:28:32.647Z"
   },
   {
    "duration": 1281,
    "start_time": "2021-12-04T07:28:58.309Z"
   },
   {
    "duration": 50,
    "start_time": "2021-12-04T07:28:59.593Z"
   },
   {
    "duration": 19,
    "start_time": "2021-12-04T07:28:59.645Z"
   },
   {
    "duration": 12,
    "start_time": "2021-12-04T07:28:59.666Z"
   },
   {
    "duration": 30,
    "start_time": "2021-12-04T07:28:59.680Z"
   },
   {
    "duration": 20,
    "start_time": "2021-12-04T07:28:59.712Z"
   },
   {
    "duration": 31,
    "start_time": "2021-12-04T07:28:59.734Z"
   },
   {
    "duration": 10,
    "start_time": "2021-12-04T07:28:59.767Z"
   },
   {
    "duration": 15,
    "start_time": "2021-12-04T07:28:59.807Z"
   },
   {
    "duration": 11,
    "start_time": "2021-12-04T07:28:59.824Z"
   },
   {
    "duration": 8,
    "start_time": "2021-12-04T07:28:59.837Z"
   },
   {
    "duration": 5,
    "start_time": "2021-12-04T07:28:59.847Z"
   },
   {
    "duration": 5,
    "start_time": "2021-12-04T07:28:59.854Z"
   },
   {
    "duration": 46,
    "start_time": "2021-12-04T07:28:59.861Z"
   },
   {
    "duration": 13,
    "start_time": "2021-12-04T07:28:59.911Z"
   },
   {
    "duration": 16,
    "start_time": "2021-12-04T07:28:59.926Z"
   },
   {
    "duration": 4,
    "start_time": "2021-12-04T07:28:59.944Z"
   },
   {
    "duration": 31,
    "start_time": "2021-12-04T07:28:59.950Z"
   },
   {
    "duration": 34,
    "start_time": "2021-12-04T07:28:59.983Z"
   },
   {
    "duration": 7,
    "start_time": "2021-12-04T07:29:00.020Z"
   },
   {
    "duration": 7,
    "start_time": "2021-12-04T07:29:00.029Z"
   },
   {
    "duration": 20,
    "start_time": "2021-12-04T07:29:00.038Z"
   },
   {
    "duration": 65,
    "start_time": "2021-12-04T07:29:00.063Z"
   },
   {
    "duration": 11,
    "start_time": "2021-12-04T07:29:00.130Z"
   },
   {
    "duration": 6,
    "start_time": "2021-12-04T07:29:00.143Z"
   },
   {
    "duration": 17,
    "start_time": "2021-12-04T07:29:00.150Z"
   },
   {
    "duration": 9,
    "start_time": "2021-12-04T07:29:00.168Z"
   },
   {
    "duration": 35,
    "start_time": "2021-12-04T07:29:00.179Z"
   },
   {
    "duration": 14,
    "start_time": "2021-12-04T07:29:00.216Z"
   },
   {
    "duration": 16,
    "start_time": "2021-12-04T07:29:00.231Z"
   },
   {
    "duration": 6,
    "start_time": "2021-12-04T07:29:00.248Z"
   },
   {
    "duration": 12,
    "start_time": "2021-12-04T07:29:00.256Z"
   },
   {
    "duration": 9,
    "start_time": "2021-12-04T07:29:00.270Z"
   },
   {
    "duration": 9,
    "start_time": "2021-12-04T07:29:00.280Z"
   },
   {
    "duration": 6,
    "start_time": "2021-12-04T07:29:00.307Z"
   },
   {
    "duration": 15,
    "start_time": "2021-12-04T07:29:00.315Z"
   },
   {
    "duration": 11,
    "start_time": "2021-12-04T07:29:00.332Z"
   },
   {
    "duration": 12,
    "start_time": "2021-12-04T07:29:00.344Z"
   },
   {
    "duration": 8,
    "start_time": "2021-12-04T07:29:00.357Z"
   },
   {
    "duration": 4,
    "start_time": "2021-12-04T07:29:00.367Z"
   },
   {
    "duration": 6,
    "start_time": "2021-12-04T07:29:00.373Z"
   },
   {
    "duration": 50,
    "start_time": "2021-12-04T07:29:00.380Z"
   },
   {
    "duration": 31,
    "start_time": "2021-12-04T07:29:00.432Z"
   },
   {
    "duration": 16,
    "start_time": "2021-12-04T07:29:00.465Z"
   },
   {
    "duration": 41,
    "start_time": "2021-12-04T07:29:00.483Z"
   },
   {
    "duration": 6,
    "start_time": "2021-12-04T07:29:00.526Z"
   },
   {
    "duration": 16,
    "start_time": "2021-12-04T07:29:00.533Z"
   },
   {
    "duration": 4187,
    "start_time": "2021-12-04T07:29:00.551Z"
   },
   {
    "duration": 4,
    "start_time": "2021-12-04T07:29:04.740Z"
   },
   {
    "duration": 10,
    "start_time": "2021-12-04T07:29:04.746Z"
   },
   {
    "duration": 7,
    "start_time": "2021-12-04T07:29:04.757Z"
   },
   {
    "duration": 3295,
    "start_time": "2021-12-04T07:29:04.766Z"
   },
   {
    "duration": 15,
    "start_time": "2021-12-04T07:29:08.063Z"
   },
   {
    "duration": 27,
    "start_time": "2021-12-04T07:29:08.081Z"
   },
   {
    "duration": 18,
    "start_time": "2021-12-04T07:29:08.110Z"
   },
   {
    "duration": 9,
    "start_time": "2021-12-04T07:29:08.131Z"
   },
   {
    "duration": 12,
    "start_time": "2021-12-04T07:29:08.142Z"
   },
   {
    "duration": 23,
    "start_time": "2021-12-04T07:29:08.156Z"
   },
   {
    "duration": 3,
    "start_time": "2021-12-04T07:31:17.742Z"
   },
   {
    "duration": 4,
    "start_time": "2021-12-04T07:31:20.200Z"
   },
   {
    "duration": 1365,
    "start_time": "2021-12-04T07:31:33.442Z"
   },
   {
    "duration": 63,
    "start_time": "2021-12-04T07:31:34.810Z"
   },
   {
    "duration": 27,
    "start_time": "2021-12-04T07:31:34.876Z"
   },
   {
    "duration": 20,
    "start_time": "2021-12-04T07:31:34.904Z"
   },
   {
    "duration": 12,
    "start_time": "2021-12-04T07:31:34.926Z"
   },
   {
    "duration": 14,
    "start_time": "2021-12-04T07:31:34.940Z"
   },
   {
    "duration": 31,
    "start_time": "2021-12-04T07:31:34.955Z"
   },
   {
    "duration": 9,
    "start_time": "2021-12-04T07:31:34.989Z"
   },
   {
    "duration": 10,
    "start_time": "2021-12-04T07:31:35.000Z"
   },
   {
    "duration": 15,
    "start_time": "2021-12-04T07:31:35.012Z"
   },
   {
    "duration": 14,
    "start_time": "2021-12-04T07:31:35.030Z"
   },
   {
    "duration": 5,
    "start_time": "2021-12-04T07:31:35.046Z"
   },
   {
    "duration": 6,
    "start_time": "2021-12-04T07:31:35.052Z"
   },
   {
    "duration": 21,
    "start_time": "2021-12-04T07:31:35.060Z"
   },
   {
    "duration": 13,
    "start_time": "2021-12-04T07:31:35.082Z"
   },
   {
    "duration": 26,
    "start_time": "2021-12-04T07:31:35.097Z"
   },
   {
    "duration": 6,
    "start_time": "2021-12-04T07:31:35.126Z"
   },
   {
    "duration": 45,
    "start_time": "2021-12-04T07:31:35.134Z"
   },
   {
    "duration": 2,
    "start_time": "2021-12-04T07:31:35.181Z"
   },
   {
    "duration": 14,
    "start_time": "2021-12-04T07:31:35.185Z"
   },
   {
    "duration": 12,
    "start_time": "2021-12-04T07:31:35.200Z"
   },
   {
    "duration": 36,
    "start_time": "2021-12-04T07:31:35.215Z"
   },
   {
    "duration": 32,
    "start_time": "2021-12-04T07:31:35.253Z"
   },
   {
    "duration": 11,
    "start_time": "2021-12-04T07:31:35.287Z"
   },
   {
    "duration": 16,
    "start_time": "2021-12-04T07:31:35.299Z"
   },
   {
    "duration": 18,
    "start_time": "2021-12-04T07:31:35.321Z"
   },
   {
    "duration": 13,
    "start_time": "2021-12-04T07:31:35.342Z"
   },
   {
    "duration": 15,
    "start_time": "2021-12-04T07:31:35.356Z"
   },
   {
    "duration": 14,
    "start_time": "2021-12-04T07:31:35.373Z"
   },
   {
    "duration": 20,
    "start_time": "2021-12-04T07:31:35.388Z"
   },
   {
    "duration": 17,
    "start_time": "2021-12-04T07:31:35.410Z"
   },
   {
    "duration": 7,
    "start_time": "2021-12-04T07:31:35.429Z"
   },
   {
    "duration": 14,
    "start_time": "2021-12-04T07:31:35.438Z"
   },
   {
    "duration": 18,
    "start_time": "2021-12-04T07:31:35.455Z"
   },
   {
    "duration": 8,
    "start_time": "2021-12-04T07:31:35.476Z"
   },
   {
    "duration": 10,
    "start_time": "2021-12-04T07:31:35.486Z"
   },
   {
    "duration": 7,
    "start_time": "2021-12-04T07:31:35.498Z"
   },
   {
    "duration": 9,
    "start_time": "2021-12-04T07:31:35.514Z"
   },
   {
    "duration": 4,
    "start_time": "2021-12-04T07:31:35.525Z"
   },
   {
    "duration": 3,
    "start_time": "2021-12-04T07:31:35.531Z"
   },
   {
    "duration": 5,
    "start_time": "2021-12-04T07:31:35.536Z"
   },
   {
    "duration": 17,
    "start_time": "2021-12-04T07:31:35.543Z"
   },
   {
    "duration": 43,
    "start_time": "2021-12-04T07:31:35.562Z"
   },
   {
    "duration": 26,
    "start_time": "2021-12-04T07:31:35.606Z"
   },
   {
    "duration": 16,
    "start_time": "2021-12-04T07:31:35.634Z"
   },
   {
    "duration": 5,
    "start_time": "2021-12-04T07:31:35.652Z"
   },
   {
    "duration": 17,
    "start_time": "2021-12-04T07:31:35.659Z"
   },
   {
    "duration": 4168,
    "start_time": "2021-12-04T07:31:35.677Z"
   },
   {
    "duration": 3,
    "start_time": "2021-12-04T07:31:39.847Z"
   },
   {
    "duration": 5,
    "start_time": "2021-12-04T07:31:39.852Z"
   },
   {
    "duration": 5,
    "start_time": "2021-12-04T07:31:39.859Z"
   },
   {
    "duration": 3033,
    "start_time": "2021-12-04T07:31:39.866Z"
   },
   {
    "duration": 23,
    "start_time": "2021-12-04T07:31:42.906Z"
   },
   {
    "duration": 14,
    "start_time": "2021-12-04T07:31:42.930Z"
   },
   {
    "duration": 9,
    "start_time": "2021-12-04T07:31:42.945Z"
   },
   {
    "duration": 4,
    "start_time": "2021-12-04T07:31:42.955Z"
   },
   {
    "duration": 3,
    "start_time": "2021-12-04T07:31:42.961Z"
   },
   {
    "duration": 5,
    "start_time": "2021-12-04T07:31:42.966Z"
   },
   {
    "duration": 489,
    "start_time": "2021-12-04T07:33:09.249Z"
   },
   {
    "duration": 431,
    "start_time": "2021-12-04T07:33:35.808Z"
   },
   {
    "duration": 4,
    "start_time": "2021-12-04T07:33:43.338Z"
   },
   {
    "duration": 12,
    "start_time": "2021-12-04T07:33:53.816Z"
   },
   {
    "duration": 3333,
    "start_time": "2021-12-04T07:34:03.209Z"
   },
   {
    "duration": 450,
    "start_time": "2021-12-04T07:42:22.637Z"
   },
   {
    "duration": 1281,
    "start_time": "2021-12-04T07:43:13.101Z"
   },
   {
    "duration": 60,
    "start_time": "2021-12-04T07:43:14.384Z"
   },
   {
    "duration": 20,
    "start_time": "2021-12-04T07:43:14.446Z"
   },
   {
    "duration": 12,
    "start_time": "2021-12-04T07:43:14.469Z"
   },
   {
    "duration": 38,
    "start_time": "2021-12-04T07:43:14.483Z"
   },
   {
    "duration": 16,
    "start_time": "2021-12-04T07:43:14.524Z"
   },
   {
    "duration": 30,
    "start_time": "2021-12-04T07:43:14.542Z"
   },
   {
    "duration": 38,
    "start_time": "2021-12-04T07:43:14.575Z"
   },
   {
    "duration": 7,
    "start_time": "2021-12-04T07:43:14.617Z"
   },
   {
    "duration": 13,
    "start_time": "2021-12-04T07:43:14.626Z"
   },
   {
    "duration": 10,
    "start_time": "2021-12-04T07:43:14.641Z"
   },
   {
    "duration": 5,
    "start_time": "2021-12-04T07:43:14.653Z"
   },
   {
    "duration": 7,
    "start_time": "2021-12-04T07:43:14.660Z"
   },
   {
    "duration": 52,
    "start_time": "2021-12-04T07:43:14.669Z"
   },
   {
    "duration": 12,
    "start_time": "2021-12-04T07:43:14.723Z"
   },
   {
    "duration": 21,
    "start_time": "2021-12-04T07:43:14.737Z"
   },
   {
    "duration": 6,
    "start_time": "2021-12-04T07:43:14.760Z"
   },
   {
    "duration": 51,
    "start_time": "2021-12-04T07:43:14.767Z"
   },
   {
    "duration": 3,
    "start_time": "2021-12-04T07:43:14.821Z"
   },
   {
    "duration": 10,
    "start_time": "2021-12-04T07:43:14.826Z"
   },
   {
    "duration": 7,
    "start_time": "2021-12-04T07:43:14.837Z"
   },
   {
    "duration": 22,
    "start_time": "2021-12-04T07:43:14.846Z"
   },
   {
    "duration": 53,
    "start_time": "2021-12-04T07:43:14.871Z"
   },
   {
    "duration": 9,
    "start_time": "2021-12-04T07:43:14.927Z"
   },
   {
    "duration": 15,
    "start_time": "2021-12-04T07:43:14.938Z"
   },
   {
    "duration": 15,
    "start_time": "2021-12-04T07:43:14.954Z"
   },
   {
    "duration": 11,
    "start_time": "2021-12-04T07:43:14.970Z"
   },
   {
    "duration": 8,
    "start_time": "2021-12-04T07:43:14.982Z"
   },
   {
    "duration": 17,
    "start_time": "2021-12-04T07:43:15.012Z"
   },
   {
    "duration": 10,
    "start_time": "2021-12-04T07:43:15.031Z"
   },
   {
    "duration": 8,
    "start_time": "2021-12-04T07:43:15.042Z"
   },
   {
    "duration": 14,
    "start_time": "2021-12-04T07:43:15.051Z"
   },
   {
    "duration": 7,
    "start_time": "2021-12-04T07:43:15.067Z"
   },
   {
    "duration": 6,
    "start_time": "2021-12-04T07:43:15.075Z"
   },
   {
    "duration": 25,
    "start_time": "2021-12-04T07:43:15.083Z"
   },
   {
    "duration": 8,
    "start_time": "2021-12-04T07:43:15.111Z"
   },
   {
    "duration": 13,
    "start_time": "2021-12-04T07:43:15.121Z"
   },
   {
    "duration": 10,
    "start_time": "2021-12-04T07:43:15.136Z"
   },
   {
    "duration": 9,
    "start_time": "2021-12-04T07:43:15.148Z"
   },
   {
    "duration": 6,
    "start_time": "2021-12-04T07:43:15.158Z"
   },
   {
    "duration": 9,
    "start_time": "2021-12-04T07:43:15.166Z"
   },
   {
    "duration": 50,
    "start_time": "2021-12-04T07:43:15.177Z"
   },
   {
    "duration": 31,
    "start_time": "2021-12-04T07:43:15.229Z"
   },
   {
    "duration": 17,
    "start_time": "2021-12-04T07:43:15.262Z"
   },
   {
    "duration": 41,
    "start_time": "2021-12-04T07:43:15.280Z"
   },
   {
    "duration": 6,
    "start_time": "2021-12-04T07:43:15.323Z"
   },
   {
    "duration": 15,
    "start_time": "2021-12-04T07:43:15.330Z"
   },
   {
    "duration": 3668,
    "start_time": "2021-12-04T07:43:15.347Z"
   },
   {
    "duration": 7,
    "start_time": "2021-12-04T07:43:19.018Z"
   },
   {
    "duration": 4,
    "start_time": "2021-12-04T07:43:19.028Z"
   },
   {
    "duration": 6,
    "start_time": "2021-12-04T07:43:19.034Z"
   },
   {
    "duration": 4,
    "start_time": "2021-12-04T07:43:19.041Z"
   },
   {
    "duration": 3287,
    "start_time": "2021-12-04T07:43:19.046Z"
   },
   {
    "duration": 15,
    "start_time": "2021-12-04T07:43:22.335Z"
   },
   {
    "duration": 21,
    "start_time": "2021-12-04T07:43:22.352Z"
   },
   {
    "duration": 4,
    "start_time": "2021-12-04T07:43:22.375Z"
   },
   {
    "duration": 5,
    "start_time": "2021-12-04T07:43:22.381Z"
   },
   {
    "duration": 23,
    "start_time": "2021-12-04T07:43:22.388Z"
   },
   {
    "duration": 7,
    "start_time": "2021-12-04T07:43:22.413Z"
   },
   {
    "duration": 5,
    "start_time": "2021-12-04T07:43:22.422Z"
   },
   {
    "duration": 128,
    "start_time": "2021-12-04T07:43:22.428Z"
   },
   {
    "duration": 4,
    "start_time": "2021-12-04T07:43:34.131Z"
   },
   {
    "duration": 8,
    "start_time": "2021-12-04T07:43:45.258Z"
   },
   {
    "duration": 4,
    "start_time": "2021-12-04T07:44:01.484Z"
   },
   {
    "duration": 1299,
    "start_time": "2021-12-04T07:44:25.290Z"
   },
   {
    "duration": 57,
    "start_time": "2021-12-04T07:44:26.590Z"
   },
   {
    "duration": 19,
    "start_time": "2021-12-04T07:44:26.649Z"
   },
   {
    "duration": 17,
    "start_time": "2021-12-04T07:44:26.671Z"
   },
   {
    "duration": 32,
    "start_time": "2021-12-04T07:44:26.690Z"
   },
   {
    "duration": 18,
    "start_time": "2021-12-04T07:44:26.724Z"
   },
   {
    "duration": 32,
    "start_time": "2021-12-04T07:44:26.745Z"
   },
   {
    "duration": 31,
    "start_time": "2021-12-04T07:44:26.810Z"
   },
   {
    "duration": 18,
    "start_time": "2021-12-04T07:44:26.847Z"
   },
   {
    "duration": 20,
    "start_time": "2021-12-04T07:44:26.868Z"
   },
   {
    "duration": 18,
    "start_time": "2021-12-04T07:44:26.890Z"
   },
   {
    "duration": 10,
    "start_time": "2021-12-04T07:44:26.910Z"
   },
   {
    "duration": 15,
    "start_time": "2021-12-04T07:44:26.922Z"
   },
   {
    "duration": 40,
    "start_time": "2021-12-04T07:44:26.946Z"
   },
   {
    "duration": 37,
    "start_time": "2021-12-04T07:44:26.995Z"
   },
   {
    "duration": 18,
    "start_time": "2021-12-04T07:44:27.038Z"
   },
   {
    "duration": 12,
    "start_time": "2021-12-04T07:44:27.058Z"
   },
   {
    "duration": 93,
    "start_time": "2021-12-04T07:44:27.072Z"
   },
   {
    "duration": 2,
    "start_time": "2021-12-04T07:44:27.168Z"
   },
   {
    "duration": 28,
    "start_time": "2021-12-04T07:44:27.171Z"
   },
   {
    "duration": 16,
    "start_time": "2021-12-04T07:44:27.202Z"
   },
   {
    "duration": 58,
    "start_time": "2021-12-04T07:44:27.220Z"
   },
   {
    "duration": 66,
    "start_time": "2021-12-04T07:44:27.291Z"
   },
   {
    "duration": 16,
    "start_time": "2021-12-04T07:44:27.361Z"
   },
   {
    "duration": 33,
    "start_time": "2021-12-04T07:44:27.379Z"
   },
   {
    "duration": 16,
    "start_time": "2021-12-04T07:44:27.416Z"
   },
   {
    "duration": 12,
    "start_time": "2021-12-04T07:44:27.434Z"
   },
   {
    "duration": 8,
    "start_time": "2021-12-04T07:44:27.448Z"
   },
   {
    "duration": 13,
    "start_time": "2021-12-04T07:44:27.457Z"
   },
   {
    "duration": 13,
    "start_time": "2021-12-04T07:44:27.471Z"
   },
   {
    "duration": 37,
    "start_time": "2021-12-04T07:44:27.486Z"
   },
   {
    "duration": 9,
    "start_time": "2021-12-04T07:44:27.524Z"
   },
   {
    "duration": 6,
    "start_time": "2021-12-04T07:44:27.535Z"
   },
   {
    "duration": 4,
    "start_time": "2021-12-04T07:44:27.543Z"
   },
   {
    "duration": 9,
    "start_time": "2021-12-04T07:44:27.549Z"
   },
   {
    "duration": 8,
    "start_time": "2021-12-04T07:44:27.560Z"
   },
   {
    "duration": 17,
    "start_time": "2021-12-04T07:44:27.570Z"
   },
   {
    "duration": 30,
    "start_time": "2021-12-04T07:44:27.589Z"
   },
   {
    "duration": 7,
    "start_time": "2021-12-04T07:44:27.621Z"
   },
   {
    "duration": 8,
    "start_time": "2021-12-04T07:44:27.629Z"
   },
   {
    "duration": 7,
    "start_time": "2021-12-04T07:44:27.639Z"
   },
   {
    "duration": 19,
    "start_time": "2021-12-04T07:44:27.647Z"
   },
   {
    "duration": 44,
    "start_time": "2021-12-04T07:44:27.668Z"
   },
   {
    "duration": 19,
    "start_time": "2021-12-04T07:44:27.714Z"
   },
   {
    "duration": 17,
    "start_time": "2021-12-04T07:44:27.735Z"
   },
   {
    "duration": 6,
    "start_time": "2021-12-04T07:44:27.754Z"
   },
   {
    "duration": 12,
    "start_time": "2021-12-04T07:44:27.762Z"
   },
   {
    "duration": 3811,
    "start_time": "2021-12-04T07:44:27.776Z"
   },
   {
    "duration": 17,
    "start_time": "2021-12-04T07:44:31.590Z"
   },
   {
    "duration": 8,
    "start_time": "2021-12-04T07:44:31.609Z"
   },
   {
    "duration": 8,
    "start_time": "2021-12-04T07:44:31.620Z"
   },
   {
    "duration": 11,
    "start_time": "2021-12-04T07:44:31.630Z"
   },
   {
    "duration": 15,
    "start_time": "2021-12-04T07:44:31.643Z"
   },
   {
    "duration": 3093,
    "start_time": "2021-12-04T07:44:31.660Z"
   },
   {
    "duration": 15,
    "start_time": "2021-12-04T07:44:34.754Z"
   },
   {
    "duration": 15,
    "start_time": "2021-12-04T07:44:34.770Z"
   },
   {
    "duration": 29,
    "start_time": "2021-12-04T07:44:34.786Z"
   },
   {
    "duration": 8,
    "start_time": "2021-12-04T07:44:50.152Z"
   },
   {
    "duration": 3194,
    "start_time": "2021-12-04T07:45:23.728Z"
   },
   {
    "duration": 19,
    "start_time": "2021-12-04T07:45:26.997Z"
   },
   {
    "duration": 7,
    "start_time": "2021-12-04T07:45:33.888Z"
   },
   {
    "duration": 3,
    "start_time": "2021-12-04T07:46:07.541Z"
   },
   {
    "duration": 7,
    "start_time": "2021-12-04T07:46:43.538Z"
   },
   {
    "duration": 1220,
    "start_time": "2021-12-04T07:46:54.132Z"
   },
   {
    "duration": 49,
    "start_time": "2021-12-04T07:46:55.354Z"
   },
   {
    "duration": 22,
    "start_time": "2021-12-04T07:46:55.405Z"
   },
   {
    "duration": 16,
    "start_time": "2021-12-04T07:46:55.429Z"
   },
   {
    "duration": 12,
    "start_time": "2021-12-04T07:46:55.447Z"
   },
   {
    "duration": 17,
    "start_time": "2021-12-04T07:46:55.460Z"
   },
   {
    "duration": 64,
    "start_time": "2021-12-04T07:46:55.478Z"
   },
   {
    "duration": 9,
    "start_time": "2021-12-04T07:46:55.544Z"
   },
   {
    "duration": 4,
    "start_time": "2021-12-04T07:46:55.555Z"
   },
   {
    "duration": 11,
    "start_time": "2021-12-04T07:46:55.561Z"
   },
   {
    "duration": 38,
    "start_time": "2021-12-04T07:46:55.574Z"
   },
   {
    "duration": 9,
    "start_time": "2021-12-04T07:46:55.614Z"
   },
   {
    "duration": 5,
    "start_time": "2021-12-04T07:46:55.625Z"
   },
   {
    "duration": 22,
    "start_time": "2021-12-04T07:46:55.632Z"
   },
   {
    "duration": 12,
    "start_time": "2021-12-04T07:46:55.656Z"
   },
   {
    "duration": 45,
    "start_time": "2021-12-04T07:46:55.669Z"
   },
   {
    "duration": 6,
    "start_time": "2021-12-04T07:46:55.716Z"
   },
   {
    "duration": 35,
    "start_time": "2021-12-04T07:46:55.724Z"
   },
   {
    "duration": 2,
    "start_time": "2021-12-04T07:46:55.761Z"
   },
   {
    "duration": 21,
    "start_time": "2021-12-04T07:46:55.765Z"
   },
   {
    "duration": 7,
    "start_time": "2021-12-04T07:46:55.788Z"
   },
   {
    "duration": 29,
    "start_time": "2021-12-04T07:46:55.797Z"
   },
   {
    "duration": 30,
    "start_time": "2021-12-04T07:46:55.831Z"
   },
   {
    "duration": 9,
    "start_time": "2021-12-04T07:46:55.864Z"
   },
   {
    "duration": 38,
    "start_time": "2021-12-04T07:46:55.874Z"
   },
   {
    "duration": 17,
    "start_time": "2021-12-04T07:46:55.913Z"
   },
   {
    "duration": 8,
    "start_time": "2021-12-04T07:46:55.932Z"
   },
   {
    "duration": 7,
    "start_time": "2021-12-04T07:46:55.942Z"
   },
   {
    "duration": 12,
    "start_time": "2021-12-04T07:46:55.951Z"
   },
   {
    "duration": 10,
    "start_time": "2021-12-04T07:46:55.965Z"
   },
   {
    "duration": 6,
    "start_time": "2021-12-04T07:46:55.976Z"
   },
   {
    "duration": 9,
    "start_time": "2021-12-04T07:46:56.006Z"
   },
   {
    "duration": 4,
    "start_time": "2021-12-04T07:46:56.017Z"
   },
   {
    "duration": 4,
    "start_time": "2021-12-04T07:46:56.028Z"
   },
   {
    "duration": 10,
    "start_time": "2021-12-04T07:46:56.034Z"
   },
   {
    "duration": 6,
    "start_time": "2021-12-04T07:46:56.045Z"
   },
   {
    "duration": 9,
    "start_time": "2021-12-04T07:46:56.053Z"
   },
   {
    "duration": 8,
    "start_time": "2021-12-04T07:46:56.064Z"
   },
   {
    "duration": 49,
    "start_time": "2021-12-04T07:46:56.074Z"
   },
   {
    "duration": 5,
    "start_time": "2021-12-04T07:46:56.125Z"
   },
   {
    "duration": 8,
    "start_time": "2021-12-04T07:46:56.132Z"
   },
   {
    "duration": 24,
    "start_time": "2021-12-04T07:46:56.141Z"
   },
   {
    "duration": 60,
    "start_time": "2021-12-04T07:46:56.167Z"
   },
   {
    "duration": 17,
    "start_time": "2021-12-04T07:46:56.229Z"
   },
   {
    "duration": 16,
    "start_time": "2021-12-04T07:46:56.248Z"
   },
   {
    "duration": 5,
    "start_time": "2021-12-04T07:46:56.265Z"
   },
   {
    "duration": 39,
    "start_time": "2021-12-04T07:46:56.272Z"
   },
   {
    "duration": 3732,
    "start_time": "2021-12-04T07:46:56.314Z"
   },
   {
    "duration": 4,
    "start_time": "2021-12-04T07:47:00.048Z"
   },
   {
    "duration": 17,
    "start_time": "2021-12-04T07:47:00.054Z"
   },
   {
    "duration": 13,
    "start_time": "2021-12-04T07:47:00.073Z"
   },
   {
    "duration": 12,
    "start_time": "2021-12-04T07:47:00.087Z"
   },
   {
    "duration": 20,
    "start_time": "2021-12-04T07:47:00.101Z"
   },
   {
    "duration": 3098,
    "start_time": "2021-12-04T07:47:00.124Z"
   },
   {
    "duration": 16,
    "start_time": "2021-12-04T07:47:03.224Z"
   },
   {
    "duration": 9,
    "start_time": "2021-12-04T07:47:03.241Z"
   },
   {
    "duration": 2,
    "start_time": "2021-12-04T07:49:10.387Z"
   },
   {
    "duration": 4,
    "start_time": "2021-12-04T07:49:12.993Z"
   },
   {
    "duration": 3147,
    "start_time": "2021-12-04T07:49:16.263Z"
   },
   {
    "duration": 8,
    "start_time": "2021-12-04T07:49:23.953Z"
   },
   {
    "duration": 1203,
    "start_time": "2021-12-04T07:51:36.869Z"
   },
   {
    "duration": 53,
    "start_time": "2021-12-04T07:51:38.074Z"
   },
   {
    "duration": 19,
    "start_time": "2021-12-04T07:51:38.129Z"
   },
   {
    "duration": 12,
    "start_time": "2021-12-04T07:51:38.149Z"
   },
   {
    "duration": 12,
    "start_time": "2021-12-04T07:51:38.163Z"
   },
   {
    "duration": 49,
    "start_time": "2021-12-04T07:51:38.177Z"
   },
   {
    "duration": 30,
    "start_time": "2021-12-04T07:51:38.228Z"
   },
   {
    "duration": 9,
    "start_time": "2021-12-04T07:51:38.261Z"
   },
   {
    "duration": 4,
    "start_time": "2021-12-04T07:51:38.273Z"
   },
   {
    "duration": 39,
    "start_time": "2021-12-04T07:51:38.279Z"
   },
   {
    "duration": 10,
    "start_time": "2021-12-04T07:51:38.320Z"
   },
   {
    "duration": 5,
    "start_time": "2021-12-04T07:51:38.331Z"
   },
   {
    "duration": 5,
    "start_time": "2021-12-04T07:51:38.337Z"
   },
   {
    "duration": 18,
    "start_time": "2021-12-04T07:51:38.344Z"
   },
   {
    "duration": 11,
    "start_time": "2021-12-04T07:51:38.364Z"
   },
   {
    "duration": 46,
    "start_time": "2021-12-04T07:51:38.377Z"
   },
   {
    "duration": 5,
    "start_time": "2021-12-04T07:51:38.424Z"
   },
   {
    "duration": 37,
    "start_time": "2021-12-04T07:51:38.431Z"
   },
   {
    "duration": 3,
    "start_time": "2021-12-04T07:51:38.469Z"
   },
   {
    "duration": 33,
    "start_time": "2021-12-04T07:51:38.473Z"
   },
   {
    "duration": 7,
    "start_time": "2021-12-04T07:51:38.509Z"
   },
   {
    "duration": 29,
    "start_time": "2021-12-04T07:51:38.518Z"
   },
   {
    "duration": 27,
    "start_time": "2021-12-04T07:51:38.551Z"
   },
   {
    "duration": 35,
    "start_time": "2021-12-04T07:51:38.581Z"
   },
   {
    "duration": 7,
    "start_time": "2021-12-04T07:51:38.619Z"
   },
   {
    "duration": 10,
    "start_time": "2021-12-04T07:51:38.628Z"
   },
   {
    "duration": 12,
    "start_time": "2021-12-04T07:51:38.640Z"
   },
   {
    "duration": 10,
    "start_time": "2021-12-04T07:51:38.654Z"
   },
   {
    "duration": 12,
    "start_time": "2021-12-04T07:51:38.666Z"
   },
   {
    "duration": 10,
    "start_time": "2021-12-04T07:51:38.706Z"
   },
   {
    "duration": 7,
    "start_time": "2021-12-04T07:51:38.718Z"
   },
   {
    "duration": 6,
    "start_time": "2021-12-04T07:51:38.727Z"
   },
   {
    "duration": 3,
    "start_time": "2021-12-04T07:51:38.735Z"
   },
   {
    "duration": 4,
    "start_time": "2021-12-04T07:51:38.740Z"
   },
   {
    "duration": 7,
    "start_time": "2021-12-04T07:51:38.746Z"
   },
   {
    "duration": 6,
    "start_time": "2021-12-04T07:51:38.754Z"
   },
   {
    "duration": 56,
    "start_time": "2021-12-04T07:51:38.761Z"
   },
   {
    "duration": 6,
    "start_time": "2021-12-04T07:51:38.819Z"
   },
   {
    "duration": 5,
    "start_time": "2021-12-04T07:51:38.827Z"
   },
   {
    "duration": 7,
    "start_time": "2021-12-04T07:51:38.833Z"
   },
   {
    "duration": 6,
    "start_time": "2021-12-04T07:51:38.841Z"
   },
   {
    "duration": 17,
    "start_time": "2021-12-04T07:51:38.849Z"
   },
   {
    "duration": 69,
    "start_time": "2021-12-04T07:51:38.867Z"
   },
   {
    "duration": 17,
    "start_time": "2021-12-04T07:51:38.937Z"
   },
   {
    "duration": 15,
    "start_time": "2021-12-04T07:51:38.955Z"
   },
   {
    "duration": 5,
    "start_time": "2021-12-04T07:51:38.972Z"
   },
   {
    "duration": 36,
    "start_time": "2021-12-04T07:51:38.979Z"
   },
   {
    "duration": 3669,
    "start_time": "2021-12-04T07:51:39.018Z"
   },
   {
    "duration": 4,
    "start_time": "2021-12-04T07:51:42.688Z"
   },
   {
    "duration": 16,
    "start_time": "2021-12-04T07:51:42.694Z"
   },
   {
    "duration": 5,
    "start_time": "2021-12-04T07:51:42.714Z"
   },
   {
    "duration": 4,
    "start_time": "2021-12-04T07:51:42.721Z"
   },
   {
    "duration": 6,
    "start_time": "2021-12-04T07:51:42.727Z"
   },
   {
    "duration": 2947,
    "start_time": "2021-12-04T07:51:42.735Z"
   },
   {
    "duration": 26,
    "start_time": "2021-12-04T07:51:45.684Z"
   },
   {
    "duration": 10,
    "start_time": "2021-12-04T07:51:45.713Z"
   },
   {
    "duration": 9589,
    "start_time": "2021-12-04T07:51:45.725Z"
   },
   {
    "duration": -603,
    "start_time": "2021-12-04T07:51:55.919Z"
   },
   {
    "duration": 1205,
    "start_time": "2021-12-04T07:52:33.080Z"
   },
   {
    "duration": 56,
    "start_time": "2021-12-04T07:52:34.286Z"
   },
   {
    "duration": 19,
    "start_time": "2021-12-04T07:52:34.344Z"
   },
   {
    "duration": 15,
    "start_time": "2021-12-04T07:52:34.364Z"
   },
   {
    "duration": 29,
    "start_time": "2021-12-04T07:52:34.381Z"
   },
   {
    "duration": 18,
    "start_time": "2021-12-04T07:52:34.417Z"
   },
   {
    "duration": 30,
    "start_time": "2021-12-04T07:52:34.436Z"
   },
   {
    "duration": 9,
    "start_time": "2021-12-04T07:52:34.469Z"
   },
   {
    "duration": 28,
    "start_time": "2021-12-04T07:52:34.480Z"
   },
   {
    "duration": 22,
    "start_time": "2021-12-04T07:52:34.510Z"
   },
   {
    "duration": 8,
    "start_time": "2021-12-04T07:52:34.534Z"
   },
   {
    "duration": 5,
    "start_time": "2021-12-04T07:52:34.544Z"
   },
   {
    "duration": 5,
    "start_time": "2021-12-04T07:52:34.550Z"
   },
   {
    "duration": 21,
    "start_time": "2021-12-04T07:52:34.557Z"
   },
   {
    "duration": 44,
    "start_time": "2021-12-04T07:52:34.579Z"
   },
   {
    "duration": 12,
    "start_time": "2021-12-04T07:52:34.625Z"
   },
   {
    "duration": 4,
    "start_time": "2021-12-04T07:52:34.639Z"
   },
   {
    "duration": 30,
    "start_time": "2021-12-04T07:52:34.644Z"
   },
   {
    "duration": 2,
    "start_time": "2021-12-04T07:52:34.676Z"
   },
   {
    "duration": 13,
    "start_time": "2021-12-04T07:52:34.706Z"
   },
   {
    "duration": 6,
    "start_time": "2021-12-04T07:52:34.721Z"
   },
   {
    "duration": 20,
    "start_time": "2021-12-04T07:52:34.729Z"
   },
   {
    "duration": 28,
    "start_time": "2021-12-04T07:52:34.753Z"
   },
   {
    "duration": 40,
    "start_time": "2021-12-04T07:52:34.784Z"
   },
   {
    "duration": 4,
    "start_time": "2021-12-04T07:52:34.826Z"
   },
   {
    "duration": 11,
    "start_time": "2021-12-04T07:52:34.832Z"
   },
   {
    "duration": 7,
    "start_time": "2021-12-04T07:52:34.845Z"
   },
   {
    "duration": 6,
    "start_time": "2021-12-04T07:52:34.853Z"
   },
   {
    "duration": 12,
    "start_time": "2021-12-04T07:52:34.860Z"
   },
   {
    "duration": 45,
    "start_time": "2021-12-04T07:52:34.873Z"
   },
   {
    "duration": 5,
    "start_time": "2021-12-04T07:52:34.920Z"
   },
   {
    "duration": 5,
    "start_time": "2021-12-04T07:52:34.927Z"
   },
   {
    "duration": 4,
    "start_time": "2021-12-04T07:52:34.934Z"
   },
   {
    "duration": 5,
    "start_time": "2021-12-04T07:52:34.939Z"
   },
   {
    "duration": 7,
    "start_time": "2021-12-04T07:52:34.945Z"
   },
   {
    "duration": 4,
    "start_time": "2021-12-04T07:52:34.953Z"
   },
   {
    "duration": 7,
    "start_time": "2021-12-04T07:52:34.959Z"
   },
   {
    "duration": 48,
    "start_time": "2021-12-04T07:52:34.968Z"
   },
   {
    "duration": 5,
    "start_time": "2021-12-04T07:52:35.019Z"
   },
   {
    "duration": 6,
    "start_time": "2021-12-04T07:52:35.025Z"
   },
   {
    "duration": 7,
    "start_time": "2021-12-04T07:52:35.033Z"
   },
   {
    "duration": 18,
    "start_time": "2021-12-04T07:52:35.042Z"
   },
   {
    "duration": 64,
    "start_time": "2021-12-04T07:52:35.061Z"
   },
   {
    "duration": 17,
    "start_time": "2021-12-04T07:52:35.127Z"
   },
   {
    "duration": 15,
    "start_time": "2021-12-04T07:52:35.145Z"
   },
   {
    "duration": 4,
    "start_time": "2021-12-04T07:52:35.162Z"
   },
   {
    "duration": 12,
    "start_time": "2021-12-04T07:52:35.168Z"
   },
   {
    "duration": 3775,
    "start_time": "2021-12-04T07:52:35.182Z"
   },
   {
    "duration": 4,
    "start_time": "2021-12-04T07:52:38.959Z"
   },
   {
    "duration": 4,
    "start_time": "2021-12-04T07:52:38.964Z"
   },
   {
    "duration": 5,
    "start_time": "2021-12-04T07:52:38.970Z"
   },
   {
    "duration": 3,
    "start_time": "2021-12-04T07:52:38.977Z"
   },
   {
    "duration": 26,
    "start_time": "2021-12-04T07:52:38.981Z"
   },
   {
    "duration": 3111,
    "start_time": "2021-12-04T07:52:39.009Z"
   },
   {
    "duration": 13,
    "start_time": "2021-12-04T07:52:42.122Z"
   },
   {
    "duration": 8,
    "start_time": "2021-12-04T07:52:42.136Z"
   },
   {
    "duration": 10942,
    "start_time": "2021-12-04T07:52:42.146Z"
   },
   {
    "duration": -597,
    "start_time": "2021-12-04T07:52:53.687Z"
   },
   {
    "duration": 9516,
    "start_time": "2021-12-04T07:53:21.118Z"
   },
   {
    "duration": 1470,
    "start_time": "2021-12-04T07:53:32.903Z"
   },
   {
    "duration": 55,
    "start_time": "2021-12-04T07:53:34.375Z"
   },
   {
    "duration": 19,
    "start_time": "2021-12-04T07:53:34.432Z"
   },
   {
    "duration": 30,
    "start_time": "2021-12-04T07:53:34.453Z"
   },
   {
    "duration": 24,
    "start_time": "2021-12-04T07:53:34.485Z"
   },
   {
    "duration": 20,
    "start_time": "2021-12-04T07:53:34.511Z"
   },
   {
    "duration": 32,
    "start_time": "2021-12-04T07:53:34.534Z"
   },
   {
    "duration": 41,
    "start_time": "2021-12-04T07:53:34.569Z"
   },
   {
    "duration": 7,
    "start_time": "2021-12-04T07:53:34.613Z"
   },
   {
    "duration": 19,
    "start_time": "2021-12-04T07:53:34.622Z"
   },
   {
    "duration": 12,
    "start_time": "2021-12-04T07:53:34.643Z"
   },
   {
    "duration": 18,
    "start_time": "2021-12-04T07:53:34.656Z"
   },
   {
    "duration": 10,
    "start_time": "2021-12-04T07:53:34.675Z"
   },
   {
    "duration": 26,
    "start_time": "2021-12-04T07:53:34.686Z"
   },
   {
    "duration": 15,
    "start_time": "2021-12-04T07:53:34.714Z"
   },
   {
    "duration": 19,
    "start_time": "2021-12-04T07:53:34.731Z"
   },
   {
    "duration": 16,
    "start_time": "2021-12-04T07:53:34.752Z"
   },
   {
    "duration": 47,
    "start_time": "2021-12-04T07:53:34.770Z"
   },
   {
    "duration": 3,
    "start_time": "2021-12-04T07:53:34.819Z"
   },
   {
    "duration": 16,
    "start_time": "2021-12-04T07:53:34.824Z"
   },
   {
    "duration": 25,
    "start_time": "2021-12-04T07:53:34.841Z"
   },
   {
    "duration": 23,
    "start_time": "2021-12-04T07:53:34.868Z"
   },
   {
    "duration": 39,
    "start_time": "2021-12-04T07:53:34.894Z"
   },
   {
    "duration": 8,
    "start_time": "2021-12-04T07:53:34.936Z"
   },
   {
    "duration": 10,
    "start_time": "2021-12-04T07:53:34.945Z"
   },
   {
    "duration": 18,
    "start_time": "2021-12-04T07:53:34.956Z"
   },
   {
    "duration": 9,
    "start_time": "2021-12-04T07:53:34.975Z"
   },
   {
    "duration": 5,
    "start_time": "2021-12-04T07:53:34.986Z"
   },
   {
    "duration": 27,
    "start_time": "2021-12-04T07:53:34.992Z"
   },
   {
    "duration": 8,
    "start_time": "2021-12-04T07:53:35.021Z"
   },
   {
    "duration": 10,
    "start_time": "2021-12-04T07:53:35.031Z"
   },
   {
    "duration": 15,
    "start_time": "2021-12-04T07:53:35.042Z"
   },
   {
    "duration": 14,
    "start_time": "2021-12-04T07:53:35.058Z"
   },
   {
    "duration": 9,
    "start_time": "2021-12-04T07:53:35.073Z"
   },
   {
    "duration": 13,
    "start_time": "2021-12-04T07:53:35.084Z"
   },
   {
    "duration": 13,
    "start_time": "2021-12-04T07:53:35.099Z"
   },
   {
    "duration": 17,
    "start_time": "2021-12-04T07:53:35.114Z"
   },
   {
    "duration": 13,
    "start_time": "2021-12-04T07:53:35.133Z"
   },
   {
    "duration": 14,
    "start_time": "2021-12-04T07:53:35.148Z"
   },
   {
    "duration": 14,
    "start_time": "2021-12-04T07:53:35.164Z"
   },
   {
    "duration": 10,
    "start_time": "2021-12-04T07:53:35.179Z"
   },
   {
    "duration": 29,
    "start_time": "2021-12-04T07:53:35.191Z"
   },
   {
    "duration": 32,
    "start_time": "2021-12-04T07:53:35.222Z"
   },
   {
    "duration": 17,
    "start_time": "2021-12-04T07:53:35.256Z"
   },
   {
    "duration": 37,
    "start_time": "2021-12-04T07:53:35.275Z"
   },
   {
    "duration": 8,
    "start_time": "2021-12-04T07:53:35.314Z"
   },
   {
    "duration": 19,
    "start_time": "2021-12-04T07:53:35.324Z"
   },
   {
    "duration": 3748,
    "start_time": "2021-12-04T07:53:35.345Z"
   },
   {
    "duration": 5,
    "start_time": "2021-12-04T07:53:39.107Z"
   },
   {
    "duration": 4,
    "start_time": "2021-12-04T07:53:39.115Z"
   },
   {
    "duration": 11,
    "start_time": "2021-12-04T07:53:39.123Z"
   },
   {
    "duration": 4,
    "start_time": "2021-12-04T07:53:39.136Z"
   },
   {
    "duration": 5,
    "start_time": "2021-12-04T07:53:39.142Z"
   },
   {
    "duration": 3299,
    "start_time": "2021-12-04T07:53:39.149Z"
   },
   {
    "duration": 15,
    "start_time": "2021-12-04T07:53:42.450Z"
   },
   {
    "duration": 13,
    "start_time": "2021-12-04T07:53:42.467Z"
   },
   {
    "duration": 10135,
    "start_time": "2021-12-04T07:53:42.482Z"
   },
   {
    "duration": -546,
    "start_time": "2021-12-04T07:53:53.166Z"
   },
   {
    "duration": 11807,
    "start_time": "2021-12-04T07:54:58.471Z"
   },
   {
    "duration": 1220,
    "start_time": "2021-12-04T08:00:43.286Z"
   },
   {
    "duration": 51,
    "start_time": "2021-12-04T08:00:44.508Z"
   },
   {
    "duration": 20,
    "start_time": "2021-12-04T08:00:44.561Z"
   },
   {
    "duration": 12,
    "start_time": "2021-12-04T08:00:44.583Z"
   },
   {
    "duration": 17,
    "start_time": "2021-12-04T08:00:44.596Z"
   },
   {
    "duration": 15,
    "start_time": "2021-12-04T08:00:44.615Z"
   },
   {
    "duration": 30,
    "start_time": "2021-12-04T08:00:44.632Z"
   },
   {
    "duration": 9,
    "start_time": "2021-12-04T08:00:44.665Z"
   },
   {
    "duration": 33,
    "start_time": "2021-12-04T08:00:44.676Z"
   },
   {
    "duration": 9,
    "start_time": "2021-12-04T08:00:44.711Z"
   },
   {
    "duration": 8,
    "start_time": "2021-12-04T08:00:44.722Z"
   },
   {
    "duration": 4,
    "start_time": "2021-12-04T08:00:44.731Z"
   },
   {
    "duration": 5,
    "start_time": "2021-12-04T08:00:44.737Z"
   },
   {
    "duration": 20,
    "start_time": "2021-12-04T08:00:44.743Z"
   },
   {
    "duration": 45,
    "start_time": "2021-12-04T08:00:44.765Z"
   },
   {
    "duration": 14,
    "start_time": "2021-12-04T08:00:44.811Z"
   },
   {
    "duration": 4,
    "start_time": "2021-12-04T08:00:44.827Z"
   },
   {
    "duration": 32,
    "start_time": "2021-12-04T08:00:44.833Z"
   },
   {
    "duration": 2,
    "start_time": "2021-12-04T08:00:44.867Z"
   },
   {
    "duration": 8,
    "start_time": "2021-12-04T08:00:44.870Z"
   },
   {
    "duration": 30,
    "start_time": "2021-12-04T08:00:44.879Z"
   },
   {
    "duration": 21,
    "start_time": "2021-12-04T08:00:44.911Z"
   },
   {
    "duration": 29,
    "start_time": "2021-12-04T08:00:44.936Z"
   },
   {
    "duration": 8,
    "start_time": "2021-12-04T08:00:44.968Z"
   },
   {
    "duration": 31,
    "start_time": "2021-12-04T08:00:44.978Z"
   },
   {
    "duration": 13,
    "start_time": "2021-12-04T08:00:45.011Z"
   },
   {
    "duration": 10,
    "start_time": "2021-12-04T08:00:45.026Z"
   },
   {
    "duration": 9,
    "start_time": "2021-12-04T08:00:45.038Z"
   },
   {
    "duration": 15,
    "start_time": "2021-12-04T08:00:45.048Z"
   },
   {
    "duration": 10,
    "start_time": "2021-12-04T08:00:45.064Z"
   },
   {
    "duration": 35,
    "start_time": "2021-12-04T08:00:45.076Z"
   },
   {
    "duration": 9,
    "start_time": "2021-12-04T08:00:45.112Z"
   },
   {
    "duration": 3,
    "start_time": "2021-12-04T08:00:45.123Z"
   },
   {
    "duration": 5,
    "start_time": "2021-12-04T08:00:45.128Z"
   },
   {
    "duration": 11,
    "start_time": "2021-12-04T08:00:45.134Z"
   },
   {
    "duration": 5,
    "start_time": "2021-12-04T08:00:45.146Z"
   },
   {
    "duration": 8,
    "start_time": "2021-12-04T08:00:45.152Z"
   },
   {
    "duration": 6,
    "start_time": "2021-12-04T08:00:45.161Z"
   },
   {
    "duration": 37,
    "start_time": "2021-12-04T08:00:45.169Z"
   },
   {
    "duration": 4,
    "start_time": "2021-12-04T08:00:45.208Z"
   },
   {
    "duration": 9,
    "start_time": "2021-12-04T08:00:45.214Z"
   },
   {
    "duration": 18,
    "start_time": "2021-12-04T08:00:45.224Z"
   },
   {
    "duration": 30,
    "start_time": "2021-12-04T08:00:45.243Z"
   },
   {
    "duration": 39,
    "start_time": "2021-12-04T08:00:45.275Z"
   },
   {
    "duration": 15,
    "start_time": "2021-12-04T08:00:45.316Z"
   },
   {
    "duration": 5,
    "start_time": "2021-12-04T08:00:45.332Z"
   },
   {
    "duration": 11,
    "start_time": "2021-12-04T08:00:45.339Z"
   },
   {
    "duration": 3626,
    "start_time": "2021-12-04T08:00:45.352Z"
   },
   {
    "duration": 4,
    "start_time": "2021-12-04T08:00:48.980Z"
   },
   {
    "duration": 22,
    "start_time": "2021-12-04T08:00:48.986Z"
   },
   {
    "duration": 7,
    "start_time": "2021-12-04T08:00:49.010Z"
   },
   {
    "duration": 2951,
    "start_time": "2021-12-04T08:00:49.019Z"
   },
   {
    "duration": 21,
    "start_time": "2021-12-04T08:00:51.973Z"
   },
   {
    "duration": 11,
    "start_time": "2021-12-04T08:00:52.006Z"
   },
   {
    "duration": 450,
    "start_time": "2021-12-04T08:05:41.295Z"
   },
   {
    "duration": -598,
    "start_time": "2021-12-04T08:05:59.708Z"
   },
   {
    "duration": 1355,
    "start_time": "2021-12-04T08:06:21.521Z"
   },
   {
    "duration": 51,
    "start_time": "2021-12-04T08:06:22.879Z"
   },
   {
    "duration": 19,
    "start_time": "2021-12-04T08:06:22.932Z"
   },
   {
    "duration": 14,
    "start_time": "2021-12-04T08:06:22.953Z"
   },
   {
    "duration": 37,
    "start_time": "2021-12-04T08:06:22.970Z"
   },
   {
    "duration": 22,
    "start_time": "2021-12-04T08:06:23.009Z"
   },
   {
    "duration": 32,
    "start_time": "2021-12-04T08:06:23.033Z"
   },
   {
    "duration": 9,
    "start_time": "2021-12-04T08:06:23.068Z"
   },
   {
    "duration": 5,
    "start_time": "2021-12-04T08:06:23.106Z"
   },
   {
    "duration": 10,
    "start_time": "2021-12-04T08:06:23.113Z"
   },
   {
    "duration": 9,
    "start_time": "2021-12-04T08:06:23.125Z"
   },
   {
    "duration": 5,
    "start_time": "2021-12-04T08:06:23.135Z"
   },
   {
    "duration": 4,
    "start_time": "2021-12-04T08:06:23.142Z"
   },
   {
    "duration": 20,
    "start_time": "2021-12-04T08:06:23.148Z"
   },
   {
    "duration": 13,
    "start_time": "2021-12-04T08:06:23.207Z"
   },
   {
    "duration": 10,
    "start_time": "2021-12-04T08:06:23.222Z"
   },
   {
    "duration": 5,
    "start_time": "2021-12-04T08:06:23.234Z"
   },
   {
    "duration": 34,
    "start_time": "2021-12-04T08:06:23.241Z"
   },
   {
    "duration": 2,
    "start_time": "2021-12-04T08:06:23.277Z"
   },
   {
    "duration": 30,
    "start_time": "2021-12-04T08:06:23.281Z"
   },
   {
    "duration": 10,
    "start_time": "2021-12-04T08:06:23.312Z"
   },
   {
    "duration": 22,
    "start_time": "2021-12-04T08:06:23.323Z"
   },
   {
    "duration": 29,
    "start_time": "2021-12-04T08:06:23.349Z"
   },
   {
    "duration": 30,
    "start_time": "2021-12-04T08:06:23.381Z"
   },
   {
    "duration": 4,
    "start_time": "2021-12-04T08:06:23.413Z"
   },
   {
    "duration": 11,
    "start_time": "2021-12-04T08:06:23.419Z"
   },
   {
    "duration": 8,
    "start_time": "2021-12-04T08:06:23.431Z"
   },
   {
    "duration": 5,
    "start_time": "2021-12-04T08:06:23.440Z"
   },
   {
    "duration": 12,
    "start_time": "2021-12-04T08:06:23.447Z"
   },
   {
    "duration": 8,
    "start_time": "2021-12-04T08:06:23.506Z"
   },
   {
    "duration": 4,
    "start_time": "2021-12-04T08:06:23.516Z"
   },
   {
    "duration": 6,
    "start_time": "2021-12-04T08:06:23.522Z"
   },
   {
    "duration": 4,
    "start_time": "2021-12-04T08:06:23.529Z"
   },
   {
    "duration": 4,
    "start_time": "2021-12-04T08:06:23.534Z"
   },
   {
    "duration": 6,
    "start_time": "2021-12-04T08:06:23.540Z"
   },
   {
    "duration": 5,
    "start_time": "2021-12-04T08:06:23.548Z"
   },
   {
    "duration": 55,
    "start_time": "2021-12-04T08:06:23.554Z"
   },
   {
    "duration": 5,
    "start_time": "2021-12-04T08:06:23.610Z"
   },
   {
    "duration": 5,
    "start_time": "2021-12-04T08:06:23.617Z"
   },
   {
    "duration": 5,
    "start_time": "2021-12-04T08:06:23.623Z"
   },
   {
    "duration": 7,
    "start_time": "2021-12-04T08:06:23.629Z"
   },
   {
    "duration": 18,
    "start_time": "2021-12-04T08:06:23.638Z"
   },
   {
    "duration": 69,
    "start_time": "2021-12-04T08:06:23.658Z"
   },
   {
    "duration": 16,
    "start_time": "2021-12-04T08:06:23.729Z"
   },
   {
    "duration": 16,
    "start_time": "2021-12-04T08:06:23.747Z"
   },
   {
    "duration": 6,
    "start_time": "2021-12-04T08:06:23.764Z"
   },
   {
    "duration": 12,
    "start_time": "2021-12-04T08:06:23.771Z"
   },
   {
    "duration": 3525,
    "start_time": "2021-12-04T08:06:23.807Z"
   },
   {
    "duration": 4,
    "start_time": "2021-12-04T08:06:27.335Z"
   },
   {
    "duration": 9,
    "start_time": "2021-12-04T08:06:27.341Z"
   },
   {
    "duration": 8,
    "start_time": "2021-12-04T08:06:27.352Z"
   },
   {
    "duration": 2907,
    "start_time": "2021-12-04T08:06:27.362Z"
   },
   {
    "duration": 16,
    "start_time": "2021-12-04T08:06:30.271Z"
   },
   {
    "duration": 20,
    "start_time": "2021-12-04T08:06:30.289Z"
   },
   {
    "duration": 8961,
    "start_time": "2021-12-04T08:06:30.311Z"
   },
   {
    "duration": 1292,
    "start_time": "2021-12-04T08:08:43.280Z"
   },
   {
    "duration": 50,
    "start_time": "2021-12-04T08:08:44.575Z"
   },
   {
    "duration": 18,
    "start_time": "2021-12-04T08:08:44.627Z"
   },
   {
    "duration": 12,
    "start_time": "2021-12-04T08:08:44.647Z"
   },
   {
    "duration": 30,
    "start_time": "2021-12-04T08:08:44.661Z"
   },
   {
    "duration": 25,
    "start_time": "2021-12-04T08:08:44.693Z"
   },
   {
    "duration": 31,
    "start_time": "2021-12-04T08:08:44.720Z"
   },
   {
    "duration": 9,
    "start_time": "2021-12-04T08:08:44.754Z"
   },
   {
    "duration": 11,
    "start_time": "2021-12-04T08:08:44.765Z"
   },
   {
    "duration": 29,
    "start_time": "2021-12-04T08:08:44.778Z"
   },
   {
    "duration": 8,
    "start_time": "2021-12-04T08:08:44.809Z"
   },
   {
    "duration": 5,
    "start_time": "2021-12-04T08:08:44.819Z"
   },
   {
    "duration": 5,
    "start_time": "2021-12-04T08:08:44.826Z"
   },
   {
    "duration": 21,
    "start_time": "2021-12-04T08:08:44.833Z"
   },
   {
    "duration": 12,
    "start_time": "2021-12-04T08:08:44.856Z"
   },
   {
    "duration": 43,
    "start_time": "2021-12-04T08:08:44.869Z"
   },
   {
    "duration": 4,
    "start_time": "2021-12-04T08:08:44.914Z"
   },
   {
    "duration": 31,
    "start_time": "2021-12-04T08:08:44.920Z"
   },
   {
    "duration": 2,
    "start_time": "2021-12-04T08:08:44.953Z"
   },
   {
    "duration": 9,
    "start_time": "2021-12-04T08:08:44.957Z"
   },
   {
    "duration": 5,
    "start_time": "2021-12-04T08:08:44.968Z"
   },
   {
    "duration": 52,
    "start_time": "2021-12-04T08:08:44.975Z"
   },
   {
    "duration": 30,
    "start_time": "2021-12-04T08:08:45.031Z"
   },
   {
    "duration": 9,
    "start_time": "2021-12-04T08:08:45.063Z"
   },
   {
    "duration": 6,
    "start_time": "2021-12-04T08:08:45.074Z"
   },
   {
    "duration": 34,
    "start_time": "2021-12-04T08:08:45.082Z"
   },
   {
    "duration": 8,
    "start_time": "2021-12-04T08:08:45.118Z"
   },
   {
    "duration": 6,
    "start_time": "2021-12-04T08:08:45.127Z"
   },
   {
    "duration": 13,
    "start_time": "2021-12-04T08:08:45.134Z"
   },
   {
    "duration": 8,
    "start_time": "2021-12-04T08:08:45.149Z"
   },
   {
    "duration": 4,
    "start_time": "2021-12-04T08:08:45.159Z"
   },
   {
    "duration": 44,
    "start_time": "2021-12-04T08:08:45.164Z"
   },
   {
    "duration": 7,
    "start_time": "2021-12-04T08:08:45.209Z"
   },
   {
    "duration": 5,
    "start_time": "2021-12-04T08:08:45.218Z"
   },
   {
    "duration": 7,
    "start_time": "2021-12-04T08:08:45.225Z"
   },
   {
    "duration": 5,
    "start_time": "2021-12-04T08:08:45.234Z"
   },
   {
    "duration": 9,
    "start_time": "2021-12-04T08:08:45.240Z"
   },
   {
    "duration": 7,
    "start_time": "2021-12-04T08:08:45.251Z"
   },
   {
    "duration": 5,
    "start_time": "2021-12-04T08:08:45.260Z"
   },
   {
    "duration": 9,
    "start_time": "2021-12-04T08:08:45.267Z"
   },
   {
    "duration": 31,
    "start_time": "2021-12-04T08:08:45.277Z"
   },
   {
    "duration": 18,
    "start_time": "2021-12-04T08:08:45.310Z"
   },
   {
    "duration": 29,
    "start_time": "2021-12-04T08:08:45.329Z"
   },
   {
    "duration": 16,
    "start_time": "2021-12-04T08:08:45.359Z"
   },
   {
    "duration": 39,
    "start_time": "2021-12-04T08:08:45.377Z"
   },
   {
    "duration": 5,
    "start_time": "2021-12-04T08:08:45.418Z"
   },
   {
    "duration": 15,
    "start_time": "2021-12-04T08:08:45.424Z"
   },
   {
    "duration": 3456,
    "start_time": "2021-12-04T08:08:45.441Z"
   },
   {
    "duration": 8,
    "start_time": "2021-12-04T08:08:48.899Z"
   },
   {
    "duration": 3,
    "start_time": "2021-12-04T08:08:48.909Z"
   },
   {
    "duration": 6,
    "start_time": "2021-12-04T08:08:48.914Z"
   },
   {
    "duration": 2995,
    "start_time": "2021-12-04T08:08:48.921Z"
   },
   {
    "duration": 14,
    "start_time": "2021-12-04T08:08:51.918Z"
   },
   {
    "duration": 9,
    "start_time": "2021-12-04T08:08:51.934Z"
   },
   {
    "duration": 1182,
    "start_time": "2021-12-04T08:12:22.992Z"
   },
   {
    "duration": 50,
    "start_time": "2021-12-04T08:12:24.176Z"
   },
   {
    "duration": 19,
    "start_time": "2021-12-04T08:12:24.229Z"
   },
   {
    "duration": 11,
    "start_time": "2021-12-04T08:12:24.251Z"
   },
   {
    "duration": 12,
    "start_time": "2021-12-04T08:12:24.264Z"
   },
   {
    "duration": 37,
    "start_time": "2021-12-04T08:12:24.278Z"
   },
   {
    "duration": 31,
    "start_time": "2021-12-04T08:12:24.316Z"
   },
   {
    "duration": 9,
    "start_time": "2021-12-04T08:12:24.350Z"
   },
   {
    "duration": 4,
    "start_time": "2021-12-04T08:12:24.361Z"
   },
   {
    "duration": 9,
    "start_time": "2021-12-04T08:12:24.367Z"
   },
   {
    "duration": 9,
    "start_time": "2021-12-04T08:12:24.407Z"
   },
   {
    "duration": 4,
    "start_time": "2021-12-04T08:12:24.418Z"
   },
   {
    "duration": 5,
    "start_time": "2021-12-04T08:12:24.424Z"
   },
   {
    "duration": 24,
    "start_time": "2021-12-04T08:12:24.430Z"
   },
   {
    "duration": 12,
    "start_time": "2021-12-04T08:12:24.455Z"
   },
   {
    "duration": 44,
    "start_time": "2021-12-04T08:12:24.470Z"
   },
   {
    "duration": 5,
    "start_time": "2021-12-04T08:12:24.516Z"
   },
   {
    "duration": 30,
    "start_time": "2021-12-04T08:12:24.523Z"
   },
   {
    "duration": 2,
    "start_time": "2021-12-04T08:12:24.555Z"
   },
   {
    "duration": 8,
    "start_time": "2021-12-04T08:12:24.560Z"
   },
   {
    "duration": 7,
    "start_time": "2021-12-04T08:12:24.570Z"
   },
   {
    "duration": 22,
    "start_time": "2021-12-04T08:12:24.608Z"
   },
   {
    "duration": 29,
    "start_time": "2021-12-04T08:12:24.635Z"
   },
   {
    "duration": 39,
    "start_time": "2021-12-04T08:12:24.668Z"
   },
   {
    "duration": 6,
    "start_time": "2021-12-04T08:12:24.709Z"
   },
   {
    "duration": 13,
    "start_time": "2021-12-04T08:12:24.718Z"
   },
   {
    "duration": 11,
    "start_time": "2021-12-04T08:12:24.732Z"
   },
   {
    "duration": 7,
    "start_time": "2021-12-04T08:12:24.744Z"
   },
   {
    "duration": 13,
    "start_time": "2021-12-04T08:12:24.752Z"
   },
   {
    "duration": 40,
    "start_time": "2021-12-04T08:12:24.767Z"
   },
   {
    "duration": 4,
    "start_time": "2021-12-04T08:12:24.809Z"
   },
   {
    "duration": 7,
    "start_time": "2021-12-04T08:12:24.815Z"
   },
   {
    "duration": 4,
    "start_time": "2021-12-04T08:12:24.823Z"
   },
   {
    "duration": 12,
    "start_time": "2021-12-04T08:12:24.828Z"
   },
   {
    "duration": 8,
    "start_time": "2021-12-04T08:12:24.842Z"
   },
   {
    "duration": 6,
    "start_time": "2021-12-04T08:12:24.851Z"
   },
   {
    "duration": 7,
    "start_time": "2021-12-04T08:12:24.859Z"
   },
   {
    "duration": 11,
    "start_time": "2021-12-04T08:12:24.868Z"
   },
   {
    "duration": 6,
    "start_time": "2021-12-04T08:12:24.907Z"
   },
   {
    "duration": 5,
    "start_time": "2021-12-04T08:12:24.915Z"
   },
   {
    "duration": 6,
    "start_time": "2021-12-04T08:12:24.921Z"
   },
   {
    "duration": 18,
    "start_time": "2021-12-04T08:12:24.928Z"
   },
   {
    "duration": 1178,
    "start_time": "2021-12-04T08:13:20.033Z"
   },
   {
    "duration": 52,
    "start_time": "2021-12-04T08:13:21.213Z"
   },
   {
    "duration": 19,
    "start_time": "2021-12-04T08:13:21.267Z"
   },
   {
    "duration": 19,
    "start_time": "2021-12-04T08:13:21.288Z"
   },
   {
    "duration": 10,
    "start_time": "2021-12-04T08:13:21.309Z"
   },
   {
    "duration": 16,
    "start_time": "2021-12-04T08:13:21.321Z"
   },
   {
    "duration": 30,
    "start_time": "2021-12-04T08:13:21.339Z"
   },
   {
    "duration": 42,
    "start_time": "2021-12-04T08:13:21.372Z"
   },
   {
    "duration": 4,
    "start_time": "2021-12-04T08:13:21.417Z"
   },
   {
    "duration": 10,
    "start_time": "2021-12-04T08:13:21.423Z"
   },
   {
    "duration": 9,
    "start_time": "2021-12-04T08:13:21.435Z"
   },
   {
    "duration": 5,
    "start_time": "2021-12-04T08:13:21.445Z"
   },
   {
    "duration": 4,
    "start_time": "2021-12-04T08:13:21.452Z"
   },
   {
    "duration": 63,
    "start_time": "2021-12-04T08:13:21.458Z"
   },
   {
    "duration": 12,
    "start_time": "2021-12-04T08:13:21.523Z"
   },
   {
    "duration": 15,
    "start_time": "2021-12-04T08:13:21.536Z"
   },
   {
    "duration": 4,
    "start_time": "2021-12-04T08:13:21.552Z"
   },
   {
    "duration": 50,
    "start_time": "2021-12-04T08:13:21.558Z"
   },
   {
    "duration": 2,
    "start_time": "2021-12-04T08:13:21.610Z"
   },
   {
    "duration": 8,
    "start_time": "2021-12-04T08:13:21.613Z"
   },
   {
    "duration": 5,
    "start_time": "2021-12-04T08:13:21.623Z"
   },
   {
    "duration": 22,
    "start_time": "2021-12-04T08:13:21.630Z"
   },
   {
    "duration": 59,
    "start_time": "2021-12-04T08:13:21.656Z"
   },
   {
    "duration": 9,
    "start_time": "2021-12-04T08:13:21.717Z"
   },
   {
    "duration": 6,
    "start_time": "2021-12-04T08:13:21.728Z"
   },
   {
    "duration": 12,
    "start_time": "2021-12-04T08:13:21.735Z"
   },
   {
    "duration": 8,
    "start_time": "2021-12-04T08:13:21.749Z"
   },
   {
    "duration": 5,
    "start_time": "2021-12-04T08:13:21.759Z"
   },
   {
    "duration": 49,
    "start_time": "2021-12-04T08:13:21.766Z"
   },
   {
    "duration": 7,
    "start_time": "2021-12-04T08:13:21.817Z"
   },
   {
    "duration": 5,
    "start_time": "2021-12-04T08:13:21.826Z"
   },
   {
    "duration": 6,
    "start_time": "2021-12-04T08:13:21.832Z"
   },
   {
    "duration": 3,
    "start_time": "2021-12-04T08:13:21.840Z"
   },
   {
    "duration": 4,
    "start_time": "2021-12-04T08:13:21.845Z"
   },
   {
    "duration": 6,
    "start_time": "2021-12-04T08:13:21.851Z"
   },
   {
    "duration": 5,
    "start_time": "2021-12-04T08:13:21.859Z"
   },
   {
    "duration": 47,
    "start_time": "2021-12-04T08:13:21.865Z"
   },
   {
    "duration": 6,
    "start_time": "2021-12-04T08:13:21.914Z"
   },
   {
    "duration": 4,
    "start_time": "2021-12-04T08:13:21.922Z"
   },
   {
    "duration": 4,
    "start_time": "2021-12-04T08:13:21.927Z"
   },
   {
    "duration": 5,
    "start_time": "2021-12-04T08:13:21.933Z"
   },
   {
    "duration": 17,
    "start_time": "2021-12-04T08:13:21.939Z"
   },
   {
    "duration": 68,
    "start_time": "2021-12-04T08:13:21.958Z"
   },
   {
    "duration": 17,
    "start_time": "2021-12-04T08:13:22.028Z"
   },
   {
    "duration": 15,
    "start_time": "2021-12-04T08:13:22.047Z"
   },
   {
    "duration": 5,
    "start_time": "2021-12-04T08:13:22.064Z"
   },
   {
    "duration": 12,
    "start_time": "2021-12-04T08:13:22.070Z"
   },
   {
    "duration": 3536,
    "start_time": "2021-12-04T08:13:22.107Z"
   },
   {
    "duration": 4,
    "start_time": "2021-12-04T08:13:25.646Z"
   },
   {
    "duration": 6,
    "start_time": "2021-12-04T08:13:25.652Z"
   },
   {
    "duration": 5,
    "start_time": "2021-12-04T08:13:25.660Z"
   },
   {
    "duration": 2888,
    "start_time": "2021-12-04T08:13:25.667Z"
   },
   {
    "duration": 14,
    "start_time": "2021-12-04T08:13:28.557Z"
   },
   {
    "duration": 8,
    "start_time": "2021-12-04T08:13:28.573Z"
   },
   {
    "duration": 140,
    "start_time": "2021-12-04T08:14:14.751Z"
   },
   {
    "duration": 452,
    "start_time": "2021-12-04T08:14:58.663Z"
   },
   {
    "duration": 18,
    "start_time": "2021-12-04T08:15:12.307Z"
   },
   {
    "duration": 13,
    "start_time": "2021-12-04T08:17:07.858Z"
   },
   {
    "duration": 7,
    "start_time": "2021-12-04T08:25:29.686Z"
   },
   {
    "duration": 6,
    "start_time": "2021-12-04T08:25:45.576Z"
   },
   {
    "duration": 379,
    "start_time": "2021-12-04T08:28:44.270Z"
   },
   {
    "duration": 3,
    "start_time": "2021-12-04T08:28:48.862Z"
   },
   {
    "duration": 688,
    "start_time": "2021-12-04T08:28:51.173Z"
   },
   {
    "duration": 3,
    "start_time": "2021-12-04T08:29:03.666Z"
   },
   {
    "duration": 10,
    "start_time": "2021-12-04T08:29:06.572Z"
   },
   {
    "duration": 12,
    "start_time": "2021-12-04T08:30:56.238Z"
   },
   {
    "duration": 377,
    "start_time": "2021-12-04T08:33:36.812Z"
   },
   {
    "duration": 3,
    "start_time": "2021-12-04T08:33:42.464Z"
   },
   {
    "duration": 8,
    "start_time": "2021-12-04T08:33:44.615Z"
   },
   {
    "duration": 10,
    "start_time": "2021-12-04T08:33:47.950Z"
   },
   {
    "duration": 122,
    "start_time": "2021-12-04T08:38:07.867Z"
   },
   {
    "duration": 6,
    "start_time": "2021-12-04T08:39:01.379Z"
   },
   {
    "duration": 4,
    "start_time": "2021-12-04T08:46:57.602Z"
   },
   {
    "duration": 315,
    "start_time": "2021-12-04T08:47:02.001Z"
   },
   {
    "duration": 21,
    "start_time": "2021-12-04T08:47:04.770Z"
   },
   {
    "duration": 3,
    "start_time": "2021-12-04T08:49:25.206Z"
   },
   {
    "duration": 21,
    "start_time": "2021-12-04T08:49:27.658Z"
   },
   {
    "duration": 1257,
    "start_time": "2021-12-04T08:49:58.569Z"
   },
   {
    "duration": 50,
    "start_time": "2021-12-04T08:49:59.828Z"
   },
   {
    "duration": 19,
    "start_time": "2021-12-04T08:49:59.880Z"
   },
   {
    "duration": 12,
    "start_time": "2021-12-04T08:49:59.901Z"
   },
   {
    "duration": 13,
    "start_time": "2021-12-04T08:49:59.915Z"
   },
   {
    "duration": 16,
    "start_time": "2021-12-04T08:49:59.930Z"
   },
   {
    "duration": 64,
    "start_time": "2021-12-04T08:49:59.948Z"
   },
   {
    "duration": 10,
    "start_time": "2021-12-04T08:50:00.015Z"
   },
   {
    "duration": 5,
    "start_time": "2021-12-04T08:50:00.028Z"
   },
   {
    "duration": 11,
    "start_time": "2021-12-04T08:50:00.035Z"
   },
   {
    "duration": 9,
    "start_time": "2021-12-04T08:50:00.048Z"
   },
   {
    "duration": 6,
    "start_time": "2021-12-04T08:50:00.058Z"
   },
   {
    "duration": 42,
    "start_time": "2021-12-04T08:50:00.066Z"
   },
   {
    "duration": 24,
    "start_time": "2021-12-04T08:50:00.109Z"
   },
   {
    "duration": 12,
    "start_time": "2021-12-04T08:50:00.134Z"
   },
   {
    "duration": 11,
    "start_time": "2021-12-04T08:50:00.148Z"
   },
   {
    "duration": 4,
    "start_time": "2021-12-04T08:50:00.161Z"
   },
   {
    "duration": 57,
    "start_time": "2021-12-04T08:50:00.167Z"
   },
   {
    "duration": 6,
    "start_time": "2021-12-04T08:50:00.226Z"
   },
   {
    "duration": 5,
    "start_time": "2021-12-04T08:50:00.235Z"
   },
   {
    "duration": 21,
    "start_time": "2021-12-04T08:50:00.242Z"
   },
   {
    "duration": 58,
    "start_time": "2021-12-04T08:50:00.265Z"
   },
   {
    "duration": 10,
    "start_time": "2021-12-04T08:50:00.327Z"
   },
   {
    "duration": 7,
    "start_time": "2021-12-04T08:50:00.339Z"
   },
   {
    "duration": 11,
    "start_time": "2021-12-04T08:50:00.348Z"
   },
   {
    "duration": 12,
    "start_time": "2021-12-04T08:50:00.361Z"
   },
   {
    "duration": 32,
    "start_time": "2021-12-04T08:50:00.375Z"
   },
   {
    "duration": 14,
    "start_time": "2021-12-04T08:50:00.409Z"
   },
   {
    "duration": 12,
    "start_time": "2021-12-04T08:50:00.425Z"
   },
   {
    "duration": 5,
    "start_time": "2021-12-04T08:50:00.439Z"
   },
   {
    "duration": 10,
    "start_time": "2021-12-04T08:50:00.446Z"
   },
   {
    "duration": 4,
    "start_time": "2021-12-04T08:50:00.458Z"
   },
   {
    "duration": 9,
    "start_time": "2021-12-04T08:50:00.464Z"
   },
   {
    "duration": 33,
    "start_time": "2021-12-04T08:50:00.475Z"
   },
   {
    "duration": 5,
    "start_time": "2021-12-04T08:50:00.509Z"
   },
   {
    "duration": 12,
    "start_time": "2021-12-04T08:50:00.516Z"
   },
   {
    "duration": 10,
    "start_time": "2021-12-04T08:50:00.529Z"
   },
   {
    "duration": 5,
    "start_time": "2021-12-04T08:50:00.540Z"
   },
   {
    "duration": 8,
    "start_time": "2021-12-04T08:50:00.547Z"
   },
   {
    "duration": 8,
    "start_time": "2021-12-04T08:50:00.556Z"
   },
   {
    "duration": 45,
    "start_time": "2021-12-04T08:50:00.566Z"
   },
   {
    "duration": 32,
    "start_time": "2021-12-04T08:50:00.613Z"
   },
   {
    "duration": 18,
    "start_time": "2021-12-04T08:50:00.647Z"
   },
   {
    "duration": 42,
    "start_time": "2021-12-04T08:50:00.667Z"
   },
   {
    "duration": 6,
    "start_time": "2021-12-04T08:50:00.711Z"
   },
   {
    "duration": 14,
    "start_time": "2021-12-04T08:50:00.719Z"
   },
   {
    "duration": 4332,
    "start_time": "2021-12-04T08:50:00.734Z"
   },
   {
    "duration": 4,
    "start_time": "2021-12-04T08:50:05.069Z"
   },
   {
    "duration": 4,
    "start_time": "2021-12-04T08:50:05.075Z"
   },
   {
    "duration": 5,
    "start_time": "2021-12-04T08:50:05.081Z"
   },
   {
    "duration": 3359,
    "start_time": "2021-12-04T08:50:05.107Z"
   },
   {
    "duration": 15,
    "start_time": "2021-12-04T08:50:08.468Z"
   },
   {
    "duration": 28,
    "start_time": "2021-12-04T08:50:08.485Z"
   },
   {
    "duration": 19,
    "start_time": "2021-12-04T08:50:08.515Z"
   },
   {
    "duration": 12,
    "start_time": "2021-12-04T08:50:08.535Z"
   },
   {
    "duration": 6,
    "start_time": "2021-12-04T08:50:08.549Z"
   },
   {
    "duration": 6,
    "start_time": "2021-12-04T08:50:08.556Z"
   },
   {
    "duration": 342,
    "start_time": "2021-12-04T08:50:08.564Z"
   },
   {
    "duration": 22,
    "start_time": "2021-12-04T08:50:08.908Z"
   },
   {
    "duration": 4,
    "start_time": "2021-12-04T08:50:08.932Z"
   },
   {
    "duration": 476,
    "start_time": "2021-12-04T08:50:08.938Z"
   },
   {
    "duration": -558,
    "start_time": "2021-12-04T08:50:09.974Z"
   },
   {
    "duration": -566,
    "start_time": "2021-12-04T08:50:09.983Z"
   },
   {
    "duration": 12,
    "start_time": "2021-12-04T08:50:36.399Z"
   },
   {
    "duration": 9,
    "start_time": "2021-12-04T08:50:45.599Z"
   },
   {
    "duration": 10,
    "start_time": "2021-12-04T08:55:15.747Z"
   },
   {
    "duration": 9,
    "start_time": "2021-12-04T10:13:26.312Z"
   },
   {
    "duration": 117,
    "start_time": "2021-12-04T10:14:51.581Z"
   },
   {
    "duration": 4,
    "start_time": "2021-12-04T10:15:03.524Z"
   },
   {
    "duration": 297,
    "start_time": "2021-12-04T10:15:07.638Z"
   },
   {
    "duration": 21,
    "start_time": "2021-12-04T10:15:11.803Z"
   },
   {
    "duration": 29,
    "start_time": "2021-12-04T11:29:22.637Z"
   },
   {
    "duration": 9,
    "start_time": "2021-12-04T11:29:43.100Z"
   },
   {
    "duration": 6,
    "start_time": "2021-12-04T11:30:20.966Z"
   },
   {
    "duration": 6,
    "start_time": "2021-12-04T11:30:36.565Z"
   },
   {
    "duration": 3,
    "start_time": "2021-12-04T11:31:05.182Z"
   },
   {
    "duration": 8353,
    "start_time": "2021-12-04T11:31:32.504Z"
   },
   {
    "duration": 2587,
    "start_time": "2021-12-04T11:31:49.774Z"
   },
   {
    "duration": 1245,
    "start_time": "2021-12-04T11:32:12.231Z"
   },
   {
    "duration": 51,
    "start_time": "2021-12-04T11:32:13.478Z"
   },
   {
    "duration": 19,
    "start_time": "2021-12-04T11:32:13.531Z"
   },
   {
    "duration": 12,
    "start_time": "2021-12-04T11:32:13.552Z"
   },
   {
    "duration": 10,
    "start_time": "2021-12-04T11:32:13.566Z"
   },
   {
    "duration": 37,
    "start_time": "2021-12-04T11:32:13.578Z"
   },
   {
    "duration": 31,
    "start_time": "2021-12-04T11:32:13.617Z"
   },
   {
    "duration": 10,
    "start_time": "2021-12-04T11:32:13.650Z"
   },
   {
    "duration": 5,
    "start_time": "2021-12-04T11:32:13.662Z"
   },
   {
    "duration": 9,
    "start_time": "2021-12-04T11:32:13.668Z"
   },
   {
    "duration": 9,
    "start_time": "2021-12-04T11:32:13.707Z"
   },
   {
    "duration": 5,
    "start_time": "2021-12-04T11:32:13.718Z"
   },
   {
    "duration": 5,
    "start_time": "2021-12-04T11:32:13.725Z"
   },
   {
    "duration": 20,
    "start_time": "2021-12-04T11:32:13.732Z"
   },
   {
    "duration": 13,
    "start_time": "2021-12-04T11:32:13.754Z"
   },
   {
    "duration": 41,
    "start_time": "2021-12-04T11:32:13.769Z"
   },
   {
    "duration": 5,
    "start_time": "2021-12-04T11:32:13.812Z"
   },
   {
    "duration": 32,
    "start_time": "2021-12-04T11:32:13.819Z"
   },
   {
    "duration": 5,
    "start_time": "2021-12-04T11:32:13.853Z"
   },
   {
    "duration": 6,
    "start_time": "2021-12-04T11:32:13.859Z"
   },
   {
    "duration": 50,
    "start_time": "2021-12-04T11:32:13.866Z"
   },
   {
    "duration": 30,
    "start_time": "2021-12-04T11:32:13.918Z"
   },
   {
    "duration": 9,
    "start_time": "2021-12-04T11:32:13.951Z"
   },
   {
    "duration": 4,
    "start_time": "2021-12-04T11:32:13.963Z"
   },
   {
    "duration": 39,
    "start_time": "2021-12-04T11:32:13.969Z"
   },
   {
    "duration": 6,
    "start_time": "2021-12-04T11:32:14.010Z"
   },
   {
    "duration": 5,
    "start_time": "2021-12-04T11:32:14.018Z"
   },
   {
    "duration": 12,
    "start_time": "2021-12-04T11:32:14.025Z"
   },
   {
    "duration": 9,
    "start_time": "2021-12-04T11:32:14.039Z"
   },
   {
    "duration": 4,
    "start_time": "2021-12-04T11:32:14.050Z"
   },
   {
    "duration": 6,
    "start_time": "2021-12-04T11:32:14.056Z"
   },
   {
    "duration": 3,
    "start_time": "2021-12-04T11:32:14.064Z"
   },
   {
    "duration": 4,
    "start_time": "2021-12-04T11:32:14.107Z"
   },
   {
    "duration": 6,
    "start_time": "2021-12-04T11:32:14.112Z"
   },
   {
    "duration": 6,
    "start_time": "2021-12-04T11:32:14.120Z"
   },
   {
    "duration": 8,
    "start_time": "2021-12-04T11:32:14.127Z"
   },
   {
    "duration": 5,
    "start_time": "2021-12-04T11:32:14.137Z"
   },
   {
    "duration": 5,
    "start_time": "2021-12-04T11:32:14.144Z"
   },
   {
    "duration": 4,
    "start_time": "2021-12-04T11:32:14.150Z"
   },
   {
    "duration": 52,
    "start_time": "2021-12-04T11:32:14.156Z"
   },
   {
    "duration": 18,
    "start_time": "2021-12-04T11:32:14.210Z"
   },
   {
    "duration": 32,
    "start_time": "2021-12-04T11:32:14.230Z"
   },
   {
    "duration": 45,
    "start_time": "2021-12-04T11:32:14.264Z"
   },
   {
    "duration": 15,
    "start_time": "2021-12-04T11:32:14.311Z"
   },
   {
    "duration": 5,
    "start_time": "2021-12-04T11:32:14.328Z"
   },
   {
    "duration": 13,
    "start_time": "2021-12-04T11:32:14.334Z"
   },
   {
    "duration": 3473,
    "start_time": "2021-12-04T11:32:14.349Z"
   },
   {
    "duration": 5,
    "start_time": "2021-12-04T11:32:17.824Z"
   },
   {
    "duration": 8,
    "start_time": "2021-12-04T11:32:17.831Z"
   },
   {
    "duration": 16,
    "start_time": "2021-12-04T11:32:17.841Z"
   },
   {
    "duration": 3047,
    "start_time": "2021-12-04T11:32:17.859Z"
   },
   {
    "duration": 14,
    "start_time": "2021-12-04T11:32:20.908Z"
   },
   {
    "duration": 19,
    "start_time": "2021-12-04T11:32:20.924Z"
   },
   {
    "duration": 34,
    "start_time": "2021-12-04T11:32:20.944Z"
   },
   {
    "duration": 12,
    "start_time": "2021-12-04T11:32:20.980Z"
   },
   {
    "duration": 12,
    "start_time": "2021-12-04T11:32:20.993Z"
   },
   {
    "duration": 15,
    "start_time": "2021-12-04T11:32:21.007Z"
   },
   {
    "duration": 286,
    "start_time": "2021-12-04T11:32:21.024Z"
   },
   {
    "duration": 20,
    "start_time": "2021-12-04T11:32:21.312Z"
   },
   {
    "duration": 8,
    "start_time": "2021-12-04T11:32:21.334Z"
   },
   {
    "duration": 16,
    "start_time": "2021-12-04T11:32:21.344Z"
   },
   {
    "duration": 19,
    "start_time": "2021-12-04T11:32:21.362Z"
   },
   {
    "duration": 2381,
    "start_time": "2021-12-04T11:32:21.383Z"
   },
   {
    "duration": 449,
    "start_time": "2021-12-04T11:32:23.317Z"
   },
   {
    "duration": 439,
    "start_time": "2021-12-04T11:32:23.328Z"
   },
   {
    "duration": 432,
    "start_time": "2021-12-04T11:32:23.336Z"
   },
   {
    "duration": 427,
    "start_time": "2021-12-04T11:32:23.342Z"
   },
   {
    "duration": 423,
    "start_time": "2021-12-04T11:32:23.347Z"
   },
   {
    "duration": 3,
    "start_time": "2021-12-04T11:33:00.233Z"
   },
   {
    "duration": 4,
    "start_time": "2021-12-04T11:33:04.553Z"
   },
   {
    "duration": 642,
    "start_time": "2021-12-04T11:33:07.204Z"
   },
   {
    "duration": 14,
    "start_time": "2021-12-04T11:33:09.875Z"
   },
   {
    "duration": 374,
    "start_time": "2021-12-04T11:38:23.569Z"
   },
   {
    "duration": 9,
    "start_time": "2021-12-04T11:38:33.042Z"
   },
   {
    "duration": 6,
    "start_time": "2021-12-04T11:38:40.472Z"
   },
   {
    "duration": 4,
    "start_time": "2021-12-04T11:40:24.865Z"
   },
   {
    "duration": 589,
    "start_time": "2021-12-04T11:40:27.399Z"
   },
   {
    "duration": 13,
    "start_time": "2021-12-04T11:40:29.768Z"
   },
   {
    "duration": 15,
    "start_time": "2021-12-04T11:40:46.242Z"
   },
   {
    "duration": 3,
    "start_time": "2021-12-04T12:44:44.913Z"
   },
   {
    "duration": 338,
    "start_time": "2021-12-04T12:45:10.408Z"
   },
   {
    "duration": 3,
    "start_time": "2021-12-04T12:45:15.214Z"
   },
   {
    "duration": 17,
    "start_time": "2021-12-04T12:45:19.953Z"
   },
   {
    "duration": 11,
    "start_time": "2021-12-04T12:46:43.581Z"
   },
   {
    "duration": 10,
    "start_time": "2021-12-04T12:55:21.958Z"
   },
   {
    "duration": 8,
    "start_time": "2021-12-04T12:56:02.587Z"
   },
   {
    "duration": 7,
    "start_time": "2021-12-04T12:56:26.581Z"
   },
   {
    "duration": 9,
    "start_time": "2021-12-04T12:56:45.585Z"
   },
   {
    "duration": 6,
    "start_time": "2021-12-04T12:57:20.530Z"
   },
   {
    "duration": 8,
    "start_time": "2021-12-04T12:57:40.173Z"
   },
   {
    "duration": 7,
    "start_time": "2021-12-04T12:58:01.464Z"
   },
   {
    "duration": 7,
    "start_time": "2021-12-04T12:58:14.535Z"
   },
   {
    "duration": 8,
    "start_time": "2021-12-04T12:58:57.820Z"
   },
   {
    "duration": 9,
    "start_time": "2021-12-04T22:52:02.588Z"
   },
   {
    "duration": 21,
    "start_time": "2021-12-04T22:52:24.497Z"
   },
   {
    "duration": 1160,
    "start_time": "2021-12-04T22:52:48.079Z"
   },
   {
    "duration": 52,
    "start_time": "2021-12-04T22:52:49.241Z"
   },
   {
    "duration": 18,
    "start_time": "2021-12-04T22:52:49.295Z"
   },
   {
    "duration": 14,
    "start_time": "2021-12-04T22:52:49.315Z"
   },
   {
    "duration": 13,
    "start_time": "2021-12-04T22:52:49.330Z"
   },
   {
    "duration": 16,
    "start_time": "2021-12-04T22:52:49.344Z"
   },
   {
    "duration": 60,
    "start_time": "2021-12-04T22:52:49.361Z"
   },
   {
    "duration": 9,
    "start_time": "2021-12-04T22:52:49.422Z"
   },
   {
    "duration": 4,
    "start_time": "2021-12-04T22:52:49.433Z"
   },
   {
    "duration": 10,
    "start_time": "2021-12-04T22:52:49.439Z"
   },
   {
    "duration": 8,
    "start_time": "2021-12-04T22:52:49.450Z"
   },
   {
    "duration": 32,
    "start_time": "2021-12-04T22:52:49.459Z"
   },
   {
    "duration": 4,
    "start_time": "2021-12-04T22:52:49.493Z"
   },
   {
    "duration": 23,
    "start_time": "2021-12-04T22:52:49.498Z"
   },
   {
    "duration": 11,
    "start_time": "2021-12-04T22:52:49.523Z"
   },
   {
    "duration": 10,
    "start_time": "2021-12-04T22:52:49.536Z"
   },
   {
    "duration": 4,
    "start_time": "2021-12-04T22:52:49.547Z"
   },
   {
    "duration": 61,
    "start_time": "2021-12-04T22:52:49.553Z"
   },
   {
    "duration": 5,
    "start_time": "2021-12-04T22:52:49.616Z"
   },
   {
    "duration": 6,
    "start_time": "2021-12-04T22:52:49.622Z"
   },
   {
    "duration": 19,
    "start_time": "2021-12-04T22:52:49.630Z"
   },
   {
    "duration": 50,
    "start_time": "2021-12-04T22:52:49.651Z"
   },
   {
    "duration": 9,
    "start_time": "2021-12-04T22:52:49.703Z"
   },
   {
    "duration": 4,
    "start_time": "2021-12-04T22:52:49.714Z"
   },
   {
    "duration": 13,
    "start_time": "2021-12-04T22:52:49.720Z"
   },
   {
    "duration": 7,
    "start_time": "2021-12-04T22:52:49.734Z"
   },
   {
    "duration": 5,
    "start_time": "2021-12-04T22:52:49.746Z"
   },
   {
    "duration": 13,
    "start_time": "2021-12-04T22:52:49.791Z"
   },
   {
    "duration": 9,
    "start_time": "2021-12-04T22:52:49.806Z"
   },
   {
    "duration": 5,
    "start_time": "2021-12-04T22:52:49.817Z"
   },
   {
    "duration": 7,
    "start_time": "2021-12-04T22:52:49.823Z"
   },
   {
    "duration": 4,
    "start_time": "2021-12-04T22:52:49.832Z"
   },
   {
    "duration": 8,
    "start_time": "2021-12-04T22:52:49.837Z"
   },
   {
    "duration": 46,
    "start_time": "2021-12-04T22:52:49.846Z"
   },
   {
    "duration": 4,
    "start_time": "2021-12-04T22:52:49.894Z"
   },
   {
    "duration": 9,
    "start_time": "2021-12-04T22:52:49.899Z"
   },
   {
    "duration": 11,
    "start_time": "2021-12-04T22:52:49.910Z"
   },
   {
    "duration": 6,
    "start_time": "2021-12-04T22:52:49.922Z"
   },
   {
    "duration": 24,
    "start_time": "2021-12-04T22:52:49.930Z"
   },
   {
    "duration": 35,
    "start_time": "2021-12-04T22:52:49.956Z"
   },
   {
    "duration": 7,
    "start_time": "2021-12-04T22:52:49.993Z"
   },
   {
    "duration": 8,
    "start_time": "2021-12-04T22:52:50.001Z"
   },
   {
    "duration": 7,
    "start_time": "2021-12-04T22:52:50.010Z"
   },
   {
    "duration": 5,
    "start_time": "2021-12-04T22:52:50.018Z"
   },
   {
    "duration": 5,
    "start_time": "2021-12-04T22:52:50.025Z"
   },
   {
    "duration": 6,
    "start_time": "2021-12-04T22:52:50.032Z"
   },
   {
    "duration": 59,
    "start_time": "2021-12-04T22:52:50.040Z"
   },
   {
    "duration": 31,
    "start_time": "2021-12-04T22:52:50.101Z"
   },
   {
    "duration": 17,
    "start_time": "2021-12-04T22:52:50.134Z"
   },
   {
    "duration": 41,
    "start_time": "2021-12-04T22:52:50.153Z"
   },
   {
    "duration": 5,
    "start_time": "2021-12-04T22:52:50.197Z"
   },
   {
    "duration": 11,
    "start_time": "2021-12-04T22:52:50.204Z"
   },
   {
    "duration": 3193,
    "start_time": "2021-12-04T22:52:50.217Z"
   },
   {
    "duration": 3,
    "start_time": "2021-12-04T22:52:53.413Z"
   },
   {
    "duration": 5,
    "start_time": "2021-12-04T22:52:53.418Z"
   },
   {
    "duration": 7,
    "start_time": "2021-12-04T22:52:53.425Z"
   },
   {
    "duration": 2667,
    "start_time": "2021-12-04T22:52:53.433Z"
   },
   {
    "duration": 14,
    "start_time": "2021-12-04T22:52:56.102Z"
   },
   {
    "duration": 12,
    "start_time": "2021-12-04T22:52:56.117Z"
   },
   {
    "duration": 27,
    "start_time": "2021-12-04T22:52:56.130Z"
   },
   {
    "duration": 11,
    "start_time": "2021-12-04T22:52:56.159Z"
   },
   {
    "duration": 24,
    "start_time": "2021-12-04T22:52:56.172Z"
   },
   {
    "duration": 4,
    "start_time": "2021-12-04T22:52:56.198Z"
   },
   {
    "duration": 290,
    "start_time": "2021-12-04T22:52:56.204Z"
   },
   {
    "duration": 21,
    "start_time": "2021-12-04T22:52:56.496Z"
   },
   {
    "duration": 10,
    "start_time": "2021-12-04T22:52:56.518Z"
   },
   {
    "duration": 5,
    "start_time": "2021-12-04T22:52:56.529Z"
   },
   {
    "duration": 5,
    "start_time": "2021-12-04T22:52:56.535Z"
   },
   {
    "duration": 578,
    "start_time": "2021-12-04T22:52:56.541Z"
   },
   {
    "duration": 15,
    "start_time": "2021-12-04T22:52:57.121Z"
   },
   {
    "duration": 11,
    "start_time": "2021-12-04T22:52:57.137Z"
   },
   {
    "duration": 4,
    "start_time": "2021-12-04T22:52:57.149Z"
   },
   {
    "duration": 37,
    "start_time": "2021-12-04T22:52:57.155Z"
   },
   {
    "duration": 10,
    "start_time": "2021-12-04T22:52:57.194Z"
   },
   {
    "duration": 8,
    "start_time": "2021-12-04T22:52:57.206Z"
   },
   {
    "duration": 8,
    "start_time": "2021-12-04T22:52:57.216Z"
   },
   {
    "duration": 6,
    "start_time": "2021-12-04T22:54:58.848Z"
   },
   {
    "duration": 5,
    "start_time": "2021-12-04T22:55:08.993Z"
   },
   {
    "duration": 4,
    "start_time": "2021-12-04T22:55:43.276Z"
   },
   {
    "duration": 1117,
    "start_time": "2021-12-04T22:55:51.927Z"
   },
   {
    "duration": 51,
    "start_time": "2021-12-04T22:55:53.046Z"
   },
   {
    "duration": 18,
    "start_time": "2021-12-04T22:55:53.099Z"
   },
   {
    "duration": 12,
    "start_time": "2021-12-04T22:55:53.119Z"
   },
   {
    "duration": 12,
    "start_time": "2021-12-04T22:55:53.132Z"
   },
   {
    "duration": 16,
    "start_time": "2021-12-04T22:55:53.145Z"
   },
   {
    "duration": 54,
    "start_time": "2021-12-04T22:55:53.162Z"
   },
   {
    "duration": 8,
    "start_time": "2021-12-04T22:55:53.219Z"
   },
   {
    "duration": 5,
    "start_time": "2021-12-04T22:55:53.229Z"
   },
   {
    "duration": 10,
    "start_time": "2021-12-04T22:55:53.235Z"
   },
   {
    "duration": 8,
    "start_time": "2021-12-04T22:55:53.246Z"
   },
   {
    "duration": 36,
    "start_time": "2021-12-04T22:55:53.255Z"
   },
   {
    "duration": 5,
    "start_time": "2021-12-04T22:55:53.293Z"
   },
   {
    "duration": 18,
    "start_time": "2021-12-04T22:55:53.300Z"
   },
   {
    "duration": 13,
    "start_time": "2021-12-04T22:55:53.320Z"
   },
   {
    "duration": 9,
    "start_time": "2021-12-04T22:55:53.335Z"
   },
   {
    "duration": 4,
    "start_time": "2021-12-04T22:55:53.345Z"
   },
   {
    "duration": 66,
    "start_time": "2021-12-04T22:55:53.351Z"
   },
   {
    "duration": 4,
    "start_time": "2021-12-04T22:55:53.419Z"
   },
   {
    "duration": 5,
    "start_time": "2021-12-04T22:55:53.425Z"
   },
   {
    "duration": 21,
    "start_time": "2021-12-04T22:55:53.432Z"
   },
   {
    "duration": 54,
    "start_time": "2021-12-04T22:55:53.454Z"
   },
   {
    "duration": 9,
    "start_time": "2021-12-04T22:55:53.512Z"
   },
   {
    "duration": 4,
    "start_time": "2021-12-04T22:55:53.524Z"
   },
   {
    "duration": 12,
    "start_time": "2021-12-04T22:55:53.530Z"
   },
   {
    "duration": 10,
    "start_time": "2021-12-04T22:55:53.543Z"
   },
   {
    "duration": 6,
    "start_time": "2021-12-04T22:55:53.554Z"
   },
   {
    "duration": 40,
    "start_time": "2021-12-04T22:55:53.561Z"
   },
   {
    "duration": 7,
    "start_time": "2021-12-04T22:55:53.602Z"
   },
   {
    "duration": 4,
    "start_time": "2021-12-04T22:55:53.611Z"
   },
   {
    "duration": 6,
    "start_time": "2021-12-04T22:55:53.617Z"
   },
   {
    "duration": 4,
    "start_time": "2021-12-04T22:55:53.624Z"
   },
   {
    "duration": 9,
    "start_time": "2021-12-04T22:55:53.629Z"
   },
   {
    "duration": 12,
    "start_time": "2021-12-04T22:55:53.640Z"
   },
   {
    "duration": 9,
    "start_time": "2021-12-04T22:55:53.654Z"
   },
   {
    "duration": 30,
    "start_time": "2021-12-04T22:55:53.665Z"
   },
   {
    "duration": 9,
    "start_time": "2021-12-04T22:55:53.697Z"
   },
   {
    "duration": 8,
    "start_time": "2021-12-04T22:55:53.708Z"
   },
   {
    "duration": 21,
    "start_time": "2021-12-04T22:55:53.718Z"
   },
   {
    "duration": 4,
    "start_time": "2021-12-04T22:55:53.741Z"
   },
   {
    "duration": 45,
    "start_time": "2021-12-04T22:55:53.747Z"
   },
   {
    "duration": 9,
    "start_time": "2021-12-04T22:55:53.794Z"
   },
   {
    "duration": 7,
    "start_time": "2021-12-04T22:55:53.805Z"
   },
   {
    "duration": 8,
    "start_time": "2021-12-04T22:55:53.813Z"
   },
   {
    "duration": 6,
    "start_time": "2021-12-04T22:55:53.823Z"
   },
   {
    "duration": 5,
    "start_time": "2021-12-04T22:55:53.830Z"
   },
   {
    "duration": 4,
    "start_time": "2021-12-04T22:55:53.837Z"
   },
   {
    "duration": 49,
    "start_time": "2021-12-04T22:55:53.843Z"
   },
   {
    "duration": 20,
    "start_time": "2021-12-04T22:55:53.894Z"
   },
   {
    "duration": 33,
    "start_time": "2021-12-04T22:55:53.916Z"
   },
   {
    "duration": 47,
    "start_time": "2021-12-04T22:55:53.951Z"
   },
   {
    "duration": 20,
    "start_time": "2021-12-04T22:55:53.999Z"
   },
   {
    "duration": 6,
    "start_time": "2021-12-04T22:55:54.021Z"
   },
   {
    "duration": 11,
    "start_time": "2021-12-04T22:55:54.029Z"
   },
   {
    "duration": 3455,
    "start_time": "2021-12-04T22:55:54.042Z"
   },
   {
    "duration": 5,
    "start_time": "2021-12-04T22:55:57.500Z"
   },
   {
    "duration": 26,
    "start_time": "2021-12-04T22:55:57.507Z"
   },
   {
    "duration": 24,
    "start_time": "2021-12-04T22:55:57.535Z"
   },
   {
    "duration": 2865,
    "start_time": "2021-12-04T22:55:57.561Z"
   },
   {
    "duration": 14,
    "start_time": "2021-12-04T22:56:00.428Z"
   },
   {
    "duration": 17,
    "start_time": "2021-12-04T22:56:00.444Z"
   },
   {
    "duration": 29,
    "start_time": "2021-12-04T22:56:00.463Z"
   },
   {
    "duration": 14,
    "start_time": "2021-12-04T22:56:00.494Z"
   },
   {
    "duration": 6,
    "start_time": "2021-12-04T22:56:00.509Z"
   },
   {
    "duration": 9,
    "start_time": "2021-12-04T22:56:00.516Z"
   },
   {
    "duration": 286,
    "start_time": "2021-12-04T22:56:00.527Z"
   },
   {
    "duration": 20,
    "start_time": "2021-12-04T22:56:00.815Z"
   },
   {
    "duration": 6,
    "start_time": "2021-12-04T22:56:00.841Z"
   },
   {
    "duration": 7,
    "start_time": "2021-12-04T22:56:00.849Z"
   },
   {
    "duration": 10,
    "start_time": "2021-12-04T22:56:00.858Z"
   },
   {
    "duration": 579,
    "start_time": "2021-12-04T22:56:00.869Z"
   },
   {
    "duration": 15,
    "start_time": "2021-12-04T22:56:01.450Z"
   },
   {
    "duration": 11,
    "start_time": "2021-12-04T22:56:01.466Z"
   },
   {
    "duration": 3,
    "start_time": "2021-12-04T22:56:01.492Z"
   },
   {
    "duration": 21,
    "start_time": "2021-12-04T22:56:01.497Z"
   },
   {
    "duration": 11,
    "start_time": "2021-12-04T22:56:01.520Z"
   },
   {
    "duration": 11,
    "start_time": "2021-12-04T22:56:01.533Z"
   },
   {
    "duration": 10,
    "start_time": "2021-12-04T22:56:01.546Z"
   },
   {
    "duration": 21,
    "start_time": "2021-12-04T22:56:13.658Z"
   },
   {
    "duration": 7,
    "start_time": "2021-12-04T22:56:49.633Z"
   },
   {
    "duration": 5,
    "start_time": "2021-12-04T22:57:06.106Z"
   },
   {
    "duration": 6,
    "start_time": "2021-12-04T23:03:18.370Z"
   },
   {
    "duration": 25,
    "start_time": "2021-12-04T23:05:29.338Z"
   },
   {
    "duration": 22,
    "start_time": "2021-12-04T23:05:53.483Z"
   },
   {
    "duration": 283,
    "start_time": "2021-12-04T23:06:10.730Z"
   },
   {
    "duration": 26,
    "start_time": "2021-12-04T23:06:21.155Z"
   },
   {
    "duration": 17,
    "start_time": "2021-12-04T23:07:07.786Z"
   },
   {
    "duration": 20,
    "start_time": "2021-12-04T23:07:19.066Z"
   },
   {
    "duration": 18,
    "start_time": "2021-12-04T23:08:35.873Z"
   },
   {
    "duration": 22,
    "start_time": "2021-12-04T23:08:56.040Z"
   },
   {
    "duration": 185,
    "start_time": "2021-12-05T00:24:15.468Z"
   },
   {
    "duration": 188,
    "start_time": "2021-12-05T00:24:29.029Z"
   },
   {
    "duration": 176,
    "start_time": "2021-12-05T00:24:43.805Z"
   },
   {
    "duration": 24,
    "start_time": "2021-12-05T00:25:41.092Z"
   },
   {
    "duration": 22,
    "start_time": "2021-12-05T00:25:52.785Z"
   },
   {
    "duration": 22,
    "start_time": "2021-12-05T00:26:13.639Z"
   },
   {
    "duration": 9,
    "start_time": "2021-12-05T00:26:21.770Z"
   },
   {
    "duration": 8,
    "start_time": "2021-12-05T00:26:26.101Z"
   },
   {
    "duration": 22,
    "start_time": "2021-12-05T00:26:35.372Z"
   },
   {
    "duration": 23,
    "start_time": "2021-12-05T00:27:26.950Z"
   },
   {
    "duration": 6,
    "start_time": "2021-12-05T00:28:11.085Z"
   },
   {
    "duration": 17,
    "start_time": "2021-12-05T00:28:22.487Z"
   },
   {
    "duration": 29,
    "start_time": "2021-12-05T00:28:44.310Z"
   },
   {
    "duration": 9,
    "start_time": "2021-12-05T00:29:22.913Z"
   },
   {
    "duration": 4,
    "start_time": "2021-12-05T00:30:21.198Z"
   },
   {
    "duration": 6,
    "start_time": "2021-12-05T00:30:31.388Z"
   },
   {
    "duration": 278,
    "start_time": "2021-12-05T12:47:46.641Z"
   },
   {
    "duration": 287,
    "start_time": "2021-12-05T12:47:52.913Z"
   },
   {
    "duration": 1219,
    "start_time": "2021-12-05T12:48:17.431Z"
   },
   {
    "duration": 52,
    "start_time": "2021-12-05T12:48:18.652Z"
   },
   {
    "duration": 19,
    "start_time": "2021-12-05T12:48:18.707Z"
   },
   {
    "duration": 13,
    "start_time": "2021-12-05T12:48:18.729Z"
   },
   {
    "duration": 25,
    "start_time": "2021-12-05T12:48:18.744Z"
   },
   {
    "duration": 16,
    "start_time": "2021-12-05T12:48:18.771Z"
   },
   {
    "duration": 31,
    "start_time": "2021-12-05T12:48:18.788Z"
   },
   {
    "duration": 10,
    "start_time": "2021-12-05T12:48:18.821Z"
   },
   {
    "duration": 33,
    "start_time": "2021-12-05T12:48:18.833Z"
   },
   {
    "duration": 13,
    "start_time": "2021-12-05T12:48:18.868Z"
   },
   {
    "duration": 8,
    "start_time": "2021-12-05T12:48:18.882Z"
   },
   {
    "duration": 7,
    "start_time": "2021-12-05T12:48:18.892Z"
   },
   {
    "duration": 9,
    "start_time": "2021-12-05T12:48:18.900Z"
   },
   {
    "duration": 22,
    "start_time": "2021-12-05T12:48:18.911Z"
   },
   {
    "duration": 33,
    "start_time": "2021-12-05T12:48:18.935Z"
   },
   {
    "duration": 11,
    "start_time": "2021-12-05T12:48:18.970Z"
   },
   {
    "duration": 4,
    "start_time": "2021-12-05T12:48:18.983Z"
   },
   {
    "duration": 33,
    "start_time": "2021-12-05T12:48:18.989Z"
   },
   {
    "duration": 5,
    "start_time": "2021-12-05T12:48:19.024Z"
   },
   {
    "duration": 35,
    "start_time": "2021-12-05T12:48:19.031Z"
   },
   {
    "duration": 22,
    "start_time": "2021-12-05T12:48:19.068Z"
   },
   {
    "duration": 30,
    "start_time": "2021-12-05T12:48:19.092Z"
   },
   {
    "duration": 9,
    "start_time": "2021-12-05T12:48:19.126Z"
   },
   {
    "duration": 5,
    "start_time": "2021-12-05T12:48:19.165Z"
   },
   {
    "duration": 11,
    "start_time": "2021-12-05T12:48:19.172Z"
   },
   {
    "duration": 10,
    "start_time": "2021-12-05T12:48:19.184Z"
   },
   {
    "duration": 10,
    "start_time": "2021-12-05T12:48:19.195Z"
   },
   {
    "duration": 15,
    "start_time": "2021-12-05T12:48:19.206Z"
   },
   {
    "duration": 16,
    "start_time": "2021-12-05T12:48:19.222Z"
   },
   {
    "duration": 24,
    "start_time": "2021-12-05T12:48:19.240Z"
   },
   {
    "duration": 8,
    "start_time": "2021-12-05T12:48:19.266Z"
   },
   {
    "duration": 12,
    "start_time": "2021-12-05T12:48:19.275Z"
   },
   {
    "duration": 18,
    "start_time": "2021-12-05T12:48:19.289Z"
   },
   {
    "duration": 11,
    "start_time": "2021-12-05T12:48:19.308Z"
   },
   {
    "duration": 9,
    "start_time": "2021-12-05T12:48:19.320Z"
   },
   {
    "duration": 13,
    "start_time": "2021-12-05T12:48:19.330Z"
   },
   {
    "duration": 13,
    "start_time": "2021-12-05T12:48:19.344Z"
   },
   {
    "duration": 10,
    "start_time": "2021-12-05T12:48:19.358Z"
   },
   {
    "duration": 21,
    "start_time": "2021-12-05T12:48:19.370Z"
   },
   {
    "duration": 3,
    "start_time": "2021-12-05T12:48:19.392Z"
   },
   {
    "duration": 14,
    "start_time": "2021-12-05T12:48:19.397Z"
   },
   {
    "duration": 19,
    "start_time": "2021-12-05T12:48:19.413Z"
   },
   {
    "duration": 30,
    "start_time": "2021-12-05T12:48:19.434Z"
   },
   {
    "duration": 5,
    "start_time": "2021-12-05T12:48:19.465Z"
   },
   {
    "duration": 26,
    "start_time": "2021-12-05T12:48:19.472Z"
   },
   {
    "duration": 14,
    "start_time": "2021-12-05T12:48:19.500Z"
   },
   {
    "duration": 49,
    "start_time": "2021-12-05T12:48:19.515Z"
   },
   {
    "duration": 8,
    "start_time": "2021-12-05T12:48:19.566Z"
   },
   {
    "duration": 8,
    "start_time": "2021-12-05T12:48:19.576Z"
   },
   {
    "duration": 10,
    "start_time": "2021-12-05T12:48:19.586Z"
   },
   {
    "duration": 8,
    "start_time": "2021-12-05T12:48:19.598Z"
   },
   {
    "duration": 8,
    "start_time": "2021-12-05T12:48:19.608Z"
   },
   {
    "duration": 10,
    "start_time": "2021-12-05T12:48:19.618Z"
   },
   {
    "duration": 5,
    "start_time": "2021-12-05T12:48:19.664Z"
   },
   {
    "duration": 7,
    "start_time": "2021-12-05T12:48:19.671Z"
   },
   {
    "duration": 15,
    "start_time": "2021-12-05T12:48:19.680Z"
   },
   {
    "duration": 23,
    "start_time": "2021-12-05T12:48:19.697Z"
   },
   {
    "duration": 48,
    "start_time": "2021-12-05T12:48:19.722Z"
   },
   {
    "duration": 20,
    "start_time": "2021-12-05T12:48:19.772Z"
   },
   {
    "duration": 20,
    "start_time": "2021-12-05T12:48:19.794Z"
   },
   {
    "duration": 5,
    "start_time": "2021-12-05T12:48:19.816Z"
   },
   {
    "duration": 16,
    "start_time": "2021-12-05T12:48:19.823Z"
   },
   {
    "duration": 3731,
    "start_time": "2021-12-05T12:48:19.841Z"
   },
   {
    "duration": 4,
    "start_time": "2021-12-05T12:48:23.574Z"
   },
   {
    "duration": 23,
    "start_time": "2021-12-05T12:48:23.579Z"
   },
   {
    "duration": 8,
    "start_time": "2021-12-05T12:48:23.604Z"
   },
   {
    "duration": 2864,
    "start_time": "2021-12-05T12:48:23.614Z"
   },
   {
    "duration": 14,
    "start_time": "2021-12-05T12:48:26.483Z"
   },
   {
    "duration": 11,
    "start_time": "2021-12-05T12:48:26.499Z"
   },
   {
    "duration": 21,
    "start_time": "2021-12-05T12:48:26.511Z"
   },
   {
    "duration": 33,
    "start_time": "2021-12-05T12:48:26.534Z"
   },
   {
    "duration": 6,
    "start_time": "2021-12-05T12:48:26.569Z"
   },
   {
    "duration": 7,
    "start_time": "2021-12-05T12:48:26.577Z"
   },
   {
    "duration": 286,
    "start_time": "2021-12-05T12:48:26.586Z"
   },
   {
    "duration": 23,
    "start_time": "2021-12-05T12:48:26.874Z"
   },
   {
    "duration": 13,
    "start_time": "2021-12-05T12:48:26.899Z"
   },
   {
    "duration": 7,
    "start_time": "2021-12-05T12:48:26.914Z"
   },
   {
    "duration": 3,
    "start_time": "2021-12-05T12:48:26.923Z"
   },
   {
    "duration": 606,
    "start_time": "2021-12-05T12:48:26.928Z"
   },
   {
    "duration": 13,
    "start_time": "2021-12-05T12:48:27.536Z"
   },
   {
    "duration": 17,
    "start_time": "2021-12-05T12:48:27.550Z"
   },
   {
    "duration": 5,
    "start_time": "2021-12-05T12:48:27.569Z"
   },
   {
    "duration": 20,
    "start_time": "2021-12-05T12:48:27.575Z"
   },
   {
    "duration": 9,
    "start_time": "2021-12-05T12:48:27.597Z"
   },
   {
    "duration": 9,
    "start_time": "2021-12-05T12:48:27.607Z"
   },
   {
    "duration": 8,
    "start_time": "2021-12-05T12:48:27.617Z"
   },
   {
    "duration": 4,
    "start_time": "2021-12-05T12:48:43.145Z"
   },
   {
    "duration": 276,
    "start_time": "2021-12-05T12:48:47.383Z"
   },
   {
    "duration": 1305,
    "start_time": "2021-12-05T12:48:57.232Z"
   },
   {
    "duration": 49,
    "start_time": "2021-12-05T12:48:58.539Z"
   },
   {
    "duration": 18,
    "start_time": "2021-12-05T12:48:58.590Z"
   },
   {
    "duration": 14,
    "start_time": "2021-12-05T12:48:58.611Z"
   },
   {
    "duration": 25,
    "start_time": "2021-12-05T12:48:58.627Z"
   },
   {
    "duration": 21,
    "start_time": "2021-12-05T12:48:58.654Z"
   },
   {
    "duration": 30,
    "start_time": "2021-12-05T12:48:58.677Z"
   },
   {
    "duration": 9,
    "start_time": "2021-12-05T12:48:58.709Z"
   },
   {
    "duration": 10,
    "start_time": "2021-12-05T12:48:58.720Z"
   },
   {
    "duration": 31,
    "start_time": "2021-12-05T12:48:58.732Z"
   },
   {
    "duration": 8,
    "start_time": "2021-12-05T12:48:58.765Z"
   },
   {
    "duration": 5,
    "start_time": "2021-12-05T12:48:58.775Z"
   },
   {
    "duration": 10,
    "start_time": "2021-12-05T12:48:58.781Z"
   },
   {
    "duration": 29,
    "start_time": "2021-12-05T12:48:58.792Z"
   },
   {
    "duration": 11,
    "start_time": "2021-12-05T12:48:58.822Z"
   },
   {
    "duration": 32,
    "start_time": "2021-12-05T12:48:58.835Z"
   },
   {
    "duration": 5,
    "start_time": "2021-12-05T12:48:58.868Z"
   },
   {
    "duration": 33,
    "start_time": "2021-12-05T12:48:58.874Z"
   },
   {
    "duration": 5,
    "start_time": "2021-12-05T12:48:58.908Z"
   },
   {
    "duration": 6,
    "start_time": "2021-12-05T12:48:58.914Z"
   },
   {
    "duration": 45,
    "start_time": "2021-12-05T12:48:58.922Z"
   },
   {
    "duration": 30,
    "start_time": "2021-12-05T12:48:58.969Z"
   },
   {
    "duration": 10,
    "start_time": "2021-12-05T12:48:59.004Z"
   },
   {
    "duration": 6,
    "start_time": "2021-12-05T12:48:59.017Z"
   },
   {
    "duration": 42,
    "start_time": "2021-12-05T12:48:59.025Z"
   },
   {
    "duration": 10,
    "start_time": "2021-12-05T12:48:59.069Z"
   },
   {
    "duration": 6,
    "start_time": "2021-12-05T12:48:59.081Z"
   },
   {
    "duration": 14,
    "start_time": "2021-12-05T12:48:59.089Z"
   },
   {
    "duration": 12,
    "start_time": "2021-12-05T12:48:59.105Z"
   },
   {
    "duration": 8,
    "start_time": "2021-12-05T12:48:59.118Z"
   },
   {
    "duration": 10,
    "start_time": "2021-12-05T12:48:59.128Z"
   },
   {
    "duration": 27,
    "start_time": "2021-12-05T12:48:59.139Z"
   },
   {
    "duration": 7,
    "start_time": "2021-12-05T12:48:59.167Z"
   },
   {
    "duration": 10,
    "start_time": "2021-12-05T12:48:59.175Z"
   },
   {
    "duration": 8,
    "start_time": "2021-12-05T12:48:59.186Z"
   },
   {
    "duration": 10,
    "start_time": "2021-12-05T12:48:59.195Z"
   },
   {
    "duration": 14,
    "start_time": "2021-12-05T12:48:59.207Z"
   },
   {
    "duration": 8,
    "start_time": "2021-12-05T12:48:59.223Z"
   },
   {
    "duration": 43,
    "start_time": "2021-12-05T12:48:59.233Z"
   },
   {
    "duration": 5,
    "start_time": "2021-12-05T12:48:59.278Z"
   },
   {
    "duration": 7,
    "start_time": "2021-12-05T12:48:59.284Z"
   },
   {
    "duration": 22,
    "start_time": "2021-12-05T12:48:59.293Z"
   },
   {
    "duration": 7,
    "start_time": "2021-12-05T12:48:59.317Z"
   },
   {
    "duration": 5,
    "start_time": "2021-12-05T12:48:59.326Z"
   },
   {
    "duration": 53,
    "start_time": "2021-12-05T12:48:59.332Z"
   },
   {
    "duration": 13,
    "start_time": "2021-12-05T12:48:59.386Z"
   },
   {
    "duration": 32,
    "start_time": "2021-12-05T12:48:59.401Z"
   },
   {
    "duration": 29,
    "start_time": "2021-12-05T12:48:59.434Z"
   },
   {
    "duration": 6,
    "start_time": "2021-12-05T12:48:59.466Z"
   },
   {
    "duration": 9,
    "start_time": "2021-12-05T12:48:59.474Z"
   },
   {
    "duration": 6,
    "start_time": "2021-12-05T12:48:59.484Z"
   },
   {
    "duration": 15,
    "start_time": "2021-12-05T12:48:59.491Z"
   },
   {
    "duration": 11,
    "start_time": "2021-12-05T12:48:59.508Z"
   },
   {
    "duration": 7,
    "start_time": "2021-12-05T12:48:59.521Z"
   },
   {
    "duration": 8,
    "start_time": "2021-12-05T12:48:59.529Z"
   },
   {
    "duration": 29,
    "start_time": "2021-12-05T12:48:59.538Z"
   },
   {
    "duration": 23,
    "start_time": "2021-12-05T12:48:59.569Z"
   },
   {
    "duration": 35,
    "start_time": "2021-12-05T12:48:59.593Z"
   },
   {
    "duration": 36,
    "start_time": "2021-12-05T12:48:59.629Z"
   },
   {
    "duration": 19,
    "start_time": "2021-12-05T12:48:59.667Z"
   },
   {
    "duration": 5,
    "start_time": "2021-12-05T12:48:59.687Z"
   },
   {
    "duration": 12,
    "start_time": "2021-12-05T12:48:59.694Z"
   },
   {
    "duration": 3596,
    "start_time": "2021-12-05T12:48:59.707Z"
   },
   {
    "duration": 5,
    "start_time": "2021-12-05T12:49:03.305Z"
   },
   {
    "duration": 27,
    "start_time": "2021-12-05T12:49:03.311Z"
   },
   {
    "duration": 25,
    "start_time": "2021-12-05T12:49:03.339Z"
   },
   {
    "duration": 2841,
    "start_time": "2021-12-05T12:49:03.367Z"
   },
   {
    "duration": 15,
    "start_time": "2021-12-05T12:49:06.213Z"
   },
   {
    "duration": 9,
    "start_time": "2021-12-05T12:49:06.230Z"
   },
   {
    "duration": 36,
    "start_time": "2021-12-05T12:49:06.241Z"
   },
   {
    "duration": 10,
    "start_time": "2021-12-05T12:49:06.279Z"
   },
   {
    "duration": 5,
    "start_time": "2021-12-05T12:49:06.291Z"
   },
   {
    "duration": 7,
    "start_time": "2021-12-05T12:49:06.298Z"
   },
   {
    "duration": 311,
    "start_time": "2021-12-05T12:49:06.307Z"
   },
   {
    "duration": 25,
    "start_time": "2021-12-05T12:49:06.620Z"
   },
   {
    "duration": 19,
    "start_time": "2021-12-05T12:49:06.648Z"
   },
   {
    "duration": 6,
    "start_time": "2021-12-05T12:49:06.669Z"
   },
   {
    "duration": 6,
    "start_time": "2021-12-05T12:49:06.676Z"
   },
   {
    "duration": 611,
    "start_time": "2021-12-05T12:49:06.683Z"
   },
   {
    "duration": 15,
    "start_time": "2021-12-05T12:49:07.295Z"
   },
   {
    "duration": 10,
    "start_time": "2021-12-05T12:49:07.312Z"
   },
   {
    "duration": 8,
    "start_time": "2021-12-05T12:49:07.323Z"
   },
   {
    "duration": 36,
    "start_time": "2021-12-05T12:49:07.332Z"
   },
   {
    "duration": 10,
    "start_time": "2021-12-05T12:49:07.369Z"
   },
   {
    "duration": 13,
    "start_time": "2021-12-05T12:49:07.381Z"
   },
   {
    "duration": 13,
    "start_time": "2021-12-05T12:49:07.396Z"
   },
   {
    "duration": 357,
    "start_time": "2021-12-05T13:05:32.324Z"
   },
   {
    "duration": 2,
    "start_time": "2021-12-05T13:05:35.665Z"
   },
   {
    "duration": 543,
    "start_time": "2021-12-05T13:05:38.475Z"
   },
   {
    "duration": 1223,
    "start_time": "2021-12-05T13:05:45.508Z"
   },
   {
    "duration": 51,
    "start_time": "2021-12-05T13:05:46.733Z"
   },
   {
    "duration": 19,
    "start_time": "2021-12-05T13:05:46.786Z"
   },
   {
    "duration": 13,
    "start_time": "2021-12-05T13:05:46.807Z"
   },
   {
    "duration": 19,
    "start_time": "2021-12-05T13:05:46.821Z"
   },
   {
    "duration": 28,
    "start_time": "2021-12-05T13:05:46.842Z"
   },
   {
    "duration": 29,
    "start_time": "2021-12-05T13:05:46.872Z"
   },
   {
    "duration": 9,
    "start_time": "2021-12-05T13:05:46.903Z"
   },
   {
    "duration": 6,
    "start_time": "2021-12-05T13:05:46.914Z"
   },
   {
    "duration": 11,
    "start_time": "2021-12-05T13:05:46.922Z"
   },
   {
    "duration": 34,
    "start_time": "2021-12-05T13:05:46.935Z"
   },
   {
    "duration": 5,
    "start_time": "2021-12-05T13:05:46.971Z"
   },
   {
    "duration": 12,
    "start_time": "2021-12-05T13:05:46.977Z"
   },
   {
    "duration": 25,
    "start_time": "2021-12-05T13:05:46.991Z"
   },
   {
    "duration": 11,
    "start_time": "2021-12-05T13:05:47.018Z"
   },
   {
    "duration": 33,
    "start_time": "2021-12-05T13:05:47.031Z"
   },
   {
    "duration": 5,
    "start_time": "2021-12-05T13:05:47.066Z"
   },
   {
    "duration": 42,
    "start_time": "2021-12-05T13:05:47.072Z"
   },
   {
    "duration": 6,
    "start_time": "2021-12-05T13:05:47.115Z"
   },
   {
    "duration": 7,
    "start_time": "2021-12-05T13:05:47.122Z"
   },
   {
    "duration": 41,
    "start_time": "2021-12-05T13:05:47.130Z"
   },
   {
    "duration": 29,
    "start_time": "2021-12-05T13:05:47.173Z"
   },
   {
    "duration": 10,
    "start_time": "2021-12-05T13:05:47.206Z"
   },
   {
    "duration": 6,
    "start_time": "2021-12-05T13:05:47.219Z"
   },
   {
    "duration": 34,
    "start_time": "2021-12-05T13:05:47.227Z"
   },
   {
    "duration": 10,
    "start_time": "2021-12-05T13:05:47.263Z"
   },
   {
    "duration": 8,
    "start_time": "2021-12-05T13:05:47.274Z"
   },
   {
    "duration": 15,
    "start_time": "2021-12-05T13:05:47.284Z"
   },
   {
    "duration": 10,
    "start_time": "2021-12-05T13:05:47.301Z"
   },
   {
    "duration": 10,
    "start_time": "2021-12-05T13:05:47.313Z"
   },
   {
    "duration": 20,
    "start_time": "2021-12-05T13:05:47.324Z"
   },
   {
    "duration": 9,
    "start_time": "2021-12-05T13:05:47.346Z"
   },
   {
    "duration": 8,
    "start_time": "2021-12-05T13:05:47.357Z"
   },
   {
    "duration": 11,
    "start_time": "2021-12-05T13:05:47.367Z"
   },
   {
    "duration": 12,
    "start_time": "2021-12-05T13:05:47.379Z"
   },
   {
    "duration": 11,
    "start_time": "2021-12-05T13:05:47.392Z"
   },
   {
    "duration": 12,
    "start_time": "2021-12-05T13:05:47.404Z"
   },
   {
    "duration": 12,
    "start_time": "2021-12-05T13:05:47.417Z"
   },
   {
    "duration": 35,
    "start_time": "2021-12-05T13:05:47.430Z"
   },
   {
    "duration": 5,
    "start_time": "2021-12-05T13:05:47.466Z"
   },
   {
    "duration": 17,
    "start_time": "2021-12-05T13:05:47.473Z"
   },
   {
    "duration": 23,
    "start_time": "2021-12-05T13:05:47.492Z"
   },
   {
    "duration": 12,
    "start_time": "2021-12-05T13:05:47.516Z"
   },
   {
    "duration": 16,
    "start_time": "2021-12-05T13:05:47.529Z"
   },
   {
    "duration": 34,
    "start_time": "2021-12-05T13:05:47.546Z"
   },
   {
    "duration": 14,
    "start_time": "2021-12-05T13:05:47.581Z"
   },
   {
    "duration": 27,
    "start_time": "2021-12-05T13:05:47.597Z"
   },
   {
    "duration": 8,
    "start_time": "2021-12-05T13:05:47.626Z"
   },
   {
    "duration": 29,
    "start_time": "2021-12-05T13:05:47.636Z"
   },
   {
    "duration": 38,
    "start_time": "2021-12-05T13:05:47.666Z"
   },
   {
    "duration": 7,
    "start_time": "2021-12-05T13:05:47.706Z"
   },
   {
    "duration": 37,
    "start_time": "2021-12-05T13:05:47.715Z"
   },
   {
    "duration": 30,
    "start_time": "2021-12-05T13:05:47.753Z"
   },
   {
    "duration": 11,
    "start_time": "2021-12-05T13:05:47.785Z"
   },
   {
    "duration": 10,
    "start_time": "2021-12-05T13:05:47.798Z"
   },
   {
    "duration": 16,
    "start_time": "2021-12-05T13:05:47.810Z"
   },
   {
    "duration": 33,
    "start_time": "2021-12-05T13:05:47.828Z"
   },
   {
    "duration": 36,
    "start_time": "2021-12-05T13:05:47.863Z"
   },
   {
    "duration": 31,
    "start_time": "2021-12-05T13:05:47.901Z"
   },
   {
    "duration": 26,
    "start_time": "2021-12-05T13:05:47.934Z"
   },
   {
    "duration": 6,
    "start_time": "2021-12-05T13:05:47.961Z"
   },
   {
    "duration": 15,
    "start_time": "2021-12-05T13:05:47.969Z"
   },
   {
    "duration": 3704,
    "start_time": "2021-12-05T13:05:47.985Z"
   },
   {
    "duration": 5,
    "start_time": "2021-12-05T13:05:51.691Z"
   },
   {
    "duration": 7,
    "start_time": "2021-12-05T13:05:51.698Z"
   },
   {
    "duration": 6,
    "start_time": "2021-12-05T13:05:51.708Z"
   },
   {
    "duration": 3305,
    "start_time": "2021-12-05T13:05:51.717Z"
   },
   {
    "duration": 16,
    "start_time": "2021-12-05T13:05:55.027Z"
   },
   {
    "duration": 38,
    "start_time": "2021-12-05T13:05:55.045Z"
   },
   {
    "duration": 42,
    "start_time": "2021-12-05T13:05:55.085Z"
   },
   {
    "duration": 25,
    "start_time": "2021-12-05T13:05:55.128Z"
   },
   {
    "duration": 16,
    "start_time": "2021-12-05T13:05:55.155Z"
   },
   {
    "duration": 53,
    "start_time": "2021-12-05T13:05:55.172Z"
   },
   {
    "duration": 310,
    "start_time": "2021-12-05T13:05:55.227Z"
   },
   {
    "duration": 31,
    "start_time": "2021-12-05T13:05:55.538Z"
   },
   {
    "duration": 32,
    "start_time": "2021-12-05T13:05:55.571Z"
   },
   {
    "duration": 15,
    "start_time": "2021-12-05T13:05:55.605Z"
   },
   {
    "duration": 29,
    "start_time": "2021-12-05T13:05:55.621Z"
   },
   {
    "duration": 603,
    "start_time": "2021-12-05T13:05:55.652Z"
   },
   {
    "duration": 20,
    "start_time": "2021-12-05T13:05:56.257Z"
   },
   {
    "duration": 10,
    "start_time": "2021-12-05T13:05:56.279Z"
   },
   {
    "duration": 5,
    "start_time": "2021-12-05T13:05:56.291Z"
   },
   {
    "duration": 19,
    "start_time": "2021-12-05T13:05:56.298Z"
   },
   {
    "duration": 11,
    "start_time": "2021-12-05T13:05:56.319Z"
   },
   {
    "duration": 11,
    "start_time": "2021-12-05T13:05:56.364Z"
   },
   {
    "duration": 9,
    "start_time": "2021-12-05T13:05:56.377Z"
   },
   {
    "duration": 7,
    "start_time": "2021-12-05T13:12:31.540Z"
   },
   {
    "duration": 24,
    "start_time": "2021-12-05T13:12:51.907Z"
   },
   {
    "duration": 16,
    "start_time": "2021-12-05T13:13:36.641Z"
   },
   {
    "duration": 26,
    "start_time": "2021-12-05T13:13:43.916Z"
   },
   {
    "duration": 6,
    "start_time": "2021-12-05T13:18:06.146Z"
   },
   {
    "duration": 6,
    "start_time": "2021-12-05T13:18:07.951Z"
   },
   {
    "duration": 36,
    "start_time": "2021-12-05T13:19:19.901Z"
   },
   {
    "duration": 25,
    "start_time": "2021-12-05T13:20:01.483Z"
   },
   {
    "duration": 22,
    "start_time": "2021-12-05T13:20:07.379Z"
   },
   {
    "duration": 23,
    "start_time": "2021-12-05T13:20:11.667Z"
   },
   {
    "duration": 22,
    "start_time": "2021-12-05T13:20:18.123Z"
   },
   {
    "duration": 24,
    "start_time": "2021-12-05T13:20:23.180Z"
   },
   {
    "duration": 24,
    "start_time": "2021-12-05T13:20:25.379Z"
   },
   {
    "duration": 22,
    "start_time": "2021-12-05T13:21:16.587Z"
   },
   {
    "duration": 9,
    "start_time": "2021-12-05T13:21:19.564Z"
   },
   {
    "duration": 9,
    "start_time": "2021-12-05T13:21:39.219Z"
   },
   {
    "duration": 7,
    "start_time": "2021-12-05T13:22:34.339Z"
   },
   {
    "duration": 352,
    "start_time": "2021-12-05T13:22:56.674Z"
   },
   {
    "duration": 1288,
    "start_time": "2021-12-05T13:23:19.854Z"
   },
   {
    "duration": 52,
    "start_time": "2021-12-05T13:23:21.144Z"
   },
   {
    "duration": 20,
    "start_time": "2021-12-05T13:23:21.198Z"
   },
   {
    "duration": 12,
    "start_time": "2021-12-05T13:23:21.220Z"
   },
   {
    "duration": 31,
    "start_time": "2021-12-05T13:23:21.234Z"
   },
   {
    "duration": 16,
    "start_time": "2021-12-05T13:23:21.267Z"
   },
   {
    "duration": 30,
    "start_time": "2021-12-05T13:23:21.284Z"
   },
   {
    "duration": 11,
    "start_time": "2021-12-05T13:23:21.316Z"
   },
   {
    "duration": 35,
    "start_time": "2021-12-05T13:23:21.329Z"
   },
   {
    "duration": 12,
    "start_time": "2021-12-05T13:23:21.366Z"
   },
   {
    "duration": 9,
    "start_time": "2021-12-05T13:23:21.379Z"
   },
   {
    "duration": 5,
    "start_time": "2021-12-05T13:23:21.390Z"
   },
   {
    "duration": 4,
    "start_time": "2021-12-05T13:23:21.397Z"
   },
   {
    "duration": 21,
    "start_time": "2021-12-05T13:23:21.403Z"
   },
   {
    "duration": 50,
    "start_time": "2021-12-05T13:23:21.425Z"
   },
   {
    "duration": 11,
    "start_time": "2021-12-05T13:23:21.476Z"
   },
   {
    "duration": 4,
    "start_time": "2021-12-05T13:23:21.489Z"
   },
   {
    "duration": 34,
    "start_time": "2021-12-05T13:23:21.494Z"
   },
   {
    "duration": 5,
    "start_time": "2021-12-05T13:23:21.529Z"
   },
   {
    "duration": 30,
    "start_time": "2021-12-05T13:23:21.536Z"
   },
   {
    "duration": 23,
    "start_time": "2021-12-05T13:23:21.568Z"
   },
   {
    "duration": 33,
    "start_time": "2021-12-05T13:23:21.593Z"
   },
   {
    "duration": 40,
    "start_time": "2021-12-05T13:23:21.631Z"
   },
   {
    "duration": 5,
    "start_time": "2021-12-05T13:23:21.673Z"
   },
   {
    "duration": 11,
    "start_time": "2021-12-05T13:23:21.680Z"
   },
   {
    "duration": 9,
    "start_time": "2021-12-05T13:23:21.692Z"
   },
   {
    "duration": 8,
    "start_time": "2021-12-05T13:23:21.702Z"
   },
   {
    "duration": 24,
    "start_time": "2021-12-05T13:23:21.711Z"
   },
   {
    "duration": 28,
    "start_time": "2021-12-05T13:23:21.737Z"
   },
   {
    "duration": 4,
    "start_time": "2021-12-05T13:23:21.767Z"
   },
   {
    "duration": 11,
    "start_time": "2021-12-05T13:23:21.773Z"
   },
   {
    "duration": 8,
    "start_time": "2021-12-05T13:23:21.785Z"
   },
   {
    "duration": 9,
    "start_time": "2021-12-05T13:23:21.794Z"
   },
   {
    "duration": 10,
    "start_time": "2021-12-05T13:23:21.804Z"
   },
   {
    "duration": 11,
    "start_time": "2021-12-05T13:23:21.816Z"
   },
   {
    "duration": 10,
    "start_time": "2021-12-05T13:23:21.829Z"
   },
   {
    "duration": 23,
    "start_time": "2021-12-05T13:23:21.841Z"
   },
   {
    "duration": 22,
    "start_time": "2021-12-05T13:23:21.866Z"
   },
   {
    "duration": 8,
    "start_time": "2021-12-05T13:23:21.890Z"
   },
   {
    "duration": 7,
    "start_time": "2021-12-05T13:23:21.900Z"
   },
   {
    "duration": 23,
    "start_time": "2021-12-05T13:23:21.909Z"
   },
   {
    "duration": 78,
    "start_time": "2021-12-05T13:23:21.934Z"
   },
   {
    "duration": -495,
    "start_time": "2021-12-05T13:23:22.509Z"
   },
   {
    "duration": -497,
    "start_time": "2021-12-05T13:23:22.512Z"
   },
   {
    "duration": -499,
    "start_time": "2021-12-05T13:23:22.516Z"
   },
   {
    "duration": -503,
    "start_time": "2021-12-05T13:23:22.520Z"
   },
   {
    "duration": -506,
    "start_time": "2021-12-05T13:23:22.524Z"
   },
   {
    "duration": -508,
    "start_time": "2021-12-05T13:23:22.527Z"
   },
   {
    "duration": -511,
    "start_time": "2021-12-05T13:23:22.531Z"
   },
   {
    "duration": -518,
    "start_time": "2021-12-05T13:23:22.539Z"
   },
   {
    "duration": -531,
    "start_time": "2021-12-05T13:23:22.553Z"
   },
   {
    "duration": -534,
    "start_time": "2021-12-05T13:23:22.557Z"
   },
   {
    "duration": -537,
    "start_time": "2021-12-05T13:23:22.561Z"
   },
   {
    "duration": -540,
    "start_time": "2021-12-05T13:23:22.565Z"
   },
   {
    "duration": -544,
    "start_time": "2021-12-05T13:23:22.569Z"
   },
   {
    "duration": -565,
    "start_time": "2021-12-05T13:23:22.591Z"
   },
   {
    "duration": -578,
    "start_time": "2021-12-05T13:23:22.605Z"
   },
   {
    "duration": -589,
    "start_time": "2021-12-05T13:23:22.617Z"
   },
   {
    "duration": -591,
    "start_time": "2021-12-05T13:23:22.620Z"
   },
   {
    "duration": -602,
    "start_time": "2021-12-05T13:23:22.632Z"
   },
   {
    "duration": -606,
    "start_time": "2021-12-05T13:23:22.637Z"
   },
   {
    "duration": -617,
    "start_time": "2021-12-05T13:23:22.649Z"
   },
   {
    "duration": -620,
    "start_time": "2021-12-05T13:23:22.653Z"
   },
   {
    "duration": -623,
    "start_time": "2021-12-05T13:23:22.657Z"
   },
   {
    "duration": -633,
    "start_time": "2021-12-05T13:23:22.668Z"
   },
   {
    "duration": -637,
    "start_time": "2021-12-05T13:23:22.673Z"
   },
   {
    "duration": -647,
    "start_time": "2021-12-05T13:23:22.684Z"
   },
   {
    "duration": -651,
    "start_time": "2021-12-05T13:23:22.689Z"
   },
   {
    "duration": -705,
    "start_time": "2021-12-05T13:23:22.744Z"
   },
   {
    "duration": -708,
    "start_time": "2021-12-05T13:23:22.747Z"
   },
   {
    "duration": -711,
    "start_time": "2021-12-05T13:23:22.751Z"
   },
   {
    "duration": -714,
    "start_time": "2021-12-05T13:23:22.755Z"
   },
   {
    "duration": -717,
    "start_time": "2021-12-05T13:23:22.759Z"
   },
   {
    "duration": -720,
    "start_time": "2021-12-05T13:23:22.763Z"
   },
   {
    "duration": -722,
    "start_time": "2021-12-05T13:23:22.766Z"
   },
   {
    "duration": -725,
    "start_time": "2021-12-05T13:23:22.770Z"
   },
   {
    "duration": -728,
    "start_time": "2021-12-05T13:23:22.774Z"
   },
   {
    "duration": 1203,
    "start_time": "2021-12-05T13:24:03.335Z"
   },
   {
    "duration": 51,
    "start_time": "2021-12-05T13:24:04.539Z"
   },
   {
    "duration": 19,
    "start_time": "2021-12-05T13:24:04.592Z"
   },
   {
    "duration": 24,
    "start_time": "2021-12-05T13:24:04.613Z"
   },
   {
    "duration": 37,
    "start_time": "2021-12-05T13:24:04.639Z"
   },
   {
    "duration": 76,
    "start_time": "2021-12-05T13:24:04.678Z"
   },
   {
    "duration": 104,
    "start_time": "2021-12-05T13:24:04.756Z"
   },
   {
    "duration": 15,
    "start_time": "2021-12-05T13:24:04.862Z"
   },
   {
    "duration": 30,
    "start_time": "2021-12-05T13:24:04.880Z"
   },
   {
    "duration": 26,
    "start_time": "2021-12-05T13:24:04.913Z"
   },
   {
    "duration": 32,
    "start_time": "2021-12-05T13:24:04.941Z"
   },
   {
    "duration": 17,
    "start_time": "2021-12-05T13:24:04.975Z"
   },
   {
    "duration": 20,
    "start_time": "2021-12-05T13:24:04.994Z"
   },
   {
    "duration": 35,
    "start_time": "2021-12-05T13:24:05.016Z"
   },
   {
    "duration": 14,
    "start_time": "2021-12-05T13:24:05.053Z"
   },
   {
    "duration": 24,
    "start_time": "2021-12-05T13:24:05.069Z"
   },
   {
    "duration": 15,
    "start_time": "2021-12-05T13:24:05.095Z"
   },
   {
    "duration": 44,
    "start_time": "2021-12-05T13:24:05.111Z"
   },
   {
    "duration": 5,
    "start_time": "2021-12-05T13:24:05.156Z"
   },
   {
    "duration": 19,
    "start_time": "2021-12-05T13:24:05.163Z"
   },
   {
    "duration": 38,
    "start_time": "2021-12-05T13:24:05.183Z"
   },
   {
    "duration": 41,
    "start_time": "2021-12-05T13:24:05.223Z"
   },
   {
    "duration": 9,
    "start_time": "2021-12-05T13:24:05.266Z"
   },
   {
    "duration": 18,
    "start_time": "2021-12-05T13:24:05.277Z"
   },
   {
    "duration": 22,
    "start_time": "2021-12-05T13:24:05.297Z"
   },
   {
    "duration": 26,
    "start_time": "2021-12-05T13:24:05.320Z"
   },
   {
    "duration": 18,
    "start_time": "2021-12-05T13:24:05.350Z"
   },
   {
    "duration": 19,
    "start_time": "2021-12-05T13:24:05.370Z"
   },
   {
    "duration": 21,
    "start_time": "2021-12-05T13:24:05.391Z"
   },
   {
    "duration": 24,
    "start_time": "2021-12-05T13:24:05.414Z"
   },
   {
    "duration": 26,
    "start_time": "2021-12-05T13:24:05.440Z"
   },
   {
    "duration": 60,
    "start_time": "2021-12-05T13:24:05.468Z"
   },
   {
    "duration": 10,
    "start_time": "2021-12-05T13:24:05.530Z"
   },
   {
    "duration": 14,
    "start_time": "2021-12-05T13:24:05.541Z"
   },
   {
    "duration": 16,
    "start_time": "2021-12-05T13:24:05.557Z"
   },
   {
    "duration": 20,
    "start_time": "2021-12-05T13:24:05.575Z"
   },
   {
    "duration": 15,
    "start_time": "2021-12-05T13:24:05.597Z"
   },
   {
    "duration": 20,
    "start_time": "2021-12-05T13:24:05.614Z"
   },
   {
    "duration": 5,
    "start_time": "2021-12-05T13:24:05.636Z"
   },
   {
    "duration": 16,
    "start_time": "2021-12-05T13:24:05.643Z"
   },
   {
    "duration": 23,
    "start_time": "2021-12-05T13:24:05.660Z"
   },
   {
    "duration": 8,
    "start_time": "2021-12-05T13:24:05.684Z"
   },
   {
    "duration": 33,
    "start_time": "2021-12-05T13:24:05.694Z"
   },
   {
    "duration": 19,
    "start_time": "2021-12-05T13:24:05.729Z"
   },
   {
    "duration": 38,
    "start_time": "2021-12-05T13:24:05.750Z"
   },
   {
    "duration": 66,
    "start_time": "2021-12-05T13:24:05.790Z"
   },
   {
    "duration": 28,
    "start_time": "2021-12-05T13:24:05.858Z"
   },
   {
    "duration": 34,
    "start_time": "2021-12-05T13:24:05.887Z"
   },
   {
    "duration": 19,
    "start_time": "2021-12-05T13:24:05.923Z"
   },
   {
    "duration": 32,
    "start_time": "2021-12-05T13:24:05.944Z"
   },
   {
    "duration": 5,
    "start_time": "2021-12-05T13:24:05.977Z"
   },
   {
    "duration": 14,
    "start_time": "2021-12-05T13:24:05.984Z"
   },
   {
    "duration": 3522,
    "start_time": "2021-12-05T13:24:06.000Z"
   },
   {
    "duration": 5,
    "start_time": "2021-12-05T13:24:09.523Z"
   },
   {
    "duration": 8,
    "start_time": "2021-12-05T13:24:09.529Z"
   },
   {
    "duration": 12,
    "start_time": "2021-12-05T13:24:09.539Z"
   },
   {
    "duration": 3132,
    "start_time": "2021-12-05T13:24:09.553Z"
   },
   {
    "duration": 16,
    "start_time": "2021-12-05T13:24:12.686Z"
   },
   {
    "duration": 9,
    "start_time": "2021-12-05T13:24:12.704Z"
   },
   {
    "duration": 22,
    "start_time": "2021-12-05T13:24:12.715Z"
   },
   {
    "duration": 36,
    "start_time": "2021-12-05T13:24:12.739Z"
   },
   {
    "duration": 6,
    "start_time": "2021-12-05T13:24:12.777Z"
   },
   {
    "duration": 15,
    "start_time": "2021-12-05T13:24:12.785Z"
   },
   {
    "duration": 381,
    "start_time": "2021-12-05T13:24:12.802Z"
   },
   {
    "duration": 23,
    "start_time": "2021-12-05T13:24:13.185Z"
   },
   {
    "duration": 13,
    "start_time": "2021-12-05T13:24:13.210Z"
   },
   {
    "duration": 14,
    "start_time": "2021-12-05T13:24:13.225Z"
   },
   {
    "duration": 23,
    "start_time": "2021-12-05T13:24:13.240Z"
   },
   {
    "duration": 588,
    "start_time": "2021-12-05T13:24:13.265Z"
   },
   {
    "duration": 15,
    "start_time": "2021-12-05T13:24:13.855Z"
   },
   {
    "duration": 6,
    "start_time": "2021-12-05T13:24:13.872Z"
   },
   {
    "duration": 5,
    "start_time": "2021-12-05T13:24:13.879Z"
   },
   {
    "duration": 20,
    "start_time": "2021-12-05T13:24:13.885Z"
   },
   {
    "duration": 10,
    "start_time": "2021-12-05T13:24:13.907Z"
   },
   {
    "duration": 10,
    "start_time": "2021-12-05T13:24:13.919Z"
   },
   {
    "duration": 39,
    "start_time": "2021-12-05T13:24:13.931Z"
   },
   {
    "duration": 25,
    "start_time": "2021-12-05T13:26:10.844Z"
   },
   {
    "duration": 22,
    "start_time": "2021-12-05T13:27:19.302Z"
   },
   {
    "duration": 23,
    "start_time": "2021-12-05T13:27:44.566Z"
   },
   {
    "duration": 24,
    "start_time": "2021-12-05T13:28:20.494Z"
   },
   {
    "duration": 354,
    "start_time": "2021-12-05T13:29:09.038Z"
   },
   {
    "duration": 293,
    "start_time": "2021-12-05T13:29:22.294Z"
   },
   {
    "duration": 23,
    "start_time": "2021-12-05T13:29:30.845Z"
   },
   {
    "duration": 21,
    "start_time": "2021-12-05T13:30:20.528Z"
   },
   {
    "duration": 240,
    "start_time": "2021-12-05T13:32:53.523Z"
   },
   {
    "duration": 342,
    "start_time": "2021-12-05T13:33:08.285Z"
   },
   {
    "duration": 151,
    "start_time": "2021-12-05T13:33:15.677Z"
   },
   {
    "duration": 348,
    "start_time": "2021-12-05T13:33:27.413Z"
   },
   {
    "duration": 259,
    "start_time": "2021-12-05T13:33:43.534Z"
   },
   {
    "duration": 249,
    "start_time": "2021-12-05T13:33:54.229Z"
   },
   {
    "duration": 8,
    "start_time": "2021-12-05T13:34:53.382Z"
   },
   {
    "duration": 6,
    "start_time": "2021-12-05T13:34:57.772Z"
   },
   {
    "duration": 242,
    "start_time": "2021-12-05T13:35:19.309Z"
   },
   {
    "duration": 378,
    "start_time": "2021-12-05T13:35:25.916Z"
   },
   {
    "duration": 10,
    "start_time": "2021-12-05T13:35:49.501Z"
   },
   {
    "duration": 24,
    "start_time": "2021-12-05T13:37:29.189Z"
   },
   {
    "duration": 25,
    "start_time": "2021-12-05T13:37:35.076Z"
   },
   {
    "duration": 488,
    "start_time": "2021-12-05T13:39:47.563Z"
   },
   {
    "duration": 408,
    "start_time": "2021-12-05T13:39:51.101Z"
   },
   {
    "duration": 399,
    "start_time": "2021-12-05T13:40:03.363Z"
   },
   {
    "duration": 409,
    "start_time": "2021-12-05T13:40:07.807Z"
   },
   {
    "duration": 4,
    "start_time": "2021-12-05T13:40:19.908Z"
   },
   {
    "duration": 4,
    "start_time": "2021-12-05T13:40:41.221Z"
   },
   {
    "duration": 199,
    "start_time": "2021-12-05T13:40:46.158Z"
   },
   {
    "duration": 10,
    "start_time": "2021-12-05T13:42:19.100Z"
   },
   {
    "duration": 251,
    "start_time": "2021-12-05T13:42:30.437Z"
   },
   {
    "duration": 149,
    "start_time": "2021-12-05T13:43:16.219Z"
   },
   {
    "duration": 23,
    "start_time": "2021-12-05T13:49:51.691Z"
   },
   {
    "duration": 4,
    "start_time": "2021-12-05T13:50:02.311Z"
   },
   {
    "duration": 200,
    "start_time": "2021-12-05T13:50:09.203Z"
   },
   {
    "duration": 167,
    "start_time": "2021-12-05T13:51:25.763Z"
   },
   {
    "duration": 198,
    "start_time": "2021-12-05T13:51:30.843Z"
   },
   {
    "duration": 185,
    "start_time": "2021-12-05T13:51:37.075Z"
   },
   {
    "duration": 25,
    "start_time": "2021-12-05T13:53:30.627Z"
   },
   {
    "duration": 199,
    "start_time": "2021-12-05T13:53:33.970Z"
   },
   {
    "duration": 234,
    "start_time": "2021-12-05T13:53:52.106Z"
   },
   {
    "duration": 240,
    "start_time": "2021-12-05T13:54:38.810Z"
   },
   {
    "duration": 269,
    "start_time": "2021-12-05T13:54:46.602Z"
   },
   {
    "duration": 216,
    "start_time": "2021-12-05T13:54:57.592Z"
   },
   {
    "duration": 331,
    "start_time": "2021-12-05T13:55:16.609Z"
   },
   {
    "duration": 227,
    "start_time": "2021-12-05T13:55:25.074Z"
   },
   {
    "duration": 23,
    "start_time": "2021-12-05T13:58:29.468Z"
   },
   {
    "duration": 220,
    "start_time": "2021-12-05T13:58:50.953Z"
   },
   {
    "duration": 23,
    "start_time": "2021-12-05T13:59:48.473Z"
   },
   {
    "duration": 313,
    "start_time": "2021-12-05T13:59:51.866Z"
   },
   {
    "duration": 286,
    "start_time": "2021-12-05T14:03:29.128Z"
   },
   {
    "duration": 14,
    "start_time": "2021-12-05T14:03:33.407Z"
   },
   {
    "duration": 165,
    "start_time": "2021-12-05T14:03:36.123Z"
   },
   {
    "duration": 171,
    "start_time": "2021-12-05T14:03:53.417Z"
   },
   {
    "duration": 11,
    "start_time": "2021-12-05T14:05:25.617Z"
   },
   {
    "duration": 155,
    "start_time": "2021-12-05T14:05:37.929Z"
   },
   {
    "duration": 23,
    "start_time": "2021-12-05T14:07:51.569Z"
   },
   {
    "duration": 24,
    "start_time": "2021-12-05T14:08:23.470Z"
   },
   {
    "duration": 246,
    "start_time": "2021-12-05T14:09:04.376Z"
   },
   {
    "duration": 25,
    "start_time": "2021-12-05T14:09:09.161Z"
   },
   {
    "duration": 274,
    "start_time": "2021-12-05T14:09:11.477Z"
   },
   {
    "duration": 11,
    "start_time": "2021-12-05T14:12:50.990Z"
   },
   {
    "duration": 171,
    "start_time": "2021-12-05T14:13:14.104Z"
   },
   {
    "duration": 1261,
    "start_time": "2021-12-05T14:17:27.002Z"
   },
   {
    "duration": 56,
    "start_time": "2021-12-05T14:17:28.266Z"
   },
   {
    "duration": 28,
    "start_time": "2021-12-05T14:17:28.325Z"
   },
   {
    "duration": 32,
    "start_time": "2021-12-05T14:17:28.355Z"
   },
   {
    "duration": 27,
    "start_time": "2021-12-05T14:17:28.390Z"
   },
   {
    "duration": 30,
    "start_time": "2021-12-05T14:17:28.419Z"
   },
   {
    "duration": 34,
    "start_time": "2021-12-05T14:17:28.451Z"
   },
   {
    "duration": 10,
    "start_time": "2021-12-05T14:17:28.489Z"
   },
   {
    "duration": 6,
    "start_time": "2021-12-05T14:17:28.502Z"
   },
   {
    "duration": 11,
    "start_time": "2021-12-05T14:17:28.509Z"
   },
   {
    "duration": 41,
    "start_time": "2021-12-05T14:17:28.522Z"
   },
   {
    "duration": 7,
    "start_time": "2021-12-05T14:17:28.565Z"
   },
   {
    "duration": 6,
    "start_time": "2021-12-05T14:17:28.574Z"
   },
   {
    "duration": 23,
    "start_time": "2021-12-05T14:17:28.582Z"
   },
   {
    "duration": 13,
    "start_time": "2021-12-05T14:17:28.607Z"
   },
   {
    "duration": 45,
    "start_time": "2021-12-05T14:17:28.622Z"
   },
   {
    "duration": 5,
    "start_time": "2021-12-05T14:17:28.669Z"
   },
   {
    "duration": 34,
    "start_time": "2021-12-05T14:17:28.676Z"
   },
   {
    "duration": 6,
    "start_time": "2021-12-05T14:17:28.712Z"
   },
   {
    "duration": 10,
    "start_time": "2021-12-05T14:17:28.720Z"
   },
   {
    "duration": 49,
    "start_time": "2021-12-05T14:17:28.731Z"
   },
   {
    "duration": 32,
    "start_time": "2021-12-05T14:17:28.782Z"
   },
   {
    "duration": 10,
    "start_time": "2021-12-05T14:17:28.818Z"
   },
   {
    "duration": 7,
    "start_time": "2021-12-05T14:17:28.831Z"
   },
   {
    "duration": 33,
    "start_time": "2021-12-05T14:17:28.840Z"
   },
   {
    "duration": 8,
    "start_time": "2021-12-05T14:17:28.875Z"
   },
   {
    "duration": 6,
    "start_time": "2021-12-05T14:17:28.885Z"
   },
   {
    "duration": 30,
    "start_time": "2021-12-05T14:17:28.892Z"
   },
   {
    "duration": 21,
    "start_time": "2021-12-05T14:17:28.924Z"
   },
   {
    "duration": 16,
    "start_time": "2021-12-05T14:17:28.947Z"
   },
   {
    "duration": 12,
    "start_time": "2021-12-05T14:17:28.965Z"
   },
   {
    "duration": 6,
    "start_time": "2021-12-05T14:17:28.979Z"
   },
   {
    "duration": 9,
    "start_time": "2021-12-05T14:17:28.987Z"
   },
   {
    "duration": 10,
    "start_time": "2021-12-05T14:17:28.998Z"
   },
   {
    "duration": 9,
    "start_time": "2021-12-05T14:17:29.010Z"
   },
   {
    "duration": 13,
    "start_time": "2021-12-05T14:17:29.021Z"
   },
   {
    "duration": 28,
    "start_time": "2021-12-05T14:17:29.036Z"
   },
   {
    "duration": 31,
    "start_time": "2021-12-05T14:17:29.067Z"
   },
   {
    "duration": 7,
    "start_time": "2021-12-05T14:17:29.100Z"
   },
   {
    "duration": 6,
    "start_time": "2021-12-05T14:17:29.109Z"
   },
   {
    "duration": 52,
    "start_time": "2021-12-05T14:17:29.117Z"
   },
   {
    "duration": 9,
    "start_time": "2021-12-05T14:17:29.170Z"
   },
   {
    "duration": 4,
    "start_time": "2021-12-05T14:17:29.181Z"
   },
   {
    "duration": 18,
    "start_time": "2021-12-05T14:17:29.187Z"
   },
   {
    "duration": 19,
    "start_time": "2021-12-05T14:17:29.206Z"
   },
   {
    "duration": 14,
    "start_time": "2021-12-05T14:17:29.227Z"
   },
   {
    "duration": 23,
    "start_time": "2021-12-05T14:17:29.243Z"
   },
   {
    "duration": 34,
    "start_time": "2021-12-05T14:17:29.268Z"
   },
   {
    "duration": 19,
    "start_time": "2021-12-05T14:17:29.304Z"
   },
   {
    "duration": 40,
    "start_time": "2021-12-05T14:17:29.324Z"
   },
   {
    "duration": 6,
    "start_time": "2021-12-05T14:17:29.367Z"
   },
   {
    "duration": 13,
    "start_time": "2021-12-05T14:17:29.375Z"
   },
   {
    "duration": 4126,
    "start_time": "2021-12-05T14:17:29.390Z"
   },
   {
    "duration": 5,
    "start_time": "2021-12-05T14:17:33.518Z"
   },
   {
    "duration": 13,
    "start_time": "2021-12-05T14:17:33.525Z"
   },
   {
    "duration": 21,
    "start_time": "2021-12-05T14:17:33.540Z"
   },
   {
    "duration": 3104,
    "start_time": "2021-12-05T14:17:33.563Z"
   },
   {
    "duration": 16,
    "start_time": "2021-12-05T14:17:36.669Z"
   },
   {
    "duration": 9,
    "start_time": "2021-12-05T14:17:36.687Z"
   },
   {
    "duration": 21,
    "start_time": "2021-12-05T14:17:36.698Z"
   },
   {
    "duration": 42,
    "start_time": "2021-12-05T14:17:36.721Z"
   },
   {
    "duration": 6,
    "start_time": "2021-12-05T14:17:36.765Z"
   },
   {
    "duration": 7,
    "start_time": "2021-12-05T14:17:36.773Z"
   },
   {
    "duration": 306,
    "start_time": "2021-12-05T14:17:36.782Z"
   },
   {
    "duration": 25,
    "start_time": "2021-12-05T14:17:37.090Z"
   },
   {
    "duration": 8,
    "start_time": "2021-12-05T14:17:37.118Z"
   },
   {
    "duration": 10,
    "start_time": "2021-12-05T14:17:37.128Z"
   },
   {
    "duration": 4,
    "start_time": "2021-12-05T14:17:37.164Z"
   },
   {
    "duration": 623,
    "start_time": "2021-12-05T14:17:37.170Z"
   },
   {
    "duration": 17,
    "start_time": "2021-12-05T14:17:37.795Z"
   },
   {
    "duration": 14,
    "start_time": "2021-12-05T14:17:37.813Z"
   },
   {
    "duration": 406,
    "start_time": "2021-12-05T14:17:37.828Z"
   },
   {
    "duration": -149,
    "start_time": "2021-12-05T14:17:38.385Z"
   },
   {
    "duration": -163,
    "start_time": "2021-12-05T14:17:38.400Z"
   },
   {
    "duration": -181,
    "start_time": "2021-12-05T14:17:38.419Z"
   },
   {
    "duration": -193,
    "start_time": "2021-12-05T14:17:38.432Z"
   },
   {
    "duration": -200,
    "start_time": "2021-12-05T14:17:38.440Z"
   },
   {
    "duration": -213,
    "start_time": "2021-12-05T14:17:38.453Z"
   },
   {
    "duration": -226,
    "start_time": "2021-12-05T14:17:38.467Z"
   },
   {
    "duration": -230,
    "start_time": "2021-12-05T14:17:38.472Z"
   },
   {
    "duration": -233,
    "start_time": "2021-12-05T14:17:38.476Z"
   },
   {
    "duration": -238,
    "start_time": "2021-12-05T14:17:38.482Z"
   },
   {
    "duration": -247,
    "start_time": "2021-12-05T14:17:38.492Z"
   },
   {
    "duration": -255,
    "start_time": "2021-12-05T14:17:38.501Z"
   },
   {
    "duration": -263,
    "start_time": "2021-12-05T14:17:38.510Z"
   },
   {
    "duration": 4,
    "start_time": "2021-12-05T14:18:25.939Z"
   },
   {
    "duration": 1580,
    "start_time": "2021-12-05T14:18:31.440Z"
   },
   {
    "duration": 74,
    "start_time": "2021-12-05T14:18:33.025Z"
   },
   {
    "duration": 32,
    "start_time": "2021-12-05T14:18:33.101Z"
   },
   {
    "duration": 35,
    "start_time": "2021-12-05T14:18:33.135Z"
   },
   {
    "duration": 16,
    "start_time": "2021-12-05T14:18:33.173Z"
   },
   {
    "duration": 18,
    "start_time": "2021-12-05T14:18:33.191Z"
   },
   {
    "duration": 54,
    "start_time": "2021-12-05T14:18:33.211Z"
   },
   {
    "duration": 10,
    "start_time": "2021-12-05T14:18:33.267Z"
   },
   {
    "duration": 5,
    "start_time": "2021-12-05T14:18:33.279Z"
   },
   {
    "duration": 11,
    "start_time": "2021-12-05T14:18:33.286Z"
   },
   {
    "duration": 13,
    "start_time": "2021-12-05T14:18:33.298Z"
   },
   {
    "duration": 18,
    "start_time": "2021-12-05T14:18:33.313Z"
   },
   {
    "duration": 6,
    "start_time": "2021-12-05T14:18:33.333Z"
   },
   {
    "duration": 41,
    "start_time": "2021-12-05T14:18:33.341Z"
   },
   {
    "duration": 16,
    "start_time": "2021-12-05T14:18:33.384Z"
   },
   {
    "duration": 33,
    "start_time": "2021-12-05T14:18:33.401Z"
   },
   {
    "duration": 5,
    "start_time": "2021-12-05T14:18:33.436Z"
   },
   {
    "duration": 48,
    "start_time": "2021-12-05T14:18:33.443Z"
   },
   {
    "duration": 6,
    "start_time": "2021-12-05T14:18:33.493Z"
   },
   {
    "duration": 10,
    "start_time": "2021-12-05T14:18:33.501Z"
   },
   {
    "duration": 26,
    "start_time": "2021-12-05T14:18:33.513Z"
   },
   {
    "duration": 52,
    "start_time": "2021-12-05T14:18:33.543Z"
   },
   {
    "duration": 10,
    "start_time": "2021-12-05T14:18:33.598Z"
   },
   {
    "duration": 6,
    "start_time": "2021-12-05T14:18:33.610Z"
   },
   {
    "duration": 16,
    "start_time": "2021-12-05T14:18:33.617Z"
   },
   {
    "duration": 31,
    "start_time": "2021-12-05T14:18:33.635Z"
   },
   {
    "duration": 7,
    "start_time": "2021-12-05T14:18:33.668Z"
   },
   {
    "duration": 15,
    "start_time": "2021-12-05T14:18:33.677Z"
   },
   {
    "duration": 12,
    "start_time": "2021-12-05T14:18:33.694Z"
   },
   {
    "duration": 7,
    "start_time": "2021-12-05T14:18:33.708Z"
   },
   {
    "duration": 10,
    "start_time": "2021-12-05T14:18:33.717Z"
   },
   {
    "duration": 7,
    "start_time": "2021-12-05T14:18:33.729Z"
   },
   {
    "duration": 27,
    "start_time": "2021-12-05T14:18:33.738Z"
   },
   {
    "duration": 6,
    "start_time": "2021-12-05T14:18:33.767Z"
   },
   {
    "duration": 8,
    "start_time": "2021-12-05T14:18:33.775Z"
   },
   {
    "duration": 15,
    "start_time": "2021-12-05T14:18:33.785Z"
   },
   {
    "duration": 10,
    "start_time": "2021-12-05T14:18:33.802Z"
   },
   {
    "duration": 22,
    "start_time": "2021-12-05T14:18:33.814Z"
   },
   {
    "duration": 44,
    "start_time": "2021-12-05T14:18:33.838Z"
   },
   {
    "duration": 22,
    "start_time": "2021-12-05T14:18:33.883Z"
   },
   {
    "duration": 52,
    "start_time": "2021-12-05T14:18:33.907Z"
   },
   {
    "duration": 8,
    "start_time": "2021-12-05T14:18:33.961Z"
   },
   {
    "duration": 28,
    "start_time": "2021-12-05T14:18:33.971Z"
   },
   {
    "duration": 31,
    "start_time": "2021-12-05T14:18:34.001Z"
   },
   {
    "duration": 33,
    "start_time": "2021-12-05T14:18:34.033Z"
   },
   {
    "duration": 35,
    "start_time": "2021-12-05T14:18:34.068Z"
   },
   {
    "duration": 39,
    "start_time": "2021-12-05T14:18:34.105Z"
   },
   {
    "duration": 37,
    "start_time": "2021-12-05T14:18:34.146Z"
   },
   {
    "duration": 18,
    "start_time": "2021-12-05T14:18:34.185Z"
   },
   {
    "duration": 20,
    "start_time": "2021-12-05T14:18:34.205Z"
   },
   {
    "duration": 15,
    "start_time": "2021-12-05T14:18:34.227Z"
   },
   {
    "duration": 40,
    "start_time": "2021-12-05T14:18:34.244Z"
   },
   {
    "duration": 3900,
    "start_time": "2021-12-05T14:18:34.287Z"
   },
   {
    "duration": 4,
    "start_time": "2021-12-05T14:18:38.190Z"
   },
   {
    "duration": 7,
    "start_time": "2021-12-05T14:18:38.196Z"
   },
   {
    "duration": 11,
    "start_time": "2021-12-05T14:18:38.205Z"
   },
   {
    "duration": 3278,
    "start_time": "2021-12-05T14:18:38.218Z"
   },
   {
    "duration": 17,
    "start_time": "2021-12-05T14:18:41.499Z"
   },
   {
    "duration": 70,
    "start_time": "2021-12-05T14:18:41.518Z"
   },
   {
    "duration": 35,
    "start_time": "2021-12-05T14:18:41.590Z"
   },
   {
    "duration": 15,
    "start_time": "2021-12-05T14:18:41.626Z"
   },
   {
    "duration": 8,
    "start_time": "2021-12-05T14:18:41.643Z"
   },
   {
    "duration": 4,
    "start_time": "2021-12-05T14:18:41.653Z"
   },
   {
    "duration": 467,
    "start_time": "2021-12-05T14:18:41.660Z"
   },
   {
    "duration": 8,
    "start_time": "2021-12-05T14:18:42.130Z"
   },
   {
    "duration": 22,
    "start_time": "2021-12-05T14:18:42.141Z"
   },
   {
    "duration": 3,
    "start_time": "2021-12-05T14:18:42.169Z"
   },
   {
    "duration": 648,
    "start_time": "2021-12-05T14:18:42.175Z"
   },
   {
    "duration": 16,
    "start_time": "2021-12-05T14:18:42.825Z"
   },
   {
    "duration": 42,
    "start_time": "2021-12-05T14:18:42.842Z"
   },
   {
    "duration": 22,
    "start_time": "2021-12-05T14:18:42.886Z"
   },
   {
    "duration": 23,
    "start_time": "2021-12-05T14:18:42.910Z"
   },
   {
    "duration": 265,
    "start_time": "2021-12-05T14:18:42.935Z"
   },
   {
    "duration": 26,
    "start_time": "2021-12-05T14:18:43.202Z"
   },
   {
    "duration": 357,
    "start_time": "2021-12-05T14:18:43.230Z"
   },
   {
    "duration": 25,
    "start_time": "2021-12-05T14:18:43.589Z"
   },
   {
    "duration": 253,
    "start_time": "2021-12-05T14:18:43.616Z"
   },
   {
    "duration": 12,
    "start_time": "2021-12-05T14:18:43.871Z"
   },
   {
    "duration": 186,
    "start_time": "2021-12-05T14:18:43.885Z"
   },
   {
    "duration": 10,
    "start_time": "2021-12-05T14:18:44.073Z"
   },
   {
    "duration": 173,
    "start_time": "2021-12-05T14:18:44.085Z"
   },
   {
    "duration": 25,
    "start_time": "2021-12-05T14:18:44.264Z"
   },
   {
    "duration": 311,
    "start_time": "2021-12-05T14:18:44.291Z"
   },
   {
    "duration": 12,
    "start_time": "2021-12-05T14:18:44.604Z"
   },
   {
    "duration": 182,
    "start_time": "2021-12-05T14:18:44.618Z"
   },
   {
    "duration": 1394,
    "start_time": "2021-12-06T01:02:44.232Z"
   },
   {
    "duration": 56,
    "start_time": "2021-12-06T01:02:45.629Z"
   },
   {
    "duration": 24,
    "start_time": "2021-12-06T01:02:45.688Z"
   },
   {
    "duration": 46,
    "start_time": "2021-12-06T01:02:45.714Z"
   },
   {
    "duration": 22,
    "start_time": "2021-12-06T01:02:45.762Z"
   },
   {
    "duration": 20,
    "start_time": "2021-12-06T01:02:45.786Z"
   },
   {
    "duration": 44,
    "start_time": "2021-12-06T01:02:45.807Z"
   },
   {
    "duration": 11,
    "start_time": "2021-12-06T01:02:45.854Z"
   },
   {
    "duration": 5,
    "start_time": "2021-12-06T01:02:45.868Z"
   },
   {
    "duration": 11,
    "start_time": "2021-12-06T01:02:45.875Z"
   },
   {
    "duration": 11,
    "start_time": "2021-12-06T01:02:45.889Z"
   },
   {
    "duration": 45,
    "start_time": "2021-12-06T01:02:45.902Z"
   },
   {
    "duration": 6,
    "start_time": "2021-12-06T01:02:45.950Z"
   },
   {
    "duration": 22,
    "start_time": "2021-12-06T01:02:45.958Z"
   },
   {
    "duration": 12,
    "start_time": "2021-12-06T01:02:45.982Z"
   },
   {
    "duration": 10,
    "start_time": "2021-12-06T01:02:45.996Z"
   },
   {
    "duration": 38,
    "start_time": "2021-12-06T01:02:46.008Z"
   },
   {
    "duration": 34,
    "start_time": "2021-12-06T01:02:46.048Z"
   },
   {
    "duration": 7,
    "start_time": "2021-12-06T01:02:46.084Z"
   },
   {
    "duration": 6,
    "start_time": "2021-12-06T01:02:46.093Z"
   },
   {
    "duration": 56,
    "start_time": "2021-12-06T01:02:46.101Z"
   },
   {
    "duration": 30,
    "start_time": "2021-12-06T01:02:46.159Z"
   },
   {
    "duration": 10,
    "start_time": "2021-12-06T01:02:46.192Z"
   },
   {
    "duration": 5,
    "start_time": "2021-12-06T01:02:46.204Z"
   },
   {
    "duration": 44,
    "start_time": "2021-12-06T01:02:46.211Z"
   },
   {
    "duration": 7,
    "start_time": "2021-12-06T01:02:46.257Z"
   },
   {
    "duration": 5,
    "start_time": "2021-12-06T01:02:46.266Z"
   },
   {
    "duration": 12,
    "start_time": "2021-12-06T01:02:46.273Z"
   },
   {
    "duration": 8,
    "start_time": "2021-12-06T01:02:46.287Z"
   },
   {
    "duration": 5,
    "start_time": "2021-12-06T01:02:46.296Z"
   },
   {
    "duration": 43,
    "start_time": "2021-12-06T01:02:46.303Z"
   },
   {
    "duration": 6,
    "start_time": "2021-12-06T01:02:46.347Z"
   },
   {
    "duration": 6,
    "start_time": "2021-12-06T01:02:46.354Z"
   },
   {
    "duration": 7,
    "start_time": "2021-12-06T01:02:46.362Z"
   },
   {
    "duration": 5,
    "start_time": "2021-12-06T01:02:46.371Z"
   },
   {
    "duration": 8,
    "start_time": "2021-12-06T01:02:46.377Z"
   },
   {
    "duration": 7,
    "start_time": "2021-12-06T01:02:46.387Z"
   },
   {
    "duration": 58,
    "start_time": "2021-12-06T01:02:46.396Z"
   },
   {
    "duration": 5,
    "start_time": "2021-12-06T01:02:46.456Z"
   },
   {
    "duration": 6,
    "start_time": "2021-12-06T01:02:46.463Z"
   },
   {
    "duration": 22,
    "start_time": "2021-12-06T01:02:46.471Z"
   },
   {
    "duration": 7,
    "start_time": "2021-12-06T01:02:46.495Z"
   },
   {
    "duration": 42,
    "start_time": "2021-12-06T01:02:46.504Z"
   },
   {
    "duration": 6,
    "start_time": "2021-12-06T01:02:46.548Z"
   },
   {
    "duration": 4,
    "start_time": "2021-12-06T01:02:46.556Z"
   },
   {
    "duration": 6,
    "start_time": "2021-12-06T01:02:46.562Z"
   },
   {
    "duration": 17,
    "start_time": "2021-12-06T01:02:46.570Z"
   },
   {
    "duration": 60,
    "start_time": "2021-12-06T01:02:46.589Z"
   },
   {
    "duration": 17,
    "start_time": "2021-12-06T01:02:46.650Z"
   },
   {
    "duration": 18,
    "start_time": "2021-12-06T01:02:46.669Z"
   },
   {
    "duration": 5,
    "start_time": "2021-12-06T01:02:46.689Z"
   },
   {
    "duration": 23,
    "start_time": "2021-12-06T01:02:46.696Z"
   },
   {
    "duration": 3751,
    "start_time": "2021-12-06T01:02:46.721Z"
   },
   {
    "duration": 4,
    "start_time": "2021-12-06T01:02:50.474Z"
   },
   {
    "duration": 30,
    "start_time": "2021-12-06T01:02:50.480Z"
   },
   {
    "duration": 36,
    "start_time": "2021-12-06T01:02:50.512Z"
   },
   {
    "duration": 3158,
    "start_time": "2021-12-06T01:02:50.550Z"
   },
   {
    "duration": 20,
    "start_time": "2021-12-06T01:02:53.710Z"
   },
   {
    "duration": 10,
    "start_time": "2021-12-06T01:02:53.744Z"
   },
   {
    "duration": 17,
    "start_time": "2021-12-06T01:02:53.756Z"
   },
   {
    "duration": 12,
    "start_time": "2021-12-06T01:02:53.775Z"
   },
   {
    "duration": 5,
    "start_time": "2021-12-06T01:02:53.789Z"
   },
   {
    "duration": 2,
    "start_time": "2021-12-06T01:02:53.796Z"
   },
   {
    "duration": 301,
    "start_time": "2021-12-06T01:02:53.800Z"
   },
   {
    "duration": 6,
    "start_time": "2021-12-06T01:02:54.103Z"
   },
   {
    "duration": 5,
    "start_time": "2021-12-06T01:02:54.111Z"
   },
   {
    "duration": 4,
    "start_time": "2021-12-06T01:02:54.117Z"
   },
   {
    "duration": 830,
    "start_time": "2021-12-06T01:02:54.126Z"
   },
   {
    "duration": 23,
    "start_time": "2021-12-06T01:02:54.959Z"
   },
   {
    "duration": 10,
    "start_time": "2021-12-06T01:02:54.985Z"
   },
   {
    "duration": 11,
    "start_time": "2021-12-06T01:02:54.997Z"
   },
   {
    "duration": 35,
    "start_time": "2021-12-06T01:02:55.010Z"
   },
   {
    "duration": 335,
    "start_time": "2021-12-06T01:02:55.048Z"
   },
   {
    "duration": 35,
    "start_time": "2021-12-06T01:02:55.385Z"
   },
   {
    "duration": 324,
    "start_time": "2021-12-06T01:02:55.422Z"
   },
   {
    "duration": 21,
    "start_time": "2021-12-06T01:02:55.748Z"
   },
   {
    "duration": 221,
    "start_time": "2021-12-06T01:02:55.771Z"
   },
   {
    "duration": 12,
    "start_time": "2021-12-06T01:02:55.995Z"
   },
   {
    "duration": 179,
    "start_time": "2021-12-06T01:02:56.008Z"
   },
   {
    "duration": 10,
    "start_time": "2021-12-06T01:02:56.188Z"
   },
   {
    "duration": 155,
    "start_time": "2021-12-06T01:02:56.199Z"
   },
   {
    "duration": 23,
    "start_time": "2021-12-06T01:02:56.357Z"
   },
   {
    "duration": 278,
    "start_time": "2021-12-06T01:02:56.381Z"
   },
   {
    "duration": 10,
    "start_time": "2021-12-06T01:02:56.661Z"
   },
   {
    "duration": 186,
    "start_time": "2021-12-06T01:02:56.673Z"
   },
   {
    "duration": 321,
    "start_time": "2021-12-06T07:51:16.355Z"
   },
   {
    "duration": 1247,
    "start_time": "2021-12-06T07:51:28.183Z"
   },
   {
    "duration": 51,
    "start_time": "2021-12-06T07:51:29.432Z"
   },
   {
    "duration": 20,
    "start_time": "2021-12-06T07:51:29.485Z"
   },
   {
    "duration": 17,
    "start_time": "2021-12-06T07:51:29.507Z"
   },
   {
    "duration": 26,
    "start_time": "2021-12-06T07:51:29.526Z"
   },
   {
    "duration": 23,
    "start_time": "2021-12-06T07:51:29.554Z"
   },
   {
    "duration": 29,
    "start_time": "2021-12-06T07:51:29.579Z"
   },
   {
    "duration": 9,
    "start_time": "2021-12-06T07:51:29.611Z"
   },
   {
    "duration": 20,
    "start_time": "2021-12-06T07:51:29.622Z"
   },
   {
    "duration": 32,
    "start_time": "2021-12-06T07:51:29.644Z"
   },
   {
    "duration": 12,
    "start_time": "2021-12-06T07:51:29.677Z"
   },
   {
    "duration": 22,
    "start_time": "2021-12-06T07:51:29.690Z"
   },
   {
    "duration": 12,
    "start_time": "2021-12-06T07:51:29.713Z"
   },
   {
    "duration": 28,
    "start_time": "2021-12-06T07:51:29.727Z"
   },
   {
    "duration": 12,
    "start_time": "2021-12-06T07:51:29.757Z"
   },
   {
    "duration": 18,
    "start_time": "2021-12-06T07:51:29.771Z"
   },
   {
    "duration": 10,
    "start_time": "2021-12-06T07:51:29.791Z"
   },
   {
    "duration": 35,
    "start_time": "2021-12-06T07:51:29.802Z"
   },
   {
    "duration": 5,
    "start_time": "2021-12-06T07:51:29.838Z"
   },
   {
    "duration": 13,
    "start_time": "2021-12-06T07:51:29.845Z"
   },
   {
    "duration": 28,
    "start_time": "2021-12-06T07:51:29.863Z"
   },
   {
    "duration": 29,
    "start_time": "2021-12-06T07:51:29.893Z"
   },
   {
    "duration": 9,
    "start_time": "2021-12-06T07:51:29.926Z"
   },
   {
    "duration": 5,
    "start_time": "2021-12-06T07:51:29.937Z"
   },
   {
    "duration": 28,
    "start_time": "2021-12-06T07:51:29.944Z"
   },
   {
    "duration": 18,
    "start_time": "2021-12-06T07:51:29.974Z"
   },
   {
    "duration": 13,
    "start_time": "2021-12-06T07:51:29.994Z"
   },
   {
    "duration": 47,
    "start_time": "2021-12-06T07:51:30.008Z"
   },
   {
    "duration": 24,
    "start_time": "2021-12-06T07:51:30.057Z"
   },
   {
    "duration": 6,
    "start_time": "2021-12-06T07:51:30.083Z"
   },
   {
    "duration": 14,
    "start_time": "2021-12-06T07:51:30.090Z"
   },
   {
    "duration": 12,
    "start_time": "2021-12-06T07:51:30.105Z"
   },
   {
    "duration": 10,
    "start_time": "2021-12-06T07:51:30.119Z"
   },
   {
    "duration": 26,
    "start_time": "2021-12-06T07:51:30.131Z"
   },
   {
    "duration": 22,
    "start_time": "2021-12-06T07:51:30.158Z"
   },
   {
    "duration": 28,
    "start_time": "2021-12-06T07:51:30.182Z"
   },
   {
    "duration": 29,
    "start_time": "2021-12-06T07:51:30.212Z"
   },
   {
    "duration": 42,
    "start_time": "2021-12-06T07:51:30.242Z"
   },
   {
    "duration": 7,
    "start_time": "2021-12-06T07:51:30.286Z"
   },
   {
    "duration": 21,
    "start_time": "2021-12-06T07:51:30.295Z"
   },
   {
    "duration": 33,
    "start_time": "2021-12-06T07:51:30.318Z"
   },
   {
    "duration": 14,
    "start_time": "2021-12-06T07:51:30.353Z"
   },
   {
    "duration": 8,
    "start_time": "2021-12-06T07:51:30.369Z"
   },
   {
    "duration": 20,
    "start_time": "2021-12-06T07:51:30.379Z"
   },
   {
    "duration": 11,
    "start_time": "2021-12-06T07:51:30.401Z"
   },
   {
    "duration": 16,
    "start_time": "2021-12-06T07:51:30.414Z"
   },
   {
    "duration": 36,
    "start_time": "2021-12-06T07:51:30.431Z"
   },
   {
    "duration": 32,
    "start_time": "2021-12-06T07:51:30.468Z"
   },
   {
    "duration": 17,
    "start_time": "2021-12-06T07:51:30.502Z"
   },
   {
    "duration": 19,
    "start_time": "2021-12-06T07:51:30.520Z"
   },
   {
    "duration": 23,
    "start_time": "2021-12-06T07:51:30.541Z"
   },
   {
    "duration": 19,
    "start_time": "2021-12-06T07:51:30.566Z"
   },
   {
    "duration": 3488,
    "start_time": "2021-12-06T07:51:30.587Z"
   },
   {
    "duration": 4,
    "start_time": "2021-12-06T07:51:34.077Z"
   },
   {
    "duration": 5,
    "start_time": "2021-12-06T07:51:34.083Z"
   },
   {
    "duration": 6,
    "start_time": "2021-12-06T07:51:34.090Z"
   },
   {
    "duration": 2909,
    "start_time": "2021-12-06T07:51:34.098Z"
   },
   {
    "duration": 16,
    "start_time": "2021-12-06T07:51:37.009Z"
   },
   {
    "duration": 10,
    "start_time": "2021-12-06T07:51:37.027Z"
   },
   {
    "duration": 33,
    "start_time": "2021-12-06T07:51:37.038Z"
   },
   {
    "duration": 11,
    "start_time": "2021-12-06T07:51:37.073Z"
   },
   {
    "duration": 5,
    "start_time": "2021-12-06T07:51:37.086Z"
   },
   {
    "duration": 7,
    "start_time": "2021-12-06T07:51:37.092Z"
   },
   {
    "duration": 298,
    "start_time": "2021-12-06T07:51:37.101Z"
   },
   {
    "duration": 7,
    "start_time": "2021-12-06T07:51:37.400Z"
   },
   {
    "duration": 5,
    "start_time": "2021-12-06T07:51:37.409Z"
   },
   {
    "duration": 9,
    "start_time": "2021-12-06T07:51:37.416Z"
   },
   {
    "duration": 601,
    "start_time": "2021-12-06T07:51:37.430Z"
   },
   {
    "duration": 15,
    "start_time": "2021-12-06T07:51:38.033Z"
   },
   {
    "duration": 36,
    "start_time": "2021-12-06T07:51:38.049Z"
   },
   {
    "duration": 24,
    "start_time": "2021-12-06T07:51:38.087Z"
   },
   {
    "duration": 28,
    "start_time": "2021-12-06T07:51:38.113Z"
   },
   {
    "duration": 247,
    "start_time": "2021-12-06T07:51:38.143Z"
   },
   {
    "duration": 23,
    "start_time": "2021-12-06T07:51:38.392Z"
   },
   {
    "duration": 336,
    "start_time": "2021-12-06T07:51:38.417Z"
   },
   {
    "duration": 28,
    "start_time": "2021-12-06T07:51:38.755Z"
   },
   {
    "duration": 227,
    "start_time": "2021-12-06T07:51:38.785Z"
   },
   {
    "duration": 11,
    "start_time": "2021-12-06T07:51:39.014Z"
   },
   {
    "duration": 186,
    "start_time": "2021-12-06T07:51:39.027Z"
   },
   {
    "duration": 11,
    "start_time": "2021-12-06T07:51:39.215Z"
   },
   {
    "duration": 175,
    "start_time": "2021-12-06T07:51:39.228Z"
   },
   {
    "duration": 26,
    "start_time": "2021-12-06T07:51:39.405Z"
   },
   {
    "duration": 297,
    "start_time": "2021-12-06T07:51:39.433Z"
   },
   {
    "duration": 10,
    "start_time": "2021-12-06T07:51:39.731Z"
   },
   {
    "duration": 172,
    "start_time": "2021-12-06T07:51:39.743Z"
   },
   {
    "duration": 9,
    "start_time": "2021-12-06T07:51:47.467Z"
   },
   {
    "duration": 2905,
    "start_time": "2021-12-06T08:03:29.827Z"
   },
   {
    "duration": 2899,
    "start_time": "2021-12-06T08:03:33.821Z"
   },
   {
    "duration": 17,
    "start_time": "2021-12-06T08:03:42.921Z"
   },
   {
    "duration": 2786,
    "start_time": "2021-12-06T08:04:15.922Z"
   },
   {
    "duration": 16,
    "start_time": "2021-12-06T08:04:19.121Z"
   },
   {
    "duration": 8,
    "start_time": "2021-12-06T08:04:32.032Z"
   }
  ],
  "kernelspec": {
   "display_name": "Python 3",
   "language": "python",
   "name": "python3"
  },
  "language_info": {
   "codemirror_mode": {
    "name": "ipython",
    "version": 3
   },
   "file_extension": ".py",
   "mimetype": "text/x-python",
   "name": "python",
   "nbconvert_exporter": "python",
   "pygments_lexer": "ipython3",
   "version": "3.8.8"
  },
  "toc": {
   "base_numbering": 1,
   "nav_menu": {},
   "number_sections": true,
   "sideBar": true,
   "skip_h1_title": true,
   "title_cell": "Table of Contents",
   "title_sidebar": "Contents",
   "toc_cell": false,
   "toc_position": {},
   "toc_section_display": true,
   "toc_window_display": false
  }
 },
 "nbformat": 4,
 "nbformat_minor": 2
}
